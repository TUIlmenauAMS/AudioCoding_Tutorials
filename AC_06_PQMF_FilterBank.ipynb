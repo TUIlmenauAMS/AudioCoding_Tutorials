{
 "cells": [
  {
   "cell_type": "markdown",
   "metadata": {
    "slideshow": {
     "slide_type": "slide"
    }
   },
   "source": [
    "<center>\n",
    "    <img src=\"./images/ac_header.png\">\n",
    "</center>\n",
    "\n",
    "### <a target=\"_blank\" rel=\"noopener noreferrer\" href=\"https://www.tu-ilmenau.de/mt-ams/personen/schuller-gerald/\">Prof. Dr. -Ing. Gerald Schuller</a> <br> <a target=\"_blank\" rel=\"noopener noreferrer\" href=\"https://www.tu-ilmenau.de/mt-ams/lehre/msp-and-adsp-tutorials/\">Jupyter Notebook: Renato Profeta</a> \n",
    "\n",
    "[Applied Media Systems Group](https://www.tu-ilmenau.de/en/applied-media-systems-group/) <br>\n",
    "[Technische Universität Ilmenau](https://www.tu-ilmenau.de/)"
   ]
  },
  {
   "cell_type": "markdown",
   "metadata": {
    "slideshow": {
     "slide_type": "-"
    }
   },
   "source": [
    "# PQMF Filter Bank, MPEG-1 / MPEG-2 BC Audio"
   ]
  },
  {
   "cell_type": "code",
   "execution_count": 1,
   "metadata": {
    "hide_input": true
   },
   "outputs": [],
   "source": [
    "%%html\n",
    "<iframe width=\"560\" height=\"315\" src=\"https://www.youtube.com/embed/yiPMDqBT7qk?rel=0\" frameborder=\"0\" allow=\"accelerometer; clipboard-write; encrypted-media; gyroscope; picture-in-picture\" allowfullscreen></iframe>"
   ]
  },
  {
   "cell_type": "markdown",
   "metadata": {
    "hide_input": false,
    "slideshow": {
     "slide_type": "-"
    }
   },
   "source": [
    "## The Basic Paradigm of T/F Domain Audio Coding"
   ]
  },
  {
   "cell_type": "markdown",
   "metadata": {
    "slideshow": {
     "slide_type": "-"
    }
   },
   "source": [
    " <center>\n",
    "    <br>\n",
    "    <img src='./images/ac_06_01_blockdiagramAC.jpg' width='900'>\n",
    "</center> \n"
   ]
  },
  {
   "cell_type": "markdown",
   "metadata": {
    "hide_input": false,
    "slideshow": {
     "slide_type": "slide"
    }
   },
   "source": [
    "## MPEG Audio Standardization Philosophy"
   ]
  },
  {
   "cell_type": "markdown",
   "metadata": {
    "hide_input": false,
    "slideshow": {
     "slide_type": "-"
    }
   },
   "source": [
    "Definition of a complete transmission chain consists of specification of:\n",
    " - Encoding algorithm\n",
    " - Bitstream format\n",
    " - Decoding algorithm\n",
    " \n",
    "ITU-T Approach:\n",
    " - ITU-T standardizes all three parts\n",
    "     - Encoder output predictable\n",
    "     \n",
    "MPEG Approach:\n",
    " - MPEG standardizes only bitstream format and decoder, \n",
    "     not the encoder (“informative part”)\n",
    "     \n",
    "Motivation: open for further improvements, room for specific corporate know-how\n",
    "\n",
    "But: No sound quality guaranteed !"
   ]
  },
  {
   "cell_type": "markdown",
   "metadata": {
    "hide_input": false,
    "slideshow": {
     "slide_type": "subslide"
    }
   },
   "source": [
    "## MPEG 1/2"
   ]
  },
  {
   "cell_type": "markdown",
   "metadata": {
    "slideshow": {
     "slide_type": "-"
    }
   },
   "source": [
    "MPEG-1 Audio\n",
    "- Audio coding 32 - 48 kHz, mono/stereo\n",
    "- Layer 1, 2, 3\n",
    "- Layer-3 (aka .mp3) optimized for lower bit-rates\n",
    "- Copy protection via Serial Copy Management System (SCMS) included\n",
    "\n",
    "MPEG-2 Audio\n",
    "- Low sampling frequencies audio add 16 - 24 kHz to Layer 1, 2, 3\n",
    "- Multichannel audio, BC (Backward Compatible)"
   ]
  },
  {
   "cell_type": "markdown",
   "metadata": {
    "hide_input": false,
    "slideshow": {
     "slide_type": "subslide"
    }
   },
   "source": [
    "### MPEG-1 Audio"
   ]
  },
  {
   "cell_type": "markdown",
   "metadata": {
    "hide_input": false,
    "slideshow": {
     "slide_type": "-"
    }
   },
   "source": [
    "Developed Dec. 88 to Nov. 92\n",
    "\n",
    "Coding of mono and stereo signals\n",
    "\n",
    "Bitrates from 32 kbit/s to 448 kbit/s\n",
    "\n",
    "Three \"Layers\":\n",
    "- Layer 1: lowest complexity\n",
    "- Layer 2: increased complexity and quality\n",
    "- Layer 3: highest complexity and quality at low bit-rates\n",
    "\n",
    "Sampling frequencies supported:\n",
    "- 48 kHz, 44.1 kHz, 32 kHz"
   ]
  },
  {
   "cell_type": "markdown",
   "metadata": {
    "slideshow": {
     "slide_type": "-"
    }
   },
   "source": [
    "#### The main building blocks"
   ]
  },
  {
   "cell_type": "markdown",
   "metadata": {
    "slideshow": {
     "slide_type": "-"
    }
   },
   "source": [
    "Perceptual model:\n",
    "- using psychoacoustics, mostly proprietary\n",
    "\n",
    "Filter bank:\n",
    "- subdividing the input signal into spectral components\n",
    "- more lines $\\rightarrow$ more coding gain\n",
    "- longer impulse response $\\rightarrow$ pre-echo artifacts\n",
    "\n",
    "Quantization and coding\n",
    "- this is the step introducing quantization noise\n",
    "- spectral shape of quantization noise determines the audibility\n",
    "- can be designed to leave encoding methods optional"
   ]
  },
  {
   "cell_type": "markdown",
   "metadata": {
    "slideshow": {
     "slide_type": "-"
    }
   },
   "source": [
    "#### MPEG Audio - Short Description of the Layers"
   ]
  },
  {
   "cell_type": "markdown",
   "metadata": {
    "slideshow": {
     "slide_type": "-"
    }
   },
   "source": [
    "Layer I\n",
    "- Frame length: 384 samples (8 ms@ 48 kHz)\n",
    "- Frequency resolution: 32 subbands from a PQMF filter bank\n",
    "- Quantization: Block-companding (12 samples), amplitude of subband samples indicated by “scalefactors” (SCF)\n",
    "\n",
    "Layer II\n",
    "- Frame length: 1152 samples (24 ms@ 48 kHz)\n",
    "- Frequency resolution: 32 subbands from a PQMF filter bank\n",
    "- Quantization: Block-companding (12 samples)\n",
    "- Use of Scalefactor select information\n",
    "\n",
    "Layer III\n",
    "- Standard frame length: 1152 samples (24 ms @ 48 kHz)\n",
    "- Frequency resolution: 576 or 192 subbands, from a 2-stage filter bank:\n",
    "    - a 32-band PQMF filter bank in the first stage, followed by\n",
    "    - a 6 or 18 band MDCT in each of the 32 PQMF subbands (hence 32*6=192, or 32*18=576) in the second stage.\n",
    "- Quantization: non-uniform with Huffman coding\n",
    "- Use of Scalefactor Select Information"
   ]
  },
  {
   "cell_type": "markdown",
   "metadata": {
    "hide_input": true,
    "slideshow": {
     "slide_type": "-"
    }
   },
   "source": [
    "##### Block Diagram MPEG-1 Layer 1"
   ]
  },
  {
   "cell_type": "markdown",
   "metadata": {
    "hide_input": true,
    "slideshow": {
     "slide_type": "-"
    }
   },
   "source": [
    " <center>\n",
    "    <br>\n",
    "    <img src='./images/ac_06_02_mpeg1BlockDiag.jpg' width='900'>\n",
    "</center> "
   ]
  },
  {
   "cell_type": "markdown",
   "metadata": {
    "hide_input": true,
    "slideshow": {
     "slide_type": "-"
    }
   },
   "source": [
    "##### Block diagram Layer-3"
   ]
  },
  {
   "cell_type": "markdown",
   "metadata": {
    "slideshow": {
     "slide_type": "-"
    }
   },
   "source": [
    " <center>\n",
    "    <br>\n",
    "    <img src='./images/ac_06_02_mpeg3BlockDiag.jpg' width='900'>\n",
    "</center> \n"
   ]
  },
  {
   "cell_type": "markdown",
   "metadata": {
    "slideshow": {
     "slide_type": "slide"
    }
   },
   "source": [
    "## Example for the Time/Frequency Resolution for the 2-Stage Layer III Coder"
   ]
  },
  {
   "cell_type": "code",
   "execution_count": 2,
   "metadata": {
    "hide_input": true
   },
   "outputs": [
    {
     "data": {
      "text/html": [
       "<iframe width=\"560\" height=\"315\" src=\"https://www.youtube.com/embed/fAZAjIBPHzk?rel=0\" frameborder=\"0\" allow=\"accelerometer; clipboard-write; encrypted-media; gyroscope; picture-in-picture\" allowfullscreen></iframe>\n"
      ],
      "text/plain": [
       "<IPython.core.display.HTML object>"
      ]
     },
     "metadata": {},
     "output_type": "display_data"
    }
   ],
   "source": [
    "%%html\n",
    "<iframe width=\"560\" height=\"315\" src=\"https://www.youtube.com/embed/fAZAjIBPHzk?rel=0\" frameborder=\"0\" allow=\"accelerometer; clipboard-write; encrypted-media; gyroscope; picture-in-picture\" allowfullscreen></iframe>"
   ]
  },
  {
   "cell_type": "markdown",
   "metadata": {
    "hide_input": false,
    "slideshow": {
     "slide_type": "-"
    }
   },
   "source": [
    "The first stage has a 32 subband QMF filter bank. For simplicity we only take an MDCT. We can visualize a 32 subband filter bank with our Python code."
   ]
  },
  {
   "cell_type": "code",
   "execution_count": 3,
   "metadata": {
    "hide_input": true
   },
   "outputs": [
    {
     "data": {
      "text/html": [
       "<iframe width=\"560\" height=\"315\" src=\"https://www.youtube.com/embed/4UWe3yQmWIs?rel=0\" frameborder=\"0\" allow=\"accelerometer; encrypted-media; gyroscope; picture-in-picture\" allowfullscreen></iframe>\n"
      ],
      "text/plain": [
       "<IPython.core.display.HTML object>"
      ]
     },
     "metadata": {},
     "output_type": "display_data"
    }
   ],
   "source": [
    "%%html\n",
    "<iframe width=\"560\" height=\"315\" src=\"https://www.youtube.com/embed/4UWe3yQmWIs?rel=0\" frameborder=\"0\" allow=\"accelerometer; encrypted-media; gyroscope; picture-in-picture\" allowfullscreen></iframe>"
   ]
  },
  {
   "cell_type": "code",
   "execution_count": 4,
   "metadata": {
    "hide_input": false,
    "slideshow": {
     "slide_type": "-"
    }
   },
   "outputs": [],
   "source": [
    "# Imports and Configuration\n",
    "%matplotlib inline\n",
    "import numpy as np\n",
    "import scipy.signal as signal\n",
    "import pyaudio\n",
    "import struct\n",
    "import scipy.fftpack as spfft\n",
    "from ipywidgets import ToggleButton, Button\n",
    "from ipywidgets import HBox\n",
    "import threading\n",
    "import cv2"
   ]
  },
  {
   "cell_type": "code",
   "execution_count": 5,
   "metadata": {
    "slideshow": {
     "slide_type": "-"
    }
   },
   "outputs": [],
   "source": [
    "# Signal Processing Parameters\n",
    "\n",
    "N=576                           # Number of subbands and block size\n",
    "CHUNK_SIZE = N\n",
    "FORMAT = pyaudio.paInt16       # Conversion format for PyAudio stream\n",
    "CHANNELS = 1                   # Audio Channels\n",
    "RATE = 32000                   # Sampling Rate in Hz\n",
    "FFT_LEN = N                    # FFT Length  \n",
    "\n",
    "rows=500\n",
    "cols=CHUNK_SIZE\n",
    "fftlen=cols\n",
    "frame=0.0*np.ones((rows,cols,3));"
   ]
  },
  {
   "cell_type": "code",
   "execution_count": 6,
   "metadata": {
    "slideshow": {
     "slide_type": "-"
    }
   },
   "outputs": [],
   "source": [
    "#The D(z) matrix:\n",
    "def Dmatrix(samples):\n",
    "    #implementation of the delay matrix D(z)\n",
    "    #Delay elements:\n",
    "    out=np.zeros(N)\n",
    "    out[0:int(N/2)]=Dmatrix.z\n",
    "    Dmatrix.z=samples[0:int(N/2)]\n",
    "    out[int(N/2):N]=samples[int(N/2):N]\n",
    "    return out\n",
    "\n",
    "Dmatrix.z=np.zeros(int(N/2))"
   ]
  },
  {
   "cell_type": "code",
   "execution_count": 7,
   "metadata": {
    "slideshow": {
     "slide_type": "-"
    }
   },
   "outputs": [],
   "source": [
    "#The inverse D(z) matrix:\n",
    "def Dmatrixinv(samples):\n",
    "    #implementation of the delay matrix D(z)\n",
    "    #Delay elements:\n",
    "    out=np.zeros(N)\n",
    "    out[int(N/2):N]=Dmatrixinv.z\n",
    "    Dmatrixinv.z=samples[int(N/2):N]\n",
    "    out[0:int(N/2)]=samples[0:int(N/2)]\n",
    "    return out\n",
    "\n",
    "Dmatrixinv.z=np.zeros(int(N/2))"
   ]
  },
  {
   "cell_type": "code",
   "execution_count": 8,
   "metadata": {
    "slideshow": {
     "slide_type": "-"
    }
   },
   "outputs": [],
   "source": [
    "#The F Matrix:\n",
    "fcoeff=np.sin(np.pi/(2*N)*(np.arange(0,2*N)+0.5))\n",
    "Fmatrix=np.zeros((N,N))\n",
    "Fmatrix[0:int(N/2),0:int(N/2)]=np.fliplr(np.diag(fcoeff[0:int(N/2)]))\n",
    "Fmatrix[int(N/2):N,0:int(N/2)]=np.diag(fcoeff[int(N/2):N])\n",
    "Fmatrix[0:int(N/2),int(N/2):N]=np.diag(fcoeff[N:int(N+N/2)])\n",
    "Fmatrix[int(N/2):N,int(N/2):N]=-np.fliplr(np.diag(fcoeff[int(N+N/2):(2*N)]))"
   ]
  },
  {
   "cell_type": "code",
   "execution_count": 9,
   "metadata": {
    "slideshow": {
     "slide_type": "-"
    }
   },
   "outputs": [],
   "source": [
    "#The inverse F matrix:\n",
    "Finv=np.linalg.inv(Fmatrix)"
   ]
  },
  {
   "cell_type": "code",
   "execution_count": 10,
   "metadata": {
    "slideshow": {
     "slide_type": "-"
    }
   },
   "outputs": [],
   "source": [
    "#The DCT4 transform:\n",
    "def DCT4(samples):\n",
    "    #use a DCT3 to implement a DCT4:\n",
    "    samplesup=np.zeros(2*N)\n",
    "    #upsample signal:\n",
    "    samplesup[1::2]=samples\n",
    "    y=spfft.dct(samplesup,type=3)/2\n",
    "    return y[0:N]"
   ]
  },
  {
   "cell_type": "code",
   "execution_count": 11,
   "metadata": {
    "slideshow": {
     "slide_type": "-"
    }
   },
   "outputs": [],
   "source": [
    "#The complete MDCT, Analysis:\n",
    "def MDCT(samples):\n",
    "    y=np.dot(samples,Fmatrix)\n",
    "    y=Dmatrix(y)\n",
    "    y=DCT4(y)\n",
    "    return y"
   ]
  },
  {
   "cell_type": "code",
   "execution_count": 12,
   "metadata": {
    "slideshow": {
     "slide_type": "-"
    }
   },
   "outputs": [],
   "source": [
    "#The inverse MDCT, synthesis:\n",
    "def MDCTinv(y): \n",
    "    #inverse DCT4 is identical to DCT4:\n",
    "    x=DCT4(y)*2/N\n",
    "    #inverse D(z) matrix\n",
    "    x=Dmatrixinv(x)\n",
    "    #inverse F matrix\n",
    "    x=np.dot(x,Finv)\n",
    "    return x"
   ]
  },
  {
   "cell_type": "code",
   "execution_count": 13,
   "metadata": {
    "slideshow": {
     "slide_type": "-"
    }
   },
   "outputs": [],
   "source": [
    "# GUI\n",
    "toggle_run = ToggleButton(description='Stop')\n",
    "button_start= Button(description='Start')\n",
    "\n",
    "def start_button(button_start):\n",
    "    thread.start()\n",
    "    button_start.disabled=True\n",
    "button_start.on_click(start_button)\n",
    "\n",
    "\n",
    "def on_click_toggle_run(change):\n",
    "    if change['new']==False:\n",
    "        stream.stop_stream()\n",
    "        stream.close()\n",
    "        p.terminate()\n",
    "        cv2.destroyAllWindows()\n",
    "toggle_run.observe(on_click_toggle_run, 'value')\n",
    "\n",
    "box_buttons = HBox([button_start,toggle_run])"
   ]
  },
  {
   "cell_type": "code",
   "execution_count": 14,
   "metadata": {
    "slideshow": {
     "slide_type": "-"
    }
   },
   "outputs": [],
   "source": [
    "# Function to Plot MDCT\n",
    "\n",
    "def run_mdct(toggle_run):\n",
    "    while(True):\n",
    "        if toggle_run.value==True:\n",
    "            break\n",
    "        \n",
    "        #Reading from audio input stream into data with block length \"CHUNK\":\n",
    "        data = stream.read(CHUNK_SIZE, exception_on_overflow = False)\n",
    "        #Convert from stream of bytes to a list of short integers (2 bytes here) in \"samples\":\n",
    "        #shorts = (struct.unpack( \"128h\", data ))\n",
    "        shorts = (struct.unpack( 'h' * CHUNK_SIZE, data ));\n",
    "        samples=np.array(list(shorts),dtype=float);\n",
    "\n",
    "        #shift \"frame\" 1 up:\n",
    "        frame[0:(rows-1),:]=frame[1:rows,:]; \n",
    "        #compute magnitude of 1D FFT of sound \n",
    "        #with suitable normalization for the display:\n",
    "        #frame=np.abs(np.ffqt.fft2(frame[:,:,1]/255.0))/512.0\n",
    "        #write magnitude spectrum in lowes row of \"frame\":\n",
    "        #R=0.25*np.log((np.abs(np.fft.fft(samples[0:fftlen])[0:(fftlen/2)]/np.sqrt(fftlen))+1))/np.log(10.0)\n",
    "\n",
    "        #This is the FFT of the input:\n",
    "        #y=np.fft.fft(samples[0:fftlen])   \n",
    "        #This is the analysis MDCT of the input: \n",
    "        y=MDCT(samples[0:fftlen])\n",
    "\n",
    "        #yfilt is the processed subbands, processing goes here:\n",
    "        yfilt=y\n",
    "\n",
    "        #Waterfall color mapping:\n",
    "        R=0.25*np.log((np.abs(yfilt/np.sqrt(fftlen))+1))/np.log(10.0)\n",
    "        #Red frame:\n",
    "        frame[rows-1,:,2]=R\n",
    "        #Green frame:\n",
    "        frame[rows-1,:,1]=np.abs(1-2*R)\n",
    "        #Blue frame:\n",
    "        frame[rows-1,:,0]=1.0-R\n",
    "        #frame[rows-1,:,0]=frame[rows-1,:,1]**3\n",
    "        # Display the resulting frame\n",
    "        cv2.imshow('frame',frame)\n",
    "\n",
    "        #Inverse FFT:\n",
    "        #xrek=np.real(np.fft.ifft(yfilt))\n",
    "        #Inverse/synthesis MDCT:\n",
    "        xrek=MDCTinv(yfilt).astype(int);\n",
    "        xrek=np.clip(xrek, -32000,32000)\n",
    "        #converting from short integers to a stream of bytes in \"data\":\n",
    "        #data=struct.pack('h' * len(samples), *samples);\n",
    "        data=struct.pack('h' * len(xrek), *xrek);\n",
    "        #Writing data back to audio output stream: \n",
    "        stream.write(data, CHUNK_SIZE)\n",
    "\n",
    "        #Keep window open until key 'q' is pressed:\n",
    "        if cv2.waitKey(1) & 0xFF == ord('q'):\n",
    "            break\n",
    "    # When everything done, release the capture\n",
    "    stream.stop_stream()\n",
    "    stream.close()\n",
    "    p.terminate()\n",
    "    cv2.destroyAllWindows()"
   ]
  },
  {
   "cell_type": "code",
   "execution_count": 15,
   "metadata": {
    "slideshow": {
     "slide_type": "-"
    }
   },
   "outputs": [],
   "source": [
    "# Create a Thread for run_spectrogram function\n",
    "thread = threading.Thread(target=run_mdct, args=(toggle_run,))"
   ]
  },
  {
   "cell_type": "code",
   "execution_count": 16,
   "metadata": {
    "slideshow": {
     "slide_type": "-"
    }
   },
   "outputs": [],
   "source": [
    "# Start Audio Stream\n",
    "# Create \n",
    "p = pyaudio.PyAudio()\n",
    "    \n",
    "stream = p.open(format=FORMAT,\n",
    "                channels=CHANNELS,\n",
    "                rate=RATE,\n",
    "                input=True,\n",
    "                output=True,\n",
    "                frames_per_buffer=CHUNK_SIZE)\n",
    "\n",
    "\n",
    "\n",
    "input_data = stream.read(CHUNK_SIZE)\n",
    "samples = np.frombuffer(input_data,np.int16)"
   ]
  },
  {
   "cell_type": "code",
   "execution_count": 17,
   "metadata": {
    "slideshow": {
     "slide_type": "-"
    }
   },
   "outputs": [
    {
     "data": {
      "application/vnd.jupyter.widget-view+json": {
       "model_id": "73c907a03f50421a893b46df714b6b58",
       "version_major": 2,
       "version_minor": 0
      },
      "text/plain": [
       "HBox(children=(Button(description='Start', style=ButtonStyle()), ToggleButton(value=False, description='Stop')…"
      ]
     },
     "metadata": {},
     "output_type": "display_data"
    }
   ],
   "source": [
    "# Initialize Plot and Display GUI\n",
    "display(box_buttons)\n"
   ]
  },
  {
   "cell_type": "markdown",
   "metadata": {
    "slideshow": {
     "slide_type": "-"
    }
   },
   "source": [
    "**Observe:** We get a very **narrow spectrogram**, because we only have 32 subbands, but it **runs very fast**, because we donwsample only by 32. We can also **listen to a subband** (by setting the other subbands to zero), and we will hear more than just a tone, because the subbands are wider than for AAC."
   ]
  },
  {
   "cell_type": "markdown",
   "metadata": {
    "slideshow": {
     "slide_type": "-"
    }
   },
   "source": [
    "Now set it to the number of subbands after the second stage:<br>\n",
    "N=576\n",
    "\n",
    "Here now it becomes more similar to the AAC filter bank. We see a **broader spectrogram**, but it **runs slower**, because we have an increased downsampling rate of 576.\n",
    "\n",
    "The second layer does it by replacing every 12 or 18 time samples in each of the 32 subbands by 12 or 18 finer subbands.\n",
    "When we now listen to a subband, it sound more like a tone, because the subbands are more narrow."
   ]
  },
  {
   "cell_type": "markdown",
   "metadata": {
    "hide_input": false,
    "slideshow": {
     "slide_type": "-"
    }
   },
   "source": [
    "## MPEG - Layer-1, -2 and -3 Compression: Header"
   ]
  },
  {
   "cell_type": "markdown",
   "metadata": {
    "slideshow": {
     "slide_type": "-"
    }
   },
   "source": [
    " <center>\n",
    "    <br>\n",
    "    <img src='./images/ac_06_04_mpegHeader.jpg' width='600'>\n",
    "</center> \n",
    "\n",
    "**Observe:** The syncword allows decoding starting in the middle of the file, which is important for broadcast applications."
   ]
  },
  {
   "cell_type": "markdown",
   "metadata": {
    "hide_input": false,
    "slideshow": {
     "slide_type": "slide"
    }
   },
   "source": [
    "## The Pseudo-Quadrature-Mirror Filter Bank (PQMF)"
   ]
  },
  {
   "cell_type": "code",
   "execution_count": 31,
   "metadata": {
    "hide_input": true
   },
   "outputs": [
    {
     "data": {
      "text/html": [
       "<iframe width=\"560\" height=\"315\" src=\"https://www.youtube.com/embed/uCgWiG7qZTQ?rel=0\" frameborder=\"0\" allow=\"accelerometer; clipboard-write; encrypted-media; gyroscope; picture-in-picture\" allowfullscreen></iframe>\n"
      ],
      "text/plain": [
       "<IPython.core.display.HTML object>"
      ]
     },
     "metadata": {},
     "output_type": "display_data"
    }
   ],
   "source": [
    "%%html\n",
    "<iframe width=\"560\" height=\"315\" src=\"https://www.youtube.com/embed/uCgWiG7qZTQ?rel=0\" frameborder=\"0\" allow=\"accelerometer; clipboard-write; encrypted-media; gyroscope; picture-in-picture\" allowfullscreen></iframe>"
   ]
  },
  {
   "cell_type": "markdown",
   "metadata": {
    "hide_input": false,
    "slideshow": {
     "slide_type": "-"
    }
   },
   "source": [
    "The PQMF is also used for:\n",
    "- parametric surround coding\n",
    "- Parametric high frequency generation\n",
    "\n",
    "The PQMF is a filter bank which has only \"near\" perfect reconstruction, unlike the MDCT, which has really perfect reconstruction.\n",
    "- In the same sense it is near para-unitary or orthogonal, which means the synthesis filter are the time reversed analysis filters.\n",
    "- But it has the advantage that we have design methods to design filter banks with \"good\" longer filters, with more overlap in time than we use with the MDCT. This results in improved nearby stopband attenuation.\n",
    "- An often used configuration is 32 subbands with filters with length of 512 or 640 coefficients, hence 16 or 20-times overlap in time (compare that with 2-times overlap in the MDCT)\n",
    "\n",
    "For that reason we now take a closer look at the PQMF filter bank:\n",
    "(See also lecture slides Filter Banks 2)"
   ]
  },
  {
   "cell_type": "code",
   "execution_count": 18,
   "metadata": {
    "hide_input": true,
    "slideshow": {
     "slide_type": "-"
    }
   },
   "outputs": [
    {
     "data": {
      "text/html": [
       "<iframe width=\"560\" height=\"315\" src=\"https://www.youtube.com/embed/q8aMPpb1YHI?rel=0\" frameborder=\"0\" allow=\"accelerometer; clipboard-write; encrypted-media; gyroscope; picture-in-picture\" allowfullscreen></iframe>\n"
      ],
      "text/plain": [
       "<IPython.core.display.HTML object>"
      ]
     },
     "metadata": {},
     "output_type": "display_data"
    }
   ],
   "source": [
    "%%html\n",
    "<iframe width=\"560\" height=\"315\" src=\"https://www.youtube.com/embed/q8aMPpb1YHI?rel=0\" frameborder=\"0\" allow=\"accelerometer; clipboard-write; encrypted-media; gyroscope; picture-in-picture\" allowfullscreen></iframe>"
   ]
  },
  {
   "cell_type": "markdown",
   "metadata": {
    "slideshow": {
     "slide_type": "subslide"
    }
   },
   "source": [
    "### PQMF Definition"
   ]
  },
  {
   "cell_type": "markdown",
   "metadata": {
    "slideshow": {
     "slide_type": "-"
    }
   },
   "source": [
    "The analysis filters of an N-band PQMF filter bank with filters of length L are defined as (see also Slides \"Filter Banks 2\"):\n",
    "\n",
    "$$\\large\n",
    " H_k(n) = h(n) \\cos \\left( \\dfrac{\\pi}{N} \\cdot (k+0.5) \\left(n-\\dfrac{L}{2}+\\dfrac{1}{2} \\right) + \\Phi_k \\right)$$\n",
    " \n",
    " With the phase defined as:\n",
    " \n",
    " $$\\large\n",
    " \\Phi_{k+1}-\\Phi_k=\\dfrac{(2r+1)\\pi}{2}$$\n",
    " \n",
    " With some integer r. For convenience we omit scaling factors.\n",
    " \n",
    " The synthesis filters are the time reverse analysis filters:\n",
    " \n",
    "  $$\\large\n",
    " g_k(n)=h_k(n)(L-1-n)$$\n",
    " \n",
    " (See also: https://ccrma.stanford.edu/~jos/sasp/Pseudo_QMF_Cosine_Modulation_Filter.html <br>\n",
    " Book: Spanias, Painter: “Audio Signal Processing and Coding”, Wiley Press)"
   ]
  },
  {
   "cell_type": "code",
   "execution_count": 20,
   "metadata": {
    "hide_input": true,
    "slideshow": {
     "slide_type": "-"
    }
   },
   "outputs": [
    {
     "data": {
      "text/html": [
       "<iframe src=\"https://ccrma.stanford.edu/~jos/sasp/Pseudo_QMF_Cosine_Modulation_Filter.html\" width=\"900\" height=\"600\"></iframe>\n"
      ],
      "text/plain": [
       "<IPython.core.display.HTML object>"
      ]
     },
     "metadata": {},
     "output_type": "display_data"
    }
   ],
   "source": [
    "%%html\n",
    "<iframe src=\"https://ccrma.stanford.edu/~jos/sasp/Pseudo_QMF_Cosine_Modulation_Filter.html\" width=\"900\" height=\"600\"></iframe>\n"
   ]
  },
  {
   "cell_type": "markdown",
   "metadata": {
    "hide_input": false,
    "scrolled": false,
    "slideshow": {
     "slide_type": "subslide"
    }
   },
   "source": [
    "### PQMF Reformulation"
   ]
  },
  {
   "cell_type": "markdown",
   "metadata": {
    "slideshow": {
     "slide_type": "-"
    }
   },
   "source": [
    "For the case of:\n",
    "\n",
    "$$\\large\n",
    "\\Phi_k = (-1)^{k+1}\\cdot \\frac{\\pi}{4}$$\n",
    "\n",
    "and\n",
    "\n",
    "$$\\large\n",
    "\\dfrac{L}{N} \\mod 4 = \\pm 2$$\n",
    "\n",
    "We find that it is identical to our MDCT modulation function (with its time reversal now on the right side of the equation):\n",
    "\n",
    "$$\\large\n",
    "h_k(n)=h(n) \\cdot \\cos \\left( \\dfrac{\\pi}{N} \\cdot \\left( k + \\dfrac{1}{2} \\right)\n",
    "\\left(L-1-n+\\dfrac{1}{2}-\\dfrac{N}{2} \\right)\n",
    "\\right) $$"
   ]
  },
  {
   "cell_type": "markdown",
   "metadata": {
    "hide_input": false,
    "slideshow": {
     "slide_type": "subslide"
    }
   },
   "source": [
    "### PQMF Design"
   ]
  },
  {
   "cell_type": "markdown",
   "metadata": {
    "slideshow": {
     "slide_type": "-"
    }
   },
   "source": [
    "Take the frequency response of the baseband prototype or window function:\n",
    "\n",
    "$$\\large\n",
    "H(\\omega) = DTFT(h(n))$$\n",
    "\n",
    "Then we need to find (optimize) a function h(n), such that it fulfills:\n",
    "\n",
    "- **Attenuation:** The **stopband attenuation** should be high after the neighboring band to **minimize aliasing (stop band)**:\n",
    "\n",
    "$$\\large\n",
    "|H(w)| \\approx 0 \\text{ for } 1.5 \\dfrac{\\pi}{N} < |w| < \\pi$$\n",
    "(passband: 0...$0.5\\dfrac{\\pi}{N}$, transition band: $0.5\\dfrac{\\pi}{N}$...$1.5\\dfrac{\\pi}{N}$)\n",
    "\n",
    "- **Unity condition (overlap region of 2 subbands):** Sum of magnitude squared frequency responses of **2 neighboring bands** should be close to a **constant**, here $2N^2$, to achieve **near perfect reconstruction**:\n",
    "\n",
    "$$\\large\n",
    "|H(w)|^2 + \\left| H\\left(\\dfrac{\\pi}{N}-\\omega\\right)\\right|^2 \n",
    "\\approx 2N^2 \\text{ for } 0 \\leq \\omega \\leq \\dfrac{\\pi}{N}\n",
    "$$\n",
    "(positive frequencies + flipped version)"
   ]
  },
  {
   "cell_type": "markdown",
   "metadata": {
    "hide_input": false,
    "slideshow": {
     "slide_type": "subslide"
    }
   },
   "source": [
    "### Python Example Optimization"
   ]
  },
  {
   "cell_type": "markdown",
   "metadata": {
    "slideshow": {
     "slide_type": "-"
    }
   },
   "source": [
    "To fulfill these requirements, we now have an **optimization problem**. Python has powerful optimization libraries to find a\n",
    "solution. \n",
    "\n",
    "Take a very simple example: **find the minimum** of the function of 2 variables:\n",
    "\n",
    "$$\\large\n",
    "f(x_1,x_2) = \\sin(x_1) + \\cos(x_2)$$"
   ]
  },
  {
   "cell_type": "code",
   "execution_count": 21,
   "metadata": {
    "slideshow": {
     "slide_type": "-"
    }
   },
   "outputs": [],
   "source": [
    "#function example with several unknowns (variables) for optimization\n",
    "#Gerald Schuller, Nov. 2016\n",
    "\n",
    "import numpy as np\n",
    "\n",
    "def functionexamp(x):\n",
    "    #x: array with 2 variables\n",
    "    y=np.sin(x[0])+np.cos(x[1])\n",
    "    return y"
   ]
  },
  {
   "cell_type": "markdown",
   "metadata": {
    "hide_input": false,
    "slideshow": {
     "slide_type": "-"
    }
   },
   "source": [
    "Next we use the library scipy.optimize to find a minimum, and use its function \"minimize\"."
   ]
  },
  {
   "cell_type": "code",
   "execution_count": 22,
   "metadata": {
    "slideshow": {
     "slide_type": "-"
    }
   },
   "outputs": [
    {
     "name": "stdout",
     "output_type": "stream",
     "text": [
      "     fun: -1.9999999999888387\n",
      "     jac: array([4.7236681e-06, 0.0000000e+00])\n",
      " message: 'Optimization terminated successfully.'\n",
      "    nfev: 12\n",
      "     nit: 2\n",
      "    njev: 3\n",
      "  status: 0\n",
      " success: True\n",
      "       x: array([-1.5707916 , -3.14159265])\n"
     ]
    }
   ],
   "source": [
    "#Optimization example, see also:\n",
    "#https://docs.scipy.org/doc/scipy-0.18.1/reference/optimize.html\n",
    "#Gerald Schuller, Nov. 2016\n",
    "\n",
    "import numpy as np\n",
    "import scipy.optimize as optimize\n",
    "\n",
    "\n",
    "#Example for 2 unknowns, args: function-name, starting point, method:\n",
    "\n",
    "xmin=optimize.minimize(functionexamp,[-1.0,-3.0], method='CG')\n",
    "print(xmin)"
   ]
  },
  {
   "cell_type": "markdown",
   "metadata": {
    "hide_input": false,
    "slideshow": {
     "slide_type": "-"
    }
   },
   "source": [
    "**Observe:** We indeed obtain the minimium at $x_1=\\dfrac{−\\pi}{2}, x_2=-\\pi$"
   ]
  },
  {
   "cell_type": "markdown",
   "metadata": {
    "slideshow": {
     "slide_type": "subslide"
    }
   },
   "source": [
    "### PQMF Optimization, Python Example, Optimization Function"
   ]
  },
  {
   "cell_type": "code",
   "execution_count": 23,
   "metadata": {
    "hide_input": false,
    "slideshow": {
     "slide_type": "-"
    }
   },
   "outputs": [],
   "source": [
    "import numpy as np\n",
    "import scipy as sp\n",
    "import scipy.signal as sig\n",
    "\n",
    "def optimfuncQMF(x):\n",
    "    \"\"\"Optimization function for a PQMF Filterbank\n",
    "    x: coefficients to optimize (first half of prototype h because of symmetry)\n",
    "    err: resulting total error\"\"\"\n",
    "    N=4 #4 subbands\n",
    "    h = np.append(x,np.flipud(x));\n",
    "    f,H_im = sig.freqz(h)\n",
    "    H=np.abs(H_im) #only keeping the magnitude\n",
    "    posfreq = np.square(H[0:512//N]);\n",
    "    #Negative frequencies are symmetric around 0:\n",
    "    negfreq = np.flipud(np.square(H[0:512//N]))\n",
    "    #Sum of magnitude squared frequency responses should be close to unity (or N)\n",
    "    unitycond = np.sum(np.abs(posfreq+negfreq - 2*(N*N)*np.ones(512//N)))/512;\n",
    "    #plt.plot(posfreq+negfreq);\n",
    "    #High attenuation after the next subband:\n",
    "    att = np.sum(np.abs(H[int(1.5*512/N):]))/512;\n",
    "    #Total (weighted) error:\n",
    "    err = unitycond + 100*att;\n",
    "    return err"
   ]
  },
  {
   "cell_type": "markdown",
   "metadata": {
    "slideshow": {
     "slide_type": "-"
    }
   },
   "source": [
    "Now we have a function to minimize, and we can use Pythons powerful optimization library to minimize this function:"
   ]
  },
  {
   "cell_type": "code",
   "execution_count": 24,
   "metadata": {
    "hide_input": false,
    "slideshow": {
     "slide_type": "-"
    }
   },
   "outputs": [
    {
     "data": {
      "image/png": "[encoded data removed]",
      "text/plain": [
       "<Figure size 720x576 with 1 Axes>"
      ]
     },
     "metadata": {
      "needs_background": "light"
     },
     "output_type": "display_data"
    },
    {
     "data": {
      "image/png": "[encoded data removed]",
      "text/plain": [
       "<Figure size 720x576 with 1 Axes>"
      ]
     },
     "metadata": {
      "needs_background": "light"
     },
     "output_type": "display_data"
    }
   ],
   "source": [
    "import numpy as np\n",
    "import matplotlib.pyplot as plt\n",
    "import scipy.optimize as opt\n",
    "import scipy.signal as sig\n",
    "\n",
    "#optimize for 16 filter coefficients:\n",
    "xmin = opt.minimize(optimfuncQMF,16*np.ones(16),method='SLSQP')\n",
    "xmin = xmin[\"x\"]\n",
    "#Restore symmetric upper half of window:\n",
    "h = np.concatenate((xmin,np.flipud(xmin)))\n",
    "plt.figure(figsize=(10,8))\n",
    "plt.plot(h)\n",
    "plt.title(\"Resulting PQMF Window Function\")\n",
    "plt.ylabel(\"Value\")\n",
    "plt.xlabel(\"Sample\")\n",
    "plt.grid()\n",
    "f,H = sig.freqz(h)\n",
    "plt.figure(figsize=(10,8))\n",
    "mag = np.abs(H)/np.abs(H).max()\n",
    "plt.plot(f,20*np.log10(mag))\n",
    "plt.title(\"Resulting PQMF Magnitude Response (Normalized to Peak)\")\n",
    "plt.xlabel(\"Normalized Frequency\")\n",
    "plt.ylabel(\"dB\")\n",
    "plt.grid()"
   ]
  },
  {
   "cell_type": "markdown",
   "metadata": {
    "slideshow": {
     "slide_type": "-"
    }
   },
   "source": [
    "**Observe:** We get almost 100 dB Stopband attenuation, much more than with the MDCT!"
   ]
  },
  {
   "cell_type": "markdown",
   "metadata": {
    "hide_input": false,
    "slideshow": {
     "slide_type": "subslide"
    }
   },
   "source": [
    "### PQMF Optiization, Python Example, Unity Condition"
   ]
  },
  {
   "cell_type": "markdown",
   "metadata": {
    "hide_input": false,
    "slideshow": {
     "slide_type": "-"
    }
   },
   "source": [
    "We can test the PQMF Unity condition:\n",
    "\n",
    "$$\\large\n",
    "|H(w)|^2 + \\left| H\\left(\\dfrac{\\pi}{N}-\\omega\\right)\\right|^2 \n",
    "\\approx 2N^2 \\text{ for } 0 \\leq \\omega \\leq \\dfrac{\\pi}{N}\n",
    "$$\n",
    "\n",
    "($2N^2=32$), with the following Python code:"
   ]
  },
  {
   "cell_type": "code",
   "execution_count": 30,
   "metadata": {
    "hide_input": false,
    "slideshow": {
     "slide_type": "-"
    }
   },
   "outputs": [
    {
     "data": {
      "image/png": "[encoded data removed]",
      "text/plain": [
       "<Figure size 720x576 with 1 Axes>"
      ]
     },
     "metadata": {
      "needs_background": "light"
     },
     "output_type": "display_data"
    }
   ],
   "source": [
    "N=4\n",
    "f,H = sig.freqz(h)\n",
    "posfreq = np.square(H[0:512//N]);\n",
    "negfreq = np.flipud(np.square(H[0:512//N]))\n",
    "plt.figure(figsize=(10,8))\n",
    "plt.plot(np.abs(posfreq)+np.abs(negfreq))\n",
    "plt.xlabel('Frequency (512 is Nyquist)')\n",
    "plt.ylabel('Magnitude')\n",
    "plt.title('Unity Condition, Sum of Squared Magnitude of 2 Neigh. Subbands')\n",
    "plt.grid()"
   ]
  },
  {
   "cell_type": "markdown",
   "metadata": {
    "hide_input": false,
    "slideshow": {
     "slide_type": "-"
    }
   },
   "source": [
    "**Observe:** We get indeed a curve close to $2N^2=32$, but with some Deviation, which shows that we get indeed only \"near\" Perfect Reconstruction!\n",
    "\n",
    "**Observe:** We obtain a 4-band filter bank with filter length of 32 taps, hence 8 times overlap.\n",
    "\n",
    "- The stopband attenuation reaches almost 100 dB, almost right after the passband, much more than with the MDCT!"
   ]
  },
  {
   "cell_type": "markdown",
   "metadata": {
    "hide_input": true,
    "slideshow": {
     "slide_type": "slide"
    }
   },
   "source": [
    "### PQMF Optimization, Polyphase Implementation, Analysis and Synthesis"
   ]
  },
  {
   "cell_type": "code",
   "execution_count": 32,
   "metadata": {
    "hide_input": true
   },
   "outputs": [
    {
     "data": {
      "text/html": [
       "<iframe width=\"560\" height=\"315\" src=\"https://www.youtube.com/embed/o5Bea-hAT6Y?rel=0\" frameborder=\"0\" allow=\"accelerometer; clipboard-write; encrypted-media; gyroscope; picture-in-picture\" allowfullscreen></iframe>\n"
      ],
      "text/plain": [
       "<IPython.core.display.HTML object>"
      ]
     },
     "metadata": {},
     "output_type": "display_data"
    }
   ],
   "source": [
    "%%html\n",
    "<iframe width=\"560\" height=\"315\" src=\"https://www.youtube.com/embed/o5Bea-hAT6Y?rel=0\" frameborder=\"0\" allow=\"accelerometer; clipboard-write; encrypted-media; gyroscope; picture-in-picture\" allowfullscreen></iframe>"
   ]
  },
  {
   "cell_type": "markdown",
   "metadata": {
    "hide_input": false,
    "slideshow": {
     "slide_type": "-"
    }
   },
   "source": [
    "The advantage of having the same modulation function as the MDCT is that we can take the same type of filter matrices to implement it efficiently. The analysis filter matrix F_a is now:\n",
    "\n",
    " <center>\n",
    "    <br>\n",
    "    <img src='./images/ac_06_05_FaMetraix.jpg' width='700'>\n",
    "    <br>\n",
    "</center>\n",
    "\n",
    "The synthesis filter matrix F_s is:\n",
    "\n",
    "<center>\n",
    "    <br>\n",
    "    <img src='./images/ac_06_06_FsMetraix.jpg' width='700'>\n",
    "    <br>\n",
    "</center>\n",
    "\n",
    "All together we obtain for the analysis filter bank (see also slides Filter Banks 1, with **T** the DCT transform matrix):\n",
    "\n",
    "\n",
    "$$\\large\n",
    "Y(z) = X(z) \\cdot F_a(z) \\cdot T$$\n",
    "\n",
    "For the reconstruction of synthesis filter bank we got:\n",
    "\n",
    "$$\\large\n",
    "\\hat{X}(z)=Y(z)\\cdot T^{-1}\\cdot F_s(z)$$\n",
    "\n",
    "This formulation can also be used for the implementation of the PQMF filter bank."
   ]
  },
  {
   "cell_type": "markdown",
   "metadata": {
    "slideshow": {
     "slide_type": "slide"
    }
   },
   "source": [
    "## Hybrid Filter Bank & Aliasing"
   ]
  },
  {
   "cell_type": "code",
   "execution_count": 1,
   "metadata": {
    "hide_input": true,
    "slideshow": {
     "slide_type": "-"
    }
   },
   "outputs": [
    {
     "data": {
      "text/html": [
       "<iframe width=\"560\" height=\"315\" src=\"https://www.youtube.com/embed/JdA-UOM2_pg?rel=0\" frameborder=\"0\" allow=\"accelerometer; clipboard-write; encrypted-media; gyroscope; picture-in-picture\" allowfullscreen></iframe>\n"
      ],
      "text/plain": [
       "<IPython.core.display.HTML object>"
      ]
     },
     "metadata": {},
     "output_type": "display_data"
    }
   ],
   "source": [
    "%%html\n",
    "<iframe width=\"560\" height=\"315\" src=\"https://www.youtube.com/embed/JdA-UOM2_pg?rel=0\" frameborder=\"0\" allow=\"accelerometer; clipboard-write; encrypted-media; gyroscope; picture-in-picture\" allowfullscreen></iframe>"
   ]
  },
  {
   "cell_type": "markdown",
   "metadata": {
    "slideshow": {
     "slide_type": "-"
    }
   },
   "source": [
    " <center>\n",
    "    <br>\n",
    "    <img src='./images/ac_06_07_hybrid1.jpg' width='700'>\n",
    "    <br>\n",
    "</center>\n",
    "<center>\n",
    "    <br>\n",
    "    <img src='./images/ac_06_08_hybrid2.jpg' width='700'>\n",
    "    <br>\n",
    "</center>\n",
    "<center>\n",
    "    <br>\n",
    "    <img src='./images/ac_06_09_hybrid3.jpg' width='700'>\n",
    "    <br>\n",
    "</center>\n",
    "\n",
    "### Problem of Aliasing in a Cascaded Filter Bank\n",
    "\n",
    "<center>\n",
    "    <br>\n",
    "    <img src='./images/ac_06_10_hybrid4.jpg' width='700'>\n",
    "    <br>\n",
    "</center>\n",
    "<center>\n",
    "    <br>\n",
    "    <img src='./images/ac_06_11_hybrid5.jpg' width='700'>\n",
    "    <br>\n",
    "</center>\n",
    "\n",
    "### Aliasing Reduction Structure (MP3)\n",
    "\n",
    "<center>\n",
    "    <br>\n",
    "    <img src='./images/ac_06_12_hybrid6.jpg' width='700'>\n",
    "    <br>\n",
    "</center>"
   ]
  },
  {
   "cell_type": "markdown",
   "metadata": {
    "slideshow": {
     "slide_type": "slide"
    }
   },
   "source": [
    "## MPEG Audio - Layer-3: Bitstream"
   ]
  },
  {
   "cell_type": "code",
   "execution_count": 1,
   "metadata": {
    "hide_input": true
   },
   "outputs": [
    {
     "data": {
      "text/html": [
       "<iframe width=\"560\" height=\"315\" src=\"https://www.youtube.com/embed/7BZvAKYhf3U?rel=0\" frameborder=\"0\" allow=\"accelerometer; clipboard-write; encrypted-media; gyroscope; picture-in-picture\" allowfullscreen></iframe>\n"
      ],
      "text/plain": [
       "<IPython.core.display.HTML object>"
      ]
     },
     "metadata": {},
     "output_type": "display_data"
    }
   ],
   "source": [
    "%%html\n",
    "<iframe width=\"560\" height=\"315\" src=\"https://www.youtube.com/embed/7BZvAKYhf3U?rel=0\" frameborder=\"0\" allow=\"accelerometer; clipboard-write; encrypted-media; gyroscope; picture-in-picture\" allowfullscreen></iframe>"
   ]
  },
  {
   "cell_type": "markdown",
   "metadata": {
    "slideshow": {
     "slide_type": "-"
    }
   },
   "source": [
    "Organization of the bit streams:\n",
    "\n",
    "Fixed length of bytes: 17 at mono, 32 at stereo, independent of the bitrate.\n",
    "\n",
    "Constant Section:\n",
    "- Header (ISO Standard, like with Layer-1 and -2)\n",
    "-  Additional information for a frame (e.g. Pointer to the variable section)\n",
    "-  Additional information for each “granule” (e.g. Number of the Huffman-Code table)\n",
    "\n",
    "Variable Section:\n",
    "-  Scalefactors\n",
    "-  Huffman-coded frequency lines\n",
    "-  Additional Data\n",
    "\n",
    "<center>\n",
    "    <br>\n",
    "    <img src='./images/ac_06_13_bitstream.jpg' width='900'>\n",
    "    <br>\n",
    "</center>"
   ]
  },
  {
   "cell_type": "markdown",
   "metadata": {
    "slideshow": {
     "slide_type": "slide"
    }
   },
   "source": [
    "## MPEG-1 Audio Decoder"
   ]
  },
  {
   "cell_type": "code",
   "execution_count": 2,
   "metadata": {
    "hide_input": true
   },
   "outputs": [
    {
     "data": {
      "text/html": [
       "<iframe width=\"560\" height=\"315\" src=\"https://www.youtube.com/embed/FyukU2khfcQ?rel=0\" frameborder=\"0\" allow=\"accelerometer; clipboard-write; encrypted-media; gyroscope; picture-in-picture\" allowfullscreen></iframe>\n"
      ],
      "text/plain": [
       "<IPython.core.display.HTML object>"
      ]
     },
     "metadata": {},
     "output_type": "display_data"
    }
   ],
   "source": [
    "%%html\n",
    "<iframe width=\"560\" height=\"315\" src=\"https://www.youtube.com/embed/FyukU2khfcQ?rel=0\" frameborder=\"0\" allow=\"accelerometer; clipboard-write; encrypted-media; gyroscope; picture-in-picture\" allowfullscreen></iframe>"
   ]
  },
  {
   "cell_type": "markdown",
   "metadata": {
    "slideshow": {
     "slide_type": "-"
    }
   },
   "source": [
    "### MPEG Audio – General Decoder Structure"
   ]
  },
  {
   "cell_type": "markdown",
   "metadata": {
    "slideshow": {
     "slide_type": "-"
    }
   },
   "source": [
    "<center>\n",
    "    <br>\n",
    "    <img src='./images/ac_06_14_decoder.jpg' width='900'>\n",
    "    <br>\n",
    "</center>\n"
   ]
  },
  {
   "cell_type": "markdown",
   "metadata": {
    "slideshow": {
     "slide_type": "-"
    }
   },
   "source": [
    "### MPEG - Audio Decoder Process (1) Layer-3 Decoder flow chart"
   ]
  },
  {
   "cell_type": "markdown",
   "metadata": {
    "slideshow": {
     "slide_type": "-"
    }
   },
   "source": [
    "<center>\n",
    "    <br>\n",
    "    <img src='./images/ac_06_15_flowchart.jpg' width='900'>\n",
    "    <br>\n",
    "</center>\n"
   ]
  },
  {
   "cell_type": "markdown",
   "metadata": {
    "slideshow": {
     "slide_type": "-"
    }
   },
   "source": [
    "### MPEG - Audio Decoder Process Layer-3 Decoder Diagramm"
   ]
  },
  {
   "cell_type": "markdown",
   "metadata": {
    "slideshow": {
     "slide_type": "-"
    }
   },
   "source": [
    "<center>\n",
    "    <br>\n",
    "    <img src='./images/ac_06_16_layer3Diag.jpg' width='900'>\n",
    "    <br>\n",
    "</center>\n"
   ]
  },
  {
   "cell_type": "markdown",
   "metadata": {
    "slideshow": {
     "slide_type": "slide"
    }
   },
   "source": [
    "#### Annex: Abbreviations and Companies"
   ]
  },
  {
   "cell_type": "markdown",
   "metadata": {
    "slideshow": {
     "slide_type": "-"
    }
   },
   "source": [
    "- AAC: Advanced Audio Coding\n",
    "- ASPEC: Adaptive Spectral Perceptual Entropy Coding\n",
    "- AT&T: American Telephone and Telegraph Company\n",
    "- CCETT: Centre Commun d’Etudes de Télédiffusion et Télécommunication\n",
    "- CNET: Research and Development Center of France Télécom\n",
    "- FhG-IIS: Fraunhofer Gesellschaft/Institut für Integrierte Schaltungen (Erlangen)\n",
    "- IRT: Institut für Rundfunktechnik GmbH, München, Research and Development Institute of ARD, ZDF, DLR, ORF and SRG\n",
    "- ITU-R: International Telecommunication Union – Radio Communication Sector\n",
    "- MASCAM: Masking-pattern Adapted Subband Coding and Multiplexing AT&T:American Telephone and Telegraph Company\n",
    "- MUSICAM: Masking-pattern Universal Subband Integrated Coding and Multiplexing\n",
    "- NTT: Nippon Telegraph and Telephone Corp./Human Interface Laboratories\n",
    "- Thomson: Thomson, Telefunken, Saba, RCA, GE, ProScan\n",
    "- TwinVQ: Transform-domain Weighted Interleave Vector Quantization"
   ]
  },
  {
   "cell_type": "code",
   "execution_count": null,
   "metadata": {
    "slideshow": {
     "slide_type": "-"
    }
   },
   "outputs": [],
   "source": []
  }
 ],
 "metadata": {
  "kernelspec": {
   "display_name": "Python 3",
   "language": "python",
   "name": "python3"
  },
  "language_info": {
   "codemirror_mode": {
    "name": "ipython",
    "version": 3
   },
   "file_extension": ".py",
   "mimetype": "text/x-python",
   "name": "python",
   "nbconvert_exporter": "python",
   "pygments_lexer": "ipython3",
   "version": "3.6.10"
  },
  "livereveal": {
   "rise": {
    "height": "90%",
    "width": "90%"
   },
   "scroll": true,
   "theme": "beige",
   "transition": "zoom"
  },
  "widgets": {
   "application/vnd.jupyter.widget-state+json": {
    "state": {
     "0b0c58e6c93a41799e09f406dbdefde6": {
      "model_module": "@jupyter-widgets/base",
      "model_module_version": "1.2.0",
      "model_name": "LayoutModel",
      "state": {}
     },
     "0b3040b1b58e4b53a4509d1a39fd031d": {
      "model_module": "@jupyter-widgets/base",
      "model_module_version": "1.2.0",
      "model_name": "LayoutModel",
      "state": {}
     },
     "0be2682832bd4bc8b51cb737e46ca28c": {
      "model_module": "@jupyter-widgets/base",
      "model_module_version": "1.2.0",
      "model_name": "LayoutModel",
      "state": {}
     },
     "0e39b9742c5341378d14cd0ce7c6d7b2": {
      "model_module": "@jupyter-widgets/controls",
      "model_module_version": "1.5.0",
      "model_name": "HBoxModel",
      "state": {
       "children": [
        "IPY_MODEL_2d9b7d0f8fe4439bb967b502ccdf02f7",
        "IPY_MODEL_7042e1d3ab44462087773c8182c56c15"
       ],
       "layout": "IPY_MODEL_0be2682832bd4bc8b51cb737e46ca28c"
      }
     },
     "0f12a068f35a41949e7af2ab301fb1a9": {
      "model_module": "@jupyter-widgets/controls",
      "model_module_version": "1.5.0",
      "model_name": "DescriptionStyleModel",
      "state": {
       "description_width": ""
      }
     },
     "15ad70cfa0aa41638667c356ae56295f": {
      "model_module": "@jupyter-widgets/base",
      "model_module_version": "1.2.0",
      "model_name": "LayoutModel",
      "state": {}
     },
     "16c7c2a79a4a4203be047ae7aeee19fa": {
      "model_module": "@jupyter-widgets/controls",
      "model_module_version": "1.5.0",
      "model_name": "ToggleButtonModel",
      "state": {
       "description": "Stop",
       "layout": "IPY_MODEL_15ad70cfa0aa41638667c356ae56295f",
       "style": "IPY_MODEL_0f12a068f35a41949e7af2ab301fb1a9"
      }
     },
     "1d15c09691004b7080cdbe29a28d73ff": {
      "model_module": "@jupyter-widgets/controls",
      "model_module_version": "1.5.0",
      "model_name": "HBoxModel",
      "state": {
       "children": [
        "IPY_MODEL_e2f6054e0fe24c10ac5c95a2b687f1ca",
        "IPY_MODEL_2cf22153219242b180ccb47bc4b8f968"
       ],
       "layout": "IPY_MODEL_b40a35cef38e4048b6a2d8149ff7e069"
      }
     },
     "207bd58d7ad144f58b70b598ae30db8e": {
      "model_module": "@jupyter-widgets/base",
      "model_module_version": "1.2.0",
      "model_name": "LayoutModel",
      "state": {}
     },
     "20f35183b9e74a438f97507b3d10929a": {
      "model_module": "@jupyter-widgets/controls",
      "model_module_version": "1.5.0",
      "model_name": "ButtonStyleModel",
      "state": {}
     },
     "23ef77f7f8a84176907ef6949905623b": {
      "model_module": "@jupyter-widgets/controls",
      "model_module_version": "1.5.0",
      "model_name": "HBoxModel",
      "state": {
       "children": [
        "IPY_MODEL_f61da7386157426ca81a202ffe23e162",
        "IPY_MODEL_77a43b098d01405690eb7f9256544cc1"
       ],
       "layout": "IPY_MODEL_3c3e2637ae684b7e95aca1d49d23f40b"
      }
     },
     "2cf22153219242b180ccb47bc4b8f968": {
      "model_module": "@jupyter-widgets/controls",
      "model_module_version": "1.5.0",
      "model_name": "ToggleButtonModel",
      "state": {
       "description": "Stop",
       "layout": "IPY_MODEL_207bd58d7ad144f58b70b598ae30db8e",
       "style": "IPY_MODEL_bd80f1c63a2b4a25900e5e5763317b7a"
      }
     },
     "2d9b7d0f8fe4439bb967b502ccdf02f7": {
      "model_module": "@jupyter-widgets/controls",
      "model_module_version": "1.5.0",
      "model_name": "ButtonModel",
      "state": {
       "description": "Start",
       "disabled": true,
       "layout": "IPY_MODEL_77522a5639144548b35db6c4d7dd4fb1",
       "style": "IPY_MODEL_7d63afec39bb49df9edf2873be48ac04"
      }
     },
     "3276b4539f7144b6a21869875e9c4914": {
      "model_module": "@jupyter-widgets/base",
      "model_module_version": "1.2.0",
      "model_name": "LayoutModel",
      "state": {}
     },
     "354ba59a5468408b962c72423d4e1c65": {
      "model_module": "@jupyter-widgets/base",
      "model_module_version": "1.2.0",
      "model_name": "LayoutModel",
      "state": {}
     },
     "3c3e2637ae684b7e95aca1d49d23f40b": {
      "model_module": "@jupyter-widgets/base",
      "model_module_version": "1.2.0",
      "model_name": "LayoutModel",
      "state": {}
     },
     "4131c38460e44eaf962c7017e2536232": {
      "model_module": "@jupyter-widgets/controls",
      "model_module_version": "1.5.0",
      "model_name": "HBoxModel",
      "state": {
       "children": [
        "IPY_MODEL_d58265f7549a4e979a3c65b9bd5d76a5",
        "IPY_MODEL_c5267597c945478f959c375f44a4d1a7"
       ],
       "layout": "IPY_MODEL_4b10bbeb1b794eb697268d9a1bd106ba"
      }
     },
     "435a7872da0d4c41be05e35d3d9570aa": {
      "model_module": "@jupyter-widgets/controls",
      "model_module_version": "1.5.0",
      "model_name": "DescriptionStyleModel",
      "state": {
       "description_width": ""
      }
     },
     "4488c6e4c7834e098e81b481cb1003a4": {
      "model_module": "@jupyter-widgets/controls",
      "model_module_version": "1.5.0",
      "model_name": "CheckboxModel",
      "state": {
       "description": "LP Filters",
       "disabled": false,
       "layout": "IPY_MODEL_a6c7fc4e429c464e8fca3294d830542a",
       "style": "IPY_MODEL_7fc76b30f0904d1ab285f634f82d7054",
       "value": false
      }
     },
     "470de88b8310448d864c97fad609f7de": {
      "model_module": "@jupyter-widgets/controls",
      "model_module_version": "1.5.0",
      "model_name": "ButtonStyleModel",
      "state": {}
     },
     "4b10bbeb1b794eb697268d9a1bd106ba": {
      "model_module": "@jupyter-widgets/base",
      "model_module_version": "1.2.0",
      "model_name": "LayoutModel",
      "state": {}
     },
     "5795130576114428a9f5f86ee4aa8c80": {
      "model_module": "@jupyter-widgets/controls",
      "model_module_version": "1.5.0",
      "model_name": "DescriptionStyleModel",
      "state": {
       "description_width": ""
      }
     },
     "589c1be4bde643c899cf54d67ebfb42f": {
      "model_module": "@jupyter-widgets/controls",
      "model_module_version": "1.5.0",
      "model_name": "HBoxModel",
      "state": {
       "children": [
        "IPY_MODEL_e8e1025d1bb44a08a500c0d3b8718796",
        "IPY_MODEL_fb8ae2a4374c451eb7d78b16edcca16a"
       ],
       "layout": "IPY_MODEL_354ba59a5468408b962c72423d4e1c65"
      }
     },
     "5e41a5a9f29443f49a84cb3b28cfd887": {
      "model_module": "@jupyter-widgets/base",
      "model_module_version": "1.2.0",
      "model_name": "LayoutModel",
      "state": {}
     },
     "5e7f58b91bbf4d1d839bbf49450afd8f": {
      "model_module": "@jupyter-widgets/controls",
      "model_module_version": "1.5.0",
      "model_name": "HBoxModel",
      "state": {
       "children": [
        "IPY_MODEL_ac4c2b3e307640bdb74f11ec3cf0dafd",
        "IPY_MODEL_e3db17127dba4e609008d860b5cf05c5"
       ],
       "layout": "IPY_MODEL_5e41a5a9f29443f49a84cb3b28cfd887"
      }
     },
     "5ec351197a1c442a8fa816d034b1eef6": {
      "model_module": "@jupyter-widgets/base",
      "model_module_version": "1.2.0",
      "model_name": "LayoutModel",
      "state": {}
     },
     "6341affae71049aba97ec2ad0ff9583d": {
      "model_module": "@jupyter-widgets/base",
      "model_module_version": "1.2.0",
      "model_name": "LayoutModel",
      "state": {}
     },
     "6c0e7d0a22a144458689ec0d86788548": {
      "model_module": "@jupyter-widgets/base",
      "model_module_version": "1.2.0",
      "model_name": "LayoutModel",
      "state": {}
     },
     "6cb680fde00f4a6e8c0fb454c76857d3": {
      "model_module": "@jupyter-widgets/controls",
      "model_module_version": "1.5.0",
      "model_name": "ToggleButtonModel",
      "state": {
       "description": "Stop",
       "layout": "IPY_MODEL_de5153ef26c14561bb728c1e74b51aac",
       "style": "IPY_MODEL_aed5c18ec1e44b1cb9c1c8a1164530bc"
      }
     },
     "6d9b43798e7642019c6888b869c409a7": {
      "model_module": "@jupyter-widgets/controls",
      "model_module_version": "1.5.0",
      "model_name": "ButtonStyleModel",
      "state": {}
     },
     "7042e1d3ab44462087773c8182c56c15": {
      "model_module": "@jupyter-widgets/controls",
      "model_module_version": "1.5.0",
      "model_name": "ToggleButtonModel",
      "state": {
       "description": "Stop",
       "layout": "IPY_MODEL_d869cf27021149409370838cc26ee878",
       "style": "IPY_MODEL_b5d3845cf20e497ea0bddab2ce24c089"
      }
     },
     "77480c26779c420390eabd1bbd64cbee": {
      "model_module": "@jupyter-widgets/controls",
      "model_module_version": "1.5.0",
      "model_name": "ButtonModel",
      "state": {
       "description": "Start",
       "layout": "IPY_MODEL_7b0edd69218248ec89c22a9b29960928",
       "style": "IPY_MODEL_470de88b8310448d864c97fad609f7de"
      }
     },
     "77522a5639144548b35db6c4d7dd4fb1": {
      "model_module": "@jupyter-widgets/base",
      "model_module_version": "1.2.0",
      "model_name": "LayoutModel",
      "state": {}
     },
     "77a43b098d01405690eb7f9256544cc1": {
      "model_module": "@jupyter-widgets/controls",
      "model_module_version": "1.5.0",
      "model_name": "ToggleButtonModel",
      "state": {
       "description": "Stop",
       "layout": "IPY_MODEL_5ec351197a1c442a8fa816d034b1eef6",
       "style": "IPY_MODEL_f9ed9f912ac848a1a61cccea6d4c20c3",
       "value": true
      }
     },
     "7b0edd69218248ec89c22a9b29960928": {
      "model_module": "@jupyter-widgets/base",
      "model_module_version": "1.2.0",
      "model_name": "LayoutModel",
      "state": {}
     },
     "7d63afec39bb49df9edf2873be48ac04": {
      "model_module": "@jupyter-widgets/controls",
      "model_module_version": "1.5.0",
      "model_name": "ButtonStyleModel",
      "state": {}
     },
     "7e5dc995c0d54dc88ffba21751e34fd0": {
      "model_module": "@jupyter-widgets/controls",
      "model_module_version": "1.5.0",
      "model_name": "ButtonStyleModel",
      "state": {}
     },
     "7fc76b30f0904d1ab285f634f82d7054": {
      "model_module": "@jupyter-widgets/controls",
      "model_module_version": "1.5.0",
      "model_name": "DescriptionStyleModel",
      "state": {
       "description_width": ""
      }
     },
     "86fd6e4196864369a5e361e09e227412": {
      "model_module": "@jupyter-widgets/controls",
      "model_module_version": "1.5.0",
      "model_name": "ButtonStyleModel",
      "state": {}
     },
     "892de2da73f84062be6382bed68d98e9": {
      "model_module": "@jupyter-widgets/controls",
      "model_module_version": "1.5.0",
      "model_name": "HBoxModel",
      "state": {
       "children": [
        "IPY_MODEL_77480c26779c420390eabd1bbd64cbee",
        "IPY_MODEL_16c7c2a79a4a4203be047ae7aeee19fa"
       ],
       "layout": "IPY_MODEL_c65da4d48410402ca720e41ea2b1a532"
      }
     },
     "a6c7fc4e429c464e8fca3294d830542a": {
      "model_module": "@jupyter-widgets/base",
      "model_module_version": "1.2.0",
      "model_name": "LayoutModel",
      "state": {}
     },
     "a9d684453fac4de8a1da6b5678a9263d": {
      "model_module": "@jupyter-widgets/controls",
      "model_module_version": "1.5.0",
      "model_name": "HBoxModel",
      "state": {
       "children": [
        "IPY_MODEL_adf8151b53c0458db8a2931959f9851c",
        "IPY_MODEL_6cb680fde00f4a6e8c0fb454c76857d3"
       ],
       "layout": "IPY_MODEL_6c0e7d0a22a144458689ec0d86788548"
      }
     },
     "aba427d2152e4e5b95f68cd5fa6b869a": {
      "model_module": "@jupyter-widgets/base",
      "model_module_version": "1.2.0",
      "model_name": "LayoutModel",
      "state": {}
     },
     "ac4c2b3e307640bdb74f11ec3cf0dafd": {
      "model_module": "@jupyter-widgets/controls",
      "model_module_version": "1.5.0",
      "model_name": "CheckboxModel",
      "state": {
       "description": "Downsampling/Upsampling",
       "disabled": false,
       "layout": "IPY_MODEL_ccebf79f7b6b4954afc304a9a913fe0b",
       "style": "IPY_MODEL_5795130576114428a9f5f86ee4aa8c80",
       "value": false
      }
     },
     "adf8151b53c0458db8a2931959f9851c": {
      "model_module": "@jupyter-widgets/controls",
      "model_module_version": "1.5.0",
      "model_name": "ButtonModel",
      "state": {
       "description": "Start",
       "layout": "IPY_MODEL_c8e686b7f1fd41fb950f6c64c28d1e38",
       "style": "IPY_MODEL_20f35183b9e74a438f97507b3d10929a"
      }
     },
     "aed5c18ec1e44b1cb9c1c8a1164530bc": {
      "model_module": "@jupyter-widgets/controls",
      "model_module_version": "1.5.0",
      "model_name": "DescriptionStyleModel",
      "state": {
       "description_width": ""
      }
     },
     "b40a35cef38e4048b6a2d8149ff7e069": {
      "model_module": "@jupyter-widgets/base",
      "model_module_version": "1.2.0",
      "model_name": "LayoutModel",
      "state": {}
     },
     "b5d3845cf20e497ea0bddab2ce24c089": {
      "model_module": "@jupyter-widgets/controls",
      "model_module_version": "1.5.0",
      "model_name": "DescriptionStyleModel",
      "state": {
       "description_width": ""
      }
     },
     "b71122422f634440ba716e8c5537e52d": {
      "model_module": "@jupyter-widgets/controls",
      "model_module_version": "1.5.0",
      "model_name": "CheckboxModel",
      "state": {
       "description": "Downsampling/Upsampling",
       "disabled": false,
       "layout": "IPY_MODEL_c9f9cd5507994921a16488b925690ec8",
       "style": "IPY_MODEL_e3d4389b65684b879575d18283ac20f2",
       "value": false
      }
     },
     "bd80f1c63a2b4a25900e5e5763317b7a": {
      "model_module": "@jupyter-widgets/controls",
      "model_module_version": "1.5.0",
      "model_name": "DescriptionStyleModel",
      "state": {
       "description_width": ""
      }
     },
     "c1d5efb6eefa4af38df3245d97590b3a": {
      "model_module": "@jupyter-widgets/controls",
      "model_module_version": "1.5.0",
      "model_name": "DescriptionStyleModel",
      "state": {
       "description_width": ""
      }
     },
     "c5267597c945478f959c375f44a4d1a7": {
      "model_module": "@jupyter-widgets/controls",
      "model_module_version": "1.5.0",
      "model_name": "ToggleButtonModel",
      "state": {
       "description": "Stop",
       "layout": "IPY_MODEL_6341affae71049aba97ec2ad0ff9583d",
       "style": "IPY_MODEL_c1d5efb6eefa4af38df3245d97590b3a",
       "value": true
      }
     },
     "c65da4d48410402ca720e41ea2b1a532": {
      "model_module": "@jupyter-widgets/base",
      "model_module_version": "1.2.0",
      "model_name": "LayoutModel",
      "state": {}
     },
     "c8e686b7f1fd41fb950f6c64c28d1e38": {
      "model_module": "@jupyter-widgets/base",
      "model_module_version": "1.2.0",
      "model_name": "LayoutModel",
      "state": {}
     },
     "c9f9cd5507994921a16488b925690ec8": {
      "model_module": "@jupyter-widgets/base",
      "model_module_version": "1.2.0",
      "model_name": "LayoutModel",
      "state": {}
     },
     "ccebf79f7b6b4954afc304a9a913fe0b": {
      "model_module": "@jupyter-widgets/base",
      "model_module_version": "1.2.0",
      "model_name": "LayoutModel",
      "state": {}
     },
     "d58265f7549a4e979a3c65b9bd5d76a5": {
      "model_module": "@jupyter-widgets/controls",
      "model_module_version": "1.5.0",
      "model_name": "ButtonModel",
      "state": {
       "description": "Start",
       "disabled": true,
       "layout": "IPY_MODEL_0b0c58e6c93a41799e09f406dbdefde6",
       "style": "IPY_MODEL_7e5dc995c0d54dc88ffba21751e34fd0"
      }
     },
     "d869cf27021149409370838cc26ee878": {
      "model_module": "@jupyter-widgets/base",
      "model_module_version": "1.2.0",
      "model_name": "LayoutModel",
      "state": {}
     },
     "dc8d5864ac8d4bb38cee8d043d030237": {
      "model_module": "@jupyter-widgets/base",
      "model_module_version": "1.2.0",
      "model_name": "LayoutModel",
      "state": {}
     },
     "de5153ef26c14561bb728c1e74b51aac": {
      "model_module": "@jupyter-widgets/base",
      "model_module_version": "1.2.0",
      "model_name": "LayoutModel",
      "state": {}
     },
     "e2f6054e0fe24c10ac5c95a2b687f1ca": {
      "model_module": "@jupyter-widgets/controls",
      "model_module_version": "1.5.0",
      "model_name": "ButtonModel",
      "state": {
       "description": "Start",
       "layout": "IPY_MODEL_dc8d5864ac8d4bb38cee8d043d030237",
       "style": "IPY_MODEL_6d9b43798e7642019c6888b869c409a7"
      }
     },
     "e35d3e4323234d9287de5cd69a13219c": {
      "model_module": "@jupyter-widgets/controls",
      "model_module_version": "1.5.0",
      "model_name": "ButtonStyleModel",
      "state": {}
     },
     "e3d4389b65684b879575d18283ac20f2": {
      "model_module": "@jupyter-widgets/controls",
      "model_module_version": "1.5.0",
      "model_name": "DescriptionStyleModel",
      "state": {
       "description_width": ""
      }
     },
     "e3db17127dba4e609008d860b5cf05c5": {
      "model_module": "@jupyter-widgets/controls",
      "model_module_version": "1.5.0",
      "model_name": "CheckboxModel",
      "state": {
       "description": "LP Filters",
       "disabled": false,
       "layout": "IPY_MODEL_3276b4539f7144b6a21869875e9c4914",
       "style": "IPY_MODEL_fbee3d37ce574d8da66ca40eea646dfc",
       "value": false
      }
     },
     "e8e1025d1bb44a08a500c0d3b8718796": {
      "model_module": "@jupyter-widgets/controls",
      "model_module_version": "1.5.0",
      "model_name": "ButtonModel",
      "state": {
       "description": "Start",
       "layout": "IPY_MODEL_0b3040b1b58e4b53a4509d1a39fd031d",
       "style": "IPY_MODEL_e35d3e4323234d9287de5cd69a13219c"
      }
     },
     "f3b755ac64314b4c901f9ecb32965fd6": {
      "model_module": "@jupyter-widgets/base",
      "model_module_version": "1.2.0",
      "model_name": "LayoutModel",
      "state": {}
     },
     "f61da7386157426ca81a202ffe23e162": {
      "model_module": "@jupyter-widgets/controls",
      "model_module_version": "1.5.0",
      "model_name": "ButtonModel",
      "state": {
       "description": "Start",
       "disabled": true,
       "layout": "IPY_MODEL_f3b755ac64314b4c901f9ecb32965fd6",
       "style": "IPY_MODEL_86fd6e4196864369a5e361e09e227412"
      }
     },
     "f9ed9f912ac848a1a61cccea6d4c20c3": {
      "model_module": "@jupyter-widgets/controls",
      "model_module_version": "1.5.0",
      "model_name": "DescriptionStyleModel",
      "state": {
       "description_width": ""
      }
     },
     "fb8ae2a4374c451eb7d78b16edcca16a": {
      "model_module": "@jupyter-widgets/controls",
      "model_module_version": "1.5.0",
      "model_name": "ToggleButtonModel",
      "state": {
       "description": "Stop",
       "layout": "IPY_MODEL_aba427d2152e4e5b95f68cd5fa6b869a",
       "style": "IPY_MODEL_435a7872da0d4c41be05e35d3d9570aa"
      }
     },
     "fbee3d37ce574d8da66ca40eea646dfc": {
      "model_module": "@jupyter-widgets/controls",
      "model_module_version": "1.5.0",
      "model_name": "DescriptionStyleModel",
      "state": {
       "description_width": ""
      }
     }
    },
    "version_major": 2,
    "version_minor": 0
   }
  }
 },
 "nbformat": 4,
 "nbformat_minor": 2
}

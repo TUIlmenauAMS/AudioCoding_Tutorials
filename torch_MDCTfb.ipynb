{
  "nbformat": 4,
  "nbformat_minor": 0,
  "metadata": {
    "colab": {
      "name": "torch_MDCTfb.ipynb",
      "provenance": [],
      "collapsed_sections": []
    },
    "kernelspec": {
      "name": "python3",
      "display_name": "Python 3"
    },
    "language_info": {
      "name": "python"
    }
  },
  "cells": [
    {
      "cell_type": "code",
      "source": [
        "import torch\n",
        "import numpy"
      ],
      "metadata": {
        "id": "nfs06lbaTYPT"
      },
      "execution_count": 2,
      "outputs": []
    },
    {
      "cell_type": "code",
      "source": [
        "def Dinvmatrix_torch(N):\n",
        "    \"\"\"produces a causal inverse delay matrix D^{-1}(z), which has \n",
        "    delays z^-1  on the lower half in 3D polynomial representation (exponents of z^-1 are in third dimension)\n",
        "    N is the number of subbands and size of the polynomial matrix (NxN)\n",
        "    N is even\"\"\"\n",
        "    D = torch.zeros((N,N,2))\n",
        "    D[:,:,0] = torch.diag((torch.cat((torch.ones((int(N/2))),torch.zeros((int(N/2)))))))\n",
        "    D[:,:,1] = torch.diag((torch.cat((torch.zeros((int(N/2))),torch.ones((int(N/2)))))))\n",
        "    return D"
      ],
      "metadata": {
        "id": "LRqukkPcJ8Js"
      },
      "execution_count": 3,
      "outputs": []
    },
    {
      "cell_type": "code",
      "source": [
        "def Dmatrix_torch(N):\n",
        "    \"\"\"produces a delay matrix D(z), which has delay z^-1 on the upper half of its diagonal\n",
        "    in a 3D polynomial representation (exponents of z^-1 are in the third dimension) \n",
        "    N is number of subbands and size of the polynomial matrix (NxN) \n",
        "    N is even\"\"\" \n",
        "    D=torch.zeros((N,N,2))\n",
        "    D[:,:,0] = torch.diag(torch.cat((torch.zeros((int(N/2))), torch.ones((int(N/2))))))\n",
        "    D[:,:,1] = torch.diag(torch.cat((torch.ones((int(N/2))), torch.zeros((int(N/2))))))\n",
        "    return D"
      ],
      "metadata": {
        "id": "XlElUfMoJ8SZ"
      },
      "execution_count": 4,
      "outputs": []
    },
    {
      "cell_type": "code",
      "source": [
        "def symFmatrix_torch(f):\n",
        "    \"\"\"produces a diamond shaped folding matrix F from the coefficients f\n",
        "    (f is a 1-d array)\n",
        "    which leads to identical analysis and synthesis baseband impulse responses\n",
        "    Hence has det 1 or -1\n",
        "    If N is number of subbands, then f is a vector of size 1.5*N coefficients.\n",
        "    N is even\n",
        "    returns: F of shape (N,N,1)\n",
        "    \"\"\"   \n",
        "    sym=1.0; #The kind of symmetry: +-1\n",
        "    N = int(len(f)/1.5);\n",
        "    F=torch.zeros((N,N,1))\n",
        "    F[0:int(N/2),0:int(N/2),0]=torch.fliplr(torch.diag(f[0:int(N/2)]))\n",
        "    F[int(N/2):N,0:int(N/2),0]=torch.diag(f[int(N/2):N])\n",
        "    F[0:int(N/2),int(N/2):N,0]=torch.diag(f[N:(N+int(N/2))])\n",
        "    f_rev = torch.flipud(f)\n",
        "    ff = torch.flipud((sym*torch.ones((int(N/2))) - (f[N:(int(1.5*N))])*f_rev[int(N/2):N])/f[0:int(N/2)])    \n",
        "    F[int(N/2):N,int(N/2):N,0]=-torch.fliplr(torch.diag(ff))\n",
        "    return F"
      ],
      "metadata": {
        "id": "fqpYTdKHJ8Xp"
      },
      "execution_count": 5,
      "outputs": []
    },
    {
      "cell_type": "code",
      "source": [
        "def polmatmult_torch( A,B ):\n",
        "   \"\"\"polmatmult(A,B)\n",
        "   multiplies two polynomial matrices (arrays) A and B, where each matrix entry is a polynomial.\n",
        "   Those polynomial entries are in the 3rd dimension\n",
        "   The thirs dimension can also be interpreted as containing the (2D) coefficient\n",
        "   exponent of z^-1.\n",
        "   Result is C=A*B;\"\"\"  \n",
        "   [NAx, NAy, NAz] = A.shape;\n",
        "   [NBx, NBy, NBz] = B.shape;\n",
        "   #Degree +1 of resulting polynomial, with NAz-1 and NBz-1 being the degree of the...\n",
        "   Deg = NAz + NBz -1;\n",
        "   C = torch.zeros((NAx,NBy,Deg));\n",
        "   #Convolution of matrices:\n",
        "   for n in range(0,(Deg)):\n",
        "       for m in range(0,n+1):\n",
        "           if ((n-m)<NAz and m<NBz):\n",
        "               C[:,:,n] = C[:,:,n]+ np.matmul(A[:,:,(n-m)],B[:,:,m]);\n",
        "   return C"
      ],
      "metadata": {
        "id": "0P3ITgRuJ8hx"
      },
      "execution_count": 6,
      "outputs": []
    },
    {
      "cell_type": "code",
      "source": [
        "def polyphase2x_torch(xp):\n",
        "   \"\"\"Converts polyphase input signal xp (a row vector) into a contiguos row vector\n",
        "   For block length N, for 3D polyphase representation (exponents of z in the third \n",
        "   matrix/tensor dimension)\"\"\"\n",
        "\n",
        "   x=torch.reshape(xp,(1,1,-1))\n",
        "   x=x[0,0,:]\n",
        "   return x"
      ],
      "metadata": {
        "id": "-v1Tz-NyWu2e"
      },
      "execution_count": 7,
      "outputs": []
    },
    {
      "cell_type": "code",
      "source": [
        "def reshape_fortran(x, shape):\n",
        "    if len(x.shape) > 0:\n",
        "        x = x.permute(*reversed(range(len(x.shape))))\n",
        "    return x.reshape(*reversed(shape)).permute(*reversed(range(len(shape))))"
      ],
      "metadata": {
        "id": "9Ru_jQGtvuk_"
      },
      "execution_count": 8,
      "outputs": []
    },
    {
      "cell_type": "code",
      "source": [
        "def x2polyphase_torch(x,N):\n",
        "    \"\"\"Converts input signal x (a 1D array) into a polyphase row vector \n",
        "    xp for blocks of length N, with shape: (1,N,#of blocks)\"\"\"     \n",
        "    #Convert stream x into a 2d array where each row is a block:\n",
        "    #xp.shape : (y,x, #num blocks):\n",
        "    x=x[:int(len(x)/N)*N] #limit signal to integer multiples of N\n",
        "    #xp=torch.reshape(x,(N,-1)) #order=F: first index changes fastest\n",
        "    xp = reshape_fortran(x, (N,-1))\n",
        "    #add 0'th dimension for function polmatmult:\n",
        "    xp=torch.unsqueeze(xp, dim=0)\n",
        "    return xp"
      ],
      "metadata": {
        "id": "gPZet6SiWvbs"
      },
      "execution_count": 16,
      "outputs": []
    },
    {
      "cell_type": "code",
      "source": [
        "from scipy.fft import dct, idct\n",
        "from torch.autograd import Function\n",
        "\n",
        "\n",
        "class DCT3Function(Function):\n",
        "    @staticmethod\n",
        "    def forward(ctx, input):\n",
        "        scipy_input = input.detach().numpy()\n",
        "        result = dct(scipy_input, type=3,axis=1,norm='ortho')\n",
        "        return input.new(result)\n",
        "\n",
        "    @staticmethod\n",
        "    def backward(ctx, grad_output):\n",
        "        numpy_go = grad_output.numpy()\n",
        "        result = idct(numpy_go, type=3,axis=1,norm='ortho')\n",
        "        return grad_output.new(result)"
      ],
      "metadata": {
        "id": "3foKD055aeMP"
      },
      "execution_count": 17,
      "outputs": []
    },
    {
      "cell_type": "code",
      "source": [
        "def dct3_torch(input):\n",
        "    return DCT3Function.apply(input)"
      ],
      "metadata": {
        "id": "tWtWP1W7aeO6"
      },
      "execution_count": 18,
      "outputs": []
    },
    {
      "cell_type": "code",
      "source": [
        "#The DCT4 transform:\n",
        "def DCT4_torch(samples):\n",
        "   #Argument: 3-D array of samples, shape (y,x,# of blocks), each row correspond to 1 row \n",
        "   #to apply the DCT to.\n",
        "   #Output: 3-D array where each row ist DCT4 transformed, orthonormal.\n",
        "   #use a DCT3 to implement a DCT4:\n",
        "   r,N,blocks=samples.shape\n",
        "   samplesup=torch.zeros((1,2*N,blocks))\n",
        "   #upsample signal:\n",
        "   samplesup[0,1::2,:]=samples\n",
        "   y=dct3_torch(samplesup)*torch.sqrt(torch.tensor(2))\n",
        "   return y[:,0:N,:]"
      ],
      "metadata": {
        "id": "EhvTOYPJaeUT"
      },
      "execution_count": 19,
      "outputs": []
    },
    {
      "cell_type": "code",
      "source": [
        "def MDCTanafb_torch(x,N,fb):\n",
        "   #MDCT analysis filter bank.\n",
        "   #Arguments: x: input signal, e.g. audio signal, a 1-dim. array\n",
        "   #N: number of subbands\n",
        "   #fb: coefficients for the MDCT filter bank, for the F matrix, np.array with 1.5*N coefficients.\n",
        "   #returns y, consisting of blocks of subband in in a 2-d array of shape (N,# of blocks)\n",
        "   \n",
        "   Fa=symFmatrix_torch(fb)\n",
        "   D=Dmatrix_torch(N)\n",
        "   y=x2polyphase_torch(x,N)\n",
        "   y=polmatmult_torch(y,Fa)   \n",
        "   y=polmatmult_torch(y,D)\n",
        "   y=DCT4_torch(y)\n",
        "   #strip first dimension:\n",
        "   y=y[0,:,:]\n",
        "   return y"
      ],
      "metadata": {
        "id": "TUG5LGa0c0vk"
      },
      "execution_count": 20,
      "outputs": []
    },
    {
      "cell_type": "code",
      "source": [
        "import matplotlib.pyplot as plt\n",
        "#Number of subbands:\n",
        "N=4\n",
        "D=Dmatrix_torch(N)\n",
        "Dinv=Dinvmatrix_torch(N)\n",
        "#Filter bank coefficients for sine window:\n",
        "fb=torch.from_numpy(np.sin(np.pi/(2*N)*(np.arange(int(1.5*N))+0.5)))\n",
        "print(\"fb=\", fb)\n",
        "#input test signal, ramp:\n",
        "x=torch.from_numpy(np.arange(64))\n",
        "plt.plot(x.numpy())\n",
        "plt.title('Input Signal')\n",
        "plt.xlabel('Sample')\n",
        "plt.show()\n",
        "y=MDCTanafb_torch(x,N,fb); print(\"y=\\n\", y)\n",
        "plt.imshow(np.abs(y.numpy()))\n",
        "plt.title('MDCT Subbands')\n",
        "plt.xlabel('Block No.')\n",
        "plt.ylabel('Subband No.')\n",
        "plt.show()"
      ],
      "metadata": {
        "colab": {
          "base_uri": "https://localhost:8080/",
          "height": 747
        },
        "id": "tCt_fveuWvly",
        "outputId": "8e9c3ec2-ab65-4326-97f7-2f7aa5d76405"
      },
      "execution_count": 21,
      "outputs": [
        {
          "output_type": "stream",
          "name": "stdout",
          "text": [
            "fb= tensor([0.1951, 0.5556, 0.8315, 0.9808, 0.9808, 0.8315], dtype=torch.float64)\n"
          ]
        },
        {
          "output_type": "display_data",
          "data": {
            "image/png": "[encoded data removed]",
            "text/plain": [
              "<Figure size 432x288 with 1 Axes>"
            ]
          },
          "metadata": {
            "needs_background": "light"
          }
        },
        {
          "output_type": "stream",
          "name": "stdout",
          "text": [
            "y=\n",
            " tensor([[-2.6850e-01,  4.3869e+00,  1.2387e+01,  2.0387e+01,  2.8387e+01,\n",
            "          3.6387e+01,  4.4387e+01,  5.2387e+01,  6.0387e+01,  6.8387e+01,\n",
            "          7.6387e+01,  8.4387e+01,  9.2387e+01,  1.0039e+02,  1.0839e+02,\n",
            "          1.1639e+02,  1.0247e+02],\n",
            "        [ 5.1577e-01, -1.1989e+00, -1.1989e+00, -1.1989e+00, -1.1989e+00,\n",
            "         -1.1989e+00, -1.1989e+00, -1.1989e+00, -1.1989e+00, -1.1989e+00,\n",
            "         -1.1989e+00, -1.1989e+00, -1.1989e+00, -1.1989e+00, -1.1989e+00,\n",
            "         -1.1989e+00,  4.0095e+01],\n",
            "        [-2.4517e-01, -3.3182e-01, -3.3182e-01, -3.3182e-01, -3.3182e-01,\n",
            "         -3.3182e-01, -3.3182e-01, -3.3182e-01, -3.3182e-01, -3.3182e-01,\n",
            "         -3.3183e-01, -3.3182e-01, -3.3183e-01, -3.3183e-01, -3.3182e-01,\n",
            "         -3.3182e-01, -1.7405e+01],\n",
            "        [-1.5015e-01,  8.2393e-02,  8.2392e-02,  8.2391e-02,  8.2392e-02,\n",
            "          8.2395e-02,  8.2393e-02,  8.2392e-02,  8.2389e-02,  8.2389e-02,\n",
            "          8.2395e-02,  8.2389e-02,  8.2395e-02,  8.2389e-02,  8.2395e-02,\n",
            "          8.2389e-02, -1.7086e+01]])\n"
          ]
        },
        {
          "output_type": "display_data",
          "data": {
            "image/png": "[encoded data removed]",
            "text/plain": [
              "<Figure size 432x288 with 1 Axes>"
            ]
          },
          "metadata": {
            "needs_background": "light"
          }
        }
      ]
    },
    {
      "cell_type": "code",
      "source": [
        "def MDCTsynfb_torch(y,fb):\n",
        "   #MDCT synthesis filter bank.\n",
        "   #Arguments: y: 2-d array of blocks of subbands, of shape (N, # of blokcs)\n",
        "   #returns xr, the reconstructed signal, a 1-d array.   \n",
        "   \n",
        "   N=y.shape[0]\n",
        "   Fa=symFmatrix_torch(fb)\n",
        "   #invert Fa matrix for synthesis after removing last dim:\n",
        "   Fs=torch.linalg.inv(Fa[:,:,0])\n",
        "   #add again last dimension for function polmatmult:\n",
        "   Fs=torch.torch.unsqueeze(Fs, dim=1)\n",
        "   Dinv=Dinvmatrix_torch(N)\n",
        "\n",
        "   #add first dimension to y for polmatmult:\n",
        "   y=torch.unsqueeze(y,dim=0)\n",
        "   xp=DCT4_torch(y)\n",
        "   xp=polmatmult_torch(xp,Dinv)\n",
        "   xp=polmatmult_torch(xp,Fs)\n",
        "   xr=polyphase2x_torch(xp)\n",
        "   return xr"
      ],
      "metadata": {
        "id": "bivjD0l_yYf8"
      },
      "execution_count": 22,
      "outputs": []
    },
    {
      "cell_type": "code",
      "source": [
        "xr=MDCTsynfb_torch(y,fb)\n",
        "plt.plot(xr.numpy())\n",
        "plt.title('Reconstructed Signal')\n",
        "plt.xlabel('Sample')\n",
        "plt.show()\n",
        "y=torch.zeros((4,16))\n",
        "y[0,0]=1\n",
        "xr=MDCTsynfb_torch(y,fb)\n",
        "plt.plot(xr[0:3*N].numpy())\n",
        "plt.title('Impulse Response of Modulated Synthesis Subband 0')\n",
        "plt.xlabel('Sample')\n",
        "plt.show()"
      ],
      "metadata": {
        "colab": {
          "base_uri": "https://localhost:8080/",
          "height": 573
        },
        "id": "1xJMmE4QzG4N",
        "outputId": "233d5fc1-2893-4b9c-962e-543d1958cc8d"
      },
      "execution_count": null,
      "outputs": [
        {
          "output_type": "display_data",
          "data": {
            "image/png": "[encoded data removed]",
            "text/plain": [
              "<Figure size 432x288 with 1 Axes>"
            ]
          },
          "metadata": {
            "needs_background": "light"
          }
        },
        {
          "output_type": "display_data",
          "data": {
            "image/png": "[encoded data removed]",
            "text/plain": [
              "<Figure size 432x288 with 1 Axes>"
            ]
          },
          "metadata": {
            "needs_background": "light"
          }
        }
      ]
    }
  ]
}
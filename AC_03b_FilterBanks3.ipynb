{
 "cells": [
  {
   "cell_type": "markdown",
   "metadata": {
    "slideshow": {
     "slide_type": "slide"
    }
   },
   "source": [
    "<center>\n",
    "    <img src=\"./images/ac_header.png\">\n",
    "</center>\n",
    "\n",
    "### <a target=\"_blank\" rel=\"noopener noreferrer\" href=\"https://www.tu-ilmenau.de/mt-ams/personen/schuller-gerald/\">Prof. Dr. -Ing. Gerald Schuller</a> <br> <a target=\"_blank\" rel=\"noopener noreferrer\" href=\"https://www.tu-ilmenau.de/mt-ams/lehre/msp-and-adsp-tutorials/\">Jupyter Notebook: Renato Profeta</a> \n",
    "\n",
    "[Applied Media Systems Group](https://www.tu-ilmenau.de/en/applied-media-systems-group/) <br>\n",
    "[Technische Universität Ilmenau](https://www.tu-ilmenau.de/)"
   ]
  },
  {
   "cell_type": "markdown",
   "metadata": {
    "slideshow": {
     "slide_type": "slide"
    }
   },
   "source": [
    "# Filter Banks III"
   ]
  },
  {
   "cell_type": "code",
   "execution_count": 17,
   "metadata": {
    "hide_input": true
   },
   "outputs": [
    {
     "data": {
      "text/html": [
       "<iframe width=\"560\" height=\"315\" src=\"https://www.youtube.com/embed/eLHqX6qZcX4?rel=0\" frameborder=\"0\" allow=\"accelerometer; encrypted-media; gyroscope; picture-in-picture\" allowfullscreen></iframe>\n"
      ],
      "text/plain": [
       "<IPython.core.display.HTML object>"
      ]
     },
     "metadata": {},
     "output_type": "display_data"
    }
   ],
   "source": [
    "%%html\n",
    "<iframe width=\"560\" height=\"315\" src=\"https://www.youtube.com/embed/eLHqX6qZcX4?rel=0\" frameborder=\"0\" allow=\"accelerometer; encrypted-media; gyroscope; picture-in-picture\" allowfullscreen></iframe>"
   ]
  },
  {
   "cell_type": "markdown",
   "metadata": {
    "hide_input": false,
    "scrolled": true,
    "slideshow": {
     "slide_type": "-"
    }
   },
   "source": [
    "## Block Switching"
   ]
  },
  {
   "cell_type": "code",
   "execution_count": 15,
   "metadata": {
    "hide_input": true,
    "slideshow": {
     "slide_type": "-"
    }
   },
   "outputs": [
    {
     "name": "stdout",
     "output_type": "stream",
     "text": [
      "https://onlinelibrary.wiley.com/doi/book/10.1002/0470041978\n"
     ]
    },
    {
     "data": {
      "text/html": [
       "\n",
       "        <iframe\n",
       "            width=\"900\"\n",
       "            height=\"400\"\n",
       "            src=\"https://ieeexplore.ieee.org/book/8039676\"\n",
       "            frameborder=\"0\"\n",
       "            allowfullscreen\n",
       "        ></iframe>\n",
       "        "
      ],
      "text/plain": [
       "<IPython.lib.display.IFrame at 0x2bcb13a32c8>"
      ]
     },
     "execution_count": 15,
     "metadata": {},
     "output_type": "execute_result"
    }
   ],
   "source": [
    "from IPython.display import IFrame\n",
    "print('https://onlinelibrary.wiley.com/doi/book/10.1002/0470041978')\n",
    "IFrame('https://ieeexplore.ieee.org/book/8039676', width=900, height=400)\n"
   ]
  },
  {
   "cell_type": "markdown",
   "metadata": {
    "hide_input": false,
    "slideshow": {
     "slide_type": "-"
    }
   },
   "source": [
    " - **Problem:** In audio coding, Pre-echoes appear before transients.\n",
    "     - reason: blocks too long.\n",
    "\n",
    "<center>\n",
    "    <img src='./images/ac_46_blockSwit.png' width='900'>\n",
    "</center>\n",
    "\n",
    " - **Approach:** for fast changing signals use block switching to lower number of subbands.\n",
    " \n",
    "<center>\n",
    "    <img src='./images/ac_47_blockSwit2.png' width='900'>\n",
    "</center>"
   ]
  },
  {
   "cell_type": "markdown",
   "metadata": {
    "slideshow": {
     "slide_type": "-"
    }
   },
   "source": [
    "### Accomodate Overlap-Add for Block Switching"
   ]
  },
  {
   "cell_type": "markdown",
   "metadata": {
    "hide_input": false,
    "slideshow": {
     "slide_type": "-"
    }
   },
   "source": [
    "<center>\n",
    "    <img src='./images/ac_48_blockSwit3.png' width='700'>\n",
    "</center>\n",
    "<br>\n",
    "<center>\n",
    "    <img src='./images/ac_49_blockSwit4.png' width='700'>\n",
    "</center>\n"
   ]
  },
  {
   "cell_type": "markdown",
   "metadata": {
    "slideshow": {
     "slide_type": "-"
    }
   },
   "source": [
    "### Block Switching"
   ]
  },
  {
   "cell_type": "markdown",
   "metadata": {
    "hide_input": false,
    "slideshow": {
     "slide_type": "-"
    }
   },
   "source": [
    " - Sequence of windows for switching the number of sub-bands.\n",
    " - Shorter windows $\\rightarrow$ better resolution.\n",
    " \n",
    "<center>\n",
    "    <img src='./images/ac_50_blockSwit5.png' width='700'>\n",
    "</center>\n"
   ]
  },
  {
   "cell_type": "code",
   "execution_count": 16,
   "metadata": {
    "hide_input": true
   },
   "outputs": [
    {
     "data": {
      "text/html": [
       "\n",
       "        <iframe\n",
       "            width=\"900\"\n",
       "            height=\"400\"\n",
       "            src=\"https://ccrma.stanford.edu/~pdelac/422/project/report.html\"\n",
       "            frameborder=\"0\"\n",
       "            allowfullscreen\n",
       "        ></iframe>\n",
       "        "
      ],
      "text/plain": [
       "<IPython.lib.display.IFrame at 0x2bcb20d7ec8>"
      ]
     },
     "execution_count": 16,
     "metadata": {},
     "output_type": "execute_result"
    }
   ],
   "source": [
    "IFrame(\"https://ccrma.stanford.edu/~pdelac/422/project/report.html\",width=900, height=400)"
   ]
  },
  {
   "cell_type": "markdown",
   "metadata": {
    "slideshow": {
     "slide_type": "slide"
    }
   },
   "source": [
    "## Wavelets, QMF (Quadradutre Mirror Filter) Filter Banks"
   ]
  },
  {
   "cell_type": "code",
   "execution_count": 18,
   "metadata": {
    "hide_input": true
   },
   "outputs": [
    {
     "data": {
      "text/html": [
       "<iframe width=\"560\" height=\"315\" src=\"https://www.youtube.com/embed/gRdIhI04wt8?rel=0\" frameborder=\"0\" allow=\"accelerometer; encrypted-media; gyroscope; picture-in-picture\" allowfullscreen></iframe>\n"
      ],
      "text/plain": [
       "<IPython.core.display.HTML object>"
      ]
     },
     "metadata": {},
     "output_type": "display_data"
    }
   ],
   "source": [
    "%%html\n",
    "<iframe width=\"560\" height=\"315\" src=\"https://www.youtube.com/embed/gRdIhI04wt8?rel=0\" frameborder=\"0\" allow=\"accelerometer; encrypted-media; gyroscope; picture-in-picture\" allowfullscreen></iframe>"
   ]
  },
  {
   "cell_type": "markdown",
   "metadata": {
    "hide_input": false,
    "slideshow": {
     "slide_type": "-"
    }
   },
   "source": [
    " - Iterate 2-band system.\n",
    " - See also: Wavelet Packets (more general)\n",
    " - **Problem:** Aliasing propagation reduces frequency selectivity!\n",
    " - Important in image coding, but no big role in Audio Coding.\n",
    "\n",
    "<center>\n",
    "    <img src='./images/ac_51_qmf.png' width='700'>\n",
    "</center>\n"
   ]
  },
  {
   "cell_type": "markdown",
   "metadata": {
    "slideshow": {
     "slide_type": "-"
    }
   },
   "source": [
    "### How to Obtain a Two Band Filter Bank"
   ]
  },
  {
   "cell_type": "markdown",
   "metadata": {
    "slideshow": {
     "slide_type": "-"
    }
   },
   "source": [
    " - Application: QMF filter banks, Wavelets, ...\n",
    " - Analysis polyphase for a 2-band filter bank:\n",
    " \n",
    " $$\\large\n",
    " H(z)=\n",
    " \\begin{bmatrix}\n",
    " H_{0,0}(z) & H_{0,1}(z) \\\\\n",
    " H_{1,0}(z) & H_{1,1}(z)\n",
    " \\end{bmatrix}\n",
    " $$\n",
    " <br>\n",
    " - **Observe:** $H_{0,0}(z)$ contains the even coefficients of the low pass filter, and $H_{1,0}(z)$ its odd coefficients.\n",
    " - Accordingly for the high pass filter.\n",
    " - Given the analysis filters, the synthesis filters can be obtained by inverting the analysis polyphase matrix:\n",
    " \n",
    " $$\\large\n",
    " H^{-1}(z) = \\dfrac{1}{Det(H(z))}\n",
    " \\begin{bmatrix}\n",
    " H_{1,1}(z) & -H_{0,1}(z) \\\\\n",
    " -H_{1,0}(z) & H_{0,0}(z)\n",
    " \\end{bmatrix}\n",
    " $$\n",
    " <br>\n",
    " \n",
    " - **Observe:** If the analysis filters have a finite impulse response (FIR), and the synthesis is desired to also be FIR, the **determinant** of the polyphase matrix needs to be a **constant or a delay**!\n",
    " \n",
    " $$\\large\n",
    " det(H(z)) = H_{1,1}(z)H_{0,0}(z)-H_{0,1}(z)H_{1,0}(z)  \\\\ = \\text{const or delay}$$\n",
    " <br>\n",
    " - **Observe:** This is the output of the lower band of the filter bank if the input signal is:\n",
    " \n",
    " $$\\large\n",
    " x(z) = \\left \\lfloor H_{1,1}(z), -H_{0,1} \\right \\rfloor $$\n",
    " \n",
    " - Hence the determinant can be formulated as a **convolution**.\n",
    " - This input is the high band filter coefficients, with the sign of the even coefficients flipped and switched places with the odd coefficients.\n",
    " - Since this represents a critically sampled filter bank, the result represents **every second sample** of the convolution of the low band filter with the correspondingly modified high band filter.\n",
    " - This modified high band filter is a low band filter (every second sample sign flipped).\n",
    " - The desired output of this downsampled convolution is a single pulse (corresponding to a constant or a delay), hence flat in frequency.\n",
    " - Another interpretation: correlation of the 2 signals, where the even lags that appear after downsampling are zero, except for the one pulse."
   ]
  },
  {
   "cell_type": "markdown",
   "metadata": {
    "hide_input": false,
    "slideshow": {
     "slide_type": "slide"
    }
   },
   "source": [
    "## QMF (Quadrature Mirror Filter)"
   ]
  },
  {
   "cell_type": "markdown",
   "metadata": {
    "slideshow": {
     "slide_type": "-"
    }
   },
   "source": [
    " - This suggests a simple design strategy:\n",
    "     - Design a low pass filter for analysis and synthesis.\n",
    "     - Obtain the high pass filters by flipping the low pass filters every second coefficient.\n",
    "     \n",
    "$$\\begin{array}\n",
    "\\text{analysis FB:} & h_1(n)=(-1)^nh_0(n) & n=0,1,...,N-1 \\\\\n",
    "\\text{synth. low pass:} & g_0(n)=h_0(n) & \\\\\n",
    "\\text{synth. FB high pass:} & g_1(n)=-h_1(n) & \n",
    "\\end{array}$$\n",
    "\n",
    " - This is an early two band filter bank: QMF, Quadrature Mirror Filter (Croisier, Esteban, Galand, 1976)\n",
    " - For more than 2 bands: GQMF (Cox, 1986), PQMF\n",
    " \n",
    " - Sign flipping to obtain the high band filter leads to the polyphase components:\n",
    " <br>\n",
    "$$\\large\n",
    "H_{0,1}(z) = H_{0,0}(z) \\\\\n",
    "\\large\n",
    "H_{1,1}(z) = -H_{1,0}(z)\n",
    "$$<br>\n",
    "\n",
    " - The resulting determinant is:\n",
    "\n",
    "$$\\large\n",
    "det(H(z))=H_{1,1}(z)H_{0,0}(z)-H_{0,1}(z)H_{1,0}(z) \\\\\n",
    "\\large\n",
    "=-2H_{0,1}(z)H_{0,0}(z)$$\n",
    "\n",
    " - **Observe:** This cannot be made a constant or delay for finite polynomials of order 1 or greater, hence no PR for finite length filters!\n",
    " - The QMF accounts for the sign flipping in the determinant equation.\n",
    " - But not for the trading places of even and odd coefficients.\n",
    " - Hence: **No Perfect Reconstruction** (only for simple Haar and IIR filters)\n",
    " - High stopband attenuation needed to keep reconstruction error small.\n",
    " - Numerical optimization to obtain:\n",
    " \n",
    "  $$\\large\n",
    " \\left |H_0\\left(e^{j\\omega}\\right)\\right |^2 + \\left |H_1\\left(e^{j\\omega}\\right)\\right |^2 \\approx 1$$\n",
    " <br>\n",
    " <center>\n",
    "    <img src='./images/ac_52_qmf2.png' width='600'>\n",
    "</center>\n",
    " \n",
    " <center>\n",
    "    <img src='./images/ac_53_qmf3.png' width='500'>\n",
    "</center>\n",
    "\n",
    " - QMF: Example with Impulse Response of Length 96\n",
    " <br>\n",
    " \n",
    " <center>\n",
    "    <img src='./images/ac_54_qmf4.png' width='800'>\n",
    "</center>"
   ]
  },
  {
   "cell_type": "markdown",
   "metadata": {
    "hide_input": false,
    "slideshow": {
     "slide_type": "slide"
    }
   },
   "source": [
    "### CQMF: Conjugate QMF"
   ]
  },
  {
   "cell_type": "code",
   "execution_count": 19,
   "metadata": {
    "hide_input": true
   },
   "outputs": [
    {
     "data": {
      "text/html": [
       "<iframe width=\"560\" height=\"315\" src=\"https://www.youtube.com/embed/UbqhUCgHo4w?rel=0\" frameborder=\"0\" allow=\"accelerometer; encrypted-media; gyroscope; picture-in-picture\" allowfullscreen></iframe>\n"
      ],
      "text/plain": [
       "<IPython.core.display.HTML object>"
      ]
     },
     "metadata": {},
     "output_type": "display_data"
    }
   ],
   "source": [
    "%%html\n",
    "<iframe width=\"560\" height=\"315\" src=\"https://www.youtube.com/embed/UbqhUCgHo4w?rel=0\" frameborder=\"0\" allow=\"accelerometer; encrypted-media; gyroscope; picture-in-picture\" allowfullscreen></iframe>"
   ]
  },
  {
   "cell_type": "markdown",
   "metadata": {
    "hide_input": false,
    "slideshow": {
     "slide_type": "-"
    }
   },
   "source": [
    " - To also accommodate for the trading places of odd and even coefficients, a natural choice is to also reverse the temporal order of the synthesis filter.\n",
    " \n",
    " $$\\large\n",
    " h_1(n) = -n_0(L-1-n)(-1)^n$$\n",
    " <br>\n",
    "     - With L: filter length, and $g_0(n) = h_0(n) \\quad g_1(n) = - h_1(n)$\n",
    "     - Introduced e.g. by Smith, Barnwell, 1984\n",
    " <br>\n",
    " \n",
    " \n",
    " - For the polyphase components this means:\n",
    " \n",
    " $$\\large\n",
    " \\begin{array}{ccc}\n",
    " H_{0,1} & = & -z^{\\frac{L}{2}}H_{0,0}(z^{-1}) \\\\\n",
    " H_{1,1} & = & z^{\\frac{L}{2}}H_{1,0}(z^{-1}) \n",
    " \\end{array}$$\n",
    " \n",
    " - And the input for our determinant calculation is:\n",
    " \n",
    " $$\\large\n",
    " x(z) = z^{-\\frac{L}{2}} \\left \\lfloor H_{1,0}(z^{-1}), H_{0,0}(z^{-1}) \\right \\rfloor$$\n",
    " <br>\n",
    " - This corresponds exactly to the time reversed low band filter!\n",
    " \n",
    " - Let's define:\n",
    " \n",
    " $$\\large\n",
    " A(z) = H_{1,0}(z^{-1})H_{0,0}(z) $$\n",
    " \n",
    " - The determinant is now:\n",
    " \n",
    " $$\\large\n",
    " det(H(z)) = H_{1,1}(z)H_{0,0}(z)-H_{0,1}(z)H_{1,0}(z) \\\\\n",
    " \\large\n",
    " = z^{-\\frac{L}{2}} (A(z)+A(z^{-1}))$$<br>\n",
    "     - **Observe:** This can be a constant if all even coefficients of A(z) are zero, except for the center coefficient!\n",
    "     - **Remember:** the determinant was the output of the low band with this input.\n",
    "     - Hence: Every second sample of the convolution of the low band filter with its time reversed version.\n",
    "     - This is equal to **every second value** of the **autocorrelation** function of the l**ow band filter**!\n",
    "     - Determinant is a constant or a delay: only one sample of this downsampled autocorrelation function (all even coefficients) can be unequal zero (most even coefficients are zero).\n",
    "     - The Determinant is a constant means:\n",
    "         - The 0th autocorrelation coefficient is a constant (unequal 0), and all other even coefficients must be zero.\n",
    "         - Called Nyquist filter property.\n",
    " \n",
    " \n",
    " - In other terms: Define P(z) as the z-transform of this autocorrelation function, the **Power Spectrum**:\n",
    " \n",
    " $$\\large\n",
    " P(z) := H_0(z) \\cdot H_0(z^{-1})$$\n",
    " \n",
    " - Then all nonzero coefficients of P(z) are the 0th coefficient and the odd coefficients.\n",
    " - As a result:\n",
    " \n",
    " $$\\large\n",
    " P(z) + P(-z) = const$$\n",
    " \n",
    "     - The odd coefficients cancel.\n",
    "     - Frequency reversal $\\rightarrow$ (P(-z))\n",
    "     - This is also called the halfband filter property.\n",
    "     \n",
    "     \n",
    " - Design approach: Design P(z) accordingly, then H(z)"
   ]
  },
  {
   "cell_type": "markdown",
   "metadata": {
    "slideshow": {
     "slide_type": "slide"
    }
   },
   "source": [
    "## Pseudo-QMF (PQMF)"
   ]
  },
  {
   "cell_type": "code",
   "execution_count": 1,
   "metadata": {
    "hide_input": true
   },
   "outputs": [
    {
     "data": {
      "text/html": [
       "<iframe width=\"560\" height=\"315\" src=\"https://www.youtube.com/embed/q8aMPpb1YHI?rel=0\" frameborder=\"0\" allow=\"accelerometer; encrypted-media; gyroscope; picture-in-picture\" allowfullscreen></iframe>\n"
      ],
      "text/plain": [
       "<IPython.core.display.HTML object>"
      ]
     },
     "metadata": {},
     "output_type": "display_data"
    }
   ],
   "source": [
    "%%html\n",
    "<iframe width=\"560\" height=\"315\" src=\"https://www.youtube.com/embed/q8aMPpb1YHI?rel=0\" frameborder=\"0\" allow=\"accelerometer; encrypted-media; gyroscope; picture-in-picture\" allowfullscreen></iframe>"
   ]
  },
  {
   "cell_type": "markdown",
   "metadata": {
    "scrolled": true,
    "slideshow": {
     "slide_type": "-"
    }
   },
   "source": [
    " - So far we only had 2 subband QMF filter banks.\n",
    " - Only for the 2-band case we get perfect reconstruction (in the CQMF case).\n",
    " - The PQMF extents the QMF approach to N>2 subbands.\n",
    " - But it has only \"Near Perfect Reconstruction\", meaning a reconstruction error by the filter bank.\n",
    " - It is modulated filter band (like the MDCT), using a baseband prototype filter h(n) (a lowpass).\n",
    " - Its analysis filters are given by the impulse responses (L being the length of the impulse response):\n",
    " \n",
    " $$\\large\n",
    " H_k(n) = h(n) \\cos \\left( \\dfrac{\\pi}{N} \\cdot (k+0.5)(n+0.5-\\dfrac{L}{2}+(-1)^k\\dfrac{\\pi}{4} \\right)$$\n",
    " \n",
    " - It is an (almost) **orthogonal filter bank**, which means that the synthesis filter impulse responses are simply the time inverses of the analysis impulse responses:\n",
    " \n",
    " $$\\large\n",
    " g_k(n)=h_k(n)(L-1-n)$$\n",
    " \n",
    " - Its baseband prototype filters h(n) are now designed such that aliasing cancels between adjacent neighbouring bands:\n",
    " \n",
    " $$\\large\n",
    " \\left| H(e^{j\\Omega}) \\right|^2 + \\left| H \\left(e^{j\\left(\\frac{\\pi}{N}-\\Omega\\right)}\\right) \\right|^2 = 1 \\\\\n",
    " \\large\n",
    " \\text{for } 0 < |\\Omega| < \\frac{\\pi}{2N}\n",
    " $$\n",
    " \n",
    " - Beyond the adjacent bands, the attenuation should go towards infinity:\n",
    " \n",
    " $$\\large\n",
    " \\left| H(e^{j\\Omega}) \\right|^2 = 0, \\text{for } |\\Omega| > \\frac{\\pi}{N}$$\n",
    " \n",
    " \n",
    " - This leads to **\"Near Perfect Reconstruction\"** (there is a **reconstruction error**).\n",
    " - The PQMF filter bank is used in MPEG1/2 Layer I,II and III. There it has N=32 subbands and filter length L=512.\n",
    " - Also used in MPEG 4 for so-called SBR (Spectral Band Replication) and for parametric sourround coding. There it has N=32 or N=64 subbands, and filter length L=320 or L=640."
   ]
  },
  {
   "cell_type": "markdown",
   "metadata": {
    "scrolled": false,
    "slideshow": {
     "slide_type": "subslide"
    }
   },
   "source": [
    "### PQMF used in MPEG4"
   ]
  },
  {
   "cell_type": "markdown",
   "metadata": {
    "slideshow": {
     "slide_type": "-"
    }
   },
   "source": [
    " - Impulse response of the baseband prototype (the window), with N=64 and L=640\n",
    " \n",
    "<br>\n",
    "<center>\n",
    "    <img src='./images/ac_55_pqmf1.png' width='600'>\n",
    "</center>\n",
    "<br>\n",
    "\n",
    " - Frequency response of the baseband prototype (the window)\n",
    " \n",
    "<br>\n",
    "<center>\n",
    "    <img src='./images/ac_56_pqmf2.png' width='600'>\n",
    "</center>\n",
    "<br>"
   ]
  }
 ],
 "metadata": {
  "kernelspec": {
   "display_name": "Python 3",
   "language": "python",
   "name": "python3"
  },
  "language_info": {
   "codemirror_mode": {
    "name": "ipython",
    "version": 3
   },
   "file_extension": ".py",
   "mimetype": "text/x-python",
   "name": "python",
   "nbconvert_exporter": "python",
   "pygments_lexer": "ipython3",
   "version": "3.7.8"
  },
  "livereveal": {
   "rise": {
    "height": "90%",
    "width": "90%"
   },
   "scroll": true,
   "theme": "beige",
   "transition": "zoom"
  },
  "widgets": {
   "application/vnd.jupyter.widget-state+json": {
    "state": {
     "0b0c58e6c93a41799e09f406dbdefde6": {
      "model_module": "@jupyter-widgets/base",
      "model_module_version": "1.2.0",
      "model_name": "LayoutModel",
      "state": {}
     },
     "0b3040b1b58e4b53a4509d1a39fd031d": {
      "model_module": "@jupyter-widgets/base",
      "model_module_version": "1.2.0",
      "model_name": "LayoutModel",
      "state": {}
     },
     "0be2682832bd4bc8b51cb737e46ca28c": {
      "model_module": "@jupyter-widgets/base",
      "model_module_version": "1.2.0",
      "model_name": "LayoutModel",
      "state": {}
     },
     "0e39b9742c5341378d14cd0ce7c6d7b2": {
      "model_module": "@jupyter-widgets/controls",
      "model_module_version": "1.5.0",
      "model_name": "HBoxModel",
      "state": {
       "children": [
        "IPY_MODEL_2d9b7d0f8fe4439bb967b502ccdf02f7",
        "IPY_MODEL_7042e1d3ab44462087773c8182c56c15"
       ],
       "layout": "IPY_MODEL_0be2682832bd4bc8b51cb737e46ca28c"
      }
     },
     "0f12a068f35a41949e7af2ab301fb1a9": {
      "model_module": "@jupyter-widgets/controls",
      "model_module_version": "1.5.0",
      "model_name": "DescriptionStyleModel",
      "state": {
       "description_width": ""
      }
     },
     "15ad70cfa0aa41638667c356ae56295f": {
      "model_module": "@jupyter-widgets/base",
      "model_module_version": "1.2.0",
      "model_name": "LayoutModel",
      "state": {}
     },
     "16c7c2a79a4a4203be047ae7aeee19fa": {
      "model_module": "@jupyter-widgets/controls",
      "model_module_version": "1.5.0",
      "model_name": "ToggleButtonModel",
      "state": {
       "description": "Stop",
       "layout": "IPY_MODEL_15ad70cfa0aa41638667c356ae56295f",
       "style": "IPY_MODEL_0f12a068f35a41949e7af2ab301fb1a9"
      }
     },
     "1d15c09691004b7080cdbe29a28d73ff": {
      "model_module": "@jupyter-widgets/controls",
      "model_module_version": "1.5.0",
      "model_name": "HBoxModel",
      "state": {
       "children": [
        "IPY_MODEL_e2f6054e0fe24c10ac5c95a2b687f1ca",
        "IPY_MODEL_2cf22153219242b180ccb47bc4b8f968"
       ],
       "layout": "IPY_MODEL_b40a35cef38e4048b6a2d8149ff7e069"
      }
     },
     "207bd58d7ad144f58b70b598ae30db8e": {
      "model_module": "@jupyter-widgets/base",
      "model_module_version": "1.2.0",
      "model_name": "LayoutModel",
      "state": {}
     },
     "20f35183b9e74a438f97507b3d10929a": {
      "model_module": "@jupyter-widgets/controls",
      "model_module_version": "1.5.0",
      "model_name": "ButtonStyleModel",
      "state": {}
     },
     "23ef77f7f8a84176907ef6949905623b": {
      "model_module": "@jupyter-widgets/controls",
      "model_module_version": "1.5.0",
      "model_name": "HBoxModel",
      "state": {
       "children": [
        "IPY_MODEL_f61da7386157426ca81a202ffe23e162",
        "IPY_MODEL_77a43b098d01405690eb7f9256544cc1"
       ],
       "layout": "IPY_MODEL_3c3e2637ae684b7e95aca1d49d23f40b"
      }
     },
     "2cf22153219242b180ccb47bc4b8f968": {
      "model_module": "@jupyter-widgets/controls",
      "model_module_version": "1.5.0",
      "model_name": "ToggleButtonModel",
      "state": {
       "description": "Stop",
       "layout": "IPY_MODEL_207bd58d7ad144f58b70b598ae30db8e",
       "style": "IPY_MODEL_bd80f1c63a2b4a25900e5e5763317b7a"
      }
     },
     "2d9b7d0f8fe4439bb967b502ccdf02f7": {
      "model_module": "@jupyter-widgets/controls",
      "model_module_version": "1.5.0",
      "model_name": "ButtonModel",
      "state": {
       "description": "Start",
       "disabled": true,
       "layout": "IPY_MODEL_77522a5639144548b35db6c4d7dd4fb1",
       "style": "IPY_MODEL_7d63afec39bb49df9edf2873be48ac04"
      }
     },
     "3276b4539f7144b6a21869875e9c4914": {
      "model_module": "@jupyter-widgets/base",
      "model_module_version": "1.2.0",
      "model_name": "LayoutModel",
      "state": {}
     },
     "354ba59a5468408b962c72423d4e1c65": {
      "model_module": "@jupyter-widgets/base",
      "model_module_version": "1.2.0",
      "model_name": "LayoutModel",
      "state": {}
     },
     "3c3e2637ae684b7e95aca1d49d23f40b": {
      "model_module": "@jupyter-widgets/base",
      "model_module_version": "1.2.0",
      "model_name": "LayoutModel",
      "state": {}
     },
     "4131c38460e44eaf962c7017e2536232": {
      "model_module": "@jupyter-widgets/controls",
      "model_module_version": "1.5.0",
      "model_name": "HBoxModel",
      "state": {
       "children": [
        "IPY_MODEL_d58265f7549a4e979a3c65b9bd5d76a5",
        "IPY_MODEL_c5267597c945478f959c375f44a4d1a7"
       ],
       "layout": "IPY_MODEL_4b10bbeb1b794eb697268d9a1bd106ba"
      }
     },
     "435a7872da0d4c41be05e35d3d9570aa": {
      "model_module": "@jupyter-widgets/controls",
      "model_module_version": "1.5.0",
      "model_name": "DescriptionStyleModel",
      "state": {
       "description_width": ""
      }
     },
     "4488c6e4c7834e098e81b481cb1003a4": {
      "model_module": "@jupyter-widgets/controls",
      "model_module_version": "1.5.0",
      "model_name": "CheckboxModel",
      "state": {
       "description": "LP Filters",
       "disabled": false,
       "layout": "IPY_MODEL_a6c7fc4e429c464e8fca3294d830542a",
       "style": "IPY_MODEL_7fc76b30f0904d1ab285f634f82d7054",
       "value": false
      }
     },
     "470de88b8310448d864c97fad609f7de": {
      "model_module": "@jupyter-widgets/controls",
      "model_module_version": "1.5.0",
      "model_name": "ButtonStyleModel",
      "state": {}
     },
     "4b10bbeb1b794eb697268d9a1bd106ba": {
      "model_module": "@jupyter-widgets/base",
      "model_module_version": "1.2.0",
      "model_name": "LayoutModel",
      "state": {}
     },
     "5795130576114428a9f5f86ee4aa8c80": {
      "model_module": "@jupyter-widgets/controls",
      "model_module_version": "1.5.0",
      "model_name": "DescriptionStyleModel",
      "state": {
       "description_width": ""
      }
     },
     "589c1be4bde643c899cf54d67ebfb42f": {
      "model_module": "@jupyter-widgets/controls",
      "model_module_version": "1.5.0",
      "model_name": "HBoxModel",
      "state": {
       "children": [
        "IPY_MODEL_e8e1025d1bb44a08a500c0d3b8718796",
        "IPY_MODEL_fb8ae2a4374c451eb7d78b16edcca16a"
       ],
       "layout": "IPY_MODEL_354ba59a5468408b962c72423d4e1c65"
      }
     },
     "5e41a5a9f29443f49a84cb3b28cfd887": {
      "model_module": "@jupyter-widgets/base",
      "model_module_version": "1.2.0",
      "model_name": "LayoutModel",
      "state": {}
     },
     "5e7f58b91bbf4d1d839bbf49450afd8f": {
      "model_module": "@jupyter-widgets/controls",
      "model_module_version": "1.5.0",
      "model_name": "HBoxModel",
      "state": {
       "children": [
        "IPY_MODEL_ac4c2b3e307640bdb74f11ec3cf0dafd",
        "IPY_MODEL_e3db17127dba4e609008d860b5cf05c5"
       ],
       "layout": "IPY_MODEL_5e41a5a9f29443f49a84cb3b28cfd887"
      }
     },
     "5ec351197a1c442a8fa816d034b1eef6": {
      "model_module": "@jupyter-widgets/base",
      "model_module_version": "1.2.0",
      "model_name": "LayoutModel",
      "state": {}
     },
     "6341affae71049aba97ec2ad0ff9583d": {
      "model_module": "@jupyter-widgets/base",
      "model_module_version": "1.2.0",
      "model_name": "LayoutModel",
      "state": {}
     },
     "6c0e7d0a22a144458689ec0d86788548": {
      "model_module": "@jupyter-widgets/base",
      "model_module_version": "1.2.0",
      "model_name": "LayoutModel",
      "state": {}
     },
     "6cb680fde00f4a6e8c0fb454c76857d3": {
      "model_module": "@jupyter-widgets/controls",
      "model_module_version": "1.5.0",
      "model_name": "ToggleButtonModel",
      "state": {
       "description": "Stop",
       "layout": "IPY_MODEL_de5153ef26c14561bb728c1e74b51aac",
       "style": "IPY_MODEL_aed5c18ec1e44b1cb9c1c8a1164530bc"
      }
     },
     "6d9b43798e7642019c6888b869c409a7": {
      "model_module": "@jupyter-widgets/controls",
      "model_module_version": "1.5.0",
      "model_name": "ButtonStyleModel",
      "state": {}
     },
     "7042e1d3ab44462087773c8182c56c15": {
      "model_module": "@jupyter-widgets/controls",
      "model_module_version": "1.5.0",
      "model_name": "ToggleButtonModel",
      "state": {
       "description": "Stop",
       "layout": "IPY_MODEL_d869cf27021149409370838cc26ee878",
       "style": "IPY_MODEL_b5d3845cf20e497ea0bddab2ce24c089"
      }
     },
     "77480c26779c420390eabd1bbd64cbee": {
      "model_module": "@jupyter-widgets/controls",
      "model_module_version": "1.5.0",
      "model_name": "ButtonModel",
      "state": {
       "description": "Start",
       "layout": "IPY_MODEL_7b0edd69218248ec89c22a9b29960928",
       "style": "IPY_MODEL_470de88b8310448d864c97fad609f7de"
      }
     },
     "77522a5639144548b35db6c4d7dd4fb1": {
      "model_module": "@jupyter-widgets/base",
      "model_module_version": "1.2.0",
      "model_name": "LayoutModel",
      "state": {}
     },
     "77a43b098d01405690eb7f9256544cc1": {
      "model_module": "@jupyter-widgets/controls",
      "model_module_version": "1.5.0",
      "model_name": "ToggleButtonModel",
      "state": {
       "description": "Stop",
       "layout": "IPY_MODEL_5ec351197a1c442a8fa816d034b1eef6",
       "style": "IPY_MODEL_f9ed9f912ac848a1a61cccea6d4c20c3",
       "value": true
      }
     },
     "7b0edd69218248ec89c22a9b29960928": {
      "model_module": "@jupyter-widgets/base",
      "model_module_version": "1.2.0",
      "model_name": "LayoutModel",
      "state": {}
     },
     "7d63afec39bb49df9edf2873be48ac04": {
      "model_module": "@jupyter-widgets/controls",
      "model_module_version": "1.5.0",
      "model_name": "ButtonStyleModel",
      "state": {}
     },
     "7e5dc995c0d54dc88ffba21751e34fd0": {
      "model_module": "@jupyter-widgets/controls",
      "model_module_version": "1.5.0",
      "model_name": "ButtonStyleModel",
      "state": {}
     },
     "7fc76b30f0904d1ab285f634f82d7054": {
      "model_module": "@jupyter-widgets/controls",
      "model_module_version": "1.5.0",
      "model_name": "DescriptionStyleModel",
      "state": {
       "description_width": ""
      }
     },
     "86fd6e4196864369a5e361e09e227412": {
      "model_module": "@jupyter-widgets/controls",
      "model_module_version": "1.5.0",
      "model_name": "ButtonStyleModel",
      "state": {}
     },
     "892de2da73f84062be6382bed68d98e9": {
      "model_module": "@jupyter-widgets/controls",
      "model_module_version": "1.5.0",
      "model_name": "HBoxModel",
      "state": {
       "children": [
        "IPY_MODEL_77480c26779c420390eabd1bbd64cbee",
        "IPY_MODEL_16c7c2a79a4a4203be047ae7aeee19fa"
       ],
       "layout": "IPY_MODEL_c65da4d48410402ca720e41ea2b1a532"
      }
     },
     "a6c7fc4e429c464e8fca3294d830542a": {
      "model_module": "@jupyter-widgets/base",
      "model_module_version": "1.2.0",
      "model_name": "LayoutModel",
      "state": {}
     },
     "a9d684453fac4de8a1da6b5678a9263d": {
      "model_module": "@jupyter-widgets/controls",
      "model_module_version": "1.5.0",
      "model_name": "HBoxModel",
      "state": {
       "children": [
        "IPY_MODEL_adf8151b53c0458db8a2931959f9851c",
        "IPY_MODEL_6cb680fde00f4a6e8c0fb454c76857d3"
       ],
       "layout": "IPY_MODEL_6c0e7d0a22a144458689ec0d86788548"
      }
     },
     "aba427d2152e4e5b95f68cd5fa6b869a": {
      "model_module": "@jupyter-widgets/base",
      "model_module_version": "1.2.0",
      "model_name": "LayoutModel",
      "state": {}
     },
     "ac4c2b3e307640bdb74f11ec3cf0dafd": {
      "model_module": "@jupyter-widgets/controls",
      "model_module_version": "1.5.0",
      "model_name": "CheckboxModel",
      "state": {
       "description": "Downsampling/Upsampling",
       "disabled": false,
       "layout": "IPY_MODEL_ccebf79f7b6b4954afc304a9a913fe0b",
       "style": "IPY_MODEL_5795130576114428a9f5f86ee4aa8c80",
       "value": false
      }
     },
     "adf8151b53c0458db8a2931959f9851c": {
      "model_module": "@jupyter-widgets/controls",
      "model_module_version": "1.5.0",
      "model_name": "ButtonModel",
      "state": {
       "description": "Start",
       "layout": "IPY_MODEL_c8e686b7f1fd41fb950f6c64c28d1e38",
       "style": "IPY_MODEL_20f35183b9e74a438f97507b3d10929a"
      }
     },
     "aed5c18ec1e44b1cb9c1c8a1164530bc": {
      "model_module": "@jupyter-widgets/controls",
      "model_module_version": "1.5.0",
      "model_name": "DescriptionStyleModel",
      "state": {
       "description_width": ""
      }
     },
     "b40a35cef38e4048b6a2d8149ff7e069": {
      "model_module": "@jupyter-widgets/base",
      "model_module_version": "1.2.0",
      "model_name": "LayoutModel",
      "state": {}
     },
     "b5d3845cf20e497ea0bddab2ce24c089": {
      "model_module": "@jupyter-widgets/controls",
      "model_module_version": "1.5.0",
      "model_name": "DescriptionStyleModel",
      "state": {
       "description_width": ""
      }
     },
     "b71122422f634440ba716e8c5537e52d": {
      "model_module": "@jupyter-widgets/controls",
      "model_module_version": "1.5.0",
      "model_name": "CheckboxModel",
      "state": {
       "description": "Downsampling/Upsampling",
       "disabled": false,
       "layout": "IPY_MODEL_c9f9cd5507994921a16488b925690ec8",
       "style": "IPY_MODEL_e3d4389b65684b879575d18283ac20f2",
       "value": false
      }
     },
     "bd80f1c63a2b4a25900e5e5763317b7a": {
      "model_module": "@jupyter-widgets/controls",
      "model_module_version": "1.5.0",
      "model_name": "DescriptionStyleModel",
      "state": {
       "description_width": ""
      }
     },
     "c1d5efb6eefa4af38df3245d97590b3a": {
      "model_module": "@jupyter-widgets/controls",
      "model_module_version": "1.5.0",
      "model_name": "DescriptionStyleModel",
      "state": {
       "description_width": ""
      }
     },
     "c5267597c945478f959c375f44a4d1a7": {
      "model_module": "@jupyter-widgets/controls",
      "model_module_version": "1.5.0",
      "model_name": "ToggleButtonModel",
      "state": {
       "description": "Stop",
       "layout": "IPY_MODEL_6341affae71049aba97ec2ad0ff9583d",
       "style": "IPY_MODEL_c1d5efb6eefa4af38df3245d97590b3a",
       "value": true
      }
     },
     "c65da4d48410402ca720e41ea2b1a532": {
      "model_module": "@jupyter-widgets/base",
      "model_module_version": "1.2.0",
      "model_name": "LayoutModel",
      "state": {}
     },
     "c8e686b7f1fd41fb950f6c64c28d1e38": {
      "model_module": "@jupyter-widgets/base",
      "model_module_version": "1.2.0",
      "model_name": "LayoutModel",
      "state": {}
     },
     "c9f9cd5507994921a16488b925690ec8": {
      "model_module": "@jupyter-widgets/base",
      "model_module_version": "1.2.0",
      "model_name": "LayoutModel",
      "state": {}
     },
     "ccebf79f7b6b4954afc304a9a913fe0b": {
      "model_module": "@jupyter-widgets/base",
      "model_module_version": "1.2.0",
      "model_name": "LayoutModel",
      "state": {}
     },
     "d58265f7549a4e979a3c65b9bd5d76a5": {
      "model_module": "@jupyter-widgets/controls",
      "model_module_version": "1.5.0",
      "model_name": "ButtonModel",
      "state": {
       "description": "Start",
       "disabled": true,
       "layout": "IPY_MODEL_0b0c58e6c93a41799e09f406dbdefde6",
       "style": "IPY_MODEL_7e5dc995c0d54dc88ffba21751e34fd0"
      }
     },
     "d869cf27021149409370838cc26ee878": {
      "model_module": "@jupyter-widgets/base",
      "model_module_version": "1.2.0",
      "model_name": "LayoutModel",
      "state": {}
     },
     "dc8d5864ac8d4bb38cee8d043d030237": {
      "model_module": "@jupyter-widgets/base",
      "model_module_version": "1.2.0",
      "model_name": "LayoutModel",
      "state": {}
     },
     "de5153ef26c14561bb728c1e74b51aac": {
      "model_module": "@jupyter-widgets/base",
      "model_module_version": "1.2.0",
      "model_name": "LayoutModel",
      "state": {}
     },
     "e2f6054e0fe24c10ac5c95a2b687f1ca": {
      "model_module": "@jupyter-widgets/controls",
      "model_module_version": "1.5.0",
      "model_name": "ButtonModel",
      "state": {
       "description": "Start",
       "layout": "IPY_MODEL_dc8d5864ac8d4bb38cee8d043d030237",
       "style": "IPY_MODEL_6d9b43798e7642019c6888b869c409a7"
      }
     },
     "e35d3e4323234d9287de5cd69a13219c": {
      "model_module": "@jupyter-widgets/controls",
      "model_module_version": "1.5.0",
      "model_name": "ButtonStyleModel",
      "state": {}
     },
     "e3d4389b65684b879575d18283ac20f2": {
      "model_module": "@jupyter-widgets/controls",
      "model_module_version": "1.5.0",
      "model_name": "DescriptionStyleModel",
      "state": {
       "description_width": ""
      }
     },
     "e3db17127dba4e609008d860b5cf05c5": {
      "model_module": "@jupyter-widgets/controls",
      "model_module_version": "1.5.0",
      "model_name": "CheckboxModel",
      "state": {
       "description": "LP Filters",
       "disabled": false,
       "layout": "IPY_MODEL_3276b4539f7144b6a21869875e9c4914",
       "style": "IPY_MODEL_fbee3d37ce574d8da66ca40eea646dfc",
       "value": false
      }
     },
     "e8e1025d1bb44a08a500c0d3b8718796": {
      "model_module": "@jupyter-widgets/controls",
      "model_module_version": "1.5.0",
      "model_name": "ButtonModel",
      "state": {
       "description": "Start",
       "layout": "IPY_MODEL_0b3040b1b58e4b53a4509d1a39fd031d",
       "style": "IPY_MODEL_e35d3e4323234d9287de5cd69a13219c"
      }
     },
     "f3b755ac64314b4c901f9ecb32965fd6": {
      "model_module": "@jupyter-widgets/base",
      "model_module_version": "1.2.0",
      "model_name": "LayoutModel",
      "state": {}
     },
     "f61da7386157426ca81a202ffe23e162": {
      "model_module": "@jupyter-widgets/controls",
      "model_module_version": "1.5.0",
      "model_name": "ButtonModel",
      "state": {
       "description": "Start",
       "disabled": true,
       "layout": "IPY_MODEL_f3b755ac64314b4c901f9ecb32965fd6",
       "style": "IPY_MODEL_86fd6e4196864369a5e361e09e227412"
      }
     },
     "f9ed9f912ac848a1a61cccea6d4c20c3": {
      "model_module": "@jupyter-widgets/controls",
      "model_module_version": "1.5.0",
      "model_name": "DescriptionStyleModel",
      "state": {
       "description_width": ""
      }
     },
     "fb8ae2a4374c451eb7d78b16edcca16a": {
      "model_module": "@jupyter-widgets/controls",
      "model_module_version": "1.5.0",
      "model_name": "ToggleButtonModel",
      "state": {
       "description": "Stop",
       "layout": "IPY_MODEL_aba427d2152e4e5b95f68cd5fa6b869a",
       "style": "IPY_MODEL_435a7872da0d4c41be05e35d3d9570aa"
      }
     },
     "fbee3d37ce574d8da66ca40eea646dfc": {
      "model_module": "@jupyter-widgets/controls",
      "model_module_version": "1.5.0",
      "model_name": "DescriptionStyleModel",
      "state": {
       "description_width": ""
      }
     }
    },
    "version_major": 2,
    "version_minor": 0
   }
  }
 },
 "nbformat": 4,
 "nbformat_minor": 2
}

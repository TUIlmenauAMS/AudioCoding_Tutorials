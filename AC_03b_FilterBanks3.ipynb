{
  "cells": [
    {
      "cell_type": "markdown",
      "metadata": {
        "id": "sLQU8Pa7F82Y"
      },
      "source": [
        "<center>\n",
        "    <img src=\"https://raw.githubusercontent.com/TUIlmenauAMS/AudioCoding_Tutorials/main/images/ac_header.png\">\n",
        "</center>\n",
        "\n",
        "### <a target=\"_blank\" rel=\"noopener noreferrer\" href=\"https://www.tu-ilmenau.de/mt-ams/personen/schuller-gerald/\">Prof. Dr. -Ing. Gerald Schuller</a> <br> <a target=\"_blank\" rel=\"noopener noreferrer\" href=\"https://www.tu-ilmenau.de/mt-ams/lehre/msp-and-adsp-tutorials/\">Jupyter Notebook: Renato Profeta</a>\n",
        "\n",
        "[Applied Media Systems Group](https://www.tu-ilmenau.de/en/applied-media-systems-group/) <br>\n",
        "[Technische Universität Ilmenau](https://www.tu-ilmenau.de/)"
      ]
    },
    {
      "cell_type": "markdown",
      "metadata": {
        "id": "7GNOqVWjF82c"
      },
      "source": [
        "# Filter Banks III"
      ]
    },
    {
      "cell_type": "code",
      "execution_count": null,
      "metadata": {
        "hide_input": true,
        "id": "nNLy84iBF82c",
        "outputId": "222097b2-c61b-4e6c-cc93-91a89dfad501"
      },
      "outputs": [
        {
          "data": {
            "text/html": [
              "<iframe width=\"560\" height=\"315\" src=\"https://www.youtube.com/embed/eLHqX6qZcX4?rel=0\" frameborder=\"0\" allow=\"accelerometer; encrypted-media; gyroscope; picture-in-picture\" allowfullscreen></iframe>\n"
            ],
            "text/plain": [
              "<IPython.core.display.HTML object>"
            ]
          },
          "metadata": {},
          "output_type": "display_data"
        }
      ],
      "source": [
        "%%html\n",
        "<iframe width=\"560\" height=\"315\" src=\"https://www.youtube.com/embed/eLHqX6qZcX4?rel=0\" frameborder=\"0\" allow=\"accelerometer; encrypted-media; gyroscope; picture-in-picture\" allowfullscreen></iframe>"
      ]
    },
    {
      "cell_type": "markdown",
      "metadata": {
        "hide_input": false,
        "scrolled": true,
        "id": "f11DJqFUF82h"
      },
      "source": [
        "## Block Switching"
      ]
    },
    {
      "cell_type": "code",
      "execution_count": null,
      "metadata": {
        "hide_input": true,
        "id": "GdPEAYliF82h",
        "outputId": "6549bcbc-b4cc-4736-dc9f-e0c469cd3319"
      },
      "outputs": [
        {
          "name": "stdout",
          "output_type": "stream",
          "text": [
            "https://onlinelibrary.wiley.com/doi/book/10.1002/0470041978\n"
          ]
        },
        {
          "data": {
            "text/html": [
              "\n",
              "        <iframe\n",
              "            width=\"900\"\n",
              "            height=\"400\"\n",
              "            src=\"https://ieeexplore.ieee.org/book/8039676\"\n",
              "            frameborder=\"0\"\n",
              "            allowfullscreen\n",
              "        ></iframe>\n",
              "        "
            ],
            "text/plain": [
              "<IPython.lib.display.IFrame at 0x2bcb13a32c8>"
            ]
          },
          "execution_count": 15,
          "metadata": {},
          "output_type": "execute_result"
        }
      ],
      "source": [
        "from IPython.display import IFrame\n",
        "print('https://onlinelibrary.wiley.com/doi/book/10.1002/0470041978')\n",
        "IFrame('https://ieeexplore.ieee.org/book/8039676', width=900, height=400)\n"
      ]
    },
    {
      "cell_type": "markdown",
      "metadata": {
        "hide_input": false,
        "id": "gB-HI_KZF82i"
      },
      "source": [
        " - **Problem:** In audio coding, Pre-echoes appear before transients.\n",
        "     - reason: blocks too long.\n",
        "\n",
        "<center>\n",
        "    <img src=https://raw.githubusercontent.com/TUIlmenauAMS/AudioCoding_Tutorials/main/images/ac_46_blockSwit.png width='900'>\n",
        "</center>\n",
        "\n",
        " - **Approach:** for fast changing signals use block switching to lower number of subbands.\n",
        "\n",
        "<center>\n",
        "    <img src=https://raw.githubusercontent.com/TUIlmenauAMS/AudioCoding_Tutorials/main/images/ac_47_blockSwit2.png width='900'>\n",
        "</center>"
      ]
    },
    {
      "cell_type": "markdown",
      "metadata": {
        "id": "WYBjZiI6F82i"
      },
      "source": [
        "### Accomodate Overlap-Add for Block Switching"
      ]
    },
    {
      "cell_type": "markdown",
      "metadata": {
        "hide_input": false,
        "id": "yReWU_CyF82i"
      },
      "source": [
        "<center>\n",
        "    <img src=https://raw.githubusercontent.com/TUIlmenauAMS/AudioCoding_Tutorials/main/images/ac_48_blockSwit3.png width='700'>\n",
        "</center>\n",
        "<br>\n",
        "<center>\n",
        "    <img src=https://raw.githubusercontent.com/TUIlmenauAMS/AudioCoding_Tutorials/main/images/ac_49_blockSwit4.png width='700'>\n",
        "</center>\n"
      ]
    },
    {
      "cell_type": "markdown",
      "metadata": {
        "id": "CRQ_EXXMF82j"
      },
      "source": [
        "### Block Switching"
      ]
    },
    {
      "cell_type": "markdown",
      "metadata": {
        "hide_input": false,
        "id": "Oa3aM1g-F82j"
      },
      "source": [
        " - Sequence of windows for switching the number of sub-bands.\n",
        " - Shorter windows $\\rightarrow$ better resolution.\n",
        "\n",
        "<center>\n",
        "    <img src=https://raw.githubusercontent.com/TUIlmenauAMS/AudioCoding_Tutorials/main/images/ac_50_blockSwit5.png width='700'>\n",
        "</center>\n"
      ]
    },
    {
      "cell_type": "code",
      "execution_count": null,
      "metadata": {
        "hide_input": true,
        "id": "isFeHmpSF82j",
        "outputId": "c3a3f451-163c-4d37-e41f-1eeec8e9e37b"
      },
      "outputs": [
        {
          "data": {
            "text/html": [
              "\n",
              "        <iframe\n",
              "            width=\"900\"\n",
              "            height=\"400\"\n",
              "            src=\"https://ccrma.stanford.edu/~pdelac/422/project/report.html\"\n",
              "            frameborder=\"0\"\n",
              "            allowfullscreen\n",
              "        ></iframe>\n",
              "        "
            ],
            "text/plain": [
              "<IPython.lib.display.IFrame at 0x2bcb20d7ec8>"
            ]
          },
          "execution_count": 16,
          "metadata": {},
          "output_type": "execute_result"
        }
      ],
      "source": [
        "IFrame(\"https://ccrma.stanford.edu/~pdelac/422/project/report.html\",width=900, height=400)"
      ]
    },
    {
      "cell_type": "markdown",
      "metadata": {
        "id": "U0Ap4ryoF82k"
      },
      "source": [
        "## Wavelets, QMF (Quadradutre Mirror Filter) Filter Banks"
      ]
    },
    {
      "cell_type": "code",
      "execution_count": null,
      "metadata": {
        "hide_input": true,
        "id": "uhhU2QxPF82k",
        "outputId": "57a93857-68c3-44da-d7fb-32b85927ecf2"
      },
      "outputs": [
        {
          "data": {
            "text/html": [
              "<iframe width=\"560\" height=\"315\" src=\"https://www.youtube.com/embed/gRdIhI04wt8?rel=0\" frameborder=\"0\" allow=\"accelerometer; encrypted-media; gyroscope; picture-in-picture\" allowfullscreen></iframe>\n"
            ],
            "text/plain": [
              "<IPython.core.display.HTML object>"
            ]
          },
          "metadata": {},
          "output_type": "display_data"
        }
      ],
      "source": [
        "%%html\n",
        "<iframe width=\"560\" height=\"315\" src=\"https://www.youtube.com/embed/gRdIhI04wt8?rel=0\" frameborder=\"0\" allow=\"accelerometer; encrypted-media; gyroscope; picture-in-picture\" allowfullscreen></iframe>"
      ]
    },
    {
      "cell_type": "markdown",
      "metadata": {
        "hide_input": false,
        "id": "szGTPcQgF82k"
      },
      "source": [
        " - Iterate 2-band system.\n",
        " - See also: Wavelet Packets (more general)\n",
        " - **Problem:** Aliasing propagation reduces frequency selectivity!\n",
        " - Important in image coding, but no big role in Audio Coding.\n",
        "\n",
        "<center>\n",
        "    <img src='https://github.com/TUIlmenauAMS/AudioCoding_Tutorials/blob/master/images/ac_51_qmf.png?raw=1' width='700'>\n",
        "</center>\n"
      ]
    },
    {
      "cell_type": "markdown",
      "metadata": {
        "id": "1ArvCd5xF82k"
      },
      "source": [
        "### How to Obtain a Two Band Filter Bank"
      ]
    },
    {
      "cell_type": "markdown",
      "metadata": {
        "id": "rplw4u8GF82l"
      },
      "source": [
        " - Application: QMF filter banks, Wavelets, ...\n",
        " - Analysis polyphase for a 2-band filter bank:\n",
        "\n",
        " $$\\large\n",
        " H(z)=\n",
        " \\begin{bmatrix}\n",
        " H_{0,0}(z) & H_{0,1}(z) \\\\\n",
        " H_{1,0}(z) & H_{1,1}(z)\n",
        " \\end{bmatrix}\n",
        " $$\n",
        " <br>\n",
        " - **Observe:** $H_{0,0}(z)$ contains the even coefficients of the low pass filter, and $H_{1,0}(z)$ its odd coefficients.\n",
        " - Accordingly for the high pass filter.\n",
        " - Given the analysis filters, the synthesis filters can be obtained by inverting the analysis polyphase matrix:\n",
        "\n",
        " $$\\large\n",
        " H^{-1}(z) = \\dfrac{1}{Det(H(z))}\n",
        " \\begin{bmatrix}\n",
        " H_{1,1}(z) & -H_{0,1}(z) \\\\\n",
        " -H_{1,0}(z) & H_{0,0}(z)\n",
        " \\end{bmatrix}\n",
        " $$\n",
        " <br>\n",
        "\n",
        " - **Observe:** If the analysis filters have a finite impulse response (FIR), and the synthesis is desired to also be FIR, the **determinant** of the polyphase matrix needs to be a **constant or a delay**!\n",
        "\n",
        " $$\\large\n",
        " det(H(z)) = H_{1,1}(z)H_{0,0}(z)-H_{0,1}(z)H_{1,0}(z)  \\\\ = \\text{const or delay}$$\n",
        " <br>\n",
        " - **Observe:** This is the output of the lower band of the filter bank if the input signal is:\n",
        "\n",
        " $$\\large\n",
        " x(z) = \\left \\lfloor H_{1,1}(z), -H_{0,1} \\right \\rfloor $$\n",
        "\n",
        " - Hence the determinant can be formulated as a **convolution**.\n",
        " - This input is the high band filter coefficients, with the sign of the even coefficients flipped and switched places with the odd coefficients.\n",
        " - Since this represents a critically sampled filter bank, the result represents **every second sample** of the convolution of the low band filter with the correspondingly modified high band filter.\n",
        " - This modified high band filter is a low band filter (every second sample sign flipped).\n",
        " - The desired output of this downsampled convolution is a single pulse (corresponding to a constant or a delay), hence flat in frequency.\n",
        " - Another interpretation: correlation of the 2 signals, where the even lags that appear after downsampling are zero, except for the one pulse."
      ]
    },
    {
      "cell_type": "markdown",
      "metadata": {
        "hide_input": false,
        "id": "3OYelFV4F82l"
      },
      "source": [
        "## QMF (Quadrature Mirror Filter)"
      ]
    },
    {
      "cell_type": "markdown",
      "metadata": {
        "id": "0-WsMfkLF82l"
      },
      "source": [
        " - This suggests a simple design strategy:\n",
        "     - Design a low pass filter for analysis and synthesis.\n",
        "     - Obtain the high pass filters by flipping the low pass filters every second coefficient.\n",
        "     \n",
        "$$\\begin{array}\n",
        "\\text{analysis FB:} & h_1(n)=(-1)^nh_0(n) & n=0,1,...,N-1 \\\\\n",
        "\\text{synth. low pass:} & g_0(n)=h_0(n) & \\\\\n",
        "\\text{synth. FB high pass:} & g_1(n)=-h_1(n) &\n",
        "\\end{array}$$\n",
        "\n",
        " - This is an early two band filter bank: QMF, Quadrature Mirror Filter (Croisier, Esteban, Galand, 1976)\n",
        " - For more than 2 bands: GQMF (Cox, 1986), PQMF\n",
        "\n",
        " - Sign flipping to obtain the high band filter leads to the polyphase components:\n",
        " <br>\n",
        "$$\\large\n",
        "H_{0,1}(z) = H_{0,0}(z) \\\\\n",
        "\\large\n",
        "H_{1,1}(z) = -H_{1,0}(z)\n",
        "$$<br>\n",
        "\n",
        " - The resulting determinant is:\n",
        "\n",
        "$$\\large\n",
        "det(H(z))=H_{1,1}(z)H_{0,0}(z)-H_{0,1}(z)H_{1,0}(z) \\\\\n",
        "\\large\n",
        "=-2H_{0,1}(z)H_{0,0}(z)$$\n",
        "\n",
        " - **Observe:** This cannot be made a constant or delay for finite polynomials of order 1 or greater, hence no PR for finite length filters!\n",
        " - The QMF accounts for the sign flipping in the determinant equation.\n",
        " - But not for the trading places of even and odd coefficients.\n",
        " - Hence: **No Perfect Reconstruction** (only for simple Haar and IIR filters)\n",
        " - High stopband attenuation needed to keep reconstruction error small.\n",
        " - Numerical optimization to obtain:\n",
        "\n",
        "  $$\\large\n",
        " \\left |H_0\\left(e^{j\\omega}\\right)\\right |^2 + \\left |H_1\\left(e^{j\\omega}\\right)\\right |^2 \\approx 1$$\n",
        " <br>\n",
        " <center>\n",
        "    <img src=https://raw.githubusercontent.com/TUIlmenauAMS/AudioCoding_Tutorials/main/images/ac_52_qmf2.png width='600'>\n",
        "</center>\n",
        "\n",
        " <center>\n",
        "    <img src=https://raw.githubusercontent.com/TUIlmenauAMS/AudioCoding_Tutorials/main/images/ac_53_qmf3.png width='500'>\n",
        "</center>\n",
        "\n",
        " - QMF: Example with Impulse Response of Length 96\n",
        " <br>\n",
        "\n",
        " <center>\n",
        "    <img src=https://raw.githubusercontent.com/TUIlmenauAMS/AudioCoding_Tutorials/main/images/ac_54_qmf4.png width='800'>\n",
        "</center>"
      ]
    },
    {
      "cell_type": "markdown",
      "metadata": {
        "hide_input": false,
        "id": "WUyVgY05F82m"
      },
      "source": [
        "### CQMF: Conjugate QMF"
      ]
    },
    {
      "cell_type": "code",
      "execution_count": null,
      "metadata": {
        "hide_input": true,
        "id": "0-B8GWlXF82m",
        "outputId": "2e8600c3-e4a5-4c46-e176-29ae0db1eebc"
      },
      "outputs": [
        {
          "data": {
            "text/html": [
              "<iframe width=\"560\" height=\"315\" src=\"https://www.youtube.com/embed/UbqhUCgHo4w?rel=0\" frameborder=\"0\" allow=\"accelerometer; encrypted-media; gyroscope; picture-in-picture\" allowfullscreen></iframe>\n"
            ],
            "text/plain": [
              "<IPython.core.display.HTML object>"
            ]
          },
          "metadata": {},
          "output_type": "display_data"
        }
      ],
      "source": [
        "%%html\n",
        "<iframe width=\"560\" height=\"315\" src=\"https://www.youtube.com/embed/UbqhUCgHo4w?rel=0\" frameborder=\"0\" allow=\"accelerometer; encrypted-media; gyroscope; picture-in-picture\" allowfullscreen></iframe>"
      ]
    },
    {
      "cell_type": "markdown",
      "metadata": {
        "hide_input": false,
        "id": "xwx71GcQF82m"
      },
      "source": [
        " - To also accommodate for the trading places of odd and even coefficients, a natural choice is to also reverse the temporal order of the synthesis filter.\n",
        "\n",
        " $$\\large\n",
        " h_1(n) = -n_0(L-1-n)(-1)^n$$\n",
        " <br>\n",
        "     - With L: filter length, and $g_0(n) = h_0(n) \\quad g_1(n) = - h_1(n)$\n",
        "     - Introduced e.g. by Smith, Barnwell, 1984\n",
        " <br>\n",
        "\n",
        "\n",
        " - For the polyphase components this means:\n",
        "\n",
        " $$\\large\n",
        " \\begin{array}{ccc}\n",
        " H_{0,1} & = & -z^{\\frac{L}{2}}H_{0,0}(z^{-1}) \\\\\n",
        " H_{1,1} & = & z^{\\frac{L}{2}}H_{1,0}(z^{-1})\n",
        " \\end{array}$$\n",
        "\n",
        " - And the input for our determinant calculation is:\n",
        "\n",
        " $$\\large\n",
        " x(z) = z^{-\\frac{L}{2}} \\left \\lfloor H_{1,0}(z^{-1}), H_{0,0}(z^{-1}) \\right \\rfloor$$\n",
        " <br>\n",
        " - This corresponds exactly to the time reversed low band filter!\n",
        "\n",
        " - Let's define:\n",
        "\n",
        " $$\\large\n",
        " A(z) = H_{1,0}(z^{-1})H_{0,0}(z) $$\n",
        "\n",
        " - The determinant is now:\n",
        "\n",
        " $$\\large\n",
        " det(H(z)) = H_{1,1}(z)H_{0,0}(z)-H_{0,1}(z)H_{1,0}(z) \\\\\n",
        " \\large\n",
        " = z^{-\\frac{L}{2}} (A(z)+A(z^{-1}))$$<br>\n",
        "     - **Observe:** This can be a constant if all even coefficients of A(z) are zero, except for the center coefficient!\n",
        "     - **Remember:** the determinant was the output of the low band with this input.\n",
        "     - Hence: Every second sample of the convolution of the low band filter with its time reversed version.\n",
        "     - This is equal to **every second value** of the **autocorrelation** function of the l**ow band filter**!\n",
        "     - Determinant is a constant or a delay: only one sample of this downsampled autocorrelation function (all even coefficients) can be unequal zero (most even coefficients are zero).\n",
        "     - The Determinant is a constant means:\n",
        "         - The 0th autocorrelation coefficient is a constant (unequal 0), and all other even coefficients must be zero.\n",
        "         - Called Nyquist filter property.\n",
        "\n",
        "\n",
        " - In other terms: Define P(z) as the z-transform of this autocorrelation function, the **Power Spectrum**:\n",
        "\n",
        " $$\\large\n",
        " P(z) := H_0(z) \\cdot H_0(z^{-1})$$\n",
        "\n",
        " - Then all nonzero coefficients of P(z) are the 0th coefficient and the odd coefficients.\n",
        " - As a result:\n",
        "\n",
        " $$\\large\n",
        " P(z) + P(-z) = const$$\n",
        "\n",
        "     - The odd coefficients cancel.\n",
        "     - Frequency reversal $\\rightarrow$ (P(-z))\n",
        "     - This is also called the halfband filter property.\n",
        "     \n",
        "     \n",
        " - Design approach: Design P(z) accordingly, then H(z)"
      ]
    },
    {
      "cell_type": "markdown",
      "metadata": {
        "id": "5l3-4-w-F82n"
      },
      "source": [
        "## Pseudo-QMF (PQMF)"
      ]
    },
    {
      "cell_type": "code",
      "execution_count": null,
      "metadata": {
        "hide_input": true,
        "id": "RFR_kIjaF82n",
        "outputId": "e147dcb4-5c9b-468a-eeb9-9c6e86ff58df"
      },
      "outputs": [
        {
          "data": {
            "text/html": [
              "<iframe width=\"560\" height=\"315\" src=\"https://www.youtube.com/embed/q8aMPpb1YHI?rel=0\" frameborder=\"0\" allow=\"accelerometer; encrypted-media; gyroscope; picture-in-picture\" allowfullscreen></iframe>\n"
            ],
            "text/plain": [
              "<IPython.core.display.HTML object>"
            ]
          },
          "metadata": {},
          "output_type": "display_data"
        }
      ],
      "source": [
        "%%html\n",
        "<iframe width=\"560\" height=\"315\" src=\"https://www.youtube.com/embed/q8aMPpb1YHI?rel=0\" frameborder=\"0\" allow=\"accelerometer; encrypted-media; gyroscope; picture-in-picture\" allowfullscreen></iframe>"
      ]
    },
    {
      "cell_type": "markdown",
      "metadata": {
        "scrolled": true,
        "id": "HkkEQp4bF82n"
      },
      "source": [
        " - So far we only had 2 subband QMF filter banks.\n",
        " - Only for the 2-band case we get perfect reconstruction (in the CQMF case).\n",
        " - The PQMF extents the QMF approach to N>2 subbands.\n",
        " - But it has only \"Near Perfect Reconstruction\", meaning a reconstruction error by the filter bank.\n",
        " - It is modulated filter band (like the MDCT), using a baseband prototype filter h(n) (a lowpass).\n",
        " - Its analysis filters are given by the impulse responses (L being the length of the impulse response):\n",
        "\n",
        " $$\\large\n",
        " H_k(n) = h(n) \\cos \\left( \\dfrac{\\pi}{N} \\cdot (k+0.5)(n+0.5-\\dfrac{L}{2}+(-1)^k\\dfrac{\\pi}{4} \\right)$$\n",
        "\n",
        " - It is an (almost) **orthogonal filter bank**, which means that the synthesis filter impulse responses are simply the time inverses of the analysis impulse responses:\n",
        "\n",
        " $$\\large\n",
        " g_k(n)=h_k(n)(L-1-n)$$\n",
        "\n",
        " - Its baseband prototype filters h(n) are now designed such that aliasing cancels between adjacent neighbouring bands:\n",
        "\n",
        " $$\\large\n",
        " \\left| H(e^{j\\Omega}) \\right|^2 + \\left| H \\left(e^{j\\left(\\frac{\\pi}{N}-\\Omega\\right)}\\right) \\right|^2 = 1 \\\\\n",
        " \\large\n",
        " \\text{for } 0 < |\\Omega| < \\frac{\\pi}{2N}\n",
        " $$\n",
        "\n",
        " - Beyond the adjacent bands, the attenuation should go towards infinity:\n",
        "\n",
        " $$\\large\n",
        " \\left| H(e^{j\\Omega}) \\right|^2 = 0, \\text{for } |\\Omega| > \\frac{\\pi}{N}$$\n",
        "\n",
        "\n",
        " - This leads to **\"Near Perfect Reconstruction\"** (there is a **reconstruction error**).\n",
        " - The PQMF filter bank is used in MPEG1/2 Layer I,II and III. There it has N=32 subbands and filter length L=512.\n",
        " - Also used in MPEG 4 for so-called SBR (Spectral Band Replication) and for parametric sourround coding. There it has N=32 or N=64 subbands, and filter length L=320 or L=640."
      ]
    },
    {
      "cell_type": "markdown",
      "metadata": {
        "scrolled": false,
        "id": "H_f3MSorF82n"
      },
      "source": [
        "### PQMF used in MPEG4"
      ]
    },
    {
      "cell_type": "markdown",
      "metadata": {
        "id": "YBvCrrrQF82o"
      },
      "source": [
        " - Impulse response of the baseband prototype (the window), with N=64 and L=640\n",
        "\n",
        "<br>\n",
        "<center>\n",
        "    <img src=https://raw.githubusercontent.com/TUIlmenauAMS/AudioCoding_Tutorials/main/images/ac_55_pqmf1.png width='600'>\n",
        "</center>\n",
        "<br>\n",
        "\n",
        " - Frequency response of the baseband prototype (the window)\n",
        "\n",
        "<br>\n",
        "<center>\n",
        "    <img src=https://raw.githubusercontent.com/TUIlmenauAMS/AudioCoding_Tutorials/main/images/ac_56_pqmf2.png width='600'>\n",
        "</center>\n",
        "<br>"
      ]
    }
  ],
  "metadata": {
    "kernelspec": {
      "display_name": "Python 3",
      "language": "python",
      "name": "python3"
    },
    "language_info": {
      "codemirror_mode": {
        "name": "ipython",
        "version": 3
      },
      "file_extension": ".py",
      "mimetype": "text/x-python",
      "name": "python",
      "nbconvert_exporter": "python",
      "pygments_lexer": "ipython3",
      "version": "3.7.8"
    },
    "livereveal": {
      "rise": {
        "height": "90%",
        "width": "90%"
      },
      "scroll": true,
      "theme": "beige",
      "transition": "zoom"
    },
    "colab": {
      "provenance": []
    }
  },
  "nbformat": 4,
  "nbformat_minor": 0
}
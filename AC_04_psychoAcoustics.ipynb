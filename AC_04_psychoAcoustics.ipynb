{
  "cells": [
    {
      "cell_type": "markdown",
      "metadata": {
        "id": "QUS6HvQhIc0P"
      },
      "source": [
        "<center>\n",
        "    <img src=\"https://raw.githubusercontent.com/TUIlmenauAMS/AudioCoding_Tutorials/main/images/ac_header.png\">\n",
        "</center>\n",
        "\n",
        "### <a target=\"_blank\" rel=\"noopener noreferrer\" href=\"https://www.tu-ilmenau.de/mt-ams/personen/schuller-gerald/\">Prof. Dr. -Ing. Gerald Schuller</a> <br> <a target=\"_blank\" rel=\"noopener noreferrer\" href=\"https://www.tu-ilmenau.de/mt-ams/lehre/msp-and-adsp-tutorials/\">Jupyter Notebook: Renato Profeta</a>\n",
        "\n",
        "[Applied Media Systems Group](https://www.tu-ilmenau.de/en/applied-media-systems-group/) <br>\n",
        "[Technische Universität Ilmenau](https://www.tu-ilmenau.de/)"
      ]
    },
    {
      "cell_type": "markdown",
      "metadata": {
        "id": "VLt8qyCYIc0Q"
      },
      "source": [
        "# Psychoacoustics"
      ]
    },
    {
      "cell_type": "code",
      "execution_count": null,
      "metadata": {
        "hide_input": true,
        "id": "krGo3N7hIc0Q",
        "outputId": "7fc2fe22-6015-4c34-c639-45bc20cdb8e9"
      },
      "outputs": [
        {
          "data": {
            "text/html": [
              "<iframe width=\"560\" height=\"315\" src=\"https://www.youtube.com/embed/Dp9NhFShaPM?rel=0\" frameborder=\"0\" allow=\"accelerometer; encrypted-media; gyroscope; picture-in-picture\" allowfullscreen></iframe>\n"
            ],
            "text/plain": [
              "<IPython.core.display.HTML object>"
            ]
          },
          "metadata": {},
          "output_type": "display_data"
        }
      ],
      "source": [
        "%%html\n",
        "<iframe width=\"560\" height=\"315\" src=\"https://www.youtube.com/embed/Dp9NhFShaPM?rel=0\" frameborder=\"0\" allow=\"accelerometer; encrypted-media; gyroscope; picture-in-picture\" allowfullscreen></iframe>"
      ]
    },
    {
      "cell_type": "markdown",
      "metadata": {
        "id": "fRHMrcw-Ic0R"
      },
      "source": [
        "## Block Diagram of a Perceptual Audio Encoder"
      ]
    },
    {
      "cell_type": "markdown",
      "metadata": {
        "hide_input": false,
        "id": "i9b6i7_lIc0R"
      },
      "source": [
        "<center>\n",
        "    <img src='https://raw.githubusercontent.com/TUIlmenauAMS/AudioCoding_Tutorials/main/images/ac_04_01_psycho1.png' width='900'>\n",
        "</center>"
      ]
    },
    {
      "cell_type": "markdown",
      "metadata": {
        "hide_input": false,
        "scrolled": true,
        "id": "OwPlH6-jIc0R"
      },
      "source": [
        "## Structure of the Human Ear"
      ]
    },
    {
      "cell_type": "code",
      "execution_count": null,
      "metadata": {
        "hide_input": true,
        "id": "DK1M2NGvIc0R",
        "outputId": "5b517beb-7d68-402a-abc9-0b01fa9653d7"
      },
      "outputs": [
        {
          "data": {
            "text/html": [
              "<iframe width=\"560\" height=\"315\" src=\"https://www.youtube.com/embed/BcVFpv1sczg?rel=0\" frameborder=\"0\" allow=\"accelerometer; encrypted-media; gyroscope; picture-in-picture\" allowfullscreen></iframe>\n"
            ],
            "text/plain": [
              "<IPython.core.display.HTML object>"
            ]
          },
          "metadata": {},
          "output_type": "display_data"
        }
      ],
      "source": [
        "%%html\n",
        "<iframe width=\"560\" height=\"315\" src=\"https://www.youtube.com/embed/BcVFpv1sczg?rel=0\" frameborder=\"0\" allow=\"accelerometer; encrypted-media; gyroscope; picture-in-picture\" allowfullscreen></iframe>"
      ]
    },
    {
      "cell_type": "markdown",
      "metadata": {
        "hide_input": false,
        "id": "oFjgkZkRIc0R"
      },
      "source": [
        "<center>\n",
        "    <img src='https://raw.githubusercontent.com/TUIlmenauAMS/AudioCoding_Tutorials/main/images/ac_04_02_structureEar.png' width='900'>\n",
        "    <cite>Quelle: Ars Auditus; http://www.dasp.uni-wuppertal.de/index.php?id=57, 2010</cite>\n",
        "</center>\n",
        "\n",
        " - eardrum – transforms sound wave into vibrations\n",
        " - ossicular bones - transfer the mechanical vibrations to the cochlea\n",
        " - cochlear structure - induces traveling waves along the length of the basilar membrane\n",
        " - neural receptors - connected along the length of the basilar membrane\n",
        "     - convert these traveling into chemical and electrical signals"
      ]
    },
    {
      "cell_type": "markdown",
      "metadata": {
        "id": "DW0mVrhiIc0R"
      },
      "source": [
        "### Cochlea"
      ]
    },
    {
      "cell_type": "markdown",
      "metadata": {
        "id": "c_q0JloGIc0R"
      },
      "source": [
        "<center>\n",
        "    <img src='https://raw.githubusercontent.com/TUIlmenauAMS/AudioCoding_Tutorials/main/images/ac_04_03_cochlea.png' width='500'>\n",
        "</center>\n",
        "\n",
        " - cochlea of a 5 month old fetus:\n",
        "     - spiral-shaped, fluid-filled structure\n",
        "     - contains the coiled basilar membrane\n",
        " - blue arrow $\\rightarrow$ oval window\n",
        " - yellos arrow $\\rightarrow$ round window\n",
        "\n",
        " <center>\n",
        "    <img src='https://raw.githubusercontent.com/TUIlmenauAMS/AudioCoding_Tutorials/main/images/ac_04_04_cochlea2.png' width='600'>\n",
        "</center>"
      ]
    },
    {
      "cell_type": "markdown",
      "metadata": {
        "id": "jWHcIUPJIc0R"
      },
      "source": [
        "### Organ of Corti"
      ]
    },
    {
      "cell_type": "markdown",
      "metadata": {
        "id": "mLYC1LbZIc0S"
      },
      "source": [
        " <center>\n",
        "    <img src='https://raw.githubusercontent.com/TUIlmenauAMS/AudioCoding_Tutorials/main/images/ac_04_05_corti.png' width='600'>\n",
        "</center>\n",
        "\n",
        " - organ of corti of a guinea pig\n",
        " - white bar = 20 μm\n",
        "\n",
        " - $\\approx$ 3500 IHC and $\\approx$ 12000 OHC at humans.\n",
        " - hair cells convert fluid motion into electrical impulses in auditory nerve."
      ]
    },
    {
      "cell_type": "code",
      "execution_count": null,
      "metadata": {
        "hide_input": true,
        "id": "U2LG-K_zIc0S",
        "outputId": "f5e4e0aa-9786-4219-cdc5-5ef4f9aac604"
      },
      "outputs": [
        {
          "name": "stdout",
          "output_type": "stream",
          "text": [
            "https://acoustics.org/pressroom/httpdocs/146th/mountain.htm\n"
          ]
        },
        {
          "data": {
            "text/html": [
              "\n",
              "        <iframe\n",
              "            width=\"900\"\n",
              "            height=\"600\"\n",
              "            src=\"https://acoustics.org/pressroom/httpdocs/146th/mountain.htm\"\n",
              "            frameborder=\"0\"\n",
              "            allowfullscreen\n",
              "        ></iframe>\n",
              "        "
            ],
            "text/plain": [
              "<IPython.lib.display.IFrame at 0x11d67e1be08>"
            ]
          },
          "execution_count": 3,
          "metadata": {},
          "output_type": "execute_result"
        }
      ],
      "source": [
        "from IPython.display import IFrame\n",
        "print('https://acoustics.org/pressroom/httpdocs/146th/mountain.htm')\n",
        "IFrame('https://acoustics.org/pressroom/httpdocs/146th/mountain.htm', width=900, height=600)\n"
      ]
    },
    {
      "cell_type": "code",
      "execution_count": null,
      "metadata": {
        "hide_input": true,
        "id": "dw2fLW6pIc0S",
        "outputId": "80b7c79d-9c09-4ce2-e217-de2a633342c1"
      },
      "outputs": [
        {
          "name": "stdout",
          "output_type": "stream",
          "text": [
            "http://147.162.36.50/cochlea/cochleapages/overview/history.htm\n"
          ]
        },
        {
          "data": {
            "text/html": [
              "\n",
              "        <iframe\n",
              "            width=\"900\"\n",
              "            height=\"600\"\n",
              "            src=\"http://147.162.36.50/cochlea/cochleapages/overview/history.htm\"\n",
              "            frameborder=\"0\"\n",
              "            allowfullscreen\n",
              "        ></iframe>\n",
              "        "
            ],
            "text/plain": [
              "<IPython.lib.display.IFrame at 0x11d67e53188>"
            ]
          },
          "execution_count": 4,
          "metadata": {},
          "output_type": "execute_result"
        }
      ],
      "source": [
        "from IPython.display import IFrame\n",
        "print('http://147.162.36.50/cochlea/cochleapages/overview/history.htm')\n",
        "IFrame('http://147.162.36.50/cochlea/cochleapages/overview/history.htm', width=900, height=600)"
      ]
    },
    {
      "cell_type": "code",
      "execution_count": null,
      "metadata": {
        "hide_input": true,
        "id": "3riaab5PIc0S",
        "outputId": "718e6420-c35e-403d-86b6-510ec897fc7f"
      },
      "outputs": [
        {
          "data": {
            "text/html": [
              "<iframe width=\"560\" height=\"315\" src=\"https://www.youtube.com/embed/eQEaiZ2j9oc?rel=0\" frameborder=\"0\" allow=\"accelerometer; encrypted-media; gyroscope; picture-in-picture\" allowfullscreen></iframe>\n"
            ],
            "text/plain": [
              "<IPython.core.display.HTML object>"
            ]
          },
          "metadata": {},
          "output_type": "display_data"
        }
      ],
      "source": [
        "%%html\n",
        "<iframe width=\"560\" height=\"315\" src=\"https://www.youtube.com/embed/eQEaiZ2j9oc?rel=0\" frameborder=\"0\" allow=\"accelerometer; encrypted-media; gyroscope; picture-in-picture\" allowfullscreen></iframe>"
      ]
    },
    {
      "cell_type": "markdown",
      "metadata": {
        "id": "n_1h_ChPIc0S"
      },
      "source": [
        "## Preprocessing of Sound in the Peripheral System"
      ]
    },
    {
      "cell_type": "code",
      "execution_count": null,
      "metadata": {
        "hide_input": true,
        "id": "9AK714dpIc0S",
        "outputId": "f75e27cb-1c3e-4c45-d8a2-8308a8157993"
      },
      "outputs": [
        {
          "data": {
            "text/html": [
              "<iframe width=\"560\" height=\"315\" src=\"https://www.youtube.com/embed/tj069m7BUf0?rel=0\" frameborder=\"0\" allow=\"accelerometer; clipboard-write; encrypted-media; gyroscope; picture-in-picture\" allowfullscreen></iframe>\n"
            ],
            "text/plain": [
              "<IPython.core.display.HTML object>"
            ]
          },
          "metadata": {},
          "output_type": "display_data"
        }
      ],
      "source": [
        "%%html\n",
        "<iframe width=\"560\" height=\"315\" src=\"https://www.youtube.com/embed/tj069m7BUf0?rel=0\" frameborder=\"0\" allow=\"accelerometer; clipboard-write; encrypted-media; gyroscope; picture-in-picture\" allowfullscreen></iframe>"
      ]
    },
    {
      "cell_type": "markdown",
      "metadata": {
        "hide_input": false,
        "id": "Cv3mjM_GIc0S"
      },
      "source": [
        " - frequency selectivity of the basilar membrane\n",
        " <center>\n",
        "    <br>\n",
        "    <img src='https://github.com/TUIlmenauAMS/AudioCoding_Tutorials/blob/master/images/ac_04_08_basilarMembrane.png?raw=1' width='600'>\n",
        "    <cite>Source: http://cochlearimplanthelp.com/journey/choosing-a-cochlear-implant/electrodes-and-channels/</cite>\n",
        "    <br>\n",
        "</center>\n",
        "<br>\n",
        " - traveling wave envelopes occur in response to an acoustic tone complex containing e.g. sinusoids of 400 Hz, 1600 Hz and 6400 Hz\n",
        " - peak responses for each sinusoid are localized along the membrane surface, with each peak occurring at a particular distance from the oval window (cochlear \"input\")\n",
        "<center>\n",
        "    <br>\n",
        "    <img src='https://github.com/TUIlmenauAMS/AudioCoding_Tutorials/blob/master/images/ac_04_06_preprocessing.png?raw=1' width='700'>\n",
        "    <cite>Source: Yuli You \"Audio Coding Theory and Applications\" </cite>\n",
        "    <br>\n",
        "</center>"
      ]
    },
    {
      "cell_type": "markdown",
      "metadata": {
        "id": "OLIwPId9Ic0S"
      },
      "source": [
        "## Information Processing in the Auditory System"
      ]
    },
    {
      "cell_type": "markdown",
      "metadata": {
        "hide_input": false,
        "id": "jB4NDR95Ic0S"
      },
      "source": [
        " - basilar membrane as a filter bank\n",
        " - bank of highly overlapping bandpass filters\n",
        " - the magnitude responses are asymmetric and nonlinear (level dependent)\n",
        " - non-uniform bandwidth, and the bandwidths increase with increasing frequency\n",
        "\n",
        "<center>\n",
        "    <img src='https://github.com/TUIlmenauAMS/AudioCoding_Tutorials/blob/master/images/ac_04_07_preprocessing2.png?raw=1' width='700'>\n",
        "</center>\n"
      ]
    },
    {
      "cell_type": "markdown",
      "metadata": {
        "id": "OW9MRJGYIc0S"
      },
      "source": [
        "## Sound Perception"
      ]
    },
    {
      "cell_type": "markdown",
      "metadata": {
        "hide_input": false,
        "id": "Fcgpd_e3Ic0S"
      },
      "source": [
        "### Frequency and Level Range of Human Hearing"
      ]
    },
    {
      "cell_type": "code",
      "execution_count": null,
      "metadata": {
        "hide_input": true,
        "id": "fbeA2vZOIc0S",
        "outputId": "e6d32a78-f9fb-4eed-90c5-5c703010d3ba"
      },
      "outputs": [
        {
          "data": {
            "text/html": [
              "<iframe width=\"560\" height=\"315\" src=\"https://www.youtube.com/embed/sTGM9FhcNbw?rel=0\" frameborder=\"0\" allow=\"accelerometer; clipboard-write; encrypted-media; gyroscope; picture-in-picture\" allowfullscreen></iframe>\n"
            ],
            "text/plain": [
              "<IPython.core.display.HTML object>"
            ]
          },
          "metadata": {},
          "output_type": "display_data"
        }
      ],
      "source": [
        "%%html\n",
        "<iframe width=\"560\" height=\"315\" src=\"https://www.youtube.com/embed/sTGM9FhcNbw?rel=0\" frameborder=\"0\" allow=\"accelerometer; clipboard-write; encrypted-media; gyroscope; picture-in-picture\" allowfullscreen></iframe>"
      ]
    },
    {
      "cell_type": "markdown",
      "metadata": {
        "hide_input": false,
        "id": "H_R4fOFvIc0S"
      },
      "source": [
        "<center>\n",
        "    <img src='https://github.com/TUIlmenauAMS/AudioCoding_Tutorials/blob/master/images/ac_04_09_frequency.png?raw=1' width='700'>\n",
        "</center>\n"
      ]
    },
    {
      "cell_type": "markdown",
      "metadata": {
        "id": "VGJyJeXnIc0S"
      },
      "source": [
        "### Threshold in Quiet or the Absolute Threshold"
      ]
    },
    {
      "cell_type": "markdown",
      "metadata": {
        "id": "YGFg-MgzIc0S"
      },
      "source": [
        " - Hearing threshold of 100 persons with normal hearing for\n",
        "   sine tones (50% curve is the median).\n",
        " <br>\n",
        "  <center>\n",
        "    <img src='https://github.com/TUIlmenauAMS/AudioCoding_Tutorials/blob/master/images/ac_04_10_threshold.png?raw=1' width='800'>\n",
        "</center>\n",
        "<br>\n",
        "\n",
        " - Approximations:\n",
        "\n",
        " $$\\large\n",
        " \\dfrac{L_{T_q}}{dB} = 3.64 \\left( \\frac{f}{kHz} \\right)^{-0.8} - \\exp \\left( -0.6\\left(\\dfrac{f}{kHz}-3.3\\right)^2\\right)\n",
        " + 10^{-3}\\left(\\dfrac{f}{kHz}\\right)^4\n",
        " $$\n",
        " <br>\n",
        "   <center>\n",
        "    <img src='https://github.com/TUIlmenauAMS/AudioCoding_Tutorials/blob/master/images/ac_04_11_threshold2.png?raw=1' width='600'>\n",
        "</center>\n",
        "\n"
      ]
    },
    {
      "cell_type": "markdown",
      "metadata": {
        "id": "wRIpMn7wIc0S"
      },
      "source": [
        "### Hearing Threshold and Age"
      ]
    },
    {
      "cell_type": "markdown",
      "metadata": {
        "id": "Nn1wjHwcIc0T"
      },
      "source": [
        " - Average pure-tone audiograms in dB Hearing Loss in (a) men and (b) women grouped by their age in decades (the parameter is age group in years). The extended high-frequency range is zoomed for clarity.\n",
        "\n",
        "  <br>\n",
        "   <center>\n",
        "    <img src='https://github.com/TUIlmenauAMS/AudioCoding_Tutorials/blob/master/images/ac_04_12_threshold_age.png?raw=1' width='500'>\n",
        "</center>\n",
        "\n",
        "\n",
        " - Pure-tone threshold standard deviation of all participants as a function of frequency (the parameter is age in 10-year groups).\n",
        "\n",
        "   <br>\n",
        "   <center>\n",
        "    <img src='https://github.com/TUIlmenauAMS/AudioCoding_Tutorials/blob/master/images/ac_04_13_threshold_age2.png?raw=1' width='500'>\n",
        "</center>\n",
        "\n",
        "\n",
        ""
      ]
    },
    {
      "cell_type": "code",
      "execution_count": null,
      "metadata": {
        "hide_input": true,
        "scrolled": false,
        "id": "Bdis6LDsIc0T",
        "outputId": "972cb69a-6847-45f7-8115-2e90238e127c"
      },
      "outputs": [
        {
          "name": "stdout",
          "output_type": "stream",
          "text": [
            "http://newt.phys.unsw.edu.au/jw/hearing.html\n"
          ]
        },
        {
          "data": {
            "text/html": [
              "\n",
              "        <iframe\n",
              "            width=\"900\"\n",
              "            height=\"600\"\n",
              "            src=\"http://newt.phys.unsw.edu.au/jw/hearing.html\"\n",
              "            frameborder=\"0\"\n",
              "            allowfullscreen\n",
              "        ></iframe>\n",
              "        "
            ],
            "text/plain": [
              "<IPython.lib.display.IFrame at 0x2c276328f08>"
            ]
          },
          "execution_count": 6,
          "metadata": {},
          "output_type": "execute_result"
        }
      ],
      "source": [
        "from IPython.display import IFrame\n",
        "print('http://newt.phys.unsw.edu.au/jw/hearing.html')\n",
        "IFrame('http://newt.phys.unsw.edu.au/jw/hearing.html', width=900, height=600)"
      ]
    },
    {
      "cell_type": "markdown",
      "metadata": {
        "id": "g-MgzwIwIc0T"
      },
      "source": [
        "## Loudness"
      ]
    },
    {
      "cell_type": "code",
      "execution_count": null,
      "metadata": {
        "hide_input": true,
        "id": "0ZwZvhGWIc0T",
        "outputId": "1686c450-8b69-45f4-915e-fc707b7b8d2d"
      },
      "outputs": [
        {
          "data": {
            "text/html": [
              "<iframe width=\"560\" height=\"315\" src=\"https://www.youtube.com/embed/BQPVCN1fmSQ?rel=0\" frameborder=\"0\" allow=\"accelerometer; clipboard-write; encrypted-media; gyroscope; picture-in-picture\" allowfullscreen></iframe>\n"
            ],
            "text/plain": [
              "<IPython.core.display.HTML object>"
            ]
          },
          "metadata": {},
          "output_type": "display_data"
        }
      ],
      "source": [
        "%%html\n",
        "<iframe width=\"560\" height=\"315\" src=\"https://www.youtube.com/embed/BQPVCN1fmSQ?rel=0\" frameborder=\"0\" allow=\"accelerometer; clipboard-write; encrypted-media; gyroscope; picture-in-picture\" allowfullscreen></iframe>"
      ]
    },
    {
      "cell_type": "markdown",
      "metadata": {
        "id": "IPU0WePeIc0T"
      },
      "source": [
        " - Loudness LeveL:\n",
        "     - **Loudness N:** psychological concept to describe the magnitude of an <u>auditory sensation</u>, the loudness of a sound (measured in 'sone')\n",
        "     - **loudness level $L_N$** of a sound is measured in **'phon'**\n",
        "     - **$L_N$** of a sound is the sound pressure of a 1 kHz tone which is as loud as the sound\n",
        "     - 1 sone is equivalent to 40 phons, which is defined as the loudness level of a pure 1 kHz tone at $L_N$ 40 dB SPL.\n",
        "     \n",
        "     \n",
        " -  Equal-Loudness Level Contours:\n",
        "     - Equal loudness contours of pure tone sin a free sound field.\n",
        "     - The parameter is expressed in **loudness level**, $L_N$, and loudness, N. Can be observed:\n",
        "         - The sensitivity of the human ear -a function of frequency\n",
        "         - The most sensitive to sounds around 2–4 kHz\n",
        "     \n",
        " <center>\n",
        "    <br>\n",
        "    <img src='https://github.com/TUIlmenauAMS/AudioCoding_Tutorials/blob/master/images/ac_04_14_loudness.png?raw=1' width='500'>\n",
        "</center>\n",
        "\n",
        " - Loudness Scale:\n",
        "     - aim: double the number of units on this scale means magnitude of sensation is doubled\n",
        "     <br>\n",
        "     $\\rightarrow$ relation between loudness level $L_N$ and the loudness N (rule of thumb):\n",
        "    $$2 \\cdot N \\hat{=} L_N + 10 phon $$\n",
        "     - one potential experiment:\n",
        "     <br>\n",
        "     listen to a sound with $L_{N_1}$ 1and then adjust the same sound until <br>\n",
        "     $N_2 = 2 \\cdot N_1$, then compare $L_{N_1}$ and $L_{N_2}$\n",
        "     \n",
        " <center>\n",
        "<img src='https://github.com/TUIlmenauAMS/AudioCoding_Tutorials/blob/master/images/ac_04_15_loudness_scale.png?raw=1' width='600'>\n",
        "</center>  \n",
        "     "
      ]
    },
    {
      "cell_type": "markdown",
      "metadata": {
        "id": "pUTP_mjHIc0T"
      },
      "source": [
        "## Critical Bands"
      ]
    },
    {
      "cell_type": "markdown",
      "metadata": {
        "id": "44I8yBZgIc0T"
      },
      "source": [
        "### Frequency Grouping in Human Hearing"
      ]
    },
    {
      "cell_type": "code",
      "execution_count": null,
      "metadata": {
        "hide_input": true,
        "id": "2baXU1qjIc0T",
        "outputId": "3cea42ac-162f-4700-d985-559e0bd00b88"
      },
      "outputs": [
        {
          "data": {
            "text/html": [
              "<iframe width=\"560\" height=\"315\" src=\"https://www.youtube.com/embed/UI9Y8B9A__0?rel=0\" frameborder=\"0\" allow=\"accelerometer; clipboard-write; encrypted-media; gyroscope; picture-in-picture\" allowfullscreen></iframe>\n"
            ],
            "text/plain": [
              "<IPython.core.display.HTML object>"
            ]
          },
          "metadata": {},
          "output_type": "display_data"
        }
      ],
      "source": [
        "%%html\n",
        "<iframe width=\"560\" height=\"315\" src=\"https://www.youtube.com/embed/UI9Y8B9A__0?rel=0\" frameborder=\"0\" allow=\"accelerometer; clipboard-write; encrypted-media; gyroscope; picture-in-picture\" allowfullscreen></iframe>"
      ]
    },
    {
      "cell_type": "markdown",
      "metadata": {
        "id": "ran2uei9Ic0U"
      },
      "source": [
        " - Different interpretations that produce the same segmentation:\n",
        "     - Constant distance in the Cochlea\n",
        "     - By using tones under the threshold in quiet, their intensity add up in a critical band and are now audible\n",
        "     - Tones in a critical band above the threshold in quiet: their energy adds up\n",
        " - Formula for the width of the critical bands:\n",
        "     - for frequencies < 500 Hz: Constant 100Hz width\n",
        "     - for frequencies > 500 Hz: 0.2*frequency\n",
        "     \n",
        "<center>\n",
        "<img src='https://github.com/TUIlmenauAMS/AudioCoding_Tutorials/blob/master/images/ac_04_16_groupin.jpg?raw=1' width='600'>\n",
        "    <cite>: Zwicker, Fastl “Psychoacoustics Facts and Models”, p.159 </cite>\n",
        "</center>   \n",
        "     \n",
        " - Critical bandwidth as a function of frequency, that quantifies the cochlear filter passbands.\n",
        " - Approximations for low and high frequency ranges are indicated by broken lines."
      ]
    },
    {
      "cell_type": "markdown",
      "metadata": {
        "hide_input": false,
        "id": "XR1NgPqDIc0U"
      },
      "source": [
        "#### Excursus - Critical Bands and Loudness"
      ]
    },
    {
      "cell_type": "markdown",
      "metadata": {
        "id": "Wnkun5QNIc0U"
      },
      "source": [
        " - Spectral effects -influence of bandwidth:\n",
        "     - bandwidth of the signals plays an important role\n",
        "     - sound level also influence loudness level\n",
        "     - $\\rightarrow$ total sound intensity (SPL) have to be constant to measure loudness as function of bandwidth\n",
        "     - $\\rightarrow$ critical bandwidth\n",
        "  \n",
        "<center>\n",
        "<img src='https://github.com/TUIlmenauAMS/AudioCoding_Tutorials/blob/master/images/ac_04_17_bandwidth.png?raw=1' width='500'>\n",
        "</center>  "
      ]
    },
    {
      "cell_type": "markdown",
      "metadata": {
        "hide_input": false,
        "id": "1GlKuCjoIc0U"
      },
      "source": [
        "### Bark Scale"
      ]
    },
    {
      "cell_type": "markdown",
      "metadata": {
        "id": "Vd7KjZEwIc0X"
      },
      "source": [
        " - Critical-band concept used in many models and hypothesis <br>\n",
        " $\\rightarrow$ unit was defined leading to so-called critical-band rate scale\n",
        " - scale ranging from 0 –24, unit \"Bark\"\n",
        " - relation between z and f is important for understanding many characteristics of human ear\n",
        "\n",
        "<center>\n",
        "<img src='https://github.com/TUIlmenauAMS/AudioCoding_Tutorials/blob/master/images/ac_04_18_bark.png?raw=1' width='500'>\n",
        "</center>\n",
        "\n",
        " - Critical-band concept used in many models and hypotheses <br>\n",
        " $\\rightarrow$ unit was defined leading to so-called critical-band rate scale\n",
        " - scale ranging from 0 –24, unit \"Bark\"(after Zwicker)\n",
        " - One Bark corresponds to one critical band\n",
        " - Attempt to approximate critical bands with formulas:\n",
        "\n",
        "Critical Bandrate *z*:\n",
        "\n",
        "$$\\large\n",
        "\\dfrac{z}{Bark} = 13 \\arctan \\left( 0.76 \\cdot \\dfrac{f}{kHz} \\right) + 3.5 \\cdot \\arctan \\left( \\dfrac{f}{7.5kHz}\\right)^2$$\n",
        "\n",
        "Critical Bandwidth:\n",
        "\n",
        "$$\\large\n",
        "\\Delta f_b = 25 + 75 \\left( 1 + 1.4 \\left( \\dfrac{f}{kHz} \\right)^2 \\right)^{0.69} $$"
      ]
    },
    {
      "cell_type": "markdown",
      "metadata": {
        "hide_input": false,
        "id": "1_Ttjj1iIc0X"
      },
      "source": [
        "## Masking"
      ]
    },
    {
      "cell_type": "markdown",
      "metadata": {
        "id": "8qT9jd63Ic0X"
      },
      "source": [
        " - data compression:\n",
        "     - exploitation of perception in critical bands with reference to the threshold in quiet is not enough\n",
        "\n",
        "\n",
        " - Basic principle:\n",
        "     - a **test signal**, called a **maskee** is placed at the center frequency of the critical bandwidth.\n",
        "     - one **masking signal**, called **masker** (equal power and distance from maskee).\n",
        "     - If the $P_{maskee}$ is weak relative to the total power of the maskers $\\rightarrow$ the test signal is not audible $\\rightarrow$ test signal is masked\n",
        "     - In order for the test signal to become audible, its power has to be raised to above a certain level – **masking threshold**.\n",
        "     "
      ]
    },
    {
      "cell_type": "code",
      "execution_count": null,
      "metadata": {
        "hide_input": true,
        "id": "rgZDxq3QIc0X",
        "outputId": "1f026406-acc4-47e5-cf5e-e62d433633bd"
      },
      "outputs": [
        {
          "data": {
            "text/html": [
              "<iframe width=\"560\" height=\"315\" src=\"https://www.youtube.com/embed/5Er45bT-hOE?rel=0\" frameborder=\"0\" allow=\"accelerometer; clipboard-write; encrypted-media; gyroscope; picture-in-picture\" allowfullscreen></iframe>\n"
            ],
            "text/plain": [
              "<IPython.core.display.HTML object>"
            ]
          },
          "metadata": {},
          "output_type": "display_data"
        }
      ],
      "source": [
        "%%html\n",
        "<iframe width=\"560\" height=\"315\" src=\"https://www.youtube.com/embed/5Er45bT-hOE?rel=0\" frameborder=\"0\" allow=\"accelerometer; clipboard-write; encrypted-media; gyroscope; picture-in-picture\" allowfullscreen></iframe>"
      ]
    },
    {
      "cell_type": "markdown",
      "metadata": {
        "hide_input": false,
        "id": "Iq0qNMrgIc0X"
      },
      "source": [
        "### Masking of Pure Tones by Noise -Broad-Band Noise"
      ]
    },
    {
      "cell_type": "markdown",
      "metadata": {
        "hide_input": false,
        "id": "qOjDdpqdIc0X"
      },
      "source": [
        " - Broad-band noise:\n",
        "      - white noise from 20 Hz 20 - 20kHz.\n",
        "\n",
        " <center>\n",
        "    <br>\n",
        "    <img src='https://github.com/TUIlmenauAMS/AudioCoding_Tutorials/blob/master/images/ac_04_19_broadnoise.png?raw=1' width='600'>\n",
        "    <cite> Zwicker, Fastl \"Psychoacoustics - Facts and Models\", 2nd Edition, 1999. </cite>\n",
        "    <br>\n",
        "</center>\n",
        "\n",
        "\n",
        " - masking threshold for pure tones masked by broad band noise of different levels.\n",
        " - uniform masking noise (UMN) by equalization of the 10 dB per decade slope.\n",
        ""
      ]
    },
    {
      "cell_type": "markdown",
      "metadata": {
        "id": "y7uzxBCfIc0X"
      },
      "source": [
        "### Masking of Pure Tones by Noise -Narrow-Band Noise"
      ]
    },
    {
      "cell_type": "code",
      "execution_count": null,
      "metadata": {
        "hide_input": true,
        "id": "lkyt4N_BIc0X",
        "outputId": "e6e89ec3-60f5-4f5a-9bbb-be9ebf82358b"
      },
      "outputs": [
        {
          "data": {
            "text/html": [
              "<iframe width=\"560\" height=\"315\" src=\"https://www.youtube.com/embed/bHXbgLWkCUk?rel=0\" frameborder=\"0\" allow=\"accelerometer; clipboard-write; encrypted-media; gyroscope; picture-in-picture\" allowfullscreen></iframe>\n"
            ],
            "text/plain": [
              "<IPython.core.display.HTML object>"
            ]
          },
          "metadata": {},
          "output_type": "display_data"
        }
      ],
      "source": [
        "%%html\n",
        "<iframe width=\"560\" height=\"315\" src=\"https://www.youtube.com/embed/bHXbgLWkCUk?rel=0\" frameborder=\"0\" allow=\"accelerometer; clipboard-write; encrypted-media; gyroscope; picture-in-picture\" allowfullscreen></iframe>"
      ]
    },
    {
      "cell_type": "markdown",
      "metadata": {
        "hide_input": false,
        "id": "7JeEJ2ajIc0X"
      },
      "source": [
        " - narrow-band noise:\n",
        "     - noise with a bandwidth equal or smaller than critical bandwidth\n",
        "     \n",
        "      <center>\n",
        "    <br>\n",
        "    <img src='https://github.com/TUIlmenauAMS/AudioCoding_Tutorials/blob/master/images/ac_04_20_narrownoise.png?raw=1' width='600'>\n",
        "    <cite> Zwicker, Fastl \"Psychoacoustics - Facts and Models\", 2nd Edition, 1999. </cite>\n",
        "    <br>\n",
        "</center>\n",
        "     \n",
        "     \n",
        " - threshold of pure tones masked by narrow-band noise for different centre frequencies.\n",
        " - difference between maximum of masked threshold and test tone level.\n",
        "\n",
        "  <center>\n",
        "    <br>\n",
        "    <img src='https://github.com/TUIlmenauAMS/AudioCoding_Tutorials/blob/master/images/ac_04_21_narrownoise2.png?raw=1' width='600'>\n",
        "    <br>\n",
        "</center>\n",
        "\n",
        " - dependence of masked threshold on level of narrow-band noise.\n",
        " - dips at higher levels  $\\rightarrow$ nonlinear effects (difference noise caused by interactions between test tone and noise)  "
      ]
    },
    {
      "cell_type": "markdown",
      "metadata": {
        "scrolled": true,
        "id": "3X-LvA9kIc0X"
      },
      "source": [
        "### Masking of Pure Tones by Low-Pass or High-Pass Noise"
      ]
    },
    {
      "cell_type": "code",
      "execution_count": null,
      "metadata": {
        "hide_input": true,
        "id": "fOxdmuObIc0X",
        "outputId": "3e3d89ca-7b98-44de-f0de-127964f00941"
      },
      "outputs": [
        {
          "data": {
            "text/html": [
              "<iframe width=\"560\" height=\"315\" src=\"https://www.youtube.com/embed/yEc89bIIcAY?rel=0\" frameborder=\"0\" allow=\"accelerometer; clipboard-write; encrypted-media; gyroscope; picture-in-picture\" allowfullscreen></iframe>\n"
            ],
            "text/plain": [
              "<IPython.core.display.HTML object>"
            ]
          },
          "metadata": {},
          "output_type": "display_data"
        }
      ],
      "source": [
        "%%html\n",
        "<iframe width=\"560\" height=\"315\" src=\"https://www.youtube.com/embed/yEc89bIIcAY?rel=0\" frameborder=\"0\" allow=\"accelerometer; clipboard-write; encrypted-media; gyroscope; picture-in-picture\" allowfullscreen></iframe>"
      ]
    },
    {
      "cell_type": "markdown",
      "metadata": {
        "scrolled": false,
        "id": "lki9wVQFIc0X"
      },
      "source": [
        "<center>\n",
        "    <img src='https://github.com/TUIlmenauAMS/AudioCoding_Tutorials/blob/master/images/ac_04_22_LpHpnoise2.png?raw=1' width='600'>\n",
        "</center>"
      ]
    },
    {
      "cell_type": "markdown",
      "metadata": {
        "id": "xsPMGHv7Ic0X"
      },
      "source": [
        "### Masking of Pure Tones by Pure Tone"
      ]
    },
    {
      "cell_type": "code",
      "execution_count": null,
      "metadata": {
        "hide_input": true,
        "id": "QPAMkou7Ic0X",
        "outputId": "ecd61adf-d01e-4ffa-9935-52f89e458b51"
      },
      "outputs": [
        {
          "data": {
            "text/html": [
              "<iframe width=\"560\" height=\"315\" src=\"https://www.youtube.com/embed/W01-mvdXP_c?rel=0\" frameborder=\"0\" allow=\"accelerometer; clipboard-write; encrypted-media; gyroscope; picture-in-picture\" allowfullscreen></iframe>\n"
            ],
            "text/plain": [
              "<IPython.core.display.HTML object>"
            ]
          },
          "metadata": {},
          "output_type": "display_data"
        }
      ],
      "source": [
        "%%html\n",
        "<iframe width=\"560\" height=\"315\" src=\"https://www.youtube.com/embed/W01-mvdXP_c?rel=0\" frameborder=\"0\" allow=\"accelerometer; clipboard-write; encrypted-media; gyroscope; picture-in-picture\" allowfullscreen></iframe>"
      ]
    },
    {
      "cell_type": "markdown",
      "metadata": {
        "id": "_3ha4EGxIc0X"
      },
      "source": [
        " - pure tone:\n",
        "     - single frequency\n",
        "     \n",
        " <center>\n",
        "    <br>\n",
        "    <img src='https://github.com/TUIlmenauAMS/AudioCoding_Tutorials/blob/master/images/ac_04_23_pureTone.png?raw=1' width='600'>\n",
        "    <br>\n",
        "</center>  \n",
        "\n",
        " - 1 kHz masking tone with level of 80 dB.\n",
        " - threshold for 'detection of anything'\n",
        "\n",
        "\n",
        " - Difficulties:\n",
        "     - beats (hatching)\n",
        "     - masker and difference tone (stippling)"
      ]
    },
    {
      "cell_type": "markdown",
      "metadata": {
        "id": "4J2eM7KCIc0X"
      },
      "source": [
        "### Masking of Pure Tone by Complex Tones"
      ]
    },
    {
      "cell_type": "code",
      "execution_count": null,
      "metadata": {
        "hide_input": true,
        "id": "LgIalpVrIc0Y",
        "outputId": "a151be3a-e337-412e-f28c-73ed064287fb"
      },
      "outputs": [
        {
          "data": {
            "text/html": [
              "<iframe width=\"560\" height=\"315\" src=\"https://www.youtube.com/embed/zuQzj9cYwnk?rel=0\" frameborder=\"0\" allow=\"accelerometer; clipboard-write; encrypted-media; gyroscope; picture-in-picture\" allowfullscreen></iframe>\n"
            ],
            "text/plain": [
              "<IPython.core.display.HTML object>"
            ]
          },
          "metadata": {},
          "output_type": "display_data"
        }
      ],
      "source": [
        "%%html\n",
        "<iframe width=\"560\" height=\"315\" src=\"https://www.youtube.com/embed/zuQzj9cYwnk?rel=0\" frameborder=\"0\" allow=\"accelerometer; clipboard-write; encrypted-media; gyroscope; picture-in-picture\" allowfullscreen></iframe>"
      ]
    },
    {
      "cell_type": "markdown",
      "metadata": {
        "id": "phAgTafgIc0Y"
      },
      "source": [
        " - complex tone:\n",
        "     - fundamental tone with its harmonics\n",
        "     \n",
        " <center>\n",
        "    <br>\n",
        "    <img src='https://github.com/TUIlmenauAMS/AudioCoding_Tutorials/blob/master/images/ac_04_24_complexTone.png?raw=1' width='600'>\n",
        "    <cite> Zwicker, Fastl \"Psychoacoustics - Facts and Models\", 2nd Edition, 1999. </cite>\n",
        "    <br>\n",
        "</center>  \n",
        "\n",
        "\n",
        " - threshold of pure tones masked by a complex tone with 200 Hz fundamental frequency and nine harmonics.\n"
      ]
    },
    {
      "cell_type": "markdown",
      "metadata": {
        "id": "nmnpfvyKIc0Y"
      },
      "source": [
        "### Tonality"
      ]
    },
    {
      "cell_type": "code",
      "execution_count": null,
      "metadata": {
        "hide_input": true,
        "id": "Sg4cfq6XIc0Y",
        "outputId": "c7ed3ee5-475e-4a0b-ec20-cfc39b06d794"
      },
      "outputs": [
        {
          "data": {
            "text/html": [
              "<iframe width=\"560\" height=\"315\" src=\"https://www.youtube.com/embed/pyRuUEB8Bqk?rel=0\" frameborder=\"0\" allow=\"accelerometer; clipboard-write; encrypted-media; gyroscope; picture-in-picture\" allowfullscreen></iframe>\n"
            ],
            "text/plain": [
              "<IPython.core.display.HTML object>"
            ]
          },
          "metadata": {},
          "output_type": "display_data"
        }
      ],
      "source": [
        "%%html\n",
        "<iframe width=\"560\" height=\"315\" src=\"https://www.youtube.com/embed/pyRuUEB8Bqk?rel=0\" frameborder=\"0\" allow=\"accelerometer; clipboard-write; encrypted-media; gyroscope; picture-in-picture\" allowfullscreen></iframe>"
      ]
    },
    {
      "cell_type": "markdown",
      "metadata": {
        "id": "kmoOb850Ic0Y"
      },
      "source": [
        " - Tonality index $\\alpha$:\n",
        "     - noisy signal: $\\alpha =0$\n",
        "     - tonal signal: $\\alpha =1$\n",
        " - System theory:\n",
        "     - Sharp spectral lines = Signal is periodic = Signal is predictable.\n",
        "     - Approximation: If the signal is predictable then it should be periodic.\n",
        "     - Therefore we can use prediction to approximate if a signal is tonal (by periodicity).\n",
        " - Example:\n",
        "  <center>\n",
        "    <img src='https://github.com/TUIlmenauAMS/AudioCoding_Tutorials/blob/master/images/ac_04_25_tonality.png?raw=1' width='600'>\n",
        "    <br>\n",
        "</center>\n"
      ]
    },
    {
      "cell_type": "markdown",
      "metadata": {
        "id": "XNS-2zhVIc0Y"
      },
      "source": [
        "### Masking - Spreading Function"
      ]
    },
    {
      "cell_type": "code",
      "execution_count": null,
      "metadata": {
        "hide_input": true,
        "id": "5HnVi5veIc0Y",
        "outputId": "7585da84-96e4-40b6-d249-32606a86e4a0"
      },
      "outputs": [
        {
          "data": {
            "text/html": [
              "<iframe width=\"560\" height=\"315\" src=\"https://www.youtube.com/embed/2aGu9gCB1Ug?rel=0\" frameborder=\"0\" allow=\"accelerometer; clipboard-write; encrypted-media; gyroscope; picture-in-picture\" allowfullscreen></iframe>\n"
            ],
            "text/plain": [
              "<IPython.core.display.HTML object>"
            ]
          },
          "metadata": {},
          "output_type": "display_data"
        }
      ],
      "source": [
        "%%html\n",
        "<iframe width=\"560\" height=\"315\" src=\"https://www.youtube.com/embed/2aGu9gCB1Ug?rel=0\" frameborder=\"0\" allow=\"accelerometer; clipboard-write; encrypted-media; gyroscope; picture-in-picture\" allowfullscreen></iframe>"
      ]
    },
    {
      "cell_type": "markdown",
      "metadata": {
        "id": "NYMYDB2sIc0Y"
      },
      "source": [
        "  <center>\n",
        "    <br>\n",
        "    <img src='https://github.com/TUIlmenauAMS/AudioCoding_Tutorials/blob/master/images/ac_04_26_spreadingF.png?raw=1' width='900'>\n",
        "    <br>\n",
        "</center>"
      ]
    },
    {
      "cell_type": "markdown",
      "metadata": {
        "id": "BEkiRlpPIc0Y"
      },
      "source": [
        "### Calculating the Masking Threshold"
      ]
    },
    {
      "cell_type": "markdown",
      "metadata": {
        "id": "GUf7nnD5Ic0Y"
      },
      "source": [
        " - Comparison of the signal level to Masking Threshold:\n",
        "\n",
        "$$\\large\n",
        "\\dfrac{O_f(i)}{dB} = \\alpha (14.5+i) + (1+\\alpha)\\cdot \\alpha_v$$\n",
        "\n",
        "$$\\large\n",
        "\\alpha_v = -2 - 2.05 \\arctan \\left( \\dfrac{f}{4kHz} \\right) - 0.75 \\arctan \\left( \\dfrac{f^2}{2.56 kHz^2} \\right)$$\n",
        "\n",
        "where $\\alpha \\dots$ Tonality index, $\\alpha_v \\dots$ Noise Coefficient\n",
        "\n",
        " - Approxitamtion:\n",
        "\n",
        "$$\\large\n",
        "\\dfrac{O_f(i)}{dB} = \\alpha(14.5+i) + (1 - \\alpha)\\cdot 5.5 $$\n",
        "\n",
        " - Simultaneous Masking Threshold\n",
        "\n",
        " $$\\large\n",
        " T(f) = 10^{\\frac{L_s(f)- O_f(i)}{10}}$$\n",
        "\n",
        " where $L_s(f) \\dots$ Sound Pressure Level, $O_f{i} \\dots$ Distance to Masking Threshold"
      ]
    },
    {
      "cell_type": "markdown",
      "metadata": {
        "id": "rOTB8x2iIc0Y"
      },
      "source": [
        "###  In-Band Making"
      ]
    },
    {
      "cell_type": "code",
      "execution_count": null,
      "metadata": {
        "hide_input": true,
        "id": "k8dtMTupIc0Y",
        "outputId": "98201bbb-59a4-4a64-bfbb-522559a2d819"
      },
      "outputs": [
        {
          "data": {
            "text/html": [
              "<iframe width=\"560\" height=\"315\" src=\"https://www.youtube.com/embed/EX7x7LLJRKM?rel=0\" frameborder=\"0\" allow=\"accelerometer; clipboard-write; encrypted-media; gyroscope; picture-in-picture\" allowfullscreen></iframe>\n"
            ],
            "text/plain": [
              "<IPython.core.display.HTML object>"
            ]
          },
          "metadata": {},
          "output_type": "display_data"
        }
      ],
      "source": [
        "%%html\n",
        "<iframe width=\"560\" height=\"315\" src=\"https://www.youtube.com/embed/EX7x7LLJRKM?rel=0\" frameborder=\"0\" allow=\"accelerometer; clipboard-write; encrypted-media; gyroscope; picture-in-picture\" allowfullscreen></iframe>"
      ]
    },
    {
      "cell_type": "markdown",
      "metadata": {
        "id": "JtTQrarxIc0Z"
      },
      "source": [
        "  <center>\n",
        "    <img src='https://github.com/TUIlmenauAMS/AudioCoding_Tutorials/blob/master/images/ac_04_25_inBand.png?raw=1' width='600'>\n",
        "    <cite> Zolzer, \"Digital Audio Signal Processig\" </cite>\n",
        "</center>\n",
        "\n"
      ]
    },
    {
      "cell_type": "markdown",
      "metadata": {
        "id": "sPW8i47zIc0Z"
      },
      "source": [
        "### Masking Neighboring Bands"
      ]
    },
    {
      "cell_type": "markdown",
      "metadata": {
        "id": "6V1qKtbKIc0Z"
      },
      "source": [
        " - spread of masking due to the non-linearity of auditory filters\n",
        " - resulting masking threshold = sum of power of neighbouring spreading functions-\n",
        " - here: value at intersection of neighbouringspreading functions taken\n",
        "  <center>\n",
        "    <br>\n",
        "    <img src='https://github.com/TUIlmenauAMS/AudioCoding_Tutorials/blob/master/images/ac_04_27_maskingBands.png?raw=1' width='800'>\n",
        "    <cite> Zolzer, \"Digital Audio Signal Processig\" </cite>\n",
        "    <br>\n",
        "</center>\n",
        "\n",
        "\n",
        "$$\\large\n",
        "S_1 = 27 \\cdot \\dfrac{dB}{Bark}$$\n",
        "\n",
        "$$\\large\n",
        "S_2 = 24 + 0.23 \\left( \\dfrac{f}{kHz} \\right)^{-1} - 0.2 \\cdot \\dfrac{L_s(f)}{dB} \\dfrac{dB}{Bark}$$"
      ]
    },
    {
      "cell_type": "markdown",
      "metadata": {
        "id": "HLKDi0fmIc0Z"
      },
      "source": [
        "### Temporal Masking Effects"
      ]
    },
    {
      "cell_type": "code",
      "execution_count": null,
      "metadata": {
        "hide_input": true,
        "id": "Nsf894d2Ic0Z",
        "outputId": "eefb566e-78d9-4bf0-c487-deab6bac6a91"
      },
      "outputs": [
        {
          "data": {
            "text/html": [
              "<iframe width=\"560\" height=\"315\" src=\"https://www.youtube.com/embed/_TYpk4ekJGs?rel=0\" frameborder=\"0\" allow=\"accelerometer; clipboard-write; encrypted-media; gyroscope; picture-in-picture\" allowfullscreen></iframe>\n"
            ],
            "text/plain": [
              "<IPython.core.display.HTML object>"
            ]
          },
          "metadata": {},
          "output_type": "display_data"
        }
      ],
      "source": [
        "%%html\n",
        "<iframe width=\"560\" height=\"315\" src=\"https://www.youtube.com/embed/_TYpk4ekJGs?rel=0\" frameborder=\"0\" allow=\"accelerometer; clipboard-write; encrypted-media; gyroscope; picture-in-picture\" allowfullscreen></iframe>"
      ]
    },
    {
      "cell_type": "markdown",
      "metadata": {
        "id": "sTWvui3SIc0Z"
      },
      "source": [
        " - Post-Masking: corresponds to decay in the effect of the masker $\\rightarrow$ expected\n",
        " - Pre-Masking: appears during time before masker is switched on:\n",
        "     - Quick build-up time for loud maskers\n",
        "     - Slower build-up time for faint test sounds\n",
        " -  Frequency resolution $\\leftrightarrow$ Blurringing time\n",
        " - Frequency resolution in the ear $\\rightarrow$ Masking in time\n",
        " - Because of in-ear fast processing between quiet to loud signals, we get Pre-Echoes\n",
        "     - Pre-Masking: 1-5 ms\n",
        "     - Post-Masking: ~100ms\n",
        "     \n",
        "       <center>\n",
        "    <img src='https://github.com/TUIlmenauAMS/AudioCoding_Tutorials/blob/master/images/ac_04_28_temporal.png?raw=1' width='800'>\n",
        "    <cite> Zwicker. Fastl \"Psychoacoustics Facts and Models\" </cite>\n",
        "</center>\n",
        "   "
      ]
    },
    {
      "cell_type": "code",
      "execution_count": null,
      "metadata": {
        "id": "rxKc0xheIc0Z"
      },
      "outputs": [],
      "source": []
    }
  ],
  "metadata": {
    "kernelspec": {
      "display_name": "Python 3",
      "language": "python",
      "name": "python3"
    },
    "language_info": {
      "codemirror_mode": {
        "name": "ipython",
        "version": 3
      },
      "file_extension": ".py",
      "mimetype": "text/x-python",
      "name": "python",
      "nbconvert_exporter": "python",
      "pygments_lexer": "ipython3",
      "version": "3.7.8"
    },
    "livereveal": {
      "rise": {
        "height": "90%",
        "width": "90%"
      },
      "scroll": true,
      "theme": "beige",
      "transition": "zoom"
    },
    "colab": {
      "provenance": []
    }
  },
  "nbformat": 4,
  "nbformat_minor": 0
}
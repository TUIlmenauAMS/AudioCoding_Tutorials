{
 "cells": [
  {
   "cell_type": "markdown",
   "metadata": {
    "slideshow": {
     "slide_type": "slide"
    }
   },
   "source": [
    "<center>\n",
    "    <img src=\"./images/ac_header.png\">\n",
    "</center>\n",
    "\n",
    "### <a target=\"_blank\" rel=\"noopener noreferrer\" href=\"https://www.tu-ilmenau.de/mt-ams/personen/schuller-gerald/\">Prof. Dr. -Ing. Gerald Schuller</a> <br> <a target=\"_blank\" rel=\"noopener noreferrer\" href=\"https://www.tu-ilmenau.de/mt-ams/lehre/msp-and-adsp-tutorials/\">Jupyter Notebook: Renato Profeta</a> \n",
    "\n",
    "[Applied Media Systems Group](https://www.tu-ilmenau.de/en/applied-media-systems-group/) <br>\n",
    "[Technische Universität Ilmenau](https://www.tu-ilmenau.de/)"
   ]
  },
  {
   "cell_type": "markdown",
   "metadata": {
    "slideshow": {
     "slide_type": "-"
    }
   },
   "source": [
    "# Basics of Multirate Signal Processing"
   ]
  },
  {
   "cell_type": "code",
   "execution_count": 41,
   "metadata": {
    "hide_input": true
   },
   "outputs": [
    {
     "data": {
      "text/html": [
       "<iframe width=\"560\" height=\"315\" src=\"https://www.youtube.com/embed/Tp96ICZ_pMg?rel=0\" frameborder=\"0\" allow=\"accelerometer; encrypted-media; gyroscope; picture-in-picture\" allowfullscreen></iframe>\n"
      ],
      "text/plain": [
       "<IPython.core.display.HTML object>"
      ]
     },
     "metadata": {},
     "output_type": "display_data"
    }
   ],
   "source": [
    "%%html\n",
    "<iframe width=\"560\" height=\"315\" src=\"https://www.youtube.com/embed/Tp96ICZ_pMg?rel=0\" frameborder=\"0\" allow=\"accelerometer; encrypted-media; gyroscope; picture-in-picture\" allowfullscreen></iframe>"
   ]
  },
  {
   "cell_type": "markdown",
   "metadata": {
    "slideshow": {
     "slide_type": "-"
    }
   },
   "source": [
    "Audio coders process sampled audio signals. As an input signal, they often have audio signals sampled at e.g. 48kHz or 44.1 kHz, and with 16 bits/sample.\n",
    "\n",
    "Internally they filter the signal and **down- and up-sample** it with **filter banks**, in the encoder and decoder. Hence before we take a closer look at the filter banks, we first take a short look at the basics of Multirate Signal Processing."
   ]
  },
  {
   "cell_type": "markdown",
   "metadata": {
    "slideshow": {
     "slide_type": "-"
    }
   },
   "source": [
    " - https://github.com/GuitarsAI/ADSP_Tutorials\n",
    " - https://github.com/GuitarsAI/MRSP_Notebooks"
   ]
  },
  {
   "cell_type": "markdown",
   "metadata": {
    "slideshow": {
     "slide_type": "-"
    }
   },
   "source": [
    "## Sampling, Downsampling, Upsampling, Sampling the Analog Signal, Normalized Frequency"
   ]
  },
  {
   "cell_type": "code",
   "execution_count": 24,
   "metadata": {
    "hide_input": true
   },
   "outputs": [
    {
     "data": {
      "text/html": [
       "<iframe width=\"560\" height=\"315\" src=\"https://www.youtube.com/embed/_YclokYvRk4?rel=0\" frameborder=\"0\" allow=\"accelerometer; encrypted-media; gyroscope; picture-in-picture\" allowfullscreen></iframe>\n",
       "<iframe width=\"560\" height=\"315\" src=\"https://www.youtube.com/embed/9wODoG_H-jg?rel=0\" frameborder=\"0\" allow=\"accelerometer; encrypted-media; gyroscope; picture-in-picture\" allowfullscreen></iframe>\n",
       "<iframe width=\"560\" height=\"315\" src=\"https://www.youtube.com/embed/qqbWmiwMC3Q?rel=0\" frameborder=\"0\" allow=\"accelerometer; encrypted-media; gyroscope; picture-in-picture\" allowfullscreen></iframe>\n"
      ],
      "text/plain": [
       "<IPython.core.display.HTML object>"
      ]
     },
     "metadata": {},
     "output_type": "display_data"
    }
   ],
   "source": [
    "%%html\n",
    "<iframe width=\"560\" height=\"315\" src=\"https://www.youtube.com/embed/_YclokYvRk4?rel=0\" frameborder=\"0\" allow=\"accelerometer; encrypted-media; gyroscope; picture-in-picture\" allowfullscreen></iframe>\n",
    "<iframe width=\"560\" height=\"315\" src=\"https://www.youtube.com/embed/9wODoG_H-jg?rel=0\" frameborder=\"0\" allow=\"accelerometer; encrypted-media; gyroscope; picture-in-picture\" allowfullscreen></iframe>\n",
    "<iframe width=\"560\" height=\"315\" src=\"https://www.youtube.com/embed/qqbWmiwMC3Q?rel=0\" frameborder=\"0\" allow=\"accelerometer; encrypted-media; gyroscope; picture-in-picture\" allowfullscreen></iframe>"
   ]
  },
  {
   "cell_type": "markdown",
   "metadata": {
    "slideshow": {
     "slide_type": "slide"
    }
   },
   "source": [
    "To see what happens when we sample a signal, lets start with the analog signal s(t). Sampling it means to sample the signal at sample intervals *T*, or the sampling frequency $f_s$. \n",
    "\n",
    "Mathematically, sampling can be formulated as **multiplying** the analog signal with a **Dirac impulse** at the sampling time instances **nT**, where *n* is the number of our sample (n=0,… for causal systems). \n",
    "\n",
    "If we look at the Fourier transform of an analog time continuous system, we get:\n",
    "\n",
    "$$\\large\n",
    "S^c(\\omega) = \\int_{t=-\\infty}^{\\infty} S(t) \\cdot e^{-j\\omega t} dt\n",
    "$$\n",
    "\n",
    "where the superscript *c* denotes the continuous version, with $\\omega=2\\pi f.$\n",
    "\n",
    "If we now compute the Fourier transform for the sampled signal, we get a sum, because the Dirac impulse is not zero only at the sample time instances, and the integral over a Dirac impulse is one:\n",
    "\n",
    "$$\\large\n",
    "S^d(\\omega) = \\sum_{n=-\\infty}^{\\infty} S(nT) \\cdot e^{-j\\omega nT}\n",
    "$$\n",
    "\n",
    "with the superscript *d* now denoting the discrete time version.\n",
    "\n",
    "Now we can see that the frequency variable only appears as $\\omega nT$ , with *T* as the inverse of the sampling frequency. Hence we get:\n",
    "\n",
    "$$\\large\n",
    "\\omega T = \\dfrac{\\omega}{f_s}=:\\Omega\n",
    "$$\n",
    "\n",
    "This is now our normalized frequency, where $2\\pi$ represents the sampling frequency and $\\pi$ is the so-called *Nyquist frequency* (the upper limit of our usable frequency range).\n",
    "\n",
    "**Important Point:** We have a normalized frequency, normalized to the sampling frequency, where $2\\pi$ denotes the sampling frequency, and $\\pi$ is the *Nyquist frequency!* (since we have no time units in a sampled sequence).\n",
    "\n",
    "To indicate that we are now in the discrete domain, we rename our signal to x(n):=s(nT). Its spectrum or frequency response is then calculated with the **Discrete Time Fourier Transform:**\n",
    "\n",
    "$$\\large\n",
    "X(\\Omega) = \\sum_{n=-\\infty}^{\\infty} x(n) e^{-j\\Omega n}\n",
    "$$\n",
    "\n",
    "Because *n* in the exponent is integer here (no longer real valued like *t*), we get a $2\\pi$ periodicity for $X(\\Omega)$.\n",
    "\n",
    "This is the first important property for discrete time signals. The above transform is called the *Discrete Time Fourier* transform (not the Discrete Fourier Transform), which is for finite or periodic discrete time sequences. Here we still have an infinite \"block length\").\n",
    "\n",
    "Also observe that for real valued signals, the spectrum of the negative frequencies is the conjugate complex of the positive frequencies:\n",
    "\n",
    "$$\\large\n",
    "X(-\\Omega)=\\overline{X(\\Omega)}$$\n",
    "where $\\overline{X}$ denotes the conjugate complex operation, because in the sum of our DTFT we have:\n",
    "\n",
    "$$\\large\n",
    "e^{-j(-\\Omega)n}=e^{j\\Omega n} = e^{-j\\Omega n}$$"
   ]
  },
  {
   "cell_type": "markdown",
   "metadata": {
    "slideshow": {
     "slide_type": "subslide"
    }
   },
   "source": [
    "### Sampling a Discrete Time Signal"
   ]
  },
  {
   "cell_type": "code",
   "execution_count": 25,
   "metadata": {
    "hide_input": true
   },
   "outputs": [
    {
     "data": {
      "text/html": [
       "<iframe width=\"560\" height=\"315\" src=\"https://www.youtube.com/embed/uZFKOUfibt4?rel=0\" frameborder=\"0\" allow=\"accelerometer; encrypted-media; gyroscope; picture-in-picture\" allowfullscreen></iframe>\n",
       "<iframe width=\"560\" height=\"315\" src=\"https://www.youtube.com/embed/KeT2i-ARZ7c?rel=0\" frameborder=\"0\" allow=\"accelerometer; encrypted-media; gyroscope; picture-in-picture\" allowfullscreen></iframe>\n",
       "<iframe width=\"560\" height=\"315\" src=\"https://www.youtube.com/embed/sB5HRZgqgIg?rel=0\" frameborder=\"0\" allow=\"accelerometer; encrypted-media; gyroscope; picture-in-picture\" allowfullscreen></iframe>\n"
      ],
      "text/plain": [
       "<IPython.core.display.HTML object>"
      ]
     },
     "metadata": {},
     "output_type": "display_data"
    }
   ],
   "source": [
    "%%html\n",
    "<iframe width=\"560\" height=\"315\" src=\"https://www.youtube.com/embed/uZFKOUfibt4?rel=0\" frameborder=\"0\" allow=\"accelerometer; encrypted-media; gyroscope; picture-in-picture\" allowfullscreen></iframe>\n",
    "<iframe width=\"560\" height=\"315\" src=\"https://www.youtube.com/embed/KeT2i-ARZ7c?rel=0\" frameborder=\"0\" allow=\"accelerometer; encrypted-media; gyroscope; picture-in-picture\" allowfullscreen></iframe>\n",
    "<iframe width=\"560\" height=\"315\" src=\"https://www.youtube.com/embed/sB5HRZgqgIg?rel=0\" frameborder=\"0\" allow=\"accelerometer; encrypted-media; gyroscope; picture-in-picture\" allowfullscreen></iframe>"
   ]
  },
  {
   "cell_type": "markdown",
   "metadata": {
    "slideshow": {
     "slide_type": "-"
    }
   },
   "source": [
    "So what happens if we further downsample an already discrete signal x(n), to reduce its sampling rate?\n",
    "\n",
    "**Downsampling by N** means we only keep every Nth sample and discard every sample in between. Observe that this results in a **normalized frequency which is a factor of N higher**.\n",
    "\n",
    "This downsampling process can also be seen as first multiplying the signal with a sequence of **unit pulses** (a 1 at each sample position), zeros in between, and later dropping the zeros (just like with the Dirac impulses, but now with 1's instead of the Dirac impulses). This multiplication with the unit pulse train can now be used to mathematically analyse this downsampling, looking at the resulting spectra, first still including the zeros. The frequency response now becomes\n",
    "\n",
    "\n",
    "$$\\large X^d(\\Omega)=\\sum_{n=mN} x(n)e^{-j \\Omega n}$$\n",
    "$$\\large =\\sum_{m=- \\infty}^ \\infty x(mN)e^{-j \\Omega mN}$$\n",
    "for all integers m.\n",
    "\n",
    "Again we can write down-sampling as a multiplication of the signal with a sampling function. In continuous time it was the sequence of Dirac impulses, here it is a **sequence of unit pulses** at positions of multiples of N,\n",
    "\n",
    "$$\\large \n",
    "\\delta_N ( n ) = \\left ( \\matrix {{1 , \\text{if n = m N}} \\\\ {0 , \\text{else}}} \\right) $$\n",
    "\n",
    "Then the sampled signal, with the zeros still in it, becomes\n",
    "\n",
    "$$\\large\n",
    "x^d(n)=x(n)\\Delta _N (n)$$\n",
    "\n",
    "This signal is now an intermediate signal, which gets the zeros removed before transmission or storage, to reduce the needed data rate. The decoder upsamples it by re-inserting the zeros to obtain the original sampling rate.\n",
    "\n",
    "Observe that this is then also the signal  that we obtain after this upsampling in the decoder. Hence this signal looks interesting to us, because it appears in the encoder and also in the decoder."
   ]
  },
  {
   "cell_type": "markdown",
   "metadata": {
    "slideshow": {
     "slide_type": "-"
    }
   },
   "source": [
    "What does its spectrum or **frequency response** look like?\n",
    "\n",
    "We saw that the downsampled signal $x^d(n)$ can be written as the multiplication of the original signal with the unit pulse train $\\delta_N(n)$. \n",
    "\n",
    "In the spectrum or frequency domain this becomes a convolution with their Fourier transforms. The Fourier transform of the unit pulse train is a Dirac impulse train. But that is not so easy to derive, so we just apply a simple trick, to make it mathematically more easy and get converging sums. We have a guess what the Fourier transform of the unit pulse train is: we get Dirac impulses at frequencies of $\\large \\frac{2\\pi}{N}k.$\n",
    "\n",
    "Remember that the inverse Discrete Time Fourier transform is:\n",
    "\n",
    "$$\\large\n",
    "\\delta_N(n) = \\dfrac{1}{2\\pi} \\int_0^{2\\pi} \\Delta(\\Omega)e^{jn\\Omega}d\\Omega$$\n",
    "\n",
    "where\n",
    "$\\large\n",
    "\\Delta(\\Omega)=\\dfrac{2\\pi}{N}\\sum_{k=0}^{N-1}\\delta \\left(\\dfrac{2\\pi}{N}k \\right)$ is the Fourier transform of the unit pulse train.\n",
    "\n",
    "We can now apply the inverse Fourier transform to our guess, and use it in the time domain:\n",
    "\n",
    "$$\\large\n",
    "\\delta_N(n) = \\dfrac{1}{N} \\sum_{k=0}^{N-1}e^{j\\frac{2\\pi}{N}kn}\n",
    "$$\n",
    "\n",
    "Here we get $c=e^{j\\frac {2 \\pi}{N}n}$, and the sum can hence be computed in a closed form:\n",
    "\n",
    "$$ \\large\n",
    " \\sum _{k = 0}^{N - 1} {e^{j \\frac{2 π} { N} \\cdot n \\cdot k} } =\\frac{e^{j \\frac{2  π} { N} \\cdot n \\cdot N} - 1}  {e^{j \\frac{2  π} {N }\\cdot n} - 1}\n",
    "$$\n",
    "\n",
    "Now we have to prove that this is indeed true (since we only applied a guess). To do that, we can look at the sum. It is a geometric sum (a sum over a constant with the summation index in the exponent):\n",
    "\n",
    "$S= \\sum _{k = 0} ^ {N - 1} c^k$ , $S \\cdot c = \\sum _{k = 1} ^ N c^k$ , $S c -S =c^N -1$, hence we get:\n",
    "\n",
    "$$S =\\frac{c^N - 1}  {c - 1}$$\n",
    "\n",
    "In order to get our unit pulse train, this sum must become N for n=mN. We can check this by simply plugging this into the sum. The right part of the sum is undefined in this case (0/0), but we get an easy result by looking at the left hand side: $e^{j \\frac{2 π}{N} \\cdot m N \\cdot k} =1$. Hence the sum becomes N, as desired!<br>\n",
    "For $n  \\neq m N$ we need the sum to be zero. Here we can now use the right hand side of our equation. The denominator is unequal zero, and the numerator becomes zero, and hence the sum is indeed zero, as needed!\n",
    "\n",
    "This proves that our **assumption was right**. Now we can use this expression for the unit pulse train in the time domain and compute the Fourier transform,\n",
    "\n",
    "$$ \\large\n",
    "x^d \\left ( n \\right )  =x \\left ( n \\right )  \\cdot \\Delta_N \\left ( n \\right ) $$\n",
    "\n",
    "$$\\large\n",
    "=x  ( n  ) \\cdot \\frac{1}{N}  \\sum _ {k = 0} ^{N - 1} e^{j \\frac{2 π} {N} \\cdot k \\cdot n}\n",
    "$$\n",
    "\n",
    "Taking its Discrete Time Fourier transform now results in\n",
    "\n",
    "$$\\large\n",
    "X^d \\left ( \\Omega \\right )  = \\sum _ {n = - \\infty} ^ \\infty {x(n) \\cdot} \\frac{1}{ N}  \\sum _ {k = 0} ^{N - 1} e^{j \\frac{2\\pi}{ N}\\cdot k \\cdot n} \\cdot e^{- j\\Omega n} = $$\n",
    "\n",
    "$$\\large\n",
    "=\\frac{1} { N}  \\sum _ {k = 0}^ {N - 1}\\sum _{n=-\\infty}^{\\infty} {x  ( n )\\cdot e^{-j\\left(- \\frac{2\\pi}{N}\\cdot k +\\Omega\\right)\\cdot n}}$$\n",
    "\n",
    "$$\\large\n",
    "=\\frac{1} {N}  \\sum _{k = 0} ^{N - 1} {X  \\left(  - \\frac{2 \\pi}{ N} k + \\Omega  \\right)}\n",
    "$$\n",
    "\n",
    "We see, that sampling, still including the zeros, leads (in the frequency domain) to **multiple shifted versions of the signal spectrum**, the so-called **aliasing components** (N-1 aliasing components):\n",
    "\n",
    "$$\\large\n",
    "\\begin{equation}\n",
    "X^d (\\Omega)= \\frac{1} {N} \\sum _{k=0} ^{N-1} X \\left(- \\frac{2 \\pi}{N} \\cdot k + \\Omega\\right)\n",
    "\\end{equation}$$\n",
    "\n",
    "**In conclusion:** Sampling a signal by a factor of N, with keeping the zeros between the sample points, leads to N-1 aliasing components."
   ]
  },
  {
   "cell_type": "markdown",
   "metadata": {
    "slideshow": {
     "slide_type": "-"
    }
   },
   "source": [
    "**Example:**\n",
    "\n",
    "Make a sine wave which at 44100 Hz sampling rate has a frequency of 400 Hz at 1 second duration. Hence we need 44100 samples, and 400 periods of our sinusoid in this second. Hence we can write our signal in Python as:"
   ]
  },
  {
   "cell_type": "code",
   "execution_count": 26,
   "metadata": {
    "hide_input": true
   },
   "outputs": [
    {
     "data": {
      "text/html": [
       "<iframe width=\"560\" height=\"315\" src=\"https://www.youtube.com/embed/GpiB5cDa5to?rel=0\" frameborder=\"0\" allow=\"accelerometer; encrypted-media; gyroscope; picture-in-picture\" allowfullscreen></iframe>\n"
      ],
      "text/plain": [
       "<IPython.core.display.HTML object>"
      ]
     },
     "metadata": {},
     "output_type": "display_data"
    }
   ],
   "source": [
    "%%html\n",
    "<iframe width=\"560\" height=\"315\" src=\"https://www.youtube.com/embed/GpiB5cDa5to?rel=0\" frameborder=\"0\" allow=\"accelerometer; encrypted-media; gyroscope; picture-in-picture\" allowfullscreen></iframe>"
   ]
  },
  {
   "cell_type": "code",
   "execution_count": 4,
   "metadata": {
    "slideshow": {
     "slide_type": "-"
    }
   },
   "outputs": [],
   "source": [
    "import numpy as np\n",
    "import matplotlib.pyplot as plt\n",
    "fs = 44100\n",
    "f = 400.0\n",
    "s=np.sin(2*np.pi*f*np.arange(0,1,1.0/fs))"
   ]
  },
  {
   "cell_type": "code",
   "execution_count": 5,
   "metadata": {
    "scrolled": true,
    "slideshow": {
     "slide_type": "-"
    }
   },
   "outputs": [
    {
     "data": {
      "text/html": [
       "\n",
       "                <audio  controls=\"controls\" >\n",
       "                    <source src=\"data:audio/wav;base64,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\" type=\"audio/wav\" />\n",
       "                    Your browser does not support the audio element.\n",
       "                </audio>\n",
       "              "
      ],
      "text/plain": [
       "<IPython.lib.display.Audio object>"
      ]
     },
     "execution_count": 5,
     "metadata": {},
     "output_type": "execute_result"
    }
   ],
   "source": [
    "import IPython.display as ipd\n",
    "ipd.Audio(s, rate=fs)"
   ]
  },
  {
   "cell_type": "code",
   "execution_count": 6,
   "metadata": {
    "scrolled": false,
    "slideshow": {
     "slide_type": "-"
    }
   },
   "outputs": [
    {
     "data": {
      "image/png": "[encoded data removed]",
      "text/plain": [
       "<Figure size 720x576 with 1 Axes>"
      ]
     },
     "metadata": {
      "needs_background": "light"
     },
     "output_type": "display_data"
    }
   ],
   "source": [
    "# Plot the first 1000 samples\n",
    "plt.figure(figsize=(10,8))\n",
    "plt.plot(s[0:1000])\n",
    "plt.grid()"
   ]
  },
  {
   "cell_type": "markdown",
   "metadata": {
    "slideshow": {
     "slide_type": "-"
    }
   },
   "source": [
    "Now we can multiply this sine tone signal with a unit pulse train, with N=8.\n",
    "We use an **indexing trick** to get the desired result of only keeping every 8th sample and having zeros in between:"
   ]
  },
  {
   "cell_type": "code",
   "execution_count": 7,
   "metadata": {
    "slideshow": {
     "slide_type": "-"
    }
   },
   "outputs": [
    {
     "data": {
      "image/png": "[encoded data removed]",
      "text/plain": [
       "<Figure size 720x576 with 1 Axes>"
      ]
     },
     "metadata": {
      "needs_background": "light"
     },
     "output_type": "display_data"
    }
   ],
   "source": [
    "import matplotlib.pyplot as plt\n",
    "sdu = np.zeros(44100)\n",
    "sdu[0::8]=s[0::8]\n",
    "\n",
    "# Now plot the result, the first 100 samples:\n",
    "plt.figure(figsize=(10,8))\n",
    "plt.plot(s[0:100], label='Original Signal')\n",
    "plt.stem(sdu[0:100],linefmt='r',markerfmt='r.', use_line_collection=True, label='Downsampled with zeros')\n",
    "plt.legend()\n",
    "plt.grid()"
   ]
  },
  {
   "cell_type": "markdown",
   "metadata": {
    "slideshow": {
     "slide_type": "-"
    }
   },
   "source": [
    "Now take a look at the spectrum of the original signal s:"
   ]
  },
  {
   "cell_type": "code",
   "execution_count": 8,
   "metadata": {
    "slideshow": {
     "slide_type": "-"
    }
   },
   "outputs": [
    {
     "data": {
      "image/png": "[encoded data removed]",
      "text/plain": [
       "<Figure size 720x576 with 1 Axes>"
      ]
     },
     "metadata": {
      "needs_background": "light"
     },
     "output_type": "display_data"
    }
   ],
   "source": [
    "from scipy.signal import freqz\n",
    "w,H=freqz(s)\n",
    "plt.figure(figsize=(10,8))\n",
    "plt.plot(w, abs(H)+1e-3)\n",
    "plt.xlabel('Normalized Frequency: $\\pi$ is Nyquist freq.')\n",
    "plt.ylabel('Magnitude')\n",
    "plt.title('Spectrum of The Sinusoid')\n",
    "plt.grid()"
   ]
  },
  {
   "cell_type": "markdown",
   "metadata": {
    "slideshow": {
     "slide_type": "-"
    }
   },
   "source": [
    "The plot shows the magnitude of the frequency spectrum of our signal. Observe that the frequency axis (horizontal) is a *normalized* frequency, normalized to the Nyquist frequency as $\\pi$, in our case 22050 Hz. Hence our sinusoid should appear as a peak at normalized frequency 400.0/22050*pi=0.05699, which we indeed see.\n",
    " \n",
    "Now we can compare this to our signal with the zeros, sdu:"
   ]
  },
  {
   "cell_type": "code",
   "execution_count": 9,
   "metadata": {
    "scrolled": false,
    "slideshow": {
     "slide_type": "-"
    }
   },
   "outputs": [
    {
     "data": {
      "image/png": "[encoded data removed]",
      "text/plain": [
       "<Figure size 720x576 with 1 Axes>"
      ]
     },
     "metadata": {
      "needs_background": "light"
     },
     "output_type": "display_data"
    }
   ],
   "source": [
    "plt.figure(figsize=(10,8))\n",
    "w,H=freqz(s)\n",
    "plt.plot(w, abs(H))\n",
    "plt.xlabel('Normalized Frequency: $\\pi$ is Nyquist freq.')\n",
    "plt.ylabel('Magnitude')\n",
    "plt.title('Magnitude Spectrum of the Sinusoids')\n",
    "\n",
    "w,H=freqz(sdu)\n",
    "plt.plot(w, abs(H))\n",
    "plt.legend(('Original Sinusoid','Sampled Sinusoid with Zeros'))\n",
    "plt.grid();"
   ]
  },
  {
   "cell_type": "markdown",
   "metadata": {
    "slideshow": {
     "slide_type": "-"
    }
   },
   "source": [
    "Here we can see the original line of our 400 Hz tone, and now also the 7 new aliasing components. Observe that always 2 aliasing components are close together. This is because the original 400 Hz tone also has a spectral peak at the negative frequencies, at -400 Hz, or at normalized frequency -0.05699.\n",
    "\n",
    "Often, the small magnitude components on this plot are also interesting, for that reason magnitude frequency responses are usually plotted on a logarithmic Decibel (dB) scale, applying the function 20*log10(.) to it,"
   ]
  },
  {
   "cell_type": "code",
   "execution_count": 10,
   "metadata": {
    "scrolled": false,
    "slideshow": {
     "slide_type": "-"
    }
   },
   "outputs": [
    {
     "data": {
      "image/png": "[encoded data removed]",
      "text/plain": [
       "<Figure size 720x576 with 1 Axes>"
      ]
     },
     "metadata": {
      "needs_background": "light"
     },
     "output_type": "display_data"
    }
   ],
   "source": [
    "plt.figure(figsize=(10,8))\n",
    "w,H=freqz(sdu)\n",
    "plt.plot(w, 20*np.log10(abs(H)))\n",
    "plt.xlabel('Normalized Frequency: $\\pi$ is Nyquist freq.')\n",
    "plt.ylabel('Magnitude in dB')\n",
    "plt.title('Magnitude Spectrum of the  Downsampled Sinusoid in dB')\n",
    "plt.grid()"
   ]
  },
  {
   "cell_type": "markdown",
   "metadata": {
    "slideshow": {
     "slide_type": "-"
    }
   },
   "source": [
    "Observe that the small magnitudes become much more visible.\n",
    "\n",
    "Now also listen to the signal with the zeros:"
   ]
  },
  {
   "cell_type": "code",
   "execution_count": 11,
   "metadata": {
    "hide_input": false,
    "slideshow": {
     "slide_type": "-"
    }
   },
   "outputs": [
    {
     "data": {
      "text/html": [
       "\n",
       "                <audio  controls=\"controls\" >\n",
       "                    <source src=\"data:audio/wav;base64,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\" type=\"audio/wav\" />\n",
       "                    Your browser does not support the audio element.\n",
       "                </audio>\n",
       "              "
      ],
      "text/plain": [
       "<IPython.lib.display.Audio object>"
      ]
     },
     "execution_count": 11,
     "metadata": {},
     "output_type": "execute_result"
    }
   ],
   "source": [
    "import IPython.display as ipd\n",
    "ipd.Audio(sdu, rate=44100)"
   ]
  },
  {
   "cell_type": "markdown",
   "metadata": {
    "slideshow": {
     "slide_type": "-"
    }
   },
   "source": [
    "Here you can hear that it sounds quite different from the original, because of the string of aliasing components!"
   ]
  },
  {
   "cell_type": "markdown",
   "metadata": {
    "slideshow": {
     "slide_type": "subslide"
    }
   },
   "source": [
    "### Real-Time Python Example\n",
    "\n",
    "*Note: Real-Time Audio Examples don't work inside cloud environments such as Google Colab and Binder.*"
   ]
  },
  {
   "cell_type": "code",
   "execution_count": 27,
   "metadata": {
    "hide_input": true
   },
   "outputs": [
    {
     "data": {
      "text/html": [
       "<iframe width=\"560\" height=\"315\" src=\"https://www.youtube.com/embed/hbIQOeD4N2k?rel=0\" frameborder=\"0\" allow=\"accelerometer; encrypted-media; gyroscope; picture-in-picture\" allowfullscreen></iframe>\n"
      ],
      "text/plain": [
       "<IPython.core.display.HTML object>"
      ]
     },
     "metadata": {},
     "output_type": "display_data"
    }
   ],
   "source": [
    "%%html\n",
    "<iframe width=\"560\" height=\"315\" src=\"https://www.youtube.com/embed/hbIQOeD4N2k?rel=0\" frameborder=\"0\" allow=\"accelerometer; encrypted-media; gyroscope; picture-in-picture\" allowfullscreen></iframe>"
   ]
  },
  {
   "cell_type": "markdown",
   "metadata": {
    "slideshow": {
     "slide_type": "-"
    }
   },
   "source": [
    "**Python** real time audio **example**: This example takes the microphone input and samples it, without removing the zeros, and plays it back the the speaker in real time.\n",
    "\n",
    "It constructs a unit pulse train, with a 1 at every N'th sample, using the modulus function „%“, \n",
    "\n",
    "```s=(np.arange(0,CHUNK)%N)==0```\n",
    "\n",
    "Here you can hear the microphone signal as it is sampled at 32 kHz sampling rate, and then multiplied with a unit pulse train, and then played out, again at 32 kHz sampling rate. \n",
    "\n",
    "Observe: you can hear the high frequency aliasing artifacts, which sound a little like ringing. You can play with the script and see how the sound changes when you change the downsampling rate \"N\" in the script."
   ]
  },
  {
   "cell_type": "code",
   "execution_count": 12,
   "metadata": {
    "slideshow": {
     "slide_type": "-"
    }
   },
   "outputs": [
    {
     "data": {
      "application/vnd.jupyter.widget-view+json": {
       "model_id": "2d0ad360d986443f872b40f981f676c1",
       "version_major": 2,
       "version_minor": 0
      },
      "text/plain": [
       "ToggleButton(value=False, description='Stop')"
      ]
     },
     "metadata": {},
     "output_type": "display_data"
    },
    {
     "data": {
      "application/vnd.jupyter.widget-view+json": {
       "model_id": "5215a83d08cb4454827ae35947999072",
       "version_major": 2,
       "version_minor": 0
      },
      "text/plain": [
       "Checkbox(value=False, description='Downsampling with Zeros')"
      ]
     },
     "metadata": {},
     "output_type": "display_data"
    },
    {
     "name": "stdout",
     "output_type": "stream",
     "text": [
      "PyAudio terminated...\n"
     ]
    }
   ],
   "source": [
    "\"\"\"\n",
    "PyAudio Example: Make a sampling between input and output \n",
    "(i.e., record a few samples, multiply them with a unit pulse train,\n",
    "and play them back immediately).\n",
    "Using block-wise processing instead of a for loop\n",
    "Gerald Schuller, Octtober 2014\n",
    "\n",
    "Updated and Ported to Jupyter Notebooks by: Renato Profeta, November 2019\n",
    "\"\"\"\n",
    "\n",
    "import time\n",
    "import numpy as np\n",
    "from pyaudio import PyAudio, paFloat32, paContinue, paInt16, paComplete\n",
    "from ipywidgets import ToggleButton, Checkbox\n",
    "import threading\n",
    "\n",
    "sampling_on=False\n",
    "\n",
    "button_stop= ToggleButton(description='Stop')\n",
    "box_sampling = Checkbox(False, description='Downsampling with Zeros')\n",
    "\n",
    "def on_button_stop(change):\n",
    "    if change['new']==True:\n",
    "        stream.stop_stream()\n",
    "        stream.close()\n",
    "        pa.terminate()\n",
    "        button_stop.disabled=True\n",
    "        print('PyAudio terminated...')\n",
    "button_stop.observe(on_button_stop, 'value')\n",
    "display(button_stop)\n",
    "\n",
    "def box_sampling_changed(box_sampling):\n",
    "    global SamplingOn\n",
    "    if box_sampling['new']: \n",
    "        SamplingOn=True\n",
    "    else:\n",
    "        SamplingOn=False       \n",
    "box_sampling.observe(box_sampling_changed, names='value')\n",
    "display(box_sampling)\n",
    "\n",
    "N=8\n",
    "s=(np.arange(0,1024)%N)==0\n",
    "SamplingOn=False\n",
    "\n",
    "\n",
    "def callback(in_data, frame_count, time_info, flag):\n",
    "    global SamplingOn\n",
    "    audio_data = np.frombuffer(in_data, dtype=np.int16)\n",
    "    audio_data_s = audio_data\n",
    "    if SamplingOn:\n",
    "        audio_data_s=audio_data*s\n",
    "    if button_stop.value==True:\n",
    "        return (audio_data_s, paComplete)\n",
    "    return (audio_data_s, paContinue)\n",
    "\n",
    "pa = PyAudio()\n",
    "\n",
    "stream = pa.open(format = paInt16,\n",
    "                 channels = 1,\n",
    "                 rate = 32000,\n",
    "                 output = True,\n",
    "                 input = True,\n",
    "                 frames_per_buffer = 1024,\n",
    "                 stream_callback = callback)\n",
    "\n",
    "\n",
    "def keep_alive(button_stop):\n",
    "    while stream.is_active():\n",
    "        if button_stop.value==True:\n",
    "            break\n",
    "        time.sleep(0.1)\n",
    "\n",
    "# Create a Thread for run_spectrogram function\n",
    "thread = threading.Thread(target=keep_alive, args=(button_stop,))\n",
    "stream.start_stream()\n",
    "thread.start()"
   ]
  },
  {
   "cell_type": "markdown",
   "metadata": {
    "slideshow": {
     "slide_type": "slide"
    }
   },
   "source": [
    "## Removing the Zeros"
   ]
  },
  {
   "cell_type": "code",
   "execution_count": 28,
   "metadata": {
    "hide_input": true
   },
   "outputs": [
    {
     "data": {
      "text/html": [
       "<iframe width=\"560\" height=\"315\" src=\"https://www.youtube.com/embed/XGKfAm1-Mek?rel=0\" frameborder=\"0\" allow=\"accelerometer; encrypted-media; gyroscope; picture-in-picture\" allowfullscreen></iframe>\n"
      ],
      "text/plain": [
       "<IPython.core.display.HTML object>"
      ]
     },
     "metadata": {},
     "output_type": "display_data"
    }
   ],
   "source": [
    "%%html\n",
    "<iframe width=\"560\" height=\"315\" src=\"https://www.youtube.com/embed/XGKfAm1-Mek?rel=0\" frameborder=\"0\" allow=\"accelerometer; encrypted-media; gyroscope; picture-in-picture\" allowfullscreen></iframe>"
   ]
  },
  {
   "cell_type": "markdown",
   "metadata": {
    "slideshow": {
     "slide_type": "-"
    }
   },
   "source": [
    "The final step of downsampling is now to omit the zeros between the samples, to obtain the lower sampling rate. Let's call the signal without the zeros  $y(m)$ where the time index m denotes the **lower sampling rate** (as opposed to n, which denotes the higher sampling rate). \n",
    "\n",
    "In our Python example this is:"
   ]
  },
  {
   "cell_type": "code",
   "execution_count": 13,
   "metadata": {
    "slideshow": {
     "slide_type": "-"
    }
   },
   "outputs": [
    {
     "data": {
      "image/png": "[encoded data removed]",
      "text/plain": [
       "<Figure size 720x576 with 1 Axes>"
      ]
     },
     "metadata": {
      "needs_background": "light"
     },
     "output_type": "display_data"
    }
   ],
   "source": [
    "sd = sdu[0:44100:8]\n",
    "plt.figure(figsize=(10,8))\n",
    "plt.stem(sd[0:int(100/8)],linefmt='r',markerfmt='r.', use_line_collection=True, label='Downsampled without zeros')\n",
    "plt.legend()\n",
    "plt.grid();"
   ]
  },
  {
   "cell_type": "markdown",
   "metadata": {
    "slideshow": {
     "slide_type": "-"
    }
   },
   "source": [
    "Observe that here we only have $\\frac{100}{8}\\approx 12$ samples left."
   ]
  },
  {
   "cell_type": "markdown",
   "metadata": {
    "slideshow": {
     "slide_type": "-"
    }
   },
   "source": [
    "How are the frequency responses or spectra of $y(m)$ and $x^d(n)$ connected? \n",
    "\n",
    "We can simply take the Fourier transforms of them,\n",
    "\n",
    "$$ \\large\n",
    "X^d (\\Omega)=\\sum _ {n=- \\infty}^ \\infty x^d (n) \\cdot  e^{-j \\Omega n} \n",
    "$$\n",
    "\n",
    "still with the zeros in it. Hence most of the sum contains only zeros. Now we only need to let the sum run over the non-zeros entries (only every Nth entry), by replacing n by mN, and we get\n",
    "\n",
    "$$ \\large\n",
    "X^d (\\Omega)=\\sum _ {n=mN} x^d (n) \\cdot  e^{-j \\Omega n} \n",
    "$$\n",
    "\n",
    "for all integer m, now without the zeros. Now we can make the connection to the Fourier transform of y(m), by making the index substitution m for n in the sum,\n",
    "\n",
    "\n",
    "$$ \\large\n",
    "X^d (\\Omega)= \\sum _{m=- \\infty} ^ \\infty y(m) \\cdot  e^{-j \\Omega \\cdot N m} = Y(\\Omega \\cdot N) \n",
    "$$\n",
    "\n",
    "This is now our result. It shows that the downsampled version (with the removal of the zeros), has the same frequency response, but the frequency variable $\\Omega$ is scaled by the factor N. \n",
    "\n",
    "For instance, the normalized frequency $\\pi /N$ before downsampling becomes $\\pi$ after removing the zeros! It shows that a **small part of the spectrum before downsampling becomes the full usable spectrum after downsampling.**\n",
    "\n",
    "Observe that we don't loose any frequencies this way, because by looking at eq. (1) we see that we obtain multiple copies of the spectrum in steps of $2\\pi /N$, and hence the spectrum already has a periodicity of $2\\pi /N$. This means that the spectrum between $-\\pi/N$ and $\\pi/N$ for instance (we could take any period of length $2\\pi /N$) contains a unique and full part of the spectrum, because the rest is just a periodic continuation. "
   ]
  },
  {
   "cell_type": "markdown",
   "metadata": {
    "slideshow": {
     "slide_type": "-"
    }
   },
   "source": [
    "We can now take a look at the spectrum with :"
   ]
  },
  {
   "cell_type": "markdown",
   "metadata": {
    "slideshow": {
     "slide_type": "-"
    }
   },
   "source": [
    "Observe that the sine signal now appear at normalized frequency of 0.455, a **factor of 8 higher** than before, with the zeros in it, because we **reduced the sampling rate by 8**. \n",
    "\n",
    "This is because we now have a new Nyquist frequency of 22050/8 now, hence our normalized frequency becomes $400*3.14 / 22050.8 \\approx 0.455$. This means removing the zeros scales or stretches our frequency axis.\n",
    "\n",
    "    \n",
    "Observe that in our time-domain plot, we only have $100/8 \\approx12$ samples left."
   ]
  },
  {
   "cell_type": "markdown",
   "metadata": {
    "slideshow": {
     "slide_type": "-"
    }
   },
   "source": [
    "This can be seen in following pictures,\n",
    "\n",
    "<center>\n",
    "    <img src='./images/lecture6-6.png' width='700'>\n",
    "    Figure: The magnitude spectrum of a signal. The 2 boxes symbolize the passband of an ideal bandpass, here a high pass.\n",
    "    <img src='./images/lecture6-8.png' width='700'>\n",
    "    Figure: The signal spectrum after passing through the high pass. \n",
    "    <img src='./images/lecture6-7.png' width='700' >\n",
    "    Figure: Signal spectrum after multiplication with the unit pulse train, for N=2, hence setting every second value to zero (the zeros still in the sequence). Observe that we shift and add the signal by multiples of $2\\pi /2=\\pi$, and in effect we obtain „mirrored“ images of the high frequencies to the low frequencies (since we assume a real valued signal). Observe that the mirrored spectra and the original spectrum don't overlap, which makes reconstruction easy.\n",
    "    <img src='./images/lecture6-9.png' width='700'>\n",
    "    Figure: Signal spectrum after downsampling (removing the zeros) by N (2 in this example). Observe the stretching of the spectrum by a factor of 2. \n",
    "</center>\n",
    "\n",
    "**In conclusion:** Removing the N-1 zeros between samples stretches the spectrum of the signal by a factor of N."
   ]
  },
  {
   "cell_type": "markdown",
   "metadata": {
    "slideshow": {
     "slide_type": "-"
    }
   },
   "source": [
    "## Upsampling"
   ]
  },
  {
   "cell_type": "code",
   "execution_count": 30,
   "metadata": {
    "hide_input": true
   },
   "outputs": [
    {
     "data": {
      "text/html": [
       "<iframe width=\"560\" height=\"315\" src=\"https://www.youtube.com/embed/Ow_FOJS82gc?rel=0\" frameborder=\"0\" allow=\"accelerometer; encrypted-media; gyroscope; picture-in-picture\" allowfullscreen></iframe>\n",
       "<iframe width=\"560\" height=\"315\" src=\"https://www.youtube.com/embed/bIYXoAUISNs?rel=0\" frameborder=\"0\" allow=\"accelerometer; encrypted-media; gyroscope; picture-in-picture\" allowfullscreen></iframe>\n"
      ],
      "text/plain": [
       "<IPython.core.display.HTML object>"
      ]
     },
     "metadata": {},
     "output_type": "display_data"
    }
   ],
   "source": [
    "%%html\n",
    "<iframe width=\"560\" height=\"315\" src=\"https://www.youtube.com/embed/Ow_FOJS82gc?rel=0\" frameborder=\"0\" allow=\"accelerometer; encrypted-media; gyroscope; picture-in-picture\" allowfullscreen></iframe>\n",
    "<iframe width=\"560\" height=\"315\" src=\"https://www.youtube.com/embed/bIYXoAUISNs?rel=0\" frameborder=\"0\" allow=\"accelerometer; encrypted-media; gyroscope; picture-in-picture\" allowfullscreen></iframe>"
   ]
  },
  {
   "cell_type": "markdown",
   "metadata": {
    "slideshow": {
     "slide_type": "-"
    }
   },
   "source": [
    "What is still missing in our system is the upsampling, as the opposite operation of downsampling, for the case where we would like to increase our sampling rate. One of the first (**wrong!**) approaches to upsampling that often comes to mind if we want to do upsampling by a factor of N, is to simply repeat every sample N-1 times. \n",
    "\n",
    "**But** this is equivalent to first inserting N-1 zeros after each sample, and then filter the resulting sequence by a **low pass** filter with an impulse response of N ones. This is a very special case, and we would like to have a more general case. \n",
    "\n",
    "In our case, we actually a high pass filter, not a low pass. Hence we assume that we upsample by always first inserting N-1 **zeros** after each sample, and then have some interpolation filter for it (can also be a **high or band pass**, as needed to reconstruct a signal).\n",
    "\n",
    "Again we take the signal at the lower sampling rate as $y(m)$, with index m for the lower sampling rate, and the signal at the higher sampling rate, with the zeros in it, as $x^d(n)$ with index n for the higher sampling rate. Here we can see that this is simply the reverse operation of the final step of removing the zeros for the downsampling.\n",
    "\n",
    "Hence we can take our result from downsampling and apply it here:\n",
    "\n",
    "$$X^d(\\Omega)=Y(\\Omega \\cdot N)$$\n",
    "$$or$$\n",
    "$$X^d(\\Omega /N)=Y(\\Omega )$$\n",
    "\n",
    "We are now just coming from y(m), going to the now upsampled signal $x^d(n)$.\n",
    "\n",
    "For instance if we had the frequency $\\pi$ before upsampling, it becomes $\\pi /2$ for the upsampled signal, if we have N=2. In this way we now get an „extended“ frequency range.\n",
    "\n",
    "Since the spectrum before upsampling was also $2\\pi$ periodic, the extra spectrum we obtain contains a periodic continuation of our spectrum, which again is aliasing, which we would like to supress using filters (lowpass or bandpass) after upsampling."
   ]
  },
  {
   "cell_type": "markdown",
   "metadata": {
    "slideshow": {
     "slide_type": "-"
    }
   },
   "source": [
    "We saw the effects of downsampling and upsampling. Observe that we can perfectly reconstruct the high pass signal in our example if we use ideal filters, using upsampling and ideal high pass filtering.\n",
    "\n",
    "In this way we have for the analysis and synthesis the following picture:\n",
    "\n",
    "<center>\n",
    "    <br>\n",
    "    <img src='./images/lecture6-10.png' width='700'>\n",
    "</center>\n",
    "\n",
    "Observe that we **violate the conventional Nyquist** criterium, because our high pass passes the high frequencies. But then the sampling **mirrors** those frequencies **to the lower range**, such that we can apply the traditional Nyquist sampling theorem. This method is also known as bandpass Nyquist. This is an important principle for filter banks and wavelets. It says that we can perfectly reconstruct a bandpass signal in a filter bank, if we sample with twice the rate as the **bandwidth** of our bandpass signal (assuming ideal filters, to avoid spectral overlap of aliasing components)."
   ]
  },
  {
   "cell_type": "markdown",
   "metadata": {
    "slideshow": {
     "slide_type": "slide"
    }
   },
   "source": [
    "## Effects in the z-Domain"
   ]
  },
  {
   "cell_type": "code",
   "execution_count": 34,
   "metadata": {
    "hide_input": true
   },
   "outputs": [
    {
     "data": {
      "text/html": [
       "<iframe width=\"560\" height=\"315\" src=\"https://www.youtube.com/embed/e1xQJDLMHHE?rel=0\" frameborder=\"0\" allow=\"accelerometer; encrypted-media; gyroscope; picture-in-picture\" allowfullscreen></iframe>\n"
      ],
      "text/plain": [
       "<IPython.core.display.HTML object>"
      ]
     },
     "metadata": {},
     "output_type": "display_data"
    }
   ],
   "source": [
    "%%html\n",
    "<iframe width=\"560\" height=\"315\" src=\"https://www.youtube.com/embed/e1xQJDLMHHE?rel=0\" frameborder=\"0\" allow=\"accelerometer; encrypted-media; gyroscope; picture-in-picture\" allowfullscreen></iframe>"
   ]
  },
  {
   "cell_type": "markdown",
   "metadata": {
    "slideshow": {
     "slide_type": "-"
    }
   },
   "source": [
    "The z-Transform is a more general transform than the Fourier transform, and we will use it to obtain perfect reconstruction in filter banks and wavelets. Hence we will now look at the effects of sampling and some more tools in the z-domain.\n",
    "\n",
    "Since we usually deal with causal systems in practice, we use the 1-sided z-Transform, defined as\n",
    "\n",
    "$$\\large\n",
    "X(z)=\\sum _{n=0} ^ {\\infty} x(n)z^{-n} \n",
    "$$\n",
    "\n",
    "Observe that a multiplication of the z-transform with $z^{−1}$ can be interpreted as a delay of the signal by 1 sample. It can be implemented as a delay or memory element.\n",
    "\n",
    "First observe that we get our usual frequency response (the Discrete Time Fourier Transform) if we evaluate the z-tranform along the unit circle in the z-domain,\n",
    "\n",
    "$$\\large\n",
    "z=e^{j\\Omega}\n",
    "$$\n",
    "\n",
    "What is now the effect of **multiplying our signal with the unitpulse** train in the z-domain? To see this we simply apply the z-transform, and use our sum formulation for the delta impulse train, \n",
    "\n",
    "$$\\large\n",
    "X^d(z)=\\sum_{n=0} ^ {\\infty} x(n) \\Delta_N(n) z^{-n} \n",
    "$$\n",
    "\n",
    "Using (see: Lecture ADSP, Slides 06)\n",
    "$$\\large\n",
    "\\Delta_N(n)= \\frac{1} {N } \\sum_{k = 0} ^ {N - 1} e^{j \\frac{2 π} {N} ∙ k ∙ n}\n",
    "$$\n",
    "\n",
    "this becomes\n",
    "\n",
    "$$\\large\n",
    "\\frac{1}{N} \\sum_{k=0} ^ {N-1} \\sum _{n=0} ^\\infty x(n) (e^{-j \\frac{2 \\pi}{ N} \\cdot k} \\cdot z)^{-n} \n",
    "$$\n",
    "\n",
    "$$\\large\n",
    "= \\frac{1}{N} \\sum_{k=0} ^{N-1} X(e^{-j \\frac{2 \\pi} {N} \\cdot k} \\cdot z) \n",
    "$$\n",
    "\n",
    "(using the z-Transform definition and replacing $z$ by $e^{-j \\frac{2 \\pi} {N} \\cdot k} \\cdot z$:)\n",
    "\n",
    "$$\\large\n",
    "X(e^{-j\\frac{2\\pi} {N} \\cdot k} \\cdot z)=\\sum _ {n=0} ^\\infty x(n)(e^{-j\\frac{2\\pi}{N} \\cdot k} \\cdot z)^{-n} \n",
    "$$\n",
    "\n",
    "or, in short,\n",
    "\n",
    "$$\\large\n",
    "X^d(z)=\\frac{1} {N} \\sum_ {k=0 }^{N-1} X( e^{-j \\frac{2 \\pi} {N} \\cdot k} \\cdot z)\n",
    "$$"
   ]
  },
  {
   "cell_type": "markdown",
   "metadata": {
    "slideshow": {
     "slide_type": "-"
    }
   },
   "source": [
    "This is very similar to the Discrete Time Fourier transform formulation. We get a sum with aliasing components, just that we now don't have frequency shifts for the aliasing terms, but a **multiplication of their exponential functions** to z. Here we effectively shift the phase (or use rotation) of the complex number $z$ using this complex expoential. This also makes sense since the frequency information is contained in the phase of $z$, which we see if we replace $z=e^{j\\Omega}$.\n",
    "\n",
    "\n",
    "The next effect is the **removal or re-insertion of the zeros** from or into the signal. Let's again use our definition $y(m)=x^d(mN)$, meaning the y(m) is the signal without the zeros. Then the z-transform becomes,\n",
    "\n",
    "$$\\large\n",
    "Y(z)=\\sum _{ m=0} ^ \\infty y(m) z^{-m}=$$\n",
    "\n",
    "$$\\large\n",
    "=\\sum _{m=0} ^\\infty x^d(mN)z^{-m} \n",
    "$$\n",
    "\n",
    "Replacing the sum index m (the lower sampling rate) by the higher sampling rate n=mN, and observing that the sequence $x^d(n)$ contains the zeros, with $x^d(n)=0$ for $n\\neq mN$, this results in (using the index substitution $n=mN$)\n",
    "\n",
    "$$\\large\n",
    "=\\sum_{n=0} ^ \\infty x^d(n) z^{-n/N} =\n",
    "\\sum_{n=0} \n",
    "^\\infty x^d(n) (z^{1/N})^{-n}= X^d(z^{1/N})\n",
    "$$"
   ]
  },
  {
   "cell_type": "markdown",
   "metadata": {},
   "source": [
    "### Modulation"
   ]
  },
  {
   "cell_type": "code",
   "execution_count": 35,
   "metadata": {
    "hide_input": true
   },
   "outputs": [
    {
     "data": {
      "text/html": [
       "<iframe width=\"560\" height=\"315\" src=\"https://www.youtube.com/embed/qtwHRFxaGjo?rel=0\" frameborder=\"0\" allow=\"accelerometer; encrypted-media; gyroscope; picture-in-picture\" allowfullscreen></iframe>\n"
      ],
      "text/plain": [
       "<IPython.core.display.HTML object>"
      ]
     },
     "metadata": {},
     "output_type": "display_data"
    }
   ],
   "source": [
    "%%html\n",
    "<iframe width=\"560\" height=\"315\" src=\"https://www.youtube.com/embed/qtwHRFxaGjo?rel=0\" frameborder=\"0\" allow=\"accelerometer; encrypted-media; gyroscope; picture-in-picture\" allowfullscreen></iframe>"
   ]
  },
  {
   "cell_type": "markdown",
   "metadata": {
    "slideshow": {
     "slide_type": "-"
    }
   },
   "source": [
    "Another very useful tool, is the **modulation**. This is the **multiplication** of our signal with a periodic function, for instance an exponential function. It can be written as\n",
    "\n",
    "$$\\large\n",
    "x_M(n):=x(n) \\cdot  e^{-j \\Omega_M \\cdot n}\n",
    "$$\n",
    "\n",
    "(where \"M\" denotes the modulation). Observe that the modulation function here has a periodicity of $2 \\pi/\\Omega_M$. Its z-transform hence becomes\n",
    "\n",
    "$$\\large\n",
    "X_M(z)=\\sum_ {n=0}^ \\infty x(n) \\cdot e^{-j\\Omega_M \\cdot n} \\cdot z^{-n}\n",
    "$$\n",
    "\n",
    "$$\\large\n",
    "X_M(z)=X( e^{j\\Omega_M} \\cdot z)\n",
    "$$\n",
    "\n",
    "here again we have this rotation (or phase shift) of z by an exponential factor.\n",
    "\n",
    "Observe that this has the effect of simply shifting the frequency response by $Ω_M$ , which can be seen by simply replacing z by $e^{j\\Omega}$ to obtain the frequency response."
   ]
  },
  {
   "cell_type": "markdown",
   "metadata": {
    "slideshow": {
     "slide_type": "subslide"
    }
   },
   "source": [
    "### Python example to modulating a speech signal:\n",
    "\n",
    "*Real-Time examples will not work inside cloud environments such as Google Colab and Binder*"
   ]
  },
  {
   "cell_type": "code",
   "execution_count": 42,
   "metadata": {
    "hide_input": true
   },
   "outputs": [
    {
     "data": {
      "text/html": [
       "<iframe width=\"560\" height=\"315\" src=\"https://www.youtube.com/embed/UvYIekLpnE4?rel=0\" frameborder=\"0\" allow=\"accelerometer; encrypted-media; gyroscope; picture-in-picture\" allowfullscreen></iframe>\n"
      ],
      "text/plain": [
       "<IPython.core.display.HTML object>"
      ]
     },
     "metadata": {},
     "output_type": "display_data"
    }
   ],
   "source": [
    "%%html\n",
    "<iframe width=\"560\" height=\"315\" src=\"https://www.youtube.com/embed/UvYIekLpnE4?rel=0\" frameborder=\"0\" allow=\"accelerometer; encrypted-media; gyroscope; picture-in-picture\" allowfullscreen></iframe>"
   ]
  },
  {
   "cell_type": "code",
   "execution_count": 37,
   "metadata": {
    "scrolled": false,
    "slideshow": {
     "slide_type": "-"
    }
   },
   "outputs": [
    {
     "data": {
      "application/vnd.jupyter.widget-view+json": {
       "model_id": "09976d6ec29240d191a1f51de7f09f74",
       "version_major": 2,
       "version_minor": 0
      },
      "text/plain": [
       "ToggleButton(value=False, description='Stop')"
      ]
     },
     "metadata": {},
     "output_type": "display_data"
    },
    {
     "data": {
      "application/vnd.jupyter.widget-view+json": {
       "model_id": "58ae120a794b4224822abf544115994f",
       "version_major": 2,
       "version_minor": 0
      },
      "text/plain": [
       "Checkbox(value=False, description='Modulation')"
      ]
     },
     "metadata": {},
     "output_type": "display_data"
    },
    {
     "name": "stdout",
     "output_type": "stream",
     "text": [
      "PyAudio terminated...\n"
     ]
    }
   ],
   "source": [
    "\"\"\"\n",
    "PyAudio Example: Make a modulation between input and output (i.e., record a\n",
    "few samples, modulate them with a sine, and play them back immediately).\n",
    "Using block-wise processing instead of a for loop\n",
    "Gerald Schuller, Octtober 2014\n",
    "\n",
    "Updated and Ported to Jupyter Notebooks by: Renato Profeta, July 2020\n",
    "\"\"\"\n",
    "\n",
    "import time\n",
    "import numpy as np\n",
    "from pyaudio import PyAudio, paFloat32, paContinue, paInt16, paComplete\n",
    "from ipywidgets import ToggleButton, Checkbox\n",
    "import threading\n",
    "\n",
    "sampling_on=False\n",
    "\n",
    "button_stop= ToggleButton(description='Stop')\n",
    "box_sampling = Checkbox(False, description='Modulation')\n",
    "\n",
    "def on_button_stop(change):\n",
    "    if change['new']==True:\n",
    "        stream.stop_stream()\n",
    "        stream.close()\n",
    "        pa.terminate()\n",
    "        button_stop.disabled=True\n",
    "        print('PyAudio terminated...')\n",
    "button_stop.observe(on_button_stop, 'value')\n",
    "display(button_stop)\n",
    "\n",
    "def box_sampling_changed(box_sampling):\n",
    "    global SamplingOn\n",
    "    if box_sampling['new']: \n",
    "        SamplingOn=True\n",
    "    else:\n",
    "        SamplingOn=False       \n",
    "box_sampling.observe(box_sampling_changed, names='value')\n",
    "display(box_sampling)\n",
    "\n",
    "s=np.sin(np.pi/128*4*np.arange(0,1024))\n",
    "SamplingOn=False\n",
    "\n",
    "\n",
    "def callback(in_data, frame_count, time_info, flag):\n",
    "    global SamplingOn\n",
    "    audio_data = np.frombuffer(in_data, dtype=np.int16).astype('float')\n",
    "    audio_data_s = audio_data\n",
    "    if SamplingOn:\n",
    "        audio_data_s=audio_data*s\n",
    "    if button_stop.value==True:\n",
    "        return (audio_data_s.astype('int16'), paComplete)\n",
    "    return (audio_data_s.astype('int16'), paContinue)\n",
    "\n",
    "pa = PyAudio()\n",
    "\n",
    "stream = pa.open(format = paInt16,\n",
    "                 channels = 1,\n",
    "                 rate = 32000,\n",
    "                 output = True,\n",
    "                 input = True,\n",
    "                 frames_per_buffer = 1024,\n",
    "                 stream_callback = callback)\n",
    "\n",
    "\n",
    "def keep_alive(button_stop):\n",
    "    while stream.is_active():\n",
    "        if button_stop.value==True:\n",
    "            break\n",
    "        time.sleep(0.1)\n",
    "\n",
    "# Create a Thread for function\n",
    "thread = threading.Thread(target=keep_alive, args=(button_stop,))\n",
    "stream.start_stream()\n",
    "thread.start()"
   ]
  },
  {
   "cell_type": "code",
   "execution_count": 43,
   "metadata": {
    "hide_input": true
   },
   "outputs": [
    {
     "data": {
      "text/html": [
       "<iframe width=\"560\" height=\"315\" src=\"https://www.youtube.com/embed/upoWSbQ4ZA4?rel=0\" frameborder=\"0\" allow=\"accelerometer; encrypted-media; gyroscope; picture-in-picture\" allowfullscreen></iframe>\n"
      ],
      "text/plain": [
       "<IPython.core.display.HTML object>"
      ]
     },
     "metadata": {},
     "output_type": "display_data"
    }
   ],
   "source": [
    "%%html\n",
    "<iframe width=\"560\" height=\"315\" src=\"https://www.youtube.com/embed/upoWSbQ4ZA4?rel=0\" frameborder=\"0\" allow=\"accelerometer; encrypted-media; gyroscope; picture-in-picture\" allowfullscreen></iframe>"
   ]
  },
  {
   "attachments": {},
   "cell_type": "markdown",
   "metadata": {
    "slideshow": {
     "slide_type": "-"
    }
   },
   "source": [
    "An intersting case is obtained if we set $\\Omega_M=\\pi$. Then the modulating function is just a sequence of +1,-1,+1,..., and multiplying this with our signal results in a frequency shift of $\\pi$ . If we have a real valued low pass signal, for instance, this will then be shifted by $\\pi$ , and we will obtain a high pass. In this\n",
    "way we can turn the impulse response of a low pass into a high pass, vice versa.\n",
    "\n",
    "<center>\n",
    "    <br>\n",
    "    <img src='./images/ac_01_modulation.png' width='800'>\n",
    "</center>"
   ]
  },
  {
   "cell_type": "markdown",
   "metadata": {
    "slideshow": {
     "slide_type": "-"
    }
   },
   "source": [
    "Another important tool is the **reversal of the ordering** of a finite length signal sequence, with length L (meaning x(n) is non-zero only for n=0,... , L−1 ):\n",
    "\n",
    "$$\\large\n",
    "x_r(n):=x(L-1-n)$$\n",
    "\n",
    "Its z-transform is:\n",
    "\n",
    "$$\\large\n",
    "X_r(z) = \\sum_{n=0}^{\\infty}x(L-1-n)\\cdot z^{-1}$$\n",
    "\n",
    "we can now reverse the order of the summation (of course without affecting the result) by starting at the highest index, going to the lowest, replacing the index n by the expression L−1−n' (index substitution):\n",
    "\n",
    "$$\\large\n",
    "X_r(z)=\\sum_{n'=0}^{\\infty} x(n') \\cdot z^{-(L-1-n')} = z^{-(L-1)}\\cdot X(z^{-1})$$\n",
    "\n",
    "or, in short,\n",
    "\n",
    "$$\\large\n",
    "X_r(z) = z^{-(L-1)}\\cdot X(z^{-1})$$\n",
    "\n",
    "So what we obtain is the inverse of z in the z-transform (which signifies the time reversal), and a factor of $z^{-(L-1)}$, which is simply a delay of L-1 samples!"
   ]
  },
  {
   "cell_type": "markdown",
   "metadata": {
    "slideshow": {
     "slide_type": "slide"
    }
   },
   "source": [
    "## Mid-rise and Mid-tread quantization"
   ]
  },
  {
   "cell_type": "code",
   "execution_count": 39,
   "metadata": {
    "hide_input": true
   },
   "outputs": [
    {
     "data": {
      "text/html": [
       "<iframe width=\"560\" height=\"315\" src=\"https://www.youtube.com/embed/XagP9ixzRAg?rel=0\" frameborder=\"0\" allow=\"accelerometer; encrypted-media; gyroscope; picture-in-picture\" allowfullscreen></iframe>\n",
       "<iframe width=\"560\" height=\"315\" src=\"https://www.youtube.com/embed/qgFSD5fKPaE?rel=0\" frameborder=\"0\" allow=\"accelerometer; encrypted-media; gyroscope; picture-in-picture\" allowfullscreen></iframe>\n"
      ],
      "text/plain": [
       "<IPython.core.display.HTML object>"
      ]
     },
     "metadata": {},
     "output_type": "display_data"
    }
   ],
   "source": [
    "%%html\n",
    "<iframe width=\"560\" height=\"315\" src=\"https://www.youtube.com/embed/XagP9ixzRAg?rel=0\" frameborder=\"0\" allow=\"accelerometer; encrypted-media; gyroscope; picture-in-picture\" allowfullscreen></iframe>\n",
    "<iframe width=\"560\" height=\"315\" src=\"https://www.youtube.com/embed/qgFSD5fKPaE?rel=0\" frameborder=\"0\" allow=\"accelerometer; encrypted-media; gyroscope; picture-in-picture\" allowfullscreen></iframe>"
   ]
  },
  {
   "cell_type": "markdown",
   "metadata": {
    "slideshow": {
     "slide_type": "-"
    }
   },
   "source": [
    "Depending on if the quantizer has the input voltage 0 at the center of a quantization interval or on the boundary of that interval, we call the quantizer a mid-tread or a mid rise quantiser, as illustrated in the following picture:\n",
    "\n",
    "<center><img src=\"./images/rise_tread_quantizers.png\"></center>\n",
    "<font size=\"2\">      \n",
    "(From:http://eeweb.poly.edu/~yao/EE3414/quantization.pdf)\n",
    "</font>\n",
    "\n",
    "Here, $Q_i(f)$ is the index after quantization (which is then encoded and sent to the receiver), and Q(f) is the de-quantization, which produces the quantized reconstructed value at the receiver. Q is the quantization step size, which is identical to $\\Delta$ in the plots.\n",
    "\n",
    "We define the difference between the reverse quantized (through encoder and decoder) and the original signal ( e=Q(f )−f ) as **\"quantization error\".**\n",
    "\n",
    "The resulting quantisation error power in both cases is:\n",
    "\n",
    "$$ \\large E(e^2)=\\frac{\\Delta^2}{12} $$\n"
   ]
  },
  {
   "cell_type": "code",
   "execution_count": 40,
   "metadata": {
    "hide_input": true
   },
   "outputs": [
    {
     "data": {
      "text/html": [
       "<iframe width=\"560\" height=\"315\" src=\"https://www.youtube.com/embed/gSf8irnoW98?rel=0\" frameborder=\"0\" allow=\"accelerometer; encrypted-media; gyroscope; picture-in-picture\" allowfullscreen></iframe>\n"
      ],
      "text/plain": [
       "<IPython.core.display.HTML object>"
      ]
     },
     "metadata": {},
     "output_type": "display_data"
    }
   ],
   "source": [
    "%%html\n",
    "<iframe width=\"560\" height=\"315\" src=\"https://www.youtube.com/embed/gSf8irnoW98?rel=0\" frameborder=\"0\" allow=\"accelerometer; encrypted-media; gyroscope; picture-in-picture\" allowfullscreen></iframe>"
   ]
  },
  {
   "cell_type": "code",
   "execution_count": 18,
   "metadata": {
    "slideshow": {
     "slide_type": "-"
    }
   },
   "outputs": [
    {
     "data": {
      "application/vnd.jupyter.widget-view+json": {
       "model_id": "b8433bac2bb548ba81b6c2933dc1e4c5",
       "version_major": 2,
       "version_minor": 0
      },
      "text/plain": [
       "HBox(children=(Button(description='Start', style=ButtonStyle()), ToggleButton(value=False, description='Stop')…"
      ]
     },
     "metadata": {},
     "output_type": "display_data"
    },
    {
     "data": {
      "application/vnd.jupyter.widget-view+json": {
       "model_id": "1dc40406eee84db9b07d8f531f603399",
       "version_major": 2,
       "version_minor": 0
      },
      "text/plain": [
       "HBox(children=(BoundedIntText(value=8, description='Bit-Depth:', max=16, min=2), Dropdown(description='Quantiz…"
      ]
     },
     "metadata": {},
     "output_type": "display_data"
    }
   ],
   "source": [
    "\"\"\"\n",
    "PyAudio Example: Make a quantization between input and output \n",
    "(i.e., record a few samples, quatize them with a mid-tread or \n",
    "mid-rise quantizer, and play them back immediately).\n",
    "Using block-wise processing instead of a for loop\n",
    "Gerald Schuller, Octtober 2014\n",
    "\n",
    "Modified to Jupyter Notebook by Renato Profeta, October 2019\n",
    "\"\"\"\n",
    "# Imports\n",
    "import pyaudio\n",
    "import struct\n",
    "import numpy as np\n",
    "from ipywidgets import ToggleButton, Dropdown, Button, BoundedIntText, Label\n",
    "from ipywidgets import HBox, interact\n",
    "import threading\n",
    "\n",
    "# Parameters\n",
    "CHUNK = 5000 #Blocksize\n",
    "FORMAT = pyaudio.paInt16 #conversion format for PyAudio stream\n",
    "CHANNELS = 1 \n",
    "RATE = 32000  #Sampling Rate in Hz\n",
    "\n",
    "\n",
    "# Quantization Bit-Depth\n",
    "N=8\n",
    "quant_type='Mid-Tread'\n",
    "\n",
    "\n",
    "# Quantization Application\n",
    "def quantization_example(toggle_run):\n",
    "    global N, quant_type\n",
    "    while(True):\n",
    "        if toggle_run.value==True:\n",
    "            break\n",
    "        #Reading from audio input stream into data with block length \"CHUNK\":\n",
    "        data_stream = stream.read(CHUNK)\n",
    "        #Convert from stream of bytes to a list of short integers\n",
    "        #(2 bytes here) in \"samples\":\n",
    "        shorts = (struct.unpack( 'h' * CHUNK, data_stream ));\n",
    "        samples=np.array(list(shorts),dtype=float);\n",
    "\n",
    "        #start block-wise signal processing:\n",
    "        q=int((2**15-(-2**15))/(2**N))\n",
    "        \n",
    "        if quant_type=='Mid-Tread':\n",
    "            #Mid Tread quantization:\n",
    "            indices=np.round(samples/q)\n",
    "            #de-quantization:\n",
    "            samples=indices*q\n",
    "        else:\n",
    "            #Mid -Rise quantizer:\n",
    "            indices=np.floor(samples/q)\n",
    "            #de-quantization:\n",
    "            samples=(indices*q+q/2).astype(int)\n",
    "            #end signal processing\n",
    "\n",
    "        #converting from short integers to a stream of bytes in \"data\":\n",
    "        #play out samples:\n",
    "        samples=np.clip(samples, -2**15,2**15)\n",
    "        samples=samples.astype(np.int16)\n",
    "        data=struct.pack('h' * len(samples), *samples);\n",
    "        #Writing data back to audio output stream: \n",
    "        stream.write(data, CHUNK)\n",
    "\n",
    "# GUI\n",
    "toggle_run = ToggleButton(description='Stop')\n",
    "button_start = Button(description='Start')\n",
    "dropdown_type = Dropdown(\n",
    "    options=['Mid-Tread', 'Mid-Rise'],\n",
    "    value='Mid-Tread',\n",
    "    description='Quantization Type:',\n",
    "    disabled=False,\n",
    ")\n",
    "bitdepth_int = BoundedIntText(\n",
    "    value=8,\n",
    "    min=2,\n",
    "    max=16,\n",
    "    step=1,\n",
    "    description='Bit-Depth:',\n",
    "    disabled=False\n",
    ")\n",
    "\n",
    "q=int((2**15-(-2**15))/(2**N))\n",
    "stepsize_label = Label(value=\"Stepsize: {:d}\".format(q))\n",
    "\n",
    "def start_button(button_start):\n",
    "    thread.start()\n",
    "    button_start.disabled=True\n",
    "button_start.on_click(start_button)\n",
    "\n",
    "\n",
    "def on_click_toggle_run(change):\n",
    "    if change['new']==False:\n",
    "        stream.stop_stream()\n",
    "        stream.close()\n",
    "        p.terminate()\n",
    "        plt.close()\n",
    "toggle_run.observe(on_click_toggle_run, 'value')\n",
    "\n",
    "def inttext_bitdepth_changed(bitdepth_int):\n",
    "    global N, q\n",
    "    if bitdepth_int['new']: \n",
    "        N=bitdepth_int['new']\n",
    "        stepsize_label.value=\"Stepsize: {:d}\".format(int((2**15-(-2**15))/(2**N)))\n",
    "bitdepth_int.observe(inttext_bitdepth_changed, names='value')\n",
    "\n",
    "def dropdown_type_changed(dropdown_type):\n",
    "    global quant_type\n",
    "    if dropdown_type['new']:\n",
    "        quant_type=dropdown_type['new']\n",
    "dropdown_type.observe(dropdown_type_changed, names='value')\n",
    "\n",
    "\n",
    "box_buttons = HBox([button_start,toggle_run])\n",
    "box_controls = HBox([bitdepth_int, dropdown_type,stepsize_label])\n",
    "\n",
    "# Create a Thread for run_spectrogram function\n",
    "thread = threading.Thread(target=quantization_example, args=(toggle_run,))\n",
    "\n",
    "# Start Audio Stream\n",
    "# Create \n",
    "p = pyaudio.PyAudio()\n",
    "    \n",
    "stream = p.open(format=FORMAT,\n",
    "                channels=CHANNELS,\n",
    "                rate=RATE,\n",
    "                input=True,\n",
    "                output=True,\n",
    "                frames_per_buffer=CHUNK)\n",
    "\n",
    "\n",
    "\n",
    "input_data = stream.read(CHUNK)\n",
    "samples = np.frombuffer(input_data,np.int16)\n",
    "\n",
    "display(box_buttons)\n",
    "display(box_controls)"
   ]
  },
  {
   "cell_type": "markdown",
   "metadata": {
    "slideshow": {
     "slide_type": "-"
    }
   },
   "source": [
    "Observe: Both quantizers distort the signal audibly.\n",
    "\n",
    "The mid-tread quantizer does not let small signals through, it rounds them to zero, which also saves bits. The mid-rise quantizer does let small signals through, since it quantizes small values either to Q/2 or -Q/2, but distorted, and it also cost some bit rate, since these values need to be encoded.\n",
    "\n",
    "In General you want to make the quantization step size bigger to save bit rate, but only big enough to avoid audible distortions."
   ]
  },
  {
   "cell_type": "code",
   "execution_count": null,
   "metadata": {
    "slideshow": {
     "slide_type": "-"
    }
   },
   "outputs": [],
   "source": []
  }
 ],
 "metadata": {
  "kernelspec": {
   "display_name": "Python 3",
   "language": "python",
   "name": "python3"
  },
  "language_info": {
   "codemirror_mode": {
    "name": "ipython",
    "version": 3
   },
   "file_extension": ".py",
   "mimetype": "text/x-python",
   "name": "python",
   "nbconvert_exporter": "python",
   "pygments_lexer": "ipython3",
   "version": "3.7.6"
  },
  "livereveal": {
   "rise": {
    "height": "90%",
    "width": "90%"
   },
   "scroll": true,
   "theme": "beige",
   "transition": "zoom"
  },
  "widgets": {
   "application/vnd.jupyter.widget-state+json": {
    "state": {
     "00350d4b61594afaab77ab33e590196c": {
      "model_module": "@jupyter-widgets/base",
      "model_module_version": "1.2.0",
      "model_name": "LayoutModel",
      "state": {}
     },
     "00a357f6abde4819b65c57e12efa846d": {
      "model_module": "@jupyter-widgets/controls",
      "model_module_version": "1.5.0",
      "model_name": "ToggleButtonModel",
      "state": {
       "description": "Stop",
       "disabled": true,
       "layout": "IPY_MODEL_00350d4b61594afaab77ab33e590196c",
       "style": "IPY_MODEL_083d511b80224d009c13a4b4fcd2018c",
       "value": true
      }
     },
     "010411b23dde4ac9b0a3030e14cf116a": {
      "model_module": "@jupyter-widgets/controls",
      "model_module_version": "1.5.0",
      "model_name": "ButtonModel",
      "state": {
       "description": "Start",
       "layout": "IPY_MODEL_6a3bf4da31de478d94493fb7e7bf2612",
       "style": "IPY_MODEL_28c5906b489444688437bc5e2decf81a"
      }
     },
     "0124c108c90b41408309aa3aac820c5d": {
      "model_module": "@jupyter-widgets/controls",
      "model_module_version": "1.5.0",
      "model_name": "DescriptionStyleModel",
      "state": {
       "description_width": ""
      }
     },
     "015addf4649b4d41b3ee5a4e08b1feef": {
      "model_module": "@jupyter-widgets/controls",
      "model_module_version": "1.5.0",
      "model_name": "DescriptionStyleModel",
      "state": {
       "description_width": ""
      }
     },
     "016a0e0534e641d6bbbf5a911716b300": {
      "model_module": "@jupyter-widgets/base",
      "model_module_version": "1.2.0",
      "model_name": "LayoutModel",
      "state": {}
     },
     "01a5f4dbc4064fd3a34973eb916c31c5": {
      "model_module": "@jupyter-widgets/controls",
      "model_module_version": "1.5.0",
      "model_name": "ToggleButtonModel",
      "state": {
       "description": "Stop",
       "disabled": true,
       "layout": "IPY_MODEL_05ed0d85918542ce8e2d2b5a11d7d46c",
       "style": "IPY_MODEL_11beb2d8d5cb46ccbbbf8aa79a579437"
      }
     },
     "022c6e85334a40348aa27488802495b2": {
      "model_module": "@jupyter-widgets/controls",
      "model_module_version": "1.5.0",
      "model_name": "DescriptionStyleModel",
      "state": {
       "description_width": ""
      }
     },
     "02c9485b88554eb9992be45d9860b92e": {
      "model_module": "@jupyter-widgets/base",
      "model_module_version": "1.2.0",
      "model_name": "LayoutModel",
      "state": {}
     },
     "03801fa7eba04a3b8e99f7b6b32d9885": {
      "model_module": "@jupyter-widgets/controls",
      "model_module_version": "1.5.0",
      "model_name": "DescriptionStyleModel",
      "state": {
       "description_width": ""
      }
     },
     "04b888ac7aee4530abe305cfbd8b1f34": {
      "model_module": "@jupyter-widgets/base",
      "model_module_version": "1.2.0",
      "model_name": "LayoutModel",
      "state": {}
     },
     "057c0bbd81e64ff79895a8a0fd96630d": {
      "model_module": "@jupyter-widgets/controls",
      "model_module_version": "1.5.0",
      "model_name": "ToggleButtonModel",
      "state": {
       "description": "Stop",
       "disabled": true,
       "layout": "IPY_MODEL_621c3d0b958c404893822d3f3714ed0d",
       "style": "IPY_MODEL_83f7adb73ebf47048b5f20262a9bdf9a",
       "value": true
      }
     },
     "05ed0d85918542ce8e2d2b5a11d7d46c": {
      "model_module": "@jupyter-widgets/base",
      "model_module_version": "1.2.0",
      "model_name": "LayoutModel",
      "state": {}
     },
     "070df1bc17ac48328bf07a4c6bbf4386": {
      "model_module": "@jupyter-widgets/base",
      "model_module_version": "1.2.0",
      "model_name": "LayoutModel",
      "state": {}
     },
     "071d9d3efe4e4c07925ec96aec13d22e": {
      "model_module": "@jupyter-widgets/controls",
      "model_module_version": "1.5.0",
      "model_name": "DescriptionStyleModel",
      "state": {
       "description_width": ""
      }
     },
     "077e49c1079b43f98d5b2652c20d7f7f": {
      "model_module": "@jupyter-widgets/base",
      "model_module_version": "1.2.0",
      "model_name": "LayoutModel",
      "state": {}
     },
     "07cde229cf0744c5874378f92fb78e9f": {
      "model_module": "@jupyter-widgets/base",
      "model_module_version": "1.2.0",
      "model_name": "LayoutModel",
      "state": {}
     },
     "07d8d02c8d4048e39c0668d316c07d0f": {
      "model_module": "@jupyter-widgets/controls",
      "model_module_version": "1.5.0",
      "model_name": "CheckboxModel",
      "state": {
       "description": "Modulation",
       "disabled": false,
       "layout": "IPY_MODEL_833cc096a93644dbaa638385cbc285b8",
       "style": "IPY_MODEL_7eaf2d38d3d94d5ebe1c8c261dc5e924",
       "value": true
      }
     },
     "08339e3a94df44b69d8b66c4948900b2": {
      "model_module": "@jupyter-widgets/controls",
      "model_module_version": "1.5.0",
      "model_name": "DescriptionStyleModel",
      "state": {
       "description_width": ""
      }
     },
     "083d511b80224d009c13a4b4fcd2018c": {
      "model_module": "@jupyter-widgets/controls",
      "model_module_version": "1.5.0",
      "model_name": "DescriptionStyleModel",
      "state": {
       "description_width": ""
      }
     },
     "08bcfe0454894f769d36cf36a969a89c": {
      "model_module": "@jupyter-widgets/controls",
      "model_module_version": "1.5.0",
      "model_name": "CheckboxModel",
      "state": {
       "description": "Downsampling with Zeros",
       "disabled": false,
       "layout": "IPY_MODEL_ec8397c2b6e5444587135da33d9144fd",
       "style": "IPY_MODEL_3fe6660526e44cc19947700d461a8a9d",
       "value": false
      }
     },
     "09702a1ccd2641718fa6a2273796736e": {
      "model_module": "@jupyter-widgets/base",
      "model_module_version": "1.2.0",
      "model_name": "LayoutModel",
      "state": {}
     },
     "09976d6ec29240d191a1f51de7f09f74": {
      "model_module": "@jupyter-widgets/controls",
      "model_module_version": "1.5.0",
      "model_name": "ToggleButtonModel",
      "state": {
       "description": "Stop",
       "disabled": true,
       "layout": "IPY_MODEL_bbd3715a8472483ba226a8d8c150cadc",
       "style": "IPY_MODEL_4ef4d0626f844cdcbb4dc90cd24dd445",
       "value": true
      }
     },
     "099a2efc92634ebb8729fa75f2d9d5b2": {
      "model_module": "@jupyter-widgets/controls",
      "model_module_version": "1.5.0",
      "model_name": "DescriptionStyleModel",
      "state": {
       "description_width": ""
      }
     },
     "0af961f7a04242ea938d2f263349bdd9": {
      "model_module": "@jupyter-widgets/controls",
      "model_module_version": "1.5.0",
      "model_name": "DescriptionStyleModel",
      "state": {
       "description_width": ""
      }
     },
     "0b8e46359cee465aa82778a67f6c0b96": {
      "model_module": "@jupyter-widgets/base",
      "model_module_version": "1.2.0",
      "model_name": "LayoutModel",
      "state": {}
     },
     "0b9a6a693871477ebf610c47a13ce72a": {
      "model_module": "@jupyter-widgets/controls",
      "model_module_version": "1.5.0",
      "model_name": "DescriptionStyleModel",
      "state": {
       "description_width": ""
      }
     },
     "0c2dd622a2ef4f318cec6315a7ebe142": {
      "model_module": "@jupyter-widgets/base",
      "model_module_version": "1.2.0",
      "model_name": "LayoutModel",
      "state": {}
     },
     "0cdc7cbc71b4416dbabb7f5c2a05bedd": {
      "model_module": "@jupyter-widgets/controls",
      "model_module_version": "1.5.0",
      "model_name": "DescriptionStyleModel",
      "state": {
       "description_width": ""
      }
     },
     "0dfbfb657b7c4bb29068e3b69c318d7f": {
      "model_module": "@jupyter-widgets/base",
      "model_module_version": "1.2.0",
      "model_name": "LayoutModel",
      "state": {}
     },
     "0eb6bd04e96f4f04bacc20da51f0e8f7": {
      "model_module": "@jupyter-widgets/base",
      "model_module_version": "1.2.0",
      "model_name": "LayoutModel",
      "state": {}
     },
     "0f01abdd3e084e20a0e0c2ce4554bcb2": {
      "model_module": "@jupyter-widgets/base",
      "model_module_version": "1.2.0",
      "model_name": "LayoutModel",
      "state": {}
     },
     "0f38e97748f5453baa6471a4a16237ca": {
      "model_module": "@jupyter-widgets/controls",
      "model_module_version": "1.5.0",
      "model_name": "CheckboxModel",
      "state": {
       "description": "Modulation",
       "disabled": false,
       "layout": "IPY_MODEL_3947b794e4ab4a68ac044de236aa705b",
       "style": "IPY_MODEL_559ad83695d54d98ad7a2a7afaf7ef44",
       "value": false
      }
     },
     "0fbffec0398544c78cc392a8f3387f8e": {
      "model_module": "@jupyter-widgets/base",
      "model_module_version": "1.2.0",
      "model_name": "LayoutModel",
      "state": {}
     },
     "10203717b6924bc29e4ae1959a117b31": {
      "model_module": "@jupyter-widgets/controls",
      "model_module_version": "1.5.0",
      "model_name": "DescriptionStyleModel",
      "state": {
       "description_width": ""
      }
     },
     "113d6d47f3fa4ae9975dc7a6247471b8": {
      "model_module": "@jupyter-widgets/base",
      "model_module_version": "1.2.0",
      "model_name": "LayoutModel",
      "state": {}
     },
     "11649f3e118b4488af7188e4a8e73291": {
      "model_module": "@jupyter-widgets/base",
      "model_module_version": "1.2.0",
      "model_name": "LayoutModel",
      "state": {}
     },
     "1179e637410d45729a05c52a0c654453": {
      "model_module": "@jupyter-widgets/controls",
      "model_module_version": "1.5.0",
      "model_name": "DescriptionStyleModel",
      "state": {
       "description_width": ""
      }
     },
     "11beb2d8d5cb46ccbbbf8aa79a579437": {
      "model_module": "@jupyter-widgets/controls",
      "model_module_version": "1.5.0",
      "model_name": "DescriptionStyleModel",
      "state": {
       "description_width": ""
      }
     },
     "121afa0fc4ff4b7e8f7b3ad812c5abdc": {
      "model_module": "@jupyter-widgets/controls",
      "model_module_version": "1.5.0",
      "model_name": "CheckboxModel",
      "state": {
       "description": "Modulation",
       "disabled": false,
       "layout": "IPY_MODEL_1e05d8f33376405caa077f2d6b674fd1",
       "style": "IPY_MODEL_fbf3c6396ee040949c962e4042e0d23d",
       "value": true
      }
     },
     "12c1d6bd34634a1fb100dddc180fee8c": {
      "model_module": "@jupyter-widgets/controls",
      "model_module_version": "1.5.0",
      "model_name": "ToggleButtonModel",
      "state": {
       "description": "Stop",
       "disabled": true,
       "layout": "IPY_MODEL_cbfc931a5e68487a91bda9c791d27a54",
       "style": "IPY_MODEL_154ee137a89643c596b033dd8318706c",
       "value": true
      }
     },
     "1372b726ab434f9b89571f6da34c9e62": {
      "model_module": "@jupyter-widgets/base",
      "model_module_version": "1.2.0",
      "model_name": "LayoutModel",
      "state": {}
     },
     "13a9a0d9444f4f44aff5d9f3d6faf513": {
      "model_module": "@jupyter-widgets/controls",
      "model_module_version": "1.5.0",
      "model_name": "CheckboxModel",
      "state": {
       "description": "Modulation",
       "disabled": false,
       "layout": "IPY_MODEL_627a5a66998346d3b0d55b37b394aedc",
       "style": "IPY_MODEL_f867bfd87390497ca5d9c6a660aa85a1",
       "value": false
      }
     },
     "14129132b8da4c588bdb14db56917502": {
      "model_module": "@jupyter-widgets/controls",
      "model_module_version": "1.5.0",
      "model_name": "DescriptionStyleModel",
      "state": {
       "description_width": ""
      }
     },
     "1468398196d248e8acba725ec8333dd5": {
      "model_module": "@jupyter-widgets/controls",
      "model_module_version": "1.5.0",
      "model_name": "ToggleButtonModel",
      "state": {
       "description": "Stop",
       "disabled": true,
       "layout": "IPY_MODEL_28af41d20c9e4d89a96868e718b9f91f",
       "style": "IPY_MODEL_0cdc7cbc71b4416dbabb7f5c2a05bedd",
       "value": true
      }
     },
     "14f182217bd54f0eab515df20a2b5138": {
      "model_module": "@jupyter-widgets/base",
      "model_module_version": "1.2.0",
      "model_name": "LayoutModel",
      "state": {}
     },
     "154ee137a89643c596b033dd8318706c": {
      "model_module": "@jupyter-widgets/controls",
      "model_module_version": "1.5.0",
      "model_name": "DescriptionStyleModel",
      "state": {
       "description_width": ""
      }
     },
     "15772330080a48898ce9867905929ca4": {
      "model_module": "@jupyter-widgets/base",
      "model_module_version": "1.2.0",
      "model_name": "LayoutModel",
      "state": {}
     },
     "15bbb618eeec4c50b40f639a012ee020": {
      "model_module": "@jupyter-widgets/controls",
      "model_module_version": "1.5.0",
      "model_name": "DescriptionStyleModel",
      "state": {
       "description_width": ""
      }
     },
     "16fff80d180c43a599f5bb2e9b551989": {
      "model_module": "@jupyter-widgets/controls",
      "model_module_version": "1.5.0",
      "model_name": "DescriptionStyleModel",
      "state": {
       "description_width": ""
      }
     },
     "191f248f80004fef880ca66fd81bb644": {
      "model_module": "@jupyter-widgets/controls",
      "model_module_version": "1.5.0",
      "model_name": "DescriptionStyleModel",
      "state": {
       "description_width": ""
      }
     },
     "1a8f9d0d68954f4fa2ce1361633bde98": {
      "model_module": "@jupyter-widgets/controls",
      "model_module_version": "1.5.0",
      "model_name": "DescriptionStyleModel",
      "state": {
       "description_width": ""
      }
     },
     "1b001b2ac3e847549ef031ffa10555a7": {
      "model_module": "@jupyter-widgets/base",
      "model_module_version": "1.2.0",
      "model_name": "LayoutModel",
      "state": {}
     },
     "1bba9443a26847f2b9193c1859948a31": {
      "model_module": "@jupyter-widgets/base",
      "model_module_version": "1.2.0",
      "model_name": "LayoutModel",
      "state": {}
     },
     "1c6bfad501414be497ac5dc710c60bce": {
      "model_module": "@jupyter-widgets/base",
      "model_module_version": "1.2.0",
      "model_name": "LayoutModel",
      "state": {}
     },
     "1d77796b884c4861a25db47632b8d489": {
      "model_module": "@jupyter-widgets/controls",
      "model_module_version": "1.5.0",
      "model_name": "ButtonStyleModel",
      "state": {}
     },
     "1db3cb8760814df5a5a6fcbd400ddf99": {
      "model_module": "@jupyter-widgets/base",
      "model_module_version": "1.2.0",
      "model_name": "LayoutModel",
      "state": {}
     },
     "1dc40406eee84db9b07d8f531f603399": {
      "model_module": "@jupyter-widgets/controls",
      "model_module_version": "1.5.0",
      "model_name": "HBoxModel",
      "state": {
       "children": [
        "IPY_MODEL_cd758881ae1643a9a9a899e727d9282e",
        "IPY_MODEL_a33b931b7def479bae498eaa5c26d980",
        "IPY_MODEL_c54bba7af2344e4bbea1a8989863c48e"
       ],
       "layout": "IPY_MODEL_ed12eb6fecb040adaa4ed301062db3d5"
      }
     },
     "1e05d8f33376405caa077f2d6b674fd1": {
      "model_module": "@jupyter-widgets/base",
      "model_module_version": "1.2.0",
      "model_name": "LayoutModel",
      "state": {}
     },
     "1e4739a8c3694e0184b1d7a856de0e23": {
      "model_module": "@jupyter-widgets/controls",
      "model_module_version": "1.5.0",
      "model_name": "DescriptionStyleModel",
      "state": {
       "description_width": ""
      }
     },
     "1f7c5c8eb1f645d0b0b4ffb1db9e262b": {
      "model_module": "@jupyter-widgets/controls",
      "model_module_version": "1.5.0",
      "model_name": "DescriptionStyleModel",
      "state": {
       "description_width": ""
      }
     },
     "204cdf1f40364c5ead229dae5bb378aa": {
      "model_module": "@jupyter-widgets/controls",
      "model_module_version": "1.5.0",
      "model_name": "CheckboxModel",
      "state": {
       "description": "Modulation",
       "disabled": false,
       "layout": "IPY_MODEL_520e033762234aea946651858bf5ef06",
       "style": "IPY_MODEL_212ac035317645929dabd3b94da542ca",
       "value": true
      }
     },
     "212ac035317645929dabd3b94da542ca": {
      "model_module": "@jupyter-widgets/controls",
      "model_module_version": "1.5.0",
      "model_name": "DescriptionStyleModel",
      "state": {
       "description_width": ""
      }
     },
     "213acdd3fced4e0ca000f55347de9527": {
      "model_module": "@jupyter-widgets/base",
      "model_module_version": "1.2.0",
      "model_name": "LayoutModel",
      "state": {}
     },
     "224bcb4dea094163994aaa3f0121c825": {
      "model_module": "@jupyter-widgets/controls",
      "model_module_version": "1.5.0",
      "model_name": "DescriptionStyleModel",
      "state": {
       "description_width": ""
      }
     },
     "234045dd6a114ecda45e0086e0d54e99": {
      "model_module": "@jupyter-widgets/base",
      "model_module_version": "1.2.0",
      "model_name": "LayoutModel",
      "state": {}
     },
     "237993a63cac41e59c204965e07d2f9f": {
      "model_module": "@jupyter-widgets/base",
      "model_module_version": "1.2.0",
      "model_name": "LayoutModel",
      "state": {}
     },
     "238506e028044b5b881ef74c8ad59846": {
      "model_module": "@jupyter-widgets/controls",
      "model_module_version": "1.5.0",
      "model_name": "BoundedIntTextModel",
      "state": {
       "description": "Bit-Depth:",
       "layout": "IPY_MODEL_56ad1c5dc11f482f9602ecf86f593745",
       "max": 16,
       "min": 2,
       "style": "IPY_MODEL_f832049896fd43d3a027ac200b0d333a",
       "value": 8
      }
     },
     "23bc58c3f50f4c5aa1c47897b294e128": {
      "model_module": "@jupyter-widgets/controls",
      "model_module_version": "1.5.0",
      "model_name": "LabelModel",
      "state": {
       "layout": "IPY_MODEL_ba25ec489e8b42b2be4d64c17e864bd2",
       "style": "IPY_MODEL_75ad76b0e8ec4c6e80622839c143d519",
       "value": "Stepsize: 256"
      }
     },
     "245a2db6ebdd4a9eb2932a9b730908ab": {
      "model_module": "@jupyter-widgets/controls",
      "model_module_version": "1.5.0",
      "model_name": "DescriptionStyleModel",
      "state": {
       "description_width": ""
      }
     },
     "2476615a306b43a383fc3e55d0a69b92": {
      "model_module": "@jupyter-widgets/base",
      "model_module_version": "1.2.0",
      "model_name": "LayoutModel",
      "state": {}
     },
     "2479ecdcccc240509b8566a2a603ab0c": {
      "model_module": "@jupyter-widgets/controls",
      "model_module_version": "1.5.0",
      "model_name": "DescriptionStyleModel",
      "state": {
       "description_width": ""
      }
     },
     "24e6092a32ae4deca296245e31cb74fc": {
      "model_module": "@jupyter-widgets/controls",
      "model_module_version": "1.5.0",
      "model_name": "DescriptionStyleModel",
      "state": {
       "description_width": ""
      }
     },
     "252bdedbd33947aabdaa202c8f3de58d": {
      "model_module": "@jupyter-widgets/controls",
      "model_module_version": "1.5.0",
      "model_name": "DescriptionStyleModel",
      "state": {
       "description_width": ""
      }
     },
     "253c6a4afb8744928a25c13284ab56a6": {
      "model_module": "@jupyter-widgets/controls",
      "model_module_version": "1.5.0",
      "model_name": "DescriptionStyleModel",
      "state": {
       "description_width": ""
      }
     },
     "25438168806e49268b476a257216e7dd": {
      "model_module": "@jupyter-widgets/controls",
      "model_module_version": "1.5.0",
      "model_name": "HBoxModel",
      "state": {
       "children": [
        "IPY_MODEL_ad19b104bd2c4274827935f0bc642e1c"
       ],
       "layout": "IPY_MODEL_266d77a5a8bf4ba0b75999d1ff5ec2ba"
      }
     },
     "266d77a5a8bf4ba0b75999d1ff5ec2ba": {
      "model_module": "@jupyter-widgets/base",
      "model_module_version": "1.2.0",
      "model_name": "LayoutModel",
      "state": {}
     },
     "274697a28de24c5ba2c2d3d90df61591": {
      "model_module": "@jupyter-widgets/controls",
      "model_module_version": "1.5.0",
      "model_name": "CheckboxModel",
      "state": {
       "description": "Modulation",
       "disabled": false,
       "layout": "IPY_MODEL_0eb6bd04e96f4f04bacc20da51f0e8f7",
       "style": "IPY_MODEL_50ef94007f584c1ca73d893b552c3301",
       "value": false
      }
     },
     "2770a82d9d574867b924b252a6697fcb": {
      "model_module": "@jupyter-widgets/controls",
      "model_module_version": "1.5.0",
      "model_name": "CheckboxModel",
      "state": {
       "description": "Downsampling with Zeros",
       "disabled": false,
       "layout": "IPY_MODEL_827b4767fde3485eb5c2b84a93302b94",
       "style": "IPY_MODEL_9e41a52328224716afc6e66f01c14e6e",
       "value": true
      }
     },
     "2825595bbc8c4734947243a244eca546": {
      "model_module": "@jupyter-widgets/controls",
      "model_module_version": "1.5.0",
      "model_name": "CheckboxModel",
      "state": {
       "description": "Modulation",
       "disabled": false,
       "layout": "IPY_MODEL_fc591ea671574530992213c06fe88ad2",
       "style": "IPY_MODEL_2c8bb36ac98f42f7bcd0c5a0bb8fafa7",
       "value": false
      }
     },
     "287c8d4592f74ba5b4c7b17ae3a4c72d": {
      "model_module": "@jupyter-widgets/controls",
      "model_module_version": "1.5.0",
      "model_name": "ToggleButtonModel",
      "state": {
       "description": "Stop",
       "disabled": true,
       "layout": "IPY_MODEL_e9bb3906e68d4ab08361a9a208a02b99",
       "style": "IPY_MODEL_f1b6367f82094b7985bdebcb27bf9c69",
       "value": true
      }
     },
     "28af41d20c9e4d89a96868e718b9f91f": {
      "model_module": "@jupyter-widgets/base",
      "model_module_version": "1.2.0",
      "model_name": "LayoutModel",
      "state": {}
     },
     "28c5906b489444688437bc5e2decf81a": {
      "model_module": "@jupyter-widgets/controls",
      "model_module_version": "1.5.0",
      "model_name": "ButtonStyleModel",
      "state": {}
     },
     "2a17130f6ba1491f959d24bee45727aa": {
      "model_module": "@jupyter-widgets/controls",
      "model_module_version": "1.5.0",
      "model_name": "ToggleButtonModel",
      "state": {
       "description": "Stop",
       "layout": "IPY_MODEL_9eefd0731f5c4392a5acde7f1e933fd5",
       "style": "IPY_MODEL_1f7c5c8eb1f645d0b0b4ffb1db9e262b",
       "value": true
      }
     },
     "2aa28291b0e94968b90bc072bad5692c": {
      "model_module": "@jupyter-widgets/controls",
      "model_module_version": "1.5.0",
      "model_name": "DescriptionStyleModel",
      "state": {
       "description_width": ""
      }
     },
     "2abba33681284763bca4fc40ce10eb98": {
      "model_module": "@jupyter-widgets/controls",
      "model_module_version": "1.5.0",
      "model_name": "CheckboxModel",
      "state": {
       "description": "Modulation",
       "disabled": false,
       "layout": "IPY_MODEL_09702a1ccd2641718fa6a2273796736e",
       "style": "IPY_MODEL_08339e3a94df44b69d8b66c4948900b2",
       "value": false
      }
     },
     "2b7e2f08a8ff4b47a2b3557e504a0c7a": {
      "model_module": "@jupyter-widgets/base",
      "model_module_version": "1.2.0",
      "model_name": "LayoutModel",
      "state": {}
     },
     "2b8df3672f394543ad44b6f0b7f89bb4": {
      "model_module": "@jupyter-widgets/base",
      "model_module_version": "1.2.0",
      "model_name": "LayoutModel",
      "state": {}
     },
     "2c0c1ccee30d431c9040ada58fd71129": {
      "model_module": "@jupyter-widgets/base",
      "model_module_version": "1.2.0",
      "model_name": "LayoutModel",
      "state": {}
     },
     "2c8bb36ac98f42f7bcd0c5a0bb8fafa7": {
      "model_module": "@jupyter-widgets/controls",
      "model_module_version": "1.5.0",
      "model_name": "DescriptionStyleModel",
      "state": {
       "description_width": ""
      }
     },
     "2d0ad360d986443f872b40f981f676c1": {
      "model_module": "@jupyter-widgets/controls",
      "model_module_version": "1.5.0",
      "model_name": "ToggleButtonModel",
      "state": {
       "description": "Stop",
       "disabled": true,
       "layout": "IPY_MODEL_9831009997624e3099aa2bc139944d43",
       "style": "IPY_MODEL_baeb1010983746229517278fdd0d3d3a",
       "value": true
      }
     },
     "2e694cc5b80749ae8fde09c7b48297c7": {
      "model_module": "@jupyter-widgets/controls",
      "model_module_version": "1.5.0",
      "model_name": "CheckboxModel",
      "state": {
       "description": "Modulation",
       "disabled": false,
       "layout": "IPY_MODEL_fee43312f4d0427e9322b942010f1e6f",
       "style": "IPY_MODEL_66006b29ac724d7ea41057c46472a352",
       "value": false
      }
     },
     "2f2f8d6d9d194d8d81aa9445ae96bc2a": {
      "model_module": "@jupyter-widgets/controls",
      "model_module_version": "1.5.0",
      "model_name": "DescriptionStyleModel",
      "state": {
       "description_width": ""
      }
     },
     "2f59316910c14ba5a89beb99d1c86a93": {
      "model_module": "@jupyter-widgets/controls",
      "model_module_version": "1.5.0",
      "model_name": "ToggleButtonModel",
      "state": {
       "description": "Stop",
       "layout": "IPY_MODEL_4d986dc237e54cb58da0435fa72d0f38",
       "style": "IPY_MODEL_48d6266121a349d48f11378c6804ee61",
       "value": true
      }
     },
     "3121709f5a264cf080f39aa0e49e7279": {
      "model_module": "@jupyter-widgets/controls",
      "model_module_version": "1.5.0",
      "model_name": "ToggleButtonModel",
      "state": {
       "description": "Stop",
       "layout": "IPY_MODEL_f469e7d7b4a541af8a5340dd1d099999",
       "style": "IPY_MODEL_454bac39d61a47178f95831b6cee19a4"
      }
     },
     "318270e1b49642c7a039c7242b23eb79": {
      "model_module": "@jupyter-widgets/controls",
      "model_module_version": "1.5.0",
      "model_name": "CheckboxModel",
      "state": {
       "description": "Modulation",
       "disabled": false,
       "layout": "IPY_MODEL_530af2c354bc449e9efd824da987291a",
       "style": "IPY_MODEL_5fd1a72397ba45a6b33a6b3f2941e03e",
       "value": true
      }
     },
     "31ef37d1a6414e49bb75e3950e18ea56": {
      "model_module": "@jupyter-widgets/controls",
      "model_module_version": "1.5.0",
      "model_name": "CheckboxModel",
      "state": {
       "description": "Modulation",
       "disabled": false,
       "layout": "IPY_MODEL_339d188c3d334aafa0530987f4780a18",
       "style": "IPY_MODEL_f9296f032d5441b2b57a8ca71af2702e",
       "value": false
      }
     },
     "3339e3b8269a442487124b5e02505daf": {
      "model_module": "@jupyter-widgets/controls",
      "model_module_version": "1.5.0",
      "model_name": "DescriptionStyleModel",
      "state": {
       "description_width": ""
      }
     },
     "339d188c3d334aafa0530987f4780a18": {
      "model_module": "@jupyter-widgets/base",
      "model_module_version": "1.2.0",
      "model_name": "LayoutModel",
      "state": {}
     },
     "34e7cfef6c6044c08515461726c2a3ea": {
      "model_module": "@jupyter-widgets/controls",
      "model_module_version": "1.5.0",
      "model_name": "ButtonModel",
      "state": {
       "description": "Start",
       "disabled": true,
       "layout": "IPY_MODEL_0c2dd622a2ef4f318cec6315a7ebe142",
       "style": "IPY_MODEL_aa74b5a78c75457bbc522f5cdd533ee8"
      }
     },
     "34f16d143e48488090e222e4ed23e9b8": {
      "model_module": "@jupyter-widgets/controls",
      "model_module_version": "1.5.0",
      "model_name": "DescriptionStyleModel",
      "state": {
       "description_width": ""
      }
     },
     "3656ba410ee44a4f844ca3e0cbfac655": {
      "model_module": "@jupyter-widgets/controls",
      "model_module_version": "1.5.0",
      "model_name": "DescriptionStyleModel",
      "state": {
       "description_width": ""
      }
     },
     "365a123481a8472bb2758599fcda6db6": {
      "model_module": "@jupyter-widgets/controls",
      "model_module_version": "1.5.0",
      "model_name": "CheckboxModel",
      "state": {
       "description": "Downsampling with Zeros",
       "disabled": false,
       "layout": "IPY_MODEL_016a0e0534e641d6bbbf5a911716b300",
       "style": "IPY_MODEL_0af961f7a04242ea938d2f263349bdd9",
       "value": false
      }
     },
     "367c6ac4f00e4104ba6837f8104dfb9f": {
      "model_module": "@jupyter-widgets/controls",
      "model_module_version": "1.5.0",
      "model_name": "DescriptionStyleModel",
      "state": {
       "description_width": ""
      }
     },
     "36cef02e3ac343f597afecf7a0da19c4": {
      "model_module": "@jupyter-widgets/base",
      "model_module_version": "1.2.0",
      "model_name": "LayoutModel",
      "state": {}
     },
     "37389e5b17cf48e3a0021f24e6b830b3": {
      "model_module": "@jupyter-widgets/controls",
      "model_module_version": "1.5.0",
      "model_name": "DescriptionStyleModel",
      "state": {
       "description_width": ""
      }
     },
     "37b3e0d5e4e84396918657d98c57611a": {
      "model_module": "@jupyter-widgets/controls",
      "model_module_version": "1.5.0",
      "model_name": "DescriptionStyleModel",
      "state": {
       "description_width": ""
      }
     },
     "389376f484274f6f891f98ed2697fec3": {
      "model_module": "@jupyter-widgets/base",
      "model_module_version": "1.2.0",
      "model_name": "LayoutModel",
      "state": {}
     },
     "393771c574d44d8bad577493409c1d76": {
      "model_module": "@jupyter-widgets/base",
      "model_module_version": "1.2.0",
      "model_name": "LayoutModel",
      "state": {}
     },
     "3947b794e4ab4a68ac044de236aa705b": {
      "model_module": "@jupyter-widgets/base",
      "model_module_version": "1.2.0",
      "model_name": "LayoutModel",
      "state": {}
     },
     "3a65b0fcb5d94cd3b0b241199f0ba839": {
      "model_module": "@jupyter-widgets/base",
      "model_module_version": "1.2.0",
      "model_name": "LayoutModel",
      "state": {}
     },
     "3af03ba0278c42b0ab31ae8d77765b8f": {
      "model_module": "@jupyter-widgets/base",
      "model_module_version": "1.2.0",
      "model_name": "LayoutModel",
      "state": {}
     },
     "3c066aa2213e4f7bb436c6eb9e116403": {
      "model_module": "@jupyter-widgets/controls",
      "model_module_version": "1.5.0",
      "model_name": "DescriptionStyleModel",
      "state": {
       "description_width": ""
      }
     },
     "3c934745843a4bdb9ecd61d569af4ee9": {
      "model_module": "@jupyter-widgets/base",
      "model_module_version": "1.2.0",
      "model_name": "LayoutModel",
      "state": {}
     },
     "3cb39a392a4b49e588c28acbd85d0a68": {
      "model_module": "@jupyter-widgets/controls",
      "model_module_version": "1.5.0",
      "model_name": "DescriptionStyleModel",
      "state": {
       "description_width": ""
      }
     },
     "3d058da94bf44efbb89925eaaaa4ef74": {
      "model_module": "@jupyter-widgets/base",
      "model_module_version": "1.2.0",
      "model_name": "LayoutModel",
      "state": {}
     },
     "3e59bef80c7f40abad8d9f41fe83856c": {
      "model_module": "@jupyter-widgets/controls",
      "model_module_version": "1.5.0",
      "model_name": "ToggleButtonModel",
      "state": {
       "description": "Stop",
       "layout": "IPY_MODEL_55d19402ec5e4f57bda210730d3eebca",
       "style": "IPY_MODEL_24e6092a32ae4deca296245e31cb74fc",
       "value": true
      }
     },
     "3fe6660526e44cc19947700d461a8a9d": {
      "model_module": "@jupyter-widgets/controls",
      "model_module_version": "1.5.0",
      "model_name": "DescriptionStyleModel",
      "state": {
       "description_width": ""
      }
     },
     "400c514f8124481fa74a9141beb8aba9": {
      "model_module": "@jupyter-widgets/controls",
      "model_module_version": "1.5.0",
      "model_name": "DescriptionStyleModel",
      "state": {
       "description_width": ""
      }
     },
     "40dd338a49084ce0b8d340be6c3040ae": {
      "model_module": "@jupyter-widgets/controls",
      "model_module_version": "1.5.0",
      "model_name": "ToggleButtonModel",
      "state": {
       "description": "Stop",
       "disabled": true,
       "layout": "IPY_MODEL_b8772cebf3e8497a8aa03abe8a094315",
       "style": "IPY_MODEL_c01c6d4fa4884bdcb4922f44c3a4eb02",
       "value": true
      }
     },
     "40f6c82b8f984429a0c49f13dfd1dc2f": {
      "model_module": "@jupyter-widgets/controls",
      "model_module_version": "1.5.0",
      "model_name": "DescriptionStyleModel",
      "state": {
       "description_width": ""
      }
     },
     "417b009a76944f17a090d71ce14eb48b": {
      "model_module": "@jupyter-widgets/controls",
      "model_module_version": "1.5.0",
      "model_name": "ToggleButtonModel",
      "state": {
       "description": "Stop",
       "disabled": true,
       "layout": "IPY_MODEL_1db3cb8760814df5a5a6fcbd400ddf99",
       "style": "IPY_MODEL_7889fc66583743449da8d36ceca9d757",
       "value": true
      }
     },
     "4181a03ad26243f18c1afcbac62c4b93": {
      "model_module": "@jupyter-widgets/controls",
      "model_module_version": "1.5.0",
      "model_name": "DropdownModel",
      "state": {
       "_options_labels": [
        "Mid-Tread",
        "Mid-Rise"
       ],
       "description": "Quantization Type:",
       "index": 0,
       "layout": "IPY_MODEL_0b8e46359cee465aa82778a67f6c0b96",
       "style": "IPY_MODEL_16fff80d180c43a599f5bb2e9b551989"
      }
     },
     "42ba6f82ba4247a8ad555670ee0c3712": {
      "model_module": "@jupyter-widgets/controls",
      "model_module_version": "1.5.0",
      "model_name": "DropdownModel",
      "state": {
       "_options_labels": [
        "Mid-Tread",
        "Mid-Rise"
       ],
       "description": "Quantization Type:",
       "index": 0,
       "layout": "IPY_MODEL_b7bba5e9a43c442e9f0cb229b7e4424f",
       "style": "IPY_MODEL_556e4ff465c24a40bb6a18ec9f9568a5"
      }
     },
     "43c869bc7df146ad823a6c7bd01f0f81": {
      "model_module": "@jupyter-widgets/controls",
      "model_module_version": "1.5.0",
      "model_name": "HBoxModel",
      "state": {
       "children": [
        "IPY_MODEL_70cd5549b9614fa4b5ce1dbde449e679",
        "IPY_MODEL_a223e192528449f48c4893ac88a806d2"
       ],
       "layout": "IPY_MODEL_91b81a6724d149b087f233952ed603b3"
      }
     },
     "43e36d20faad45b197e2951a7c05b185": {
      "model_module": "@jupyter-widgets/controls",
      "model_module_version": "1.5.0",
      "model_name": "DescriptionStyleModel",
      "state": {
       "description_width": ""
      }
     },
     "444e9cff1e6b40e2995f23c82f550e6d": {
      "model_module": "@jupyter-widgets/base",
      "model_module_version": "1.2.0",
      "model_name": "LayoutModel",
      "state": {}
     },
     "445ff98a10034632b55a8bc6755f7816": {
      "model_module": "@jupyter-widgets/controls",
      "model_module_version": "1.5.0",
      "model_name": "DescriptionStyleModel",
      "state": {
       "description_width": ""
      }
     },
     "446d80c629a24e2fa2136e03dfc9d28b": {
      "model_module": "@jupyter-widgets/base",
      "model_module_version": "1.2.0",
      "model_name": "LayoutModel",
      "state": {}
     },
     "44aa87e244174c888887ada0ff7b38fc": {
      "model_module": "@jupyter-widgets/controls",
      "model_module_version": "1.5.0",
      "model_name": "CheckboxModel",
      "state": {
       "description": "Modulation",
       "disabled": false,
       "layout": "IPY_MODEL_9d3655b6691641c6a844a9702491b2f5",
       "style": "IPY_MODEL_191f248f80004fef880ca66fd81bb644",
       "value": false
      }
     },
     "44ff2ce803d943529417e191ffed2351": {
      "model_module": "@jupyter-widgets/controls",
      "model_module_version": "1.5.0",
      "model_name": "DescriptionStyleModel",
      "state": {
       "description_width": ""
      }
     },
     "454bac39d61a47178f95831b6cee19a4": {
      "model_module": "@jupyter-widgets/controls",
      "model_module_version": "1.5.0",
      "model_name": "DescriptionStyleModel",
      "state": {
       "description_width": ""
      }
     },
     "462478cddfff483e922a3aa095a2e610": {
      "model_module": "@jupyter-widgets/controls",
      "model_module_version": "1.5.0",
      "model_name": "CheckboxModel",
      "state": {
       "description": "$\\mu$-Law",
       "disabled": false,
       "layout": "IPY_MODEL_78c567360a394eb19dabc832927f8693",
       "style": "IPY_MODEL_14129132b8da4c588bdb14db56917502",
       "value": false
      }
     },
     "46874d24a82a4bcfbeb53c16f46be50a": {
      "model_module": "@jupyter-widgets/base",
      "model_module_version": "1.2.0",
      "model_name": "LayoutModel",
      "state": {}
     },
     "475e4a93dabd44a58cc68d4259a162a4": {
      "model_module": "@jupyter-widgets/controls",
      "model_module_version": "1.5.0",
      "model_name": "HBoxModel",
      "state": {
       "children": [
        "IPY_MODEL_48bcf896afb64329bdc4dfed17855c1d",
        "IPY_MODEL_9bbe175ff49b46bcb31c4c865006e018",
        "IPY_MODEL_bf781a6da9334d2caba8e7a1572c1123"
       ],
       "layout": "IPY_MODEL_fc3c170c19484f4bb9e2a332da76c831"
      }
     },
     "476db36e2ef8495598b90265cb380580": {
      "model_module": "@jupyter-widgets/base",
      "model_module_version": "1.2.0",
      "model_name": "LayoutModel",
      "state": {}
     },
     "47ec47cd3a514198ac1fef043338862a": {
      "model_module": "@jupyter-widgets/base",
      "model_module_version": "1.2.0",
      "model_name": "LayoutModel",
      "state": {}
     },
     "48881c05f8d54fb58501d5c3dcb6055d": {
      "model_module": "@jupyter-widgets/base",
      "model_module_version": "1.2.0",
      "model_name": "LayoutModel",
      "state": {}
     },
     "48bcf896afb64329bdc4dfed17855c1d": {
      "model_module": "@jupyter-widgets/controls",
      "model_module_version": "1.5.0",
      "model_name": "BoundedIntTextModel",
      "state": {
       "description": "Bit-Depth:",
       "layout": "IPY_MODEL_d182dccf69d54736a35db40d6ab1085f",
       "max": 16,
       "min": 2,
       "style": "IPY_MODEL_3339e3b8269a442487124b5e02505daf",
       "value": 8
      }
     },
     "48d6266121a349d48f11378c6804ee61": {
      "model_module": "@jupyter-widgets/controls",
      "model_module_version": "1.5.0",
      "model_name": "DescriptionStyleModel",
      "state": {
       "description_width": ""
      }
     },
     "4af37840566643a589a767dbddcd143d": {
      "model_module": "@jupyter-widgets/controls",
      "model_module_version": "1.5.0",
      "model_name": "DescriptionStyleModel",
      "state": {
       "description_width": ""
      }
     },
     "4b6f88acfa1444e58ba95dd1ee696450": {
      "model_module": "@jupyter-widgets/controls",
      "model_module_version": "1.5.0",
      "model_name": "ToggleButtonModel",
      "state": {
       "description": "Stop",
       "disabled": true,
       "layout": "IPY_MODEL_69aadcf136b34f82bc4317dce037aa7c",
       "style": "IPY_MODEL_e70e64ab73b0418195fd8d289325b33d",
       "value": true
      }
     },
     "4be21cecf57948bb8b76e58f826dde69": {
      "model_module": "@jupyter-widgets/controls",
      "model_module_version": "1.5.0",
      "model_name": "DescriptionStyleModel",
      "state": {
       "description_width": ""
      }
     },
     "4d119a2f5a93422abc11ba2c4cba189d": {
      "model_module": "@jupyter-widgets/controls",
      "model_module_version": "1.5.0",
      "model_name": "CheckboxModel",
      "state": {
       "description": "Modulation",
       "disabled": false,
       "layout": "IPY_MODEL_e7349cc6383d49508d2400149aa52ab1",
       "style": "IPY_MODEL_9b6460fb4d454bc28bea23a3712a92c7",
       "value": false
      }
     },
     "4d986dc237e54cb58da0435fa72d0f38": {
      "model_module": "@jupyter-widgets/base",
      "model_module_version": "1.2.0",
      "model_name": "LayoutModel",
      "state": {}
     },
     "4db559233bc54c04b701ff71ebc1d55d": {
      "model_module": "@jupyter-widgets/controls",
      "model_module_version": "1.5.0",
      "model_name": "DescriptionStyleModel",
      "state": {
       "description_width": ""
      }
     },
     "4e02c6cc9f2040c0924a4ba1a152edad": {
      "model_module": "@jupyter-widgets/controls",
      "model_module_version": "1.5.0",
      "model_name": "CheckboxModel",
      "state": {
       "description": "Downsampling with Zeros",
       "disabled": false,
       "layout": "IPY_MODEL_8bfde2f187c84f8c936d80d6ab9dd110",
       "style": "IPY_MODEL_6f86b5e8c23b4820bba2a6a839d624b3",
       "value": false
      }
     },
     "4ef4d0626f844cdcbb4dc90cd24dd445": {
      "model_module": "@jupyter-widgets/controls",
      "model_module_version": "1.5.0",
      "model_name": "DescriptionStyleModel",
      "state": {
       "description_width": ""
      }
     },
     "4f2001421efa401b809c00ccc8b85fa3": {
      "model_module": "@jupyter-widgets/controls",
      "model_module_version": "1.5.0",
      "model_name": "DescriptionStyleModel",
      "state": {
       "description_width": ""
      }
     },
     "4f54038ed5194974b7bd8e879024ec80": {
      "model_module": "@jupyter-widgets/controls",
      "model_module_version": "1.5.0",
      "model_name": "DescriptionStyleModel",
      "state": {
       "description_width": ""
      }
     },
     "4f79804b18654ee7947ca4fa5019b3d6": {
      "model_module": "@jupyter-widgets/controls",
      "model_module_version": "1.5.0",
      "model_name": "ToggleButtonModel",
      "state": {
       "description": "Stop",
       "disabled": true,
       "layout": "IPY_MODEL_e3b8a42d40c74fd98eda8bf75283dcd6",
       "style": "IPY_MODEL_245a2db6ebdd4a9eb2932a9b730908ab",
       "value": true
      }
     },
     "4f9acc5460674cfba8e70b06ad7978f8": {
      "model_module": "@jupyter-widgets/base",
      "model_module_version": "1.2.0",
      "model_name": "LayoutModel",
      "state": {}
     },
     "50c41a85d1a94c67b0ae2579b65e9446": {
      "model_module": "@jupyter-widgets/controls",
      "model_module_version": "1.5.0",
      "model_name": "DescriptionStyleModel",
      "state": {
       "description_width": ""
      }
     },
     "50e455fde9824f468875e0b897625f4c": {
      "model_module": "@jupyter-widgets/controls",
      "model_module_version": "1.5.0",
      "model_name": "DescriptionStyleModel",
      "state": {
       "description_width": ""
      }
     },
     "50ef94007f584c1ca73d893b552c3301": {
      "model_module": "@jupyter-widgets/controls",
      "model_module_version": "1.5.0",
      "model_name": "DescriptionStyleModel",
      "state": {
       "description_width": ""
      }
     },
     "510465f7cad54c2db0e18fd7acd3311a": {
      "model_module": "@jupyter-widgets/base",
      "model_module_version": "1.2.0",
      "model_name": "LayoutModel",
      "state": {}
     },
     "517eb035ec714166adad5df0c992f643": {
      "model_module": "@jupyter-widgets/controls",
      "model_module_version": "1.5.0",
      "model_name": "DescriptionStyleModel",
      "state": {
       "description_width": ""
      }
     },
     "51875458672d4576ba29589659607e4d": {
      "model_module": "@jupyter-widgets/controls",
      "model_module_version": "1.5.0",
      "model_name": "CheckboxModel",
      "state": {
       "description": "Modulation",
       "disabled": false,
       "layout": "IPY_MODEL_61d226a5cde3485a8994aea29e515733",
       "style": "IPY_MODEL_61ce4fe656f7484fa7913593fe0d9da6",
       "value": false
      }
     },
     "520e033762234aea946651858bf5ef06": {
      "model_module": "@jupyter-widgets/base",
      "model_module_version": "1.2.0",
      "model_name": "LayoutModel",
      "state": {}
     },
     "5215a83d08cb4454827ae35947999072": {
      "model_module": "@jupyter-widgets/controls",
      "model_module_version": "1.5.0",
      "model_name": "CheckboxModel",
      "state": {
       "description": "Downsampling with Zeros",
       "disabled": false,
       "layout": "IPY_MODEL_393771c574d44d8bad577493409c1d76",
       "style": "IPY_MODEL_4be21cecf57948bb8b76e58f826dde69",
       "value": false
      }
     },
     "5254bdb17cad4908be4e921410737e7b": {
      "model_module": "@jupyter-widgets/controls",
      "model_module_version": "1.5.0",
      "model_name": "DescriptionStyleModel",
      "state": {
       "description_width": ""
      }
     },
     "530af2c354bc449e9efd824da987291a": {
      "model_module": "@jupyter-widgets/base",
      "model_module_version": "1.2.0",
      "model_name": "LayoutModel",
      "state": {}
     },
     "540e468a9eb84786a21bc15c05f32327": {
      "model_module": "@jupyter-widgets/controls",
      "model_module_version": "1.5.0",
      "model_name": "ToggleButtonModel",
      "state": {
       "description": "Stop",
       "disabled": true,
       "layout": "IPY_MODEL_aea6645fae1f40ac95ffb4dacf6519b9",
       "style": "IPY_MODEL_5bf05e04fd464c938331533d7427720e",
       "value": true
      }
     },
     "54a79578920c4647be30359deb2cdcab": {
      "model_module": "@jupyter-widgets/controls",
      "model_module_version": "1.5.0",
      "model_name": "ToggleButtonModel",
      "state": {
       "description": "Stop",
       "disabled": true,
       "layout": "IPY_MODEL_2b8df3672f394543ad44b6f0b7f89bb4",
       "style": "IPY_MODEL_d1be32b35b7146d28f7b883bb2221ca8",
       "value": true
      }
     },
     "556e4ff465c24a40bb6a18ec9f9568a5": {
      "model_module": "@jupyter-widgets/controls",
      "model_module_version": "1.5.0",
      "model_name": "DescriptionStyleModel",
      "state": {
       "description_width": ""
      }
     },
     "559ad83695d54d98ad7a2a7afaf7ef44": {
      "model_module": "@jupyter-widgets/controls",
      "model_module_version": "1.5.0",
      "model_name": "DescriptionStyleModel",
      "state": {
       "description_width": ""
      }
     },
     "55d19402ec5e4f57bda210730d3eebca": {
      "model_module": "@jupyter-widgets/base",
      "model_module_version": "1.2.0",
      "model_name": "LayoutModel",
      "state": {}
     },
     "56ad1c5dc11f482f9602ecf86f593745": {
      "model_module": "@jupyter-widgets/base",
      "model_module_version": "1.2.0",
      "model_name": "LayoutModel",
      "state": {}
     },
     "56c77fc92d1f40619026d3fbdd034c3a": {
      "model_module": "@jupyter-widgets/controls",
      "model_module_version": "1.5.0",
      "model_name": "ToggleButtonModel",
      "state": {
       "description": "Stop",
       "disabled": true,
       "layout": "IPY_MODEL_e099daeead614c06ba66a3b6aa2a6519",
       "style": "IPY_MODEL_1e4739a8c3694e0184b1d7a856de0e23",
       "value": true
      }
     },
     "5887381c3f4e422a965e3e64c6243606": {
      "model_module": "@jupyter-widgets/base",
      "model_module_version": "1.2.0",
      "model_name": "LayoutModel",
      "state": {}
     },
     "58ae120a794b4224822abf544115994f": {
      "model_module": "@jupyter-widgets/controls",
      "model_module_version": "1.5.0",
      "model_name": "CheckboxModel",
      "state": {
       "description": "Modulation",
       "disabled": false,
       "layout": "IPY_MODEL_7d50ce79032e47e7b978db15ed0883ae",
       "style": "IPY_MODEL_ae2d6c5a0c43443295c25993287f1bd0",
       "value": false
      }
     },
     "5aac5131dc3b4fbab4b6ae875eb344d7": {
      "model_module": "@jupyter-widgets/controls",
      "model_module_version": "1.5.0",
      "model_name": "DescriptionStyleModel",
      "state": {
       "description_width": ""
      }
     },
     "5aaf494a9f304a7cb215ad7f1ee3bb34": {
      "model_module": "@jupyter-widgets/controls",
      "model_module_version": "1.5.0",
      "model_name": "DropdownModel",
      "state": {
       "_options_labels": [
        "Mid-Tread",
        "Mid-Rise"
       ],
       "description": "Quantization Type:",
       "index": 0,
       "layout": "IPY_MODEL_aac6f36b45da4f81a62144ca9290c787",
       "style": "IPY_MODEL_c65c21a152394b7695119d126fc0b062"
      }
     },
     "5b3e74660c91406eb1755ba616134dd3": {
      "model_module": "@jupyter-widgets/controls",
      "model_module_version": "1.5.0",
      "model_name": "ButtonStyleModel",
      "state": {}
     },
     "5bf05e04fd464c938331533d7427720e": {
      "model_module": "@jupyter-widgets/controls",
      "model_module_version": "1.5.0",
      "model_name": "DescriptionStyleModel",
      "state": {
       "description_width": ""
      }
     },
     "5bf713d6c2ca449f8663bedcaeac7b15": {
      "model_module": "@jupyter-widgets/controls",
      "model_module_version": "1.5.0",
      "model_name": "CheckboxModel",
      "state": {
       "description": "Modulation",
       "disabled": false,
       "layout": "IPY_MODEL_baf1370b140241af8408266066ea4618",
       "style": "IPY_MODEL_43e36d20faad45b197e2951a7c05b185",
       "value": false
      }
     },
     "5cb8ead4843440589615dc9f98d321d3": {
      "model_module": "@jupyter-widgets/controls",
      "model_module_version": "1.5.0",
      "model_name": "DescriptionStyleModel",
      "state": {
       "description_width": ""
      }
     },
     "5d021f3d3f104103af22aff0c388a31d": {
      "model_module": "@jupyter-widgets/controls",
      "model_module_version": "1.5.0",
      "model_name": "ToggleButtonModel",
      "state": {
       "description": "Stop",
       "disabled": true,
       "layout": "IPY_MODEL_c63e57f2060841f7aa9fb386480ae645",
       "style": "IPY_MODEL_ec805846f5734669b7fcc4fd0ea88cde"
      }
     },
     "5d0b6300784d4eaea3ba8f8749c0d33e": {
      "model_module": "@jupyter-widgets/controls",
      "model_module_version": "1.5.0",
      "model_name": "DescriptionStyleModel",
      "state": {
       "description_width": ""
      }
     },
     "5e6239c4e5a14abba70b63e1be1f8edc": {
      "model_module": "@jupyter-widgets/controls",
      "model_module_version": "1.5.0",
      "model_name": "ToggleButtonModel",
      "state": {
       "description": "Stop",
       "disabled": true,
       "layout": "IPY_MODEL_070df1bc17ac48328bf07a4c6bbf4386",
       "style": "IPY_MODEL_cae0d9b30a044bcdbb4646d2a824b06f",
       "value": true
      }
     },
     "5eb2b7c1ae11435d87f00768fef4c116": {
      "model_module": "@jupyter-widgets/controls",
      "model_module_version": "1.5.0",
      "model_name": "ToggleButtonModel",
      "state": {
       "description": "Stop",
       "layout": "IPY_MODEL_93b6ae17ef3e40faa9dbb1b7d060424e",
       "style": "IPY_MODEL_7a5a745ea3c84d0ca53c70b38f04bafd",
       "value": true
      }
     },
     "5ed0769d750c4f8dbc8c246dc3e10d2b": {
      "model_module": "@jupyter-widgets/controls",
      "model_module_version": "1.5.0",
      "model_name": "ToggleButtonModel",
      "state": {
       "description": "Stop",
       "disabled": true,
       "layout": "IPY_MODEL_a0f10a530354479ab670157c97a82bef",
       "style": "IPY_MODEL_4f54038ed5194974b7bd8e879024ec80",
       "value": true
      }
     },
     "5f39918ae6d84e89aa1c02be9af54b7e": {
      "model_module": "@jupyter-widgets/controls",
      "model_module_version": "1.5.0",
      "model_name": "CheckboxModel",
      "state": {
       "description": "Modulation",
       "disabled": false,
       "layout": "IPY_MODEL_47ec47cd3a514198ac1fef043338862a",
       "style": "IPY_MODEL_74ca2f9b9454437796faf316c9d2caaa",
       "value": false
      }
     },
     "5f8df3e5d578401cb3f86d1d61ea1d7f": {
      "model_module": "@jupyter-widgets/base",
      "model_module_version": "1.2.0",
      "model_name": "LayoutModel",
      "state": {}
     },
     "5fd1a72397ba45a6b33a6b3f2941e03e": {
      "model_module": "@jupyter-widgets/controls",
      "model_module_version": "1.5.0",
      "model_name": "DescriptionStyleModel",
      "state": {
       "description_width": ""
      }
     },
     "6017d389549d481498466f0b7a6a73e7": {
      "model_module": "@jupyter-widgets/base",
      "model_module_version": "1.2.0",
      "model_name": "LayoutModel",
      "state": {}
     },
     "60bf9fcb59ec405fbb5f47ca2b2cd2ff": {
      "model_module": "@jupyter-widgets/controls",
      "model_module_version": "1.5.0",
      "model_name": "DescriptionStyleModel",
      "state": {
       "description_width": ""
      }
     },
     "617d2172171e4d4295d316b69ab86083": {
      "model_module": "@jupyter-widgets/base",
      "model_module_version": "1.2.0",
      "model_name": "LayoutModel",
      "state": {}
     },
     "61aef0d2f9304944a988390889edb55d": {
      "model_module": "@jupyter-widgets/controls",
      "model_module_version": "1.5.0",
      "model_name": "ToggleButtonModel",
      "state": {
       "description": "Stop",
       "disabled": true,
       "layout": "IPY_MODEL_3d058da94bf44efbb89925eaaaa4ef74",
       "style": "IPY_MODEL_e0b75de0645b4a5ba3e005ad26b1762b",
       "value": true
      }
     },
     "61ccaf5dd7914d5e8752abfe9871c36e": {
      "model_module": "@jupyter-widgets/base",
      "model_module_version": "1.2.0",
      "model_name": "LayoutModel",
      "state": {}
     },
     "61ce4fe656f7484fa7913593fe0d9da6": {
      "model_module": "@jupyter-widgets/controls",
      "model_module_version": "1.5.0",
      "model_name": "DescriptionStyleModel",
      "state": {
       "description_width": ""
      }
     },
     "61d226a5cde3485a8994aea29e515733": {
      "model_module": "@jupyter-widgets/base",
      "model_module_version": "1.2.0",
      "model_name": "LayoutModel",
      "state": {}
     },
     "61e2d2719230421db7b0ef685501219a": {
      "model_module": "@jupyter-widgets/controls",
      "model_module_version": "1.5.0",
      "model_name": "CheckboxModel",
      "state": {
       "description": "Modulation",
       "disabled": false,
       "layout": "IPY_MODEL_a880c4422c824d4184f44468020521c9",
       "style": "IPY_MODEL_b3020dca7fc54f73b812697c162241cb",
       "value": false
      }
     },
     "621c3d0b958c404893822d3f3714ed0d": {
      "model_module": "@jupyter-widgets/base",
      "model_module_version": "1.2.0",
      "model_name": "LayoutModel",
      "state": {}
     },
     "627a5a66998346d3b0d55b37b394aedc": {
      "model_module": "@jupyter-widgets/base",
      "model_module_version": "1.2.0",
      "model_name": "LayoutModel",
      "state": {}
     },
     "636fb9840f564cf2a6bd56c6b190a008": {
      "model_module": "@jupyter-widgets/base",
      "model_module_version": "1.2.0",
      "model_name": "LayoutModel",
      "state": {}
     },
     "63aa0fa5a3a9477498c5eaf53eee28a0": {
      "model_module": "@jupyter-widgets/controls",
      "model_module_version": "1.5.0",
      "model_name": "DescriptionStyleModel",
      "state": {
       "description_width": ""
      }
     },
     "6417674aadd04f5c906e538f8373711e": {
      "model_module": "@jupyter-widgets/controls",
      "model_module_version": "1.5.0",
      "model_name": "DescriptionStyleModel",
      "state": {
       "description_width": ""
      }
     },
     "654babd4900b4e1d91e2eb5889a5db49": {
      "model_module": "@jupyter-widgets/base",
      "model_module_version": "1.2.0",
      "model_name": "LayoutModel",
      "state": {}
     },
     "66006b29ac724d7ea41057c46472a352": {
      "model_module": "@jupyter-widgets/controls",
      "model_module_version": "1.5.0",
      "model_name": "DescriptionStyleModel",
      "state": {
       "description_width": ""
      }
     },
     "67a1051df5064018823f47245da01c79": {
      "model_module": "@jupyter-widgets/controls",
      "model_module_version": "1.5.0",
      "model_name": "ToggleButtonModel",
      "state": {
       "description": "Stop",
       "disabled": true,
       "layout": "IPY_MODEL_1bba9443a26847f2b9193c1859948a31",
       "style": "IPY_MODEL_9ec7e0e4d59a4d63b70fc7f31f53fff4",
       "value": true
      }
     },
     "67b084b6b3d44f838a48c50f13148bc7": {
      "model_module": "@jupyter-widgets/controls",
      "model_module_version": "1.5.0",
      "model_name": "CheckboxModel",
      "state": {
       "description": "Modulation",
       "disabled": false,
       "layout": "IPY_MODEL_d62ee578b964448c82cb6da8771fe18d",
       "style": "IPY_MODEL_15bbb618eeec4c50b40f639a012ee020",
       "value": false
      }
     },
     "69aadcf136b34f82bc4317dce037aa7c": {
      "model_module": "@jupyter-widgets/base",
      "model_module_version": "1.2.0",
      "model_name": "LayoutModel",
      "state": {}
     },
     "6a3bf4da31de478d94493fb7e7bf2612": {
      "model_module": "@jupyter-widgets/base",
      "model_module_version": "1.2.0",
      "model_name": "LayoutModel",
      "state": {}
     },
     "6a94bd2b9dcd401586073d5219ba1775": {
      "model_module": "@jupyter-widgets/controls",
      "model_module_version": "1.5.0",
      "model_name": "DescriptionStyleModel",
      "state": {
       "description_width": ""
      }
     },
     "6d149bb8f3384a42bb50a00a3768581f": {
      "model_module": "@jupyter-widgets/base",
      "model_module_version": "1.2.0",
      "model_name": "LayoutModel",
      "state": {}
     },
     "6f1e292d713f4abd9b47d62507f14a53": {
      "model_module": "@jupyter-widgets/controls",
      "model_module_version": "1.5.0",
      "model_name": "CheckboxModel",
      "state": {
       "description": "Modulation",
       "disabled": false,
       "layout": "IPY_MODEL_b085caa6bb224ae68256adc411f6eb31",
       "style": "IPY_MODEL_63aa0fa5a3a9477498c5eaf53eee28a0",
       "value": true
      }
     },
     "6f85734c28af439a8da835c83e71c0c6": {
      "model_module": "@jupyter-widgets/controls",
      "model_module_version": "1.5.0",
      "model_name": "ButtonModel",
      "state": {
       "description": "Stop",
       "layout": "IPY_MODEL_617d2172171e4d4295d316b69ab86083",
       "style": "IPY_MODEL_1d77796b884c4861a25db47632b8d489"
      }
     },
     "6f86b5e8c23b4820bba2a6a839d624b3": {
      "model_module": "@jupyter-widgets/controls",
      "model_module_version": "1.5.0",
      "model_name": "DescriptionStyleModel",
      "state": {
       "description_width": ""
      }
     },
     "6fdb7d274eab44d2aaf38dd4dcfa0511": {
      "model_module": "@jupyter-widgets/base",
      "model_module_version": "1.2.0",
      "model_name": "LayoutModel",
      "state": {}
     },
     "705e7708b8274ee9b8aade38db0e0015": {
      "model_module": "@jupyter-widgets/base",
      "model_module_version": "1.2.0",
      "model_name": "LayoutModel",
      "state": {}
     },
     "707a28a22a5a4839ae89a2552f39d680": {
      "model_module": "@jupyter-widgets/controls",
      "model_module_version": "1.5.0",
      "model_name": "HBoxModel",
      "state": {
       "children": [
        "IPY_MODEL_34e7cfef6c6044c08515461726c2a3ea",
        "IPY_MODEL_3e59bef80c7f40abad8d9f41fe83856c"
       ],
       "layout": "IPY_MODEL_a8a6032222654ad9ab0738659f2e455c"
      }
     },
     "708383e80c9e40e3913d346be9bc4d21": {
      "model_module": "@jupyter-widgets/controls",
      "model_module_version": "1.5.0",
      "model_name": "DescriptionStyleModel",
      "state": {
       "description_width": ""
      }
     },
     "708fa49403274d8286dc353761a14f2e": {
      "model_module": "@jupyter-widgets/base",
      "model_module_version": "1.2.0",
      "model_name": "LayoutModel",
      "state": {}
     },
     "70cd5549b9614fa4b5ce1dbde449e679": {
      "model_module": "@jupyter-widgets/controls",
      "model_module_version": "1.5.0",
      "model_name": "ButtonModel",
      "state": {
       "description": "Start",
       "disabled": true,
       "layout": "IPY_MODEL_d2e8cca801334d49ba74b3738de3d20f",
       "style": "IPY_MODEL_b783cdf57d1d487db64a9a029baf1d0d"
      }
     },
     "72a59b1fcaff4177ba91b8edb4fb23bd": {
      "model_module": "@jupyter-widgets/controls",
      "model_module_version": "1.5.0",
      "model_name": "CheckboxModel",
      "state": {
       "description": "Downsampling with Zeros",
       "disabled": false,
       "layout": "IPY_MODEL_1372b726ab434f9b89571f6da34c9e62",
       "style": "IPY_MODEL_2aa28291b0e94968b90bc072bad5692c",
       "value": false
      }
     },
     "739b843557fd4432826a28261e5b827e": {
      "model_module": "@jupyter-widgets/controls",
      "model_module_version": "1.5.0",
      "model_name": "CheckboxModel",
      "state": {
       "description": "Downsampling with Zeros",
       "disabled": false,
       "layout": "IPY_MODEL_98cc8cdb6e87466a8f357e995b2a13e9",
       "style": "IPY_MODEL_224bcb4dea094163994aaa3f0121c825",
       "value": false
      }
     },
     "73b4db0032014d44a57d71fb87786ee8": {
      "model_module": "@jupyter-widgets/controls",
      "model_module_version": "1.5.0",
      "model_name": "CheckboxModel",
      "state": {
       "description": "Downsampling with Zeros",
       "disabled": false,
       "layout": "IPY_MODEL_446d80c629a24e2fa2136e03dfc9d28b",
       "style": "IPY_MODEL_4db559233bc54c04b701ff71ebc1d55d",
       "value": false
      }
     },
     "74252125ebfe40d4b4c7196575019063": {
      "model_module": "@jupyter-widgets/controls",
      "model_module_version": "1.5.0",
      "model_name": "CheckboxModel",
      "state": {
       "description": "Modulation",
       "disabled": false,
       "layout": "IPY_MODEL_9e440fe35fc3424480399964187fbcd4",
       "style": "IPY_MODEL_ce866027b4d84a84b95d164fbfbbe2e7",
       "value": true
      }
     },
     "74ca2f9b9454437796faf316c9d2caaa": {
      "model_module": "@jupyter-widgets/controls",
      "model_module_version": "1.5.0",
      "model_name": "DescriptionStyleModel",
      "state": {
       "description_width": ""
      }
     },
     "74f799e758134b04b4445af2ddc46bec": {
      "model_module": "@jupyter-widgets/controls",
      "model_module_version": "1.5.0",
      "model_name": "ToggleButtonModel",
      "state": {
       "description": "Stop",
       "disabled": true,
       "layout": "IPY_MODEL_a9d4a85ea32f420b960f6fb68fbb223c",
       "style": "IPY_MODEL_44ff2ce803d943529417e191ffed2351",
       "value": true
      }
     },
     "75ad76b0e8ec4c6e80622839c143d519": {
      "model_module": "@jupyter-widgets/controls",
      "model_module_version": "1.5.0",
      "model_name": "DescriptionStyleModel",
      "state": {
       "description_width": ""
      }
     },
     "75d06e5bbb714303b0479b333746ae45": {
      "model_module": "@jupyter-widgets/controls",
      "model_module_version": "1.5.0",
      "model_name": "CheckboxModel",
      "state": {
       "description": "Modulation",
       "disabled": false,
       "layout": "IPY_MODEL_f9ce31df344f485a9dd429fb14eb1b88",
       "style": "IPY_MODEL_5aac5131dc3b4fbab4b6ae875eb344d7",
       "value": false
      }
     },
     "7705223781b64d7cb0c21a0e0a800ca7": {
      "model_module": "@jupyter-widgets/controls",
      "model_module_version": "1.5.0",
      "model_name": "DescriptionStyleModel",
      "state": {
       "description_width": ""
      }
     },
     "774213af6c0e47d0af120416a2ca3213": {
      "model_module": "@jupyter-widgets/base",
      "model_module_version": "1.2.0",
      "model_name": "LayoutModel",
      "state": {}
     },
     "774b67e838d44083b12af5d4742878bd": {
      "model_module": "@jupyter-widgets/controls",
      "model_module_version": "1.5.0",
      "model_name": "CheckboxModel",
      "state": {
       "description": "Modulation",
       "disabled": false,
       "layout": "IPY_MODEL_113d6d47f3fa4ae9975dc7a6247471b8",
       "style": "IPY_MODEL_c2ed271de04e439585fef8a656aab586",
       "value": false
      }
     },
     "779d357055284d7d839ee1ba611221e8": {
      "model_module": "@jupyter-widgets/base",
      "model_module_version": "1.2.0",
      "model_name": "LayoutModel",
      "state": {}
     },
     "7836a2e5f5404d26ac461945a2ea0619": {
      "model_module": "@jupyter-widgets/controls",
      "model_module_version": "1.5.0",
      "model_name": "CheckboxModel",
      "state": {
       "description": "Downsampling with Zeros",
       "disabled": false,
       "layout": "IPY_MODEL_e8f0676ca8644d3ea28ffb8dd3c7964a",
       "style": "IPY_MODEL_dbd4fc6f05344d3893968667ea288e00",
       "value": true
      }
     },
     "7889fc66583743449da8d36ceca9d757": {
      "model_module": "@jupyter-widgets/controls",
      "model_module_version": "1.5.0",
      "model_name": "DescriptionStyleModel",
      "state": {
       "description_width": ""
      }
     },
     "78c567360a394eb19dabc832927f8693": {
      "model_module": "@jupyter-widgets/base",
      "model_module_version": "1.2.0",
      "model_name": "LayoutModel",
      "state": {}
     },
     "791436e8a866443da8886e30373f3ebc": {
      "model_module": "@jupyter-widgets/base",
      "model_module_version": "1.2.0",
      "model_name": "LayoutModel",
      "state": {}
     },
     "7a01d69aff434512a6d7d8528cc7654e": {
      "model_module": "@jupyter-widgets/controls",
      "model_module_version": "1.5.0",
      "model_name": "ToggleButtonModel",
      "state": {
       "description": "Stop",
       "layout": "IPY_MODEL_89484ed3c6fe47fd8903b7e9c7f57d6a",
       "style": "IPY_MODEL_b2877fbf4cde4f09b10b362889ee0936",
       "value": true
      }
     },
     "7a5a745ea3c84d0ca53c70b38f04bafd": {
      "model_module": "@jupyter-widgets/controls",
      "model_module_version": "1.5.0",
      "model_name": "DescriptionStyleModel",
      "state": {
       "description_width": ""
      }
     },
     "7bec54694ea94b16aa7ddae3004a6907": {
      "model_module": "@jupyter-widgets/controls",
      "model_module_version": "1.5.0",
      "model_name": "HBoxModel",
      "state": {
       "children": [
        "IPY_MODEL_238506e028044b5b881ef74c8ad59846"
       ],
       "layout": "IPY_MODEL_234045dd6a114ecda45e0086e0d54e99"
      }
     },
     "7c35cbf70f7549d28ac6f17e8c3ab0b1": {
      "model_module": "@jupyter-widgets/controls",
      "model_module_version": "1.5.0",
      "model_name": "DescriptionStyleModel",
      "state": {
       "description_width": ""
      }
     },
     "7c5b8e57a4dc422b907e28ea45893c3f": {
      "model_module": "@jupyter-widgets/base",
      "model_module_version": "1.2.0",
      "model_name": "LayoutModel",
      "state": {}
     },
     "7c9b70390db5434ea69f9e2b3fa7c892": {
      "model_module": "@jupyter-widgets/controls",
      "model_module_version": "1.5.0",
      "model_name": "DescriptionStyleModel",
      "state": {
       "description_width": ""
      }
     },
     "7cdf71288be44a1894d4b0112f27dd87": {
      "model_module": "@jupyter-widgets/controls",
      "model_module_version": "1.5.0",
      "model_name": "ButtonStyleModel",
      "state": {}
     },
     "7d50ce79032e47e7b978db15ed0883ae": {
      "model_module": "@jupyter-widgets/base",
      "model_module_version": "1.2.0",
      "model_name": "LayoutModel",
      "state": {}
     },
     "7e34e60548614e01b53689240028446e": {
      "model_module": "@jupyter-widgets/controls",
      "model_module_version": "1.5.0",
      "model_name": "ToggleButtonModel",
      "state": {
       "description": "Stop",
       "disabled": true,
       "layout": "IPY_MODEL_8d7c0724d32c4c9e8dfb0e71498cac67",
       "style": "IPY_MODEL_6a94bd2b9dcd401586073d5219ba1775",
       "value": true
      }
     },
     "7e60679bf91b490fb58167089e1cee13": {
      "model_module": "@jupyter-widgets/controls",
      "model_module_version": "1.5.0",
      "model_name": "CheckboxModel",
      "state": {
       "description": "Modulation",
       "disabled": false,
       "layout": "IPY_MODEL_15772330080a48898ce9867905929ca4",
       "style": "IPY_MODEL_8b7fdc5835fd4c32a31fb604f94ec4ee",
       "value": true
      }
     },
     "7ea05fb563f74b63bc8bd426aa84bf39": {
      "model_module": "@jupyter-widgets/controls",
      "model_module_version": "1.5.0",
      "model_name": "DescriptionStyleModel",
      "state": {
       "description_width": ""
      }
     },
     "7eaf2d38d3d94d5ebe1c8c261dc5e924": {
      "model_module": "@jupyter-widgets/controls",
      "model_module_version": "1.5.0",
      "model_name": "DescriptionStyleModel",
      "state": {
       "description_width": ""
      }
     },
     "7f059ff860544d048877c9f6f1affd2d": {
      "model_module": "@jupyter-widgets/base",
      "model_module_version": "1.2.0",
      "model_name": "LayoutModel",
      "state": {}
     },
     "7f14ac2a7e27459d92a0b4adcd0d7ffd": {
      "model_module": "@jupyter-widgets/controls",
      "model_module_version": "1.5.0",
      "model_name": "DescriptionStyleModel",
      "state": {
       "description_width": ""
      }
     },
     "7f64dea70b79470aa30508c8f0c20150": {
      "model_module": "@jupyter-widgets/controls",
      "model_module_version": "1.5.0",
      "model_name": "ToggleButtonModel",
      "state": {
       "description": "Stop",
       "layout": "IPY_MODEL_779d357055284d7d839ee1ba611221e8",
       "style": "IPY_MODEL_81f45b5f76104f8a980503f3e39332bb",
       "value": true
      }
     },
     "7f91463466444588b03bddfe6cdc3ecc": {
      "model_module": "@jupyter-widgets/controls",
      "model_module_version": "1.5.0",
      "model_name": "HBoxModel",
      "state": {
       "children": [
        "IPY_MODEL_c3b2be97bd7e4e6682d78fdd0d42ea49",
        "IPY_MODEL_5eb2b7c1ae11435d87f00768fef4c116"
       ],
       "layout": "IPY_MODEL_213acdd3fced4e0ca000f55347de9527"
      }
     },
     "81742fd0d02848fdaebcff02a39e8a59": {
      "model_module": "@jupyter-widgets/controls",
      "model_module_version": "1.5.0",
      "model_name": "DescriptionStyleModel",
      "state": {
       "description_width": ""
      }
     },
     "817b2db3204248c38931137988f4d024": {
      "model_module": "@jupyter-widgets/controls",
      "model_module_version": "1.5.0",
      "model_name": "DescriptionStyleModel",
      "state": {
       "description_width": ""
      }
     },
     "81aef13a12ef4d5086cc33f18ae22e67": {
      "model_module": "@jupyter-widgets/controls",
      "model_module_version": "1.5.0",
      "model_name": "ToggleButtonModel",
      "state": {
       "description": "Stop",
       "disabled": true,
       "layout": "IPY_MODEL_addc1aa620764e099cbf8cd137f36cf3",
       "style": "IPY_MODEL_2479ecdcccc240509b8566a2a603ab0c",
       "value": true
      }
     },
     "81f45b5f76104f8a980503f3e39332bb": {
      "model_module": "@jupyter-widgets/controls",
      "model_module_version": "1.5.0",
      "model_name": "DescriptionStyleModel",
      "state": {
       "description_width": ""
      }
     },
     "827b4767fde3485eb5c2b84a93302b94": {
      "model_module": "@jupyter-widgets/base",
      "model_module_version": "1.2.0",
      "model_name": "LayoutModel",
      "state": {}
     },
     "830c7a0a8d3c44dbbe00b5d1553e25f3": {
      "model_module": "@jupyter-widgets/base",
      "model_module_version": "1.2.0",
      "model_name": "LayoutModel",
      "state": {}
     },
     "833cc096a93644dbaa638385cbc285b8": {
      "model_module": "@jupyter-widgets/base",
      "model_module_version": "1.2.0",
      "model_name": "LayoutModel",
      "state": {}
     },
     "83f7adb73ebf47048b5f20262a9bdf9a": {
      "model_module": "@jupyter-widgets/controls",
      "model_module_version": "1.5.0",
      "model_name": "DescriptionStyleModel",
      "state": {
       "description_width": ""
      }
     },
     "84d68d9e2689450c8280d11b0520f005": {
      "model_module": "@jupyter-widgets/controls",
      "model_module_version": "1.5.0",
      "model_name": "ToggleButtonModel",
      "state": {
       "description": "Stop",
       "layout": "IPY_MODEL_96a78bf0d2f6494c8b54b6173d653449",
       "style": "IPY_MODEL_7c35cbf70f7549d28ac6f17e8c3ab0b1"
      }
     },
     "86259bbc88f14f18b102a98a0d9c7278": {
      "model_module": "@jupyter-widgets/base",
      "model_module_version": "1.2.0",
      "model_name": "LayoutModel",
      "state": {}
     },
     "89484ed3c6fe47fd8903b7e9c7f57d6a": {
      "model_module": "@jupyter-widgets/base",
      "model_module_version": "1.2.0",
      "model_name": "LayoutModel",
      "state": {}
     },
     "89d29651e3da4f80ade582061a753d91": {
      "model_module": "@jupyter-widgets/controls",
      "model_module_version": "1.5.0",
      "model_name": "ToggleButtonModel",
      "state": {
       "description": "Stop",
       "layout": "IPY_MODEL_2c0c1ccee30d431c9040ada58fd71129",
       "style": "IPY_MODEL_50e455fde9824f468875e0b897625f4c",
       "value": true
      }
     },
     "89d69e7774864902bfdfde7e39678461": {
      "model_module": "@jupyter-widgets/controls",
      "model_module_version": "1.5.0",
      "model_name": "LabelModel",
      "state": {
       "layout": "IPY_MODEL_bf69136351d84a46931f7074f910e2e1",
       "style": "IPY_MODEL_37b3e0d5e4e84396918657d98c57611a",
       "value": "Stepsize: 256"
      }
     },
     "8aeb4d884e904dfe8c13404fefd0ef6f": {
      "model_module": "@jupyter-widgets/controls",
      "model_module_version": "1.5.0",
      "model_name": "BoundedIntTextModel",
      "state": {
       "description": "Bit-Depth:",
       "layout": "IPY_MODEL_a512d148087f4555b6bceeca8d4ea7a2",
       "max": 16,
       "min": 2,
       "style": "IPY_MODEL_5254bdb17cad4908be4e921410737e7b",
       "value": 8
      }
     },
     "8b07773797bc4e8885a5add14ff97d87": {
      "model_module": "@jupyter-widgets/controls",
      "model_module_version": "1.5.0",
      "model_name": "DescriptionStyleModel",
      "state": {
       "description_width": ""
      }
     },
     "8b7fdc5835fd4c32a31fb604f94ec4ee": {
      "model_module": "@jupyter-widgets/controls",
      "model_module_version": "1.5.0",
      "model_name": "DescriptionStyleModel",
      "state": {
       "description_width": ""
      }
     },
     "8bfde2f187c84f8c936d80d6ab9dd110": {
      "model_module": "@jupyter-widgets/base",
      "model_module_version": "1.2.0",
      "model_name": "LayoutModel",
      "state": {}
     },
     "8c7d2e76431149a7affc06b5ea82039b": {
      "model_module": "@jupyter-widgets/controls",
      "model_module_version": "1.5.0",
      "model_name": "ButtonModel",
      "state": {
       "description": "Start",
       "layout": "IPY_MODEL_04b888ac7aee4530abe305cfbd8b1f34",
       "style": "IPY_MODEL_5b3e74660c91406eb1755ba616134dd3"
      }
     },
     "8d7c0724d32c4c9e8dfb0e71498cac67": {
      "model_module": "@jupyter-widgets/base",
      "model_module_version": "1.2.0",
      "model_name": "LayoutModel",
      "state": {}
     },
     "8dba8c8ba89b47e68d241ffd1d809ae2": {
      "model_module": "@jupyter-widgets/controls",
      "model_module_version": "1.5.0",
      "model_name": "ToggleButtonModel",
      "state": {
       "description": "Stop",
       "disabled": true,
       "layout": "IPY_MODEL_8f9e2cce3ffe4fada08bdab12874806b",
       "style": "IPY_MODEL_7705223781b64d7cb0c21a0e0a800ca7",
       "value": true
      }
     },
     "8de57b81123b4353b608df442f4aa052": {
      "model_module": "@jupyter-widgets/controls",
      "model_module_version": "1.5.0",
      "model_name": "BoundedIntTextModel",
      "state": {
       "description": "Bit-Depth:",
       "layout": "IPY_MODEL_945f2a84eed4483287c19929da9cd22e",
       "max": 16,
       "min": 2,
       "style": "IPY_MODEL_f2d6c9bf16f74551afa02353ada0dec7",
       "value": 8
      }
     },
     "8deb7a41fe05470fafbbe660754670ee": {
      "model_module": "@jupyter-widgets/controls",
      "model_module_version": "1.5.0",
      "model_name": "ToggleButtonModel",
      "state": {
       "description": "Stop",
       "disabled": true,
       "layout": "IPY_MODEL_07cde229cf0744c5874378f92fb78e9f",
       "style": "IPY_MODEL_7c9b70390db5434ea69f9e2b3fa7c892",
       "value": true
      }
     },
     "8f63fda556ae49eea3ef4be03fdd736a": {
      "model_module": "@jupyter-widgets/controls",
      "model_module_version": "1.5.0",
      "model_name": "ToggleButtonModel",
      "state": {
       "description": "Stop",
       "layout": "IPY_MODEL_ae6ab56d84d049e8b3a4a6453ee62cb7",
       "style": "IPY_MODEL_34f16d143e48488090e222e4ed23e9b8"
      }
     },
     "8f9e2cce3ffe4fada08bdab12874806b": {
      "model_module": "@jupyter-widgets/base",
      "model_module_version": "1.2.0",
      "model_name": "LayoutModel",
      "state": {}
     },
     "91b81a6724d149b087f233952ed603b3": {
      "model_module": "@jupyter-widgets/base",
      "model_module_version": "1.2.0",
      "model_name": "LayoutModel",
      "state": {}
     },
     "924455af6dc24146948b95d2ec95b717": {
      "model_module": "@jupyter-widgets/controls",
      "model_module_version": "1.5.0",
      "model_name": "DescriptionStyleModel",
      "state": {
       "description_width": ""
      }
     },
     "93b6ae17ef3e40faa9dbb1b7d060424e": {
      "model_module": "@jupyter-widgets/base",
      "model_module_version": "1.2.0",
      "model_name": "LayoutModel",
      "state": {}
     },
     "945f2a84eed4483287c19929da9cd22e": {
      "model_module": "@jupyter-widgets/base",
      "model_module_version": "1.2.0",
      "model_name": "LayoutModel",
      "state": {}
     },
     "94b8806eb4eb41c29262f6f79153bdaa": {
      "model_module": "@jupyter-widgets/base",
      "model_module_version": "1.2.0",
      "model_name": "LayoutModel",
      "state": {}
     },
     "96a68ca49f2b4e748d4a46465e5dfb69": {
      "model_module": "@jupyter-widgets/controls",
      "model_module_version": "1.5.0",
      "model_name": "DescriptionStyleModel",
      "state": {
       "description_width": ""
      }
     },
     "96a78bf0d2f6494c8b54b6173d653449": {
      "model_module": "@jupyter-widgets/base",
      "model_module_version": "1.2.0",
      "model_name": "LayoutModel",
      "state": {}
     },
     "96c064fa76044107a110d0ee6e83e2cb": {
      "model_module": "@jupyter-widgets/base",
      "model_module_version": "1.2.0",
      "model_name": "LayoutModel",
      "state": {}
     },
     "97a91e15880449efb45c33b5d9792ae2": {
      "model_module": "@jupyter-widgets/controls",
      "model_module_version": "1.5.0",
      "model_name": "DropdownModel",
      "state": {
       "_options_labels": [
        "Mid-Tread",
        "Mid-Rise"
       ],
       "description": "Quantization Type:",
       "index": 0,
       "layout": "IPY_MODEL_9d80ca0cac984d8ba55d4b8a4769f6a9",
       "style": "IPY_MODEL_a166a7fd464646d0b79fee5fa22a9b77"
      }
     },
     "97e3c66a11fd4f7ca70d3a5057d89b32": {
      "model_module": "@jupyter-widgets/controls",
      "model_module_version": "1.5.0",
      "model_name": "ToggleButtonModel",
      "state": {
       "description": "Stop",
       "disabled": true,
       "layout": "IPY_MODEL_6017d389549d481498466f0b7a6a73e7",
       "style": "IPY_MODEL_817b2db3204248c38931137988f4d024",
       "value": true
      }
     },
     "9831009997624e3099aa2bc139944d43": {
      "model_module": "@jupyter-widgets/base",
      "model_module_version": "1.2.0",
      "model_name": "LayoutModel",
      "state": {}
     },
     "98ad8e111e9d4d30b4ee494db69d954b": {
      "model_module": "@jupyter-widgets/controls",
      "model_module_version": "1.5.0",
      "model_name": "CheckboxModel",
      "state": {
       "description": "Modulation",
       "disabled": false,
       "layout": "IPY_MODEL_3af03ba0278c42b0ab31ae8d77765b8f",
       "style": "IPY_MODEL_d5b3fc0f2fa042a99fdba5ad93c3e329",
       "value": false
      }
     },
     "98cc8cdb6e87466a8f357e995b2a13e9": {
      "model_module": "@jupyter-widgets/base",
      "model_module_version": "1.2.0",
      "model_name": "LayoutModel",
      "state": {}
     },
     "98e40ddffb094515a8e88b2b0e9abffa": {
      "model_module": "@jupyter-widgets/controls",
      "model_module_version": "1.5.0",
      "model_name": "DescriptionStyleModel",
      "state": {
       "description_width": ""
      }
     },
     "9b6460fb4d454bc28bea23a3712a92c7": {
      "model_module": "@jupyter-widgets/controls",
      "model_module_version": "1.5.0",
      "model_name": "DescriptionStyleModel",
      "state": {
       "description_width": ""
      }
     },
     "9b70d33a58f04b8ab921f3c74141785c": {
      "model_module": "@jupyter-widgets/controls",
      "model_module_version": "1.5.0",
      "model_name": "ToggleButtonModel",
      "state": {
       "description": "Stop",
       "disabled": true,
       "layout": "IPY_MODEL_c76fe3bf78dc4b1594b28a7e135603c2",
       "style": "IPY_MODEL_f104952c53c04bf19ae51ac1c17e7589",
       "value": true
      }
     },
     "9bbe175ff49b46bcb31c4c865006e018": {
      "model_module": "@jupyter-widgets/controls",
      "model_module_version": "1.5.0",
      "model_name": "DropdownModel",
      "state": {
       "_options_labels": [
        "Mid-Tread",
        "Mid-Rise"
       ],
       "description": "Quantization Type:",
       "index": 0,
       "layout": "IPY_MODEL_237993a63cac41e59c204965e07d2f9f",
       "style": "IPY_MODEL_400c514f8124481fa74a9141beb8aba9"
      }
     },
     "9d3655b6691641c6a844a9702491b2f5": {
      "model_module": "@jupyter-widgets/base",
      "model_module_version": "1.2.0",
      "model_name": "LayoutModel",
      "state": {}
     },
     "9d80ca0cac984d8ba55d4b8a4769f6a9": {
      "model_module": "@jupyter-widgets/base",
      "model_module_version": "1.2.0",
      "model_name": "LayoutModel",
      "state": {}
     },
     "9e41a52328224716afc6e66f01c14e6e": {
      "model_module": "@jupyter-widgets/controls",
      "model_module_version": "1.5.0",
      "model_name": "DescriptionStyleModel",
      "state": {
       "description_width": ""
      }
     },
     "9e440fe35fc3424480399964187fbcd4": {
      "model_module": "@jupyter-widgets/base",
      "model_module_version": "1.2.0",
      "model_name": "LayoutModel",
      "state": {}
     },
     "9ec7e0e4d59a4d63b70fc7f31f53fff4": {
      "model_module": "@jupyter-widgets/controls",
      "model_module_version": "1.5.0",
      "model_name": "DescriptionStyleModel",
      "state": {
       "description_width": ""
      }
     },
     "9eefd0731f5c4392a5acde7f1e933fd5": {
      "model_module": "@jupyter-widgets/base",
      "model_module_version": "1.2.0",
      "model_name": "LayoutModel",
      "state": {}
     },
     "a0ee48f6a3e24d0196ad612252906c02": {
      "model_module": "@jupyter-widgets/base",
      "model_module_version": "1.2.0",
      "model_name": "LayoutModel",
      "state": {}
     },
     "a0f10a530354479ab670157c97a82bef": {
      "model_module": "@jupyter-widgets/base",
      "model_module_version": "1.2.0",
      "model_name": "LayoutModel",
      "state": {}
     },
     "a105b9301e4e467b8f27efd88b0dd027": {
      "model_module": "@jupyter-widgets/controls",
      "model_module_version": "1.5.0",
      "model_name": "CheckboxModel",
      "state": {
       "description": "$\\mu$-Law",
       "disabled": false,
       "layout": "IPY_MODEL_02c9485b88554eb9992be45d9860b92e",
       "style": "IPY_MODEL_37389e5b17cf48e3a0021f24e6b830b3",
       "value": false
      }
     },
     "a166a7fd464646d0b79fee5fa22a9b77": {
      "model_module": "@jupyter-widgets/controls",
      "model_module_version": "1.5.0",
      "model_name": "DescriptionStyleModel",
      "state": {
       "description_width": ""
      }
     },
     "a1f23f60b3804a438ade7232ff60fcbb": {
      "model_module": "@jupyter-widgets/base",
      "model_module_version": "1.2.0",
      "model_name": "LayoutModel",
      "state": {}
     },
     "a223e192528449f48c4893ac88a806d2": {
      "model_module": "@jupyter-widgets/controls",
      "model_module_version": "1.5.0",
      "model_name": "ToggleButtonModel",
      "state": {
       "description": "Stop",
       "layout": "IPY_MODEL_a0ee48f6a3e24d0196ad612252906c02",
       "style": "IPY_MODEL_96a68ca49f2b4e748d4a46465e5dfb69",
       "value": true
      }
     },
     "a280ae87466548388924bd74d6697a45": {
      "model_module": "@jupyter-widgets/controls",
      "model_module_version": "1.5.0",
      "model_name": "HBoxModel",
      "state": {
       "children": [
        "IPY_MODEL_c708e4f428884a41bb1734d6f6d8d92b",
        "IPY_MODEL_42ba6f82ba4247a8ad555670ee0c3712",
        "IPY_MODEL_c2a31277db8048e88bdbe6a931a12299"
       ],
       "layout": "IPY_MODEL_ae92008cfeff4042b0c18b1547f0dd1c"
      }
     },
     "a33b931b7def479bae498eaa5c26d980": {
      "model_module": "@jupyter-widgets/controls",
      "model_module_version": "1.5.0",
      "model_name": "DropdownModel",
      "state": {
       "_options_labels": [
        "Mid-Tread",
        "Mid-Rise"
       ],
       "description": "Quantization Type:",
       "index": 0,
       "layout": "IPY_MODEL_077e49c1079b43f98d5b2652c20d7f7f",
       "style": "IPY_MODEL_3656ba410ee44a4f844ca3e0cbfac655"
      }
     },
     "a512d148087f4555b6bceeca8d4ea7a2": {
      "model_module": "@jupyter-widgets/base",
      "model_module_version": "1.2.0",
      "model_name": "LayoutModel",
      "state": {}
     },
     "a51c8f4ed7804636832401d86001544f": {
      "model_module": "@jupyter-widgets/base",
      "model_module_version": "1.2.0",
      "model_name": "LayoutModel",
      "state": {}
     },
     "a5859c603de74d578c07c3d7b9fecde9": {
      "model_module": "@jupyter-widgets/controls",
      "model_module_version": "1.5.0",
      "model_name": "DescriptionStyleModel",
      "state": {
       "description_width": ""
      }
     },
     "a69a78023ebb421581940e7044b398ee": {
      "model_module": "@jupyter-widgets/controls",
      "model_module_version": "1.5.0",
      "model_name": "HBoxModel",
      "state": {
       "children": [
        "IPY_MODEL_8de57b81123b4353b608df442f4aa052",
        "IPY_MODEL_97a91e15880449efb45c33b5d9792ae2",
        "IPY_MODEL_89d69e7774864902bfdfde7e39678461"
       ],
       "layout": "IPY_MODEL_5f8df3e5d578401cb3f86d1d61ea1d7f"
      }
     },
     "a737b92b686741088a934cd6e16f1f06": {
      "model_module": "@jupyter-widgets/controls",
      "model_module_version": "1.5.0",
      "model_name": "ButtonModel",
      "state": {
       "description": "Start",
       "disabled": true,
       "layout": "IPY_MODEL_0f01abdd3e084e20a0e0c2ce4554bcb2",
       "style": "IPY_MODEL_7cdf71288be44a1894d4b0112f27dd87"
      }
     },
     "a880c4422c824d4184f44468020521c9": {
      "model_module": "@jupyter-widgets/base",
      "model_module_version": "1.2.0",
      "model_name": "LayoutModel",
      "state": {}
     },
     "a8a6032222654ad9ab0738659f2e455c": {
      "model_module": "@jupyter-widgets/base",
      "model_module_version": "1.2.0",
      "model_name": "LayoutModel",
      "state": {}
     },
     "a9d4a85ea32f420b960f6fb68fbb223c": {
      "model_module": "@jupyter-widgets/base",
      "model_module_version": "1.2.0",
      "model_name": "LayoutModel",
      "state": {}
     },
     "aa489c5c6242430bb9ef76d4460d61b5": {
      "model_module": "@jupyter-widgets/base",
      "model_module_version": "1.2.0",
      "model_name": "LayoutModel",
      "state": {}
     },
     "aa74b5a78c75457bbc522f5cdd533ee8": {
      "model_module": "@jupyter-widgets/controls",
      "model_module_version": "1.5.0",
      "model_name": "ButtonStyleModel",
      "state": {}
     },
     "aac6f36b45da4f81a62144ca9290c787": {
      "model_module": "@jupyter-widgets/base",
      "model_module_version": "1.2.0",
      "model_name": "LayoutModel",
      "state": {}
     },
     "aba73fc98ae34b8e965b730c3c422205": {
      "model_module": "@jupyter-widgets/base",
      "model_module_version": "1.2.0",
      "model_name": "LayoutModel",
      "state": {}
     },
     "abc97246b54b4f489461c47d39e0af74": {
      "model_module": "@jupyter-widgets/controls",
      "model_module_version": "1.5.0",
      "model_name": "ToggleButtonModel",
      "state": {
       "description": "Stop",
       "layout": "IPY_MODEL_636fb9840f564cf2a6bd56c6b190a008",
       "style": "IPY_MODEL_a5859c603de74d578c07c3d7b9fecde9"
      }
     },
     "ad19b104bd2c4274827935f0bc642e1c": {
      "model_module": "@jupyter-widgets/controls",
      "model_module_version": "1.5.0",
      "model_name": "DropdownModel",
      "state": {
       "_options_labels": [
        "Mid-Tread",
        "Mid-Rise"
       ],
       "description": "Quantization Type:",
       "index": 0,
       "layout": "IPY_MODEL_476db36e2ef8495598b90265cb380580",
       "style": "IPY_MODEL_c7f454f84a4c4ffabeca0e6b66fd00c4"
      }
     },
     "ad406a08f5fd48bba67ffce7ea125ac2": {
      "model_module": "@jupyter-widgets/controls",
      "model_module_version": "1.5.0",
      "model_name": "CheckboxModel",
      "state": {
       "description": "Modulation",
       "disabled": false,
       "layout": "IPY_MODEL_61ccaf5dd7914d5e8752abfe9871c36e",
       "style": "IPY_MODEL_af363548916e422e92f6c43eee19c4e3",
       "value": false
      }
     },
     "addc1aa620764e099cbf8cd137f36cf3": {
      "model_module": "@jupyter-widgets/base",
      "model_module_version": "1.2.0",
      "model_name": "LayoutModel",
      "state": {}
     },
     "ae1215ce643d4085801008662b9ee60d": {
      "model_module": "@jupyter-widgets/base",
      "model_module_version": "1.2.0",
      "model_name": "LayoutModel",
      "state": {}
     },
     "ae2d6c5a0c43443295c25993287f1bd0": {
      "model_module": "@jupyter-widgets/controls",
      "model_module_version": "1.5.0",
      "model_name": "DescriptionStyleModel",
      "state": {
       "description_width": ""
      }
     },
     "ae6ab56d84d049e8b3a4a6453ee62cb7": {
      "model_module": "@jupyter-widgets/base",
      "model_module_version": "1.2.0",
      "model_name": "LayoutModel",
      "state": {}
     },
     "ae92008cfeff4042b0c18b1547f0dd1c": {
      "model_module": "@jupyter-widgets/base",
      "model_module_version": "1.2.0",
      "model_name": "LayoutModel",
      "state": {}
     },
     "aea6645fae1f40ac95ffb4dacf6519b9": {
      "model_module": "@jupyter-widgets/base",
      "model_module_version": "1.2.0",
      "model_name": "LayoutModel",
      "state": {}
     },
     "af363548916e422e92f6c43eee19c4e3": {
      "model_module": "@jupyter-widgets/controls",
      "model_module_version": "1.5.0",
      "model_name": "DescriptionStyleModel",
      "state": {
       "description_width": ""
      }
     },
     "b085caa6bb224ae68256adc411f6eb31": {
      "model_module": "@jupyter-widgets/base",
      "model_module_version": "1.2.0",
      "model_name": "LayoutModel",
      "state": {}
     },
     "b0f6cc9254234ee5a1b9cc45f166d96f": {
      "model_module": "@jupyter-widgets/base",
      "model_module_version": "1.2.0",
      "model_name": "LayoutModel",
      "state": {}
     },
     "b15c994936e443efa4e51bdad682cc81": {
      "model_module": "@jupyter-widgets/controls",
      "model_module_version": "1.5.0",
      "model_name": "CheckboxModel",
      "state": {
       "description": "Modulation",
       "disabled": false,
       "layout": "IPY_MODEL_b0f6cc9254234ee5a1b9cc45f166d96f",
       "style": "IPY_MODEL_eee1a19578e64fa6ad76bef7670694b5",
       "value": false
      }
     },
     "b2877fbf4cde4f09b10b362889ee0936": {
      "model_module": "@jupyter-widgets/controls",
      "model_module_version": "1.5.0",
      "model_name": "DescriptionStyleModel",
      "state": {
       "description_width": ""
      }
     },
     "b28e5265669647a5aa25697a88a899a1": {
      "model_module": "@jupyter-widgets/controls",
      "model_module_version": "1.5.0",
      "model_name": "DescriptionStyleModel",
      "state": {
       "description_width": ""
      }
     },
     "b3020dca7fc54f73b812697c162241cb": {
      "model_module": "@jupyter-widgets/controls",
      "model_module_version": "1.5.0",
      "model_name": "DescriptionStyleModel",
      "state": {
       "description_width": ""
      }
     },
     "b5128b8e8a5e48d3be8f64b7e52ab800": {
      "model_module": "@jupyter-widgets/controls",
      "model_module_version": "1.5.0",
      "model_name": "ToggleButtonModel",
      "state": {
       "description": "Stop",
       "disabled": true,
       "layout": "IPY_MODEL_c8d52815471a4f119e5a2294efe5d73c",
       "style": "IPY_MODEL_445ff98a10034632b55a8bc6755f7816",
       "value": true
      }
     },
     "b548e0229d874791a8d9da5d1bf2f5cc": {
      "model_module": "@jupyter-widgets/controls",
      "model_module_version": "1.5.0",
      "model_name": "BoundedIntTextModel",
      "state": {
       "description": "Bit-Depth:",
       "layout": "IPY_MODEL_3a65b0fcb5d94cd3b0b241199f0ba839",
       "max": 16,
       "min": 2,
       "style": "IPY_MODEL_253c6a4afb8744928a25c13284ab56a6",
       "value": 8
      }
     },
     "b7257f546d6542c08e06a519a7cfcff9": {
      "model_module": "@jupyter-widgets/base",
      "model_module_version": "1.2.0",
      "model_name": "LayoutModel",
      "state": {}
     },
     "b77671de762b4b149e5024dd284eed7e": {
      "model_module": "@jupyter-widgets/controls",
      "model_module_version": "1.5.0",
      "model_name": "DescriptionStyleModel",
      "state": {
       "description_width": ""
      }
     },
     "b783cdf57d1d487db64a9a029baf1d0d": {
      "model_module": "@jupyter-widgets/controls",
      "model_module_version": "1.5.0",
      "model_name": "ButtonStyleModel",
      "state": {}
     },
     "b7ad7793a210498ca9330bffbc992a19": {
      "model_module": "@jupyter-widgets/base",
      "model_module_version": "1.2.0",
      "model_name": "LayoutModel",
      "state": {}
     },
     "b7bba5e9a43c442e9f0cb229b7e4424f": {
      "model_module": "@jupyter-widgets/base",
      "model_module_version": "1.2.0",
      "model_name": "LayoutModel",
      "state": {}
     },
     "b81383eee7f3485c91a970403cae1598": {
      "model_module": "@jupyter-widgets/controls",
      "model_module_version": "1.5.0",
      "model_name": "ToggleButtonModel",
      "state": {
       "description": "Stop",
       "disabled": true,
       "layout": "IPY_MODEL_444e9cff1e6b40e2995f23c82f550e6d",
       "style": "IPY_MODEL_1179e637410d45729a05c52a0c654453",
       "value": true
      }
     },
     "b8433bac2bb548ba81b6c2933dc1e4c5": {
      "model_module": "@jupyter-widgets/controls",
      "model_module_version": "1.5.0",
      "model_name": "HBoxModel",
      "state": {
       "children": [
        "IPY_MODEL_a737b92b686741088a934cd6e16f1f06",
        "IPY_MODEL_7a01d69aff434512a6d7d8528cc7654e"
       ],
       "layout": "IPY_MODEL_bc76bae897ec41bfb7c8b79e6c6e4cfc"
      }
     },
     "b8772cebf3e8497a8aa03abe8a094315": {
      "model_module": "@jupyter-widgets/base",
      "model_module_version": "1.2.0",
      "model_name": "LayoutModel",
      "state": {}
     },
     "ba25ec489e8b42b2be4d64c17e864bd2": {
      "model_module": "@jupyter-widgets/base",
      "model_module_version": "1.2.0",
      "model_name": "LayoutModel",
      "state": {}
     },
     "baeb1010983746229517278fdd0d3d3a": {
      "model_module": "@jupyter-widgets/controls",
      "model_module_version": "1.5.0",
      "model_name": "DescriptionStyleModel",
      "state": {
       "description_width": ""
      }
     },
     "baf1370b140241af8408266066ea4618": {
      "model_module": "@jupyter-widgets/base",
      "model_module_version": "1.2.0",
      "model_name": "LayoutModel",
      "state": {}
     },
     "bbd3715a8472483ba226a8d8c150cadc": {
      "model_module": "@jupyter-widgets/base",
      "model_module_version": "1.2.0",
      "model_name": "LayoutModel",
      "state": {}
     },
     "bc76bae897ec41bfb7c8b79e6c6e4cfc": {
      "model_module": "@jupyter-widgets/base",
      "model_module_version": "1.2.0",
      "model_name": "LayoutModel",
      "state": {}
     },
     "bdb731b1250b48f6b81ae85d8318b6dc": {
      "model_module": "@jupyter-widgets/controls",
      "model_module_version": "1.5.0",
      "model_name": "ButtonStyleModel",
      "state": {}
     },
     "bf69136351d84a46931f7074f910e2e1": {
      "model_module": "@jupyter-widgets/base",
      "model_module_version": "1.2.0",
      "model_name": "LayoutModel",
      "state": {}
     },
     "bf781a6da9334d2caba8e7a1572c1123": {
      "model_module": "@jupyter-widgets/controls",
      "model_module_version": "1.5.0",
      "model_name": "LabelModel",
      "state": {
       "layout": "IPY_MODEL_7c5b8e57a4dc422b907e28ea45893c3f",
       "style": "IPY_MODEL_03801fa7eba04a3b8e99f7b6b32d9885",
       "value": "Stepsize: 256"
      }
     },
     "bf97deef015c4827a8967a671813f149": {
      "model_module": "@jupyter-widgets/controls",
      "model_module_version": "1.5.0",
      "model_name": "ToggleButtonModel",
      "state": {
       "description": "Stop",
       "layout": "IPY_MODEL_aa489c5c6242430bb9ef76d4460d61b5",
       "style": "IPY_MODEL_1a8f9d0d68954f4fa2ce1361633bde98"
      }
     },
     "c01c6d4fa4884bdcb4922f44c3a4eb02": {
      "model_module": "@jupyter-widgets/controls",
      "model_module_version": "1.5.0",
      "model_name": "DescriptionStyleModel",
      "state": {
       "description_width": ""
      }
     },
     "c1920bdff8b14c4fa8e114b3921d9ade": {
      "model_module": "@jupyter-widgets/controls",
      "model_module_version": "1.5.0",
      "model_name": "HBoxModel",
      "state": {
       "children": [
        "IPY_MODEL_4181a03ad26243f18c1afcbac62c4b93"
       ],
       "layout": "IPY_MODEL_a1f23f60b3804a438ade7232ff60fcbb"
      }
     },
     "c28eee35eed64f81a42e6a224783ffe9": {
      "model_module": "@jupyter-widgets/controls",
      "model_module_version": "1.5.0",
      "model_name": "ToggleButtonModel",
      "state": {
       "description": "Stop",
       "disabled": true,
       "layout": "IPY_MODEL_7f059ff860544d048877c9f6f1affd2d",
       "style": "IPY_MODEL_708383e80c9e40e3913d346be9bc4d21",
       "value": true
      }
     },
     "c2a31277db8048e88bdbe6a931a12299": {
      "model_module": "@jupyter-widgets/controls",
      "model_module_version": "1.5.0",
      "model_name": "LabelModel",
      "state": {
       "layout": "IPY_MODEL_f56055709cf74929bc79e3d54b9e8e22",
       "style": "IPY_MODEL_ea711d54a9aa489eaf9c4d4535c9c2a3",
       "value": "Stepsize: 256"
      }
     },
     "c2ed271de04e439585fef8a656aab586": {
      "model_module": "@jupyter-widgets/controls",
      "model_module_version": "1.5.0",
      "model_name": "DescriptionStyleModel",
      "state": {
       "description_width": ""
      }
     },
     "c331c1ae48f04eccab4a98cd83eac21a": {
      "model_module": "@jupyter-widgets/controls",
      "model_module_version": "1.5.0",
      "model_name": "CheckboxModel",
      "state": {
       "description": "Modulation",
       "disabled": false,
       "layout": "IPY_MODEL_f02d2dc6e9a0444da07bc6cf7f4ac1ba",
       "style": "IPY_MODEL_099a2efc92634ebb8729fa75f2d9d5b2",
       "value": false
      }
     },
     "c3b2be97bd7e4e6682d78fdd0d42ea49": {
      "model_module": "@jupyter-widgets/controls",
      "model_module_version": "1.5.0",
      "model_name": "ButtonModel",
      "state": {
       "description": "Start",
       "disabled": true,
       "layout": "IPY_MODEL_c62eb1e257604d599fa80898fa684023",
       "style": "IPY_MODEL_dc5a948814b047a59569060a8e69ab91"
      }
     },
     "c3cf691789ad4c77b05a5dc1aebf4c6b": {
      "model_module": "@jupyter-widgets/controls",
      "model_module_version": "1.5.0",
      "model_name": "ToggleButtonModel",
      "state": {
       "description": "Stop",
       "disabled": true,
       "layout": "IPY_MODEL_5887381c3f4e422a965e3e64c6243606",
       "style": "IPY_MODEL_5cb8ead4843440589615dc9f98d321d3",
       "value": true
      }
     },
     "c47984031d354d7bb041c39975e4cb8c": {
      "model_module": "@jupyter-widgets/controls",
      "model_module_version": "1.5.0",
      "model_name": "ToggleButtonModel",
      "state": {
       "description": "Stop",
       "layout": "IPY_MODEL_3c934745843a4bdb9ecd61d569af4ee9",
       "style": "IPY_MODEL_015addf4649b4d41b3ee5a4e08b1feef",
       "value": true
      }
     },
     "c4d45858b9284681914cf8fde9407c40": {
      "model_module": "@jupyter-widgets/controls",
      "model_module_version": "1.5.0",
      "model_name": "DescriptionStyleModel",
      "state": {
       "description_width": ""
      }
     },
     "c4e80976215746fe8a58a2f153637a74": {
      "model_module": "@jupyter-widgets/controls",
      "model_module_version": "1.5.0",
      "model_name": "DescriptionStyleModel",
      "state": {
       "description_width": ""
      }
     },
     "c54bba7af2344e4bbea1a8989863c48e": {
      "model_module": "@jupyter-widgets/controls",
      "model_module_version": "1.5.0",
      "model_name": "LabelModel",
      "state": {
       "layout": "IPY_MODEL_48881c05f8d54fb58501d5c3dcb6055d",
       "style": "IPY_MODEL_5d0b6300784d4eaea3ba8f8749c0d33e",
       "value": "Stepsize: 2048"
      }
     },
     "c5862970f41b45adb8d5d573e1005a7b": {
      "model_module": "@jupyter-widgets/controls",
      "model_module_version": "1.5.0",
      "model_name": "ToggleButtonModel",
      "state": {
       "description": "Stop",
       "disabled": true,
       "layout": "IPY_MODEL_6d149bb8f3384a42bb50a00a3768581f",
       "style": "IPY_MODEL_50c41a85d1a94c67b0ae2579b65e9446",
       "value": true
      }
     },
     "c588f3e52dad416a81679d76c298c95d": {
      "model_module": "@jupyter-widgets/controls",
      "model_module_version": "1.5.0",
      "model_name": "CheckboxModel",
      "state": {
       "description": "Modulation",
       "disabled": false,
       "layout": "IPY_MODEL_791436e8a866443da8886e30373f3ebc",
       "style": "IPY_MODEL_6417674aadd04f5c906e538f8373711e",
       "value": false
      }
     },
     "c62eb1e257604d599fa80898fa684023": {
      "model_module": "@jupyter-widgets/base",
      "model_module_version": "1.2.0",
      "model_name": "LayoutModel",
      "state": {}
     },
     "c63e57f2060841f7aa9fb386480ae645": {
      "model_module": "@jupyter-widgets/base",
      "model_module_version": "1.2.0",
      "model_name": "LayoutModel",
      "state": {}
     },
     "c65c21a152394b7695119d126fc0b062": {
      "model_module": "@jupyter-widgets/controls",
      "model_module_version": "1.5.0",
      "model_name": "DescriptionStyleModel",
      "state": {
       "description_width": ""
      }
     },
     "c708e4f428884a41bb1734d6f6d8d92b": {
      "model_module": "@jupyter-widgets/controls",
      "model_module_version": "1.5.0",
      "model_name": "BoundedIntTextModel",
      "state": {
       "description": "Bit-Depth:",
       "layout": "IPY_MODEL_d265345e73754aef82702c80a2fdd60a",
       "max": 16,
       "min": 2,
       "style": "IPY_MODEL_b28e5265669647a5aa25697a88a899a1",
       "value": 8
      }
     },
     "c76fe3bf78dc4b1594b28a7e135603c2": {
      "model_module": "@jupyter-widgets/base",
      "model_module_version": "1.2.0",
      "model_name": "LayoutModel",
      "state": {}
     },
     "c7d1887ae7a64509bdc8d367dfe82e04": {
      "model_module": "@jupyter-widgets/base",
      "model_module_version": "1.2.0",
      "model_name": "LayoutModel",
      "state": {}
     },
     "c7d3112a971e4497b7fd873765aed42d": {
      "model_module": "@jupyter-widgets/base",
      "model_module_version": "1.2.0",
      "model_name": "LayoutModel",
      "state": {}
     },
     "c7f454f84a4c4ffabeca0e6b66fd00c4": {
      "model_module": "@jupyter-widgets/controls",
      "model_module_version": "1.5.0",
      "model_name": "DescriptionStyleModel",
      "state": {
       "description_width": ""
      }
     },
     "c8d52815471a4f119e5a2294efe5d73c": {
      "model_module": "@jupyter-widgets/base",
      "model_module_version": "1.2.0",
      "model_name": "LayoutModel",
      "state": {}
     },
     "cae0d9b30a044bcdbb4646d2a824b06f": {
      "model_module": "@jupyter-widgets/controls",
      "model_module_version": "1.5.0",
      "model_name": "DescriptionStyleModel",
      "state": {
       "description_width": ""
      }
     },
     "cb8528039db2411da00ec32982aeb5eb": {
      "model_module": "@jupyter-widgets/controls",
      "model_module_version": "1.5.0",
      "model_name": "CheckboxModel",
      "state": {
       "description": "Modulation",
       "disabled": false,
       "layout": "IPY_MODEL_830c7a0a8d3c44dbbe00b5d1553e25f3",
       "style": "IPY_MODEL_517eb035ec714166adad5df0c992f643",
       "value": false
      }
     },
     "cbfa24b75cc64fddbd7a4eab87c56c46": {
      "model_module": "@jupyter-widgets/controls",
      "model_module_version": "1.5.0",
      "model_name": "HBoxModel",
      "state": {
       "children": [
        "IPY_MODEL_fe565191de1540f5b0197219c460af56",
        "IPY_MODEL_8f63fda556ae49eea3ef4be03fdd736a",
        "IPY_MODEL_a105b9301e4e467b8f27efd88b0dd027"
       ],
       "layout": "IPY_MODEL_1b001b2ac3e847549ef031ffa10555a7"
      }
     },
     "cbfc931a5e68487a91bda9c791d27a54": {
      "model_module": "@jupyter-widgets/base",
      "model_module_version": "1.2.0",
      "model_name": "LayoutModel",
      "state": {}
     },
     "cd758881ae1643a9a9a899e727d9282e": {
      "model_module": "@jupyter-widgets/controls",
      "model_module_version": "1.5.0",
      "model_name": "BoundedIntTextModel",
      "state": {
       "description": "Bit-Depth:",
       "layout": "IPY_MODEL_e6fd780682cf422bbd3c8e54c8836498",
       "max": 16,
       "min": 2,
       "style": "IPY_MODEL_d9d51434b0444f6eb35699118d5e6e2b",
       "value": 5
      }
     },
     "ce4402c35e204e84973c3b1dbd6038e3": {
      "model_module": "@jupyter-widgets/controls",
      "model_module_version": "1.5.0",
      "model_name": "ToggleButtonModel",
      "state": {
       "description": "Stop",
       "layout": "IPY_MODEL_1c6bfad501414be497ac5dc710c60bce",
       "style": "IPY_MODEL_c4e80976215746fe8a58a2f153637a74"
      }
     },
     "ce866027b4d84a84b95d164fbfbbe2e7": {
      "model_module": "@jupyter-widgets/controls",
      "model_module_version": "1.5.0",
      "model_name": "DescriptionStyleModel",
      "state": {
       "description_width": ""
      }
     },
     "cf79f575b1d4441f96d962df614bdbb1": {
      "model_module": "@jupyter-widgets/controls",
      "model_module_version": "1.5.0",
      "model_name": "CheckboxModel",
      "state": {
       "description": "Modulation",
       "disabled": false,
       "layout": "IPY_MODEL_96c064fa76044107a110d0ee6e83e2cb",
       "style": "IPY_MODEL_252bdedbd33947aabdaa202c8f3de58d",
       "value": false
      }
     },
     "cff4dfddc8ee4f25a80a855bdc65994f": {
      "model_module": "@jupyter-widgets/base",
      "model_module_version": "1.2.0",
      "model_name": "LayoutModel",
      "state": {}
     },
     "d084c2ee51f045c8b31ba354058b80c4": {
      "model_module": "@jupyter-widgets/controls",
      "model_module_version": "1.5.0",
      "model_name": "ToggleButtonModel",
      "state": {
       "description": "Stop",
       "layout": "IPY_MODEL_ae1215ce643d4085801008662b9ee60d",
       "style": "IPY_MODEL_4f2001421efa401b809c00ccc8b85fa3"
      }
     },
     "d154eb8b91ab4831a5c5efd50f610248": {
      "model_module": "@jupyter-widgets/controls",
      "model_module_version": "1.5.0",
      "model_name": "ToggleButtonModel",
      "state": {
       "description": "Stop",
       "disabled": true,
       "layout": "IPY_MODEL_46874d24a82a4bcfbeb53c16f46be50a",
       "style": "IPY_MODEL_924455af6dc24146948b95d2ec95b717",
       "value": true
      }
     },
     "d182dccf69d54736a35db40d6ab1085f": {
      "model_module": "@jupyter-widgets/base",
      "model_module_version": "1.2.0",
      "model_name": "LayoutModel",
      "state": {}
     },
     "d1be32b35b7146d28f7b883bb2221ca8": {
      "model_module": "@jupyter-widgets/controls",
      "model_module_version": "1.5.0",
      "model_name": "DescriptionStyleModel",
      "state": {
       "description_width": ""
      }
     },
     "d265345e73754aef82702c80a2fdd60a": {
      "model_module": "@jupyter-widgets/base",
      "model_module_version": "1.2.0",
      "model_name": "LayoutModel",
      "state": {}
     },
     "d2a3e1a11bc648cbac44ac8d661fcaae": {
      "model_module": "@jupyter-widgets/controls",
      "model_module_version": "1.5.0",
      "model_name": "ToggleButtonModel",
      "state": {
       "description": "Stop",
       "disabled": true,
       "layout": "IPY_MODEL_c7d3112a971e4497b7fd873765aed42d",
       "style": "IPY_MODEL_2f2f8d6d9d194d8d81aa9445ae96bc2a",
       "value": true
      }
     },
     "d2e8cca801334d49ba74b3738de3d20f": {
      "model_module": "@jupyter-widgets/base",
      "model_module_version": "1.2.0",
      "model_name": "LayoutModel",
      "state": {}
     },
     "d3450ad02abc46db9032268bf51cf3a2": {
      "model_module": "@jupyter-widgets/controls",
      "model_module_version": "1.5.0",
      "model_name": "DescriptionStyleModel",
      "state": {
       "description_width": ""
      }
     },
     "d3470337fd264221a349d3f681c650cc": {
      "model_module": "@jupyter-widgets/controls",
      "model_module_version": "1.5.0",
      "model_name": "ToggleButtonModel",
      "state": {
       "description": "Stop",
       "disabled": true,
       "layout": "IPY_MODEL_b7ad7793a210498ca9330bffbc992a19",
       "style": "IPY_MODEL_4af37840566643a589a767dbddcd143d",
       "value": true
      }
     },
     "d559cd1da181460381dcc77443386833": {
      "model_module": "@jupyter-widgets/controls",
      "model_module_version": "1.5.0",
      "model_name": "ButtonStyleModel",
      "state": {}
     },
     "d5b3fc0f2fa042a99fdba5ad93c3e329": {
      "model_module": "@jupyter-widgets/controls",
      "model_module_version": "1.5.0",
      "model_name": "DescriptionStyleModel",
      "state": {
       "description_width": ""
      }
     },
     "d62ee578b964448c82cb6da8771fe18d": {
      "model_module": "@jupyter-widgets/base",
      "model_module_version": "1.2.0",
      "model_name": "LayoutModel",
      "state": {}
     },
     "d663e990dc024a97a2e8847d6a4ea075": {
      "model_module": "@jupyter-widgets/controls",
      "model_module_version": "1.5.0",
      "model_name": "CheckboxModel",
      "state": {
       "description": "Modulation",
       "disabled": false,
       "layout": "IPY_MODEL_a51c8f4ed7804636832401d86001544f",
       "style": "IPY_MODEL_8b07773797bc4e8885a5add14ff97d87",
       "value": false
      }
     },
     "d768baa1b42743999d0fb702cc36436b": {
      "model_module": "@jupyter-widgets/controls",
      "model_module_version": "1.5.0",
      "model_name": "ToggleButtonModel",
      "state": {
       "description": "Stop",
       "layout": "IPY_MODEL_510465f7cad54c2db0e18fd7acd3311a",
       "style": "IPY_MODEL_c4d45858b9284681914cf8fde9407c40"
      }
     },
     "d786bd6b7a184ddc89a578314ce41131": {
      "model_module": "@jupyter-widgets/controls",
      "model_module_version": "1.5.0",
      "model_name": "CheckboxModel",
      "state": {
       "description": "Modulation",
       "disabled": false,
       "layout": "IPY_MODEL_2476615a306b43a383fc3e55d0a69b92",
       "style": "IPY_MODEL_ed82347ee329492eaa82584c9c822632",
       "value": false
      }
     },
     "d7a21994deca4a5f86b4bdcba46e9a97": {
      "model_module": "@jupyter-widgets/controls",
      "model_module_version": "1.5.0",
      "model_name": "ToggleButtonModel",
      "state": {
       "description": "Stop",
       "disabled": true,
       "layout": "IPY_MODEL_389376f484274f6f891f98ed2697fec3",
       "style": "IPY_MODEL_7ea05fb563f74b63bc8bd426aa84bf39",
       "value": true
      }
     },
     "d95e09f3f137450fa18c2b1d51fe970e": {
      "model_module": "@jupyter-widgets/base",
      "model_module_version": "1.2.0",
      "model_name": "LayoutModel",
      "state": {}
     },
     "d9d51434b0444f6eb35699118d5e6e2b": {
      "model_module": "@jupyter-widgets/controls",
      "model_module_version": "1.5.0",
      "model_name": "DescriptionStyleModel",
      "state": {
       "description_width": ""
      }
     },
     "da223fb00a7e46f6a12a63b53e4f3d9c": {
      "model_module": "@jupyter-widgets/controls",
      "model_module_version": "1.5.0",
      "model_name": "ButtonStyleModel",
      "state": {}
     },
     "dacb3b5af73a40e2aa10d332dbf7b1c8": {
      "model_module": "@jupyter-widgets/controls",
      "model_module_version": "1.5.0",
      "model_name": "HBoxModel",
      "state": {
       "children": [
        "IPY_MODEL_b548e0229d874791a8d9da5d1bf2f5cc",
        "IPY_MODEL_5aaf494a9f304a7cb215ad7f1ee3bb34",
        "IPY_MODEL_23bc58c3f50f4c5aa1c47897b294e128"
       ],
       "layout": "IPY_MODEL_708fa49403274d8286dc353761a14f2e"
      }
     },
     "dae75bebe0544ee88cd1071b3f87ff71": {
      "model_module": "@jupyter-widgets/controls",
      "model_module_version": "1.5.0",
      "model_name": "DescriptionStyleModel",
      "state": {
       "description_width": ""
      }
     },
     "dbd4fc6f05344d3893968667ea288e00": {
      "model_module": "@jupyter-widgets/controls",
      "model_module_version": "1.5.0",
      "model_name": "DescriptionStyleModel",
      "state": {
       "description_width": ""
      }
     },
     "dc5a948814b047a59569060a8e69ab91": {
      "model_module": "@jupyter-widgets/controls",
      "model_module_version": "1.5.0",
      "model_name": "ButtonStyleModel",
      "state": {}
     },
     "dc77a42f93fd481294243d614e2c45ef": {
      "model_module": "@jupyter-widgets/controls",
      "model_module_version": "1.5.0",
      "model_name": "ToggleButtonModel",
      "state": {
       "description": "Stop",
       "layout": "IPY_MODEL_6fdb7d274eab44d2aaf38dd4dcfa0511",
       "style": "IPY_MODEL_0b9a6a693871477ebf610c47a13ce72a",
       "value": true
      }
     },
     "e099daeead614c06ba66a3b6aa2a6519": {
      "model_module": "@jupyter-widgets/base",
      "model_module_version": "1.2.0",
      "model_name": "LayoutModel",
      "state": {}
     },
     "e0b75de0645b4a5ba3e005ad26b1762b": {
      "model_module": "@jupyter-widgets/controls",
      "model_module_version": "1.5.0",
      "model_name": "DescriptionStyleModel",
      "state": {
       "description_width": ""
      }
     },
     "e139e8ce24694bdda7967b2165ee342c": {
      "model_module": "@jupyter-widgets/controls",
      "model_module_version": "1.5.0",
      "model_name": "ToggleButtonModel",
      "state": {
       "description": "Stop",
       "layout": "IPY_MODEL_94b8806eb4eb41c29262f6f79153bdaa",
       "style": "IPY_MODEL_dae75bebe0544ee88cd1071b3f87ff71",
       "value": true
      }
     },
     "e179fee772c048be93c2f127aa179422": {
      "model_module": "@jupyter-widgets/controls",
      "model_module_version": "1.5.0",
      "model_name": "HBoxModel",
      "state": {
       "children": [
        "IPY_MODEL_8c7d2e76431149a7affc06b5ea82039b",
        "IPY_MODEL_abc97246b54b4f489461c47d39e0af74"
       ],
       "layout": "IPY_MODEL_f883ce6045d84ed0920bae5a2bd6b236"
      }
     },
     "e192282b2f074cbb96b0605603b8fb0a": {
      "model_module": "@jupyter-widgets/controls",
      "model_module_version": "1.5.0",
      "model_name": "ToggleButtonModel",
      "state": {
       "description": "Stop",
       "layout": "IPY_MODEL_774213af6c0e47d0af120416a2ca3213",
       "style": "IPY_MODEL_7f14ac2a7e27459d92a0b4adcd0d7ffd"
      }
     },
     "e381f24a41cf4a8091e6046271f4ad53": {
      "model_module": "@jupyter-widgets/controls",
      "model_module_version": "1.5.0",
      "model_name": "CheckboxModel",
      "state": {
       "description": "Modulation",
       "disabled": false,
       "layout": "IPY_MODEL_4f9acc5460674cfba8e70b06ad7978f8",
       "style": "IPY_MODEL_b77671de762b4b149e5024dd284eed7e",
       "value": true
      }
     },
     "e3b8a42d40c74fd98eda8bf75283dcd6": {
      "model_module": "@jupyter-widgets/base",
      "model_module_version": "1.2.0",
      "model_name": "LayoutModel",
      "state": {}
     },
     "e51f5a36e4394ed689235a9794c618c1": {
      "model_module": "@jupyter-widgets/controls",
      "model_module_version": "1.5.0",
      "model_name": "CheckboxModel",
      "state": {
       "description": "Downsampling with Zeros",
       "disabled": false,
       "layout": "IPY_MODEL_b7257f546d6542c08e06a519a7cfcff9",
       "style": "IPY_MODEL_0124c108c90b41408309aa3aac820c5d",
       "value": true
      }
     },
     "e5505837f6154a0cae1a17c207323d4e": {
      "model_module": "@jupyter-widgets/controls",
      "model_module_version": "1.5.0",
      "model_name": "ToggleButtonModel",
      "state": {
       "description": "Stop",
       "disabled": true,
       "layout": "IPY_MODEL_36cef02e3ac343f597afecf7a0da19c4",
       "style": "IPY_MODEL_60bf9fcb59ec405fbb5f47ca2b2cd2ff",
       "value": true
      }
     },
     "e5d441cf0b974fe5926d4f430e662b4a": {
      "model_module": "@jupyter-widgets/controls",
      "model_module_version": "1.5.0",
      "model_name": "CheckboxModel",
      "state": {
       "description": "Downsampling with Zeros",
       "disabled": false,
       "layout": "IPY_MODEL_11649f3e118b4488af7188e4a8e73291",
       "style": "IPY_MODEL_367c6ac4f00e4104ba6837f8104dfb9f",
       "value": false
      }
     },
     "e6a5c1179d8e454d980ab949125a0b64": {
      "model_module": "@jupyter-widgets/controls",
      "model_module_version": "1.5.0",
      "model_name": "CheckboxModel",
      "state": {
       "description": "Modulation",
       "disabled": false,
       "layout": "IPY_MODEL_c7d1887ae7a64509bdc8d367dfe82e04",
       "style": "IPY_MODEL_40f6c82b8f984429a0c49f13dfd1dc2f",
       "value": false
      }
     },
     "e6fd780682cf422bbd3c8e54c8836498": {
      "model_module": "@jupyter-widgets/base",
      "model_module_version": "1.2.0",
      "model_name": "LayoutModel",
      "state": {}
     },
     "e70e64ab73b0418195fd8d289325b33d": {
      "model_module": "@jupyter-widgets/controls",
      "model_module_version": "1.5.0",
      "model_name": "DescriptionStyleModel",
      "state": {
       "description_width": ""
      }
     },
     "e7349cc6383d49508d2400149aa52ab1": {
      "model_module": "@jupyter-widgets/base",
      "model_module_version": "1.2.0",
      "model_name": "LayoutModel",
      "state": {}
     },
     "e7ffbebd8eea4250a1ff0c0a7ae94732": {
      "model_module": "@jupyter-widgets/base",
      "model_module_version": "1.2.0",
      "model_name": "LayoutModel",
      "state": {}
     },
     "e8f0676ca8644d3ea28ffb8dd3c7964a": {
      "model_module": "@jupyter-widgets/base",
      "model_module_version": "1.2.0",
      "model_name": "LayoutModel",
      "state": {}
     },
     "e9bb3906e68d4ab08361a9a208a02b99": {
      "model_module": "@jupyter-widgets/base",
      "model_module_version": "1.2.0",
      "model_name": "LayoutModel",
      "state": {}
     },
     "e9d3c86d3a7c49b799bdcc77191aa62a": {
      "model_module": "@jupyter-widgets/controls",
      "model_module_version": "1.5.0",
      "model_name": "ButtonModel",
      "state": {
       "description": "Stop",
       "layout": "IPY_MODEL_14f182217bd54f0eab515df20a2b5138",
       "style": "IPY_MODEL_da223fb00a7e46f6a12a63b53e4f3d9c"
      }
     },
     "e9fd6a2ec87f4acd9ebdf783bd1da16a": {
      "model_module": "@jupyter-widgets/controls",
      "model_module_version": "1.5.0",
      "model_name": "ToggleButtonModel",
      "state": {
       "description": "Stop",
       "disabled": true,
       "layout": "IPY_MODEL_2b7e2f08a8ff4b47a2b3557e504a0c7a",
       "style": "IPY_MODEL_81742fd0d02848fdaebcff02a39e8a59",
       "value": true
      }
     },
     "ea711d54a9aa489eaf9c4d4535c9c2a3": {
      "model_module": "@jupyter-widgets/controls",
      "model_module_version": "1.5.0",
      "model_name": "DescriptionStyleModel",
      "state": {
       "description_width": ""
      }
     },
     "ec0d31e375e046bb8083040e1ec94707": {
      "model_module": "@jupyter-widgets/base",
      "model_module_version": "1.2.0",
      "model_name": "LayoutModel",
      "state": {}
     },
     "ec805846f5734669b7fcc4fd0ea88cde": {
      "model_module": "@jupyter-widgets/controls",
      "model_module_version": "1.5.0",
      "model_name": "DescriptionStyleModel",
      "state": {
       "description_width": ""
      }
     },
     "ec8397c2b6e5444587135da33d9144fd": {
      "model_module": "@jupyter-widgets/base",
      "model_module_version": "1.2.0",
      "model_name": "LayoutModel",
      "state": {}
     },
     "ed12eb6fecb040adaa4ed301062db3d5": {
      "model_module": "@jupyter-widgets/base",
      "model_module_version": "1.2.0",
      "model_name": "LayoutModel",
      "state": {}
     },
     "ed82347ee329492eaa82584c9c822632": {
      "model_module": "@jupyter-widgets/controls",
      "model_module_version": "1.5.0",
      "model_name": "DescriptionStyleModel",
      "state": {
       "description_width": ""
      }
     },
     "eee1a19578e64fa6ad76bef7670694b5": {
      "model_module": "@jupyter-widgets/controls",
      "model_module_version": "1.5.0",
      "model_name": "DescriptionStyleModel",
      "state": {
       "description_width": ""
      }
     },
     "ef155207b26b4c7ebb8bd6e9be4332bd": {
      "model_module": "@jupyter-widgets/controls",
      "model_module_version": "1.5.0",
      "model_name": "ToggleButtonModel",
      "state": {
       "description": "Stop",
       "disabled": true,
       "layout": "IPY_MODEL_86259bbc88f14f18b102a98a0d9c7278",
       "style": "IPY_MODEL_071d9d3efe4e4c07925ec96aec13d22e",
       "value": true
      }
     },
     "f02d2dc6e9a0444da07bc6cf7f4ac1ba": {
      "model_module": "@jupyter-widgets/base",
      "model_module_version": "1.2.0",
      "model_name": "LayoutModel",
      "state": {}
     },
     "f03f833f4ecc410ca5a7985129356de2": {
      "model_module": "@jupyter-widgets/controls",
      "model_module_version": "1.5.0",
      "model_name": "CheckboxModel",
      "state": {
       "description": "Modulation",
       "disabled": false,
       "layout": "IPY_MODEL_ec0d31e375e046bb8083040e1ec94707",
       "style": "IPY_MODEL_98e40ddffb094515a8e88b2b0e9abffa",
       "value": false
      }
     },
     "f104952c53c04bf19ae51ac1c17e7589": {
      "model_module": "@jupyter-widgets/controls",
      "model_module_version": "1.5.0",
      "model_name": "DescriptionStyleModel",
      "state": {
       "description_width": ""
      }
     },
     "f1b6367f82094b7985bdebcb27bf9c69": {
      "model_module": "@jupyter-widgets/controls",
      "model_module_version": "1.5.0",
      "model_name": "DescriptionStyleModel",
      "state": {
       "description_width": ""
      }
     },
     "f2232b0768124cf1804c9bc977ca3bc6": {
      "model_module": "@jupyter-widgets/controls",
      "model_module_version": "1.5.0",
      "model_name": "ButtonModel",
      "state": {
       "description": "Stop",
       "layout": "IPY_MODEL_aba73fc98ae34b8e965b730c3c422205",
       "style": "IPY_MODEL_bdb731b1250b48f6b81ae85d8318b6dc"
      }
     },
     "f2a8b23362844b65b7cc51c15b54f5cc": {
      "model_module": "@jupyter-widgets/controls",
      "model_module_version": "1.5.0",
      "model_name": "ToggleButtonModel",
      "state": {
       "description": "Stop",
       "layout": "IPY_MODEL_e7ffbebd8eea4250a1ff0c0a7ae94732",
       "style": "IPY_MODEL_d3450ad02abc46db9032268bf51cf3a2",
       "value": true
      }
     },
     "f2d6c9bf16f74551afa02353ada0dec7": {
      "model_module": "@jupyter-widgets/controls",
      "model_module_version": "1.5.0",
      "model_name": "DescriptionStyleModel",
      "state": {
       "description_width": ""
      }
     },
     "f3a2f5672cc94f5ba5d50c72fce8ad98": {
      "model_module": "@jupyter-widgets/controls",
      "model_module_version": "1.5.0",
      "model_name": "ToggleButtonModel",
      "state": {
       "description": "Stop",
       "disabled": true,
       "layout": "IPY_MODEL_d95e09f3f137450fa18c2b1d51fe970e",
       "style": "IPY_MODEL_10203717b6924bc29e4ae1959a117b31",
       "value": true
      }
     },
     "f469e7d7b4a541af8a5340dd1d099999": {
      "model_module": "@jupyter-widgets/base",
      "model_module_version": "1.2.0",
      "model_name": "LayoutModel",
      "state": {}
     },
     "f56055709cf74929bc79e3d54b9e8e22": {
      "model_module": "@jupyter-widgets/base",
      "model_module_version": "1.2.0",
      "model_name": "LayoutModel",
      "state": {}
     },
     "f6566c5300744aa18d1396449e916c5b": {
      "model_module": "@jupyter-widgets/controls",
      "model_module_version": "1.5.0",
      "model_name": "HBoxModel",
      "state": {
       "children": [
        "IPY_MODEL_8aeb4d884e904dfe8c13404fefd0ef6f"
       ],
       "layout": "IPY_MODEL_cff4dfddc8ee4f25a80a855bdc65994f"
      }
     },
     "f77869a10bbf4dea87fa02819435818a": {
      "model_module": "@jupyter-widgets/controls",
      "model_module_version": "1.5.0",
      "model_name": "CheckboxModel",
      "state": {
       "description": "Modulation",
       "disabled": false,
       "layout": "IPY_MODEL_705e7708b8274ee9b8aade38db0e0015",
       "style": "IPY_MODEL_3cb39a392a4b49e588c28acbd85d0a68",
       "value": true
      }
     },
     "f7e7bb40afba4448b0c4506aed91c05a": {
      "model_module": "@jupyter-widgets/controls",
      "model_module_version": "1.5.0",
      "model_name": "HBoxModel",
      "state": {
       "children": [
        "IPY_MODEL_010411b23dde4ac9b0a3030e14cf116a",
        "IPY_MODEL_d768baa1b42743999d0fb702cc36436b",
        "IPY_MODEL_462478cddfff483e922a3aa095a2e610"
       ],
       "layout": "IPY_MODEL_0fbffec0398544c78cc392a8f3387f8e"
      }
     },
     "f832049896fd43d3a027ac200b0d333a": {
      "model_module": "@jupyter-widgets/controls",
      "model_module_version": "1.5.0",
      "model_name": "DescriptionStyleModel",
      "state": {
       "description_width": ""
      }
     },
     "f867bfd87390497ca5d9c6a660aa85a1": {
      "model_module": "@jupyter-widgets/controls",
      "model_module_version": "1.5.0",
      "model_name": "DescriptionStyleModel",
      "state": {
       "description_width": ""
      }
     },
     "f872196b24f049808cd8c380e790ccbd": {
      "model_module": "@jupyter-widgets/base",
      "model_module_version": "1.2.0",
      "model_name": "LayoutModel",
      "state": {}
     },
     "f883ce6045d84ed0920bae5a2bd6b236": {
      "model_module": "@jupyter-widgets/base",
      "model_module_version": "1.2.0",
      "model_name": "LayoutModel",
      "state": {}
     },
     "f89cf8ab39bd41438f7ebcb98d26ab4b": {
      "model_module": "@jupyter-widgets/controls",
      "model_module_version": "1.5.0",
      "model_name": "ToggleButtonModel",
      "state": {
       "description": "Stop",
       "disabled": true,
       "layout": "IPY_MODEL_f872196b24f049808cd8c380e790ccbd",
       "style": "IPY_MODEL_022c6e85334a40348aa27488802495b2",
       "value": true
      }
     },
     "f9296f032d5441b2b57a8ca71af2702e": {
      "model_module": "@jupyter-widgets/controls",
      "model_module_version": "1.5.0",
      "model_name": "DescriptionStyleModel",
      "state": {
       "description_width": ""
      }
     },
     "f9ce31df344f485a9dd429fb14eb1b88": {
      "model_module": "@jupyter-widgets/base",
      "model_module_version": "1.2.0",
      "model_name": "LayoutModel",
      "state": {}
     },
     "fbf3c6396ee040949c962e4042e0d23d": {
      "model_module": "@jupyter-widgets/controls",
      "model_module_version": "1.5.0",
      "model_name": "DescriptionStyleModel",
      "state": {
       "description_width": ""
      }
     },
     "fc3c170c19484f4bb9e2a332da76c831": {
      "model_module": "@jupyter-widgets/base",
      "model_module_version": "1.2.0",
      "model_name": "LayoutModel",
      "state": {}
     },
     "fc591ea671574530992213c06fe88ad2": {
      "model_module": "@jupyter-widgets/base",
      "model_module_version": "1.2.0",
      "model_name": "LayoutModel",
      "state": {}
     },
     "fe565191de1540f5b0197219c460af56": {
      "model_module": "@jupyter-widgets/controls",
      "model_module_version": "1.5.0",
      "model_name": "ButtonModel",
      "state": {
       "description": "Start",
       "layout": "IPY_MODEL_654babd4900b4e1d91e2eb5889a5db49",
       "style": "IPY_MODEL_d559cd1da181460381dcc77443386833"
      }
     },
     "fe83d007dc56452cb8e0dae349a3aabd": {
      "model_module": "@jupyter-widgets/controls",
      "model_module_version": "1.5.0",
      "model_name": "ToggleButtonModel",
      "state": {
       "description": "Stop",
       "disabled": true,
       "layout": "IPY_MODEL_0dfbfb657b7c4bb29068e3b69c318d7f",
       "style": "IPY_MODEL_3c066aa2213e4f7bb436c6eb9e116403",
       "value": true
      }
     },
     "fee43312f4d0427e9322b942010f1e6f": {
      "model_module": "@jupyter-widgets/base",
      "model_module_version": "1.2.0",
      "model_name": "LayoutModel",
      "state": {}
     }
    },
    "version_major": 2,
    "version_minor": 0
   }
  }
 },
 "nbformat": 4,
 "nbformat_minor": 2
}

{
 "cells": [
  {
   "cell_type": "markdown",
   "metadata": {
    "slideshow": {
     "slide_type": "slide"
    }
   },
   "source": [
    "<center>\n",
    "    <img src=\"./images/ac_header.png\">\n",
    "</center>\n",
    "\n",
    "### <a target=\"_blank\" rel=\"noopener noreferrer\" href=\"https://www.tu-ilmenau.de/mt-ams/personen/schuller-gerald/\">Prof. Dr. -Ing. Gerald Schuller</a> <br> <a target=\"_blank\" rel=\"noopener noreferrer\" href=\"https://www.tu-ilmenau.de/mt-ams/lehre/msp-and-adsp-tutorials/\">Jupyter Notebook: Renato Profeta</a> \n",
    "\n",
    "[Applied Media Systems Group](https://www.tu-ilmenau.de/en/applied-media-systems-group/) <br>\n",
    "[Technische Universität Ilmenau](https://www.tu-ilmenau.de/)"
   ]
  },
  {
   "cell_type": "markdown",
   "metadata": {
    "slideshow": {
     "slide_type": "-"
    }
   },
   "source": [
    "# Filter Banks II"
   ]
  },
  {
   "cell_type": "code",
   "execution_count": 1,
   "metadata": {
    "hide_input": true
   },
   "outputs": [
    {
     "data": {
      "text/html": [
       "<iframe width=\"560\" height=\"315\" src=\"https://www.youtube.com/embed/f1ykTtvWkwM?rel=0\" frameborder=\"0\" allow=\"accelerometer; encrypted-media; gyroscope; picture-in-picture\" allowfullscreen></iframe>\n"
      ],
      "text/plain": [
       "<IPython.core.display.HTML object>"
      ]
     },
     "metadata": {},
     "output_type": "display_data"
    }
   ],
   "source": [
    "%%html\n",
    "<iframe width=\"560\" height=\"315\" src=\"https://www.youtube.com/embed/f1ykTtvWkwM?rel=0\" frameborder=\"0\" allow=\"accelerometer; encrypted-media; gyroscope; picture-in-picture\" allowfullscreen></iframe>"
   ]
  },
  {
   "cell_type": "markdown",
   "metadata": {
    "hide_input": false
   },
   "source": [
    "<center>\n",
    "    <img src='./images/ac_03_critc1.png' width='900'>\n",
    "</center>"
   ]
  },
  {
   "cell_type": "markdown",
   "metadata": {
    "slideshow": {
     "slide_type": "-"
    }
   },
   "source": [
    "## Modulated Filter Banks - Extending the DCT"
   ]
  },
  {
   "cell_type": "markdown",
   "metadata": {
    "hide_input": false,
    "slideshow": {
     "slide_type": "-"
    }
   },
   "source": [
    "Last time we saw that the DCT4 corresponds to a filter bank with impulse responses for the analysis here in time reversed form to simplify the right hand side:\n",
    "\n",
    "$$\\large\n",
    "h_k(N-1-n)=\\cos \n",
    "\\left( \n",
    "    \\dfrac{\\pi}{N}\n",
    "    \\left(k+\\dfrac{1}{2}\\right)\n",
    "    \\left(n+\\dfrac{1}{2}\\right)\n",
    "\\right)\n",
    "$$\n",
    "\n",
    "For subband *k* and time index *n* both in the range of 0,...N-1.\n",
    "\n",
    "With the help of a \"baseband prototype\" or \"window\" *h(n)* (independent of *k*):\n",
    "\n",
    "$$\\large\n",
    "h(n) = \\begin{cases}\n",
    "1 & n=0 \\dots N-1 \\\\\n",
    "0 & \\text{else} \n",
    "\\end{cases}$$\n",
    "\n",
    "We can now re-write this as a **\"modulated filter”**:\n",
    "\n",
    "$$\\large\n",
    "h_k(N-1-n)=h(n) \\cdot \\cos \n",
    "\\left( \n",
    "    \\dfrac{\\pi}{N}\n",
    "    \\left(k+\\dfrac{1}{2}\\right)\n",
    "    \\left(n+\\dfrac{1}{2}\\right)\n",
    "\\right)\n",
    "$$\n",
    "\n",
    "with $k=0 \\dots N-1$ but now with $-\\infty < n < \\infty$.\n",
    "\n",
    "**Observe:** Window function allows to improve filter's parameters like stopband attenuation and transition band width."
   ]
  },
  {
   "cell_type": "markdown",
   "metadata": {
    "slideshow": {
     "slide_type": "slide"
    }
   },
   "source": [
    "## Modulated Filter Banks"
   ]
  },
  {
   "cell_type": "code",
   "execution_count": 2,
   "metadata": {
    "hide_input": true
   },
   "outputs": [
    {
     "data": {
      "text/html": [
       "<iframe width=\"560\" height=\"315\" src=\"https://www.youtube.com/embed/CwnDVxlxTrI?rel=0\" frameborder=\"0\" allow=\"accelerometer; encrypted-media; gyroscope; picture-in-picture\" allowfullscreen></iframe>\n"
      ],
      "text/plain": [
       "<IPython.core.display.HTML object>"
      ]
     },
     "metadata": {},
     "output_type": "display_data"
    }
   ],
   "source": [
    "%%html\n",
    "<iframe width=\"560\" height=\"315\" src=\"https://www.youtube.com/embed/CwnDVxlxTrI?rel=0\" frameborder=\"0\" allow=\"accelerometer; encrypted-media; gyroscope; picture-in-picture\" allowfullscreen></iframe>"
   ]
  },
  {
   "cell_type": "markdown",
   "metadata": {
    "slideshow": {
     "slide_type": "-"
    }
   },
   "source": [
    "So called **Modulated Filters** as part of a **Modulated Filter Bank** are defined to have the following general form:\n",
    "\n",
    "$$\\large\n",
    "h_k(n) = h(n) \\cdot \\Phi_k(n)$$\n",
    "\n",
    "- h(n) : window function (not necessarily limited in length)\n",
    "- $ \\Phi_k(n)$ : modulation function, for instance the cosine function\n",
    "- *$_k$* : frequency index"
   ]
  },
  {
   "cell_type": "markdown",
   "metadata": {
    "hide_input": false,
    "slideshow": {
     "slide_type": "slide"
    }
   },
   "source": [
    "Another example of filters for so-called **Cosine Modulated Filter Banks**:\n",
    "\n",
    "$$\\large\n",
    "h_k(n) = h(n) \\cdot \\cos \\left( \\dfrac{\\pi}{N} (k+0.5)(n+0.5) \\right)$$\n",
    "\n",
    "With the cosine modulation, the resulting frequency responses (using the DTFT) of the filters in the filter bank are:\n",
    "\n",
    "$$\\large\n",
    "H_k(\\omega) = H(\\omega) * \\dfrac{1}{2} \\left[ \n",
    "\\delta \\left( \\omega - \\dfrac{\\pi}{N} \\left(k+\\dfrac{1}{2} \\right) \\right) +\n",
    "\\delta \\left( \\omega + \\dfrac{\\pi}{N} \\left( k + \\dfrac{1}{2} \\right) \\right) \\right] $$\n",
    "\n",
    "**Observe**: \n",
    " - Multiplication in time becomes convolution in frequency.\n",
    " - Delta functions $\\delta$ come from cosine term.\n",
    " \n",
    "$$\\large\n",
    "=H\\left(\\omega - \\dfrac{\\pi}{N} \\left(k+\\dfrac{1}{2} \\right) \\right) + \n",
    "H\\left(\\omega + \\dfrac{\\pi}{N} \\left(k+\\dfrac{1}{2} \\right) \\right) \\\\\n",
    "\\text{shift in frequency}$$\n",
    "\n",
    " - Hence: Modulated filter banks obtain their filters by shifting a \"baseband filter\" h(n) in frequency $-\\pi < \\omega < \\pi$.\n",
    " - As a result, we need to design only *h(n)* with high stopband attenuation and perfect reconstruction."
   ]
  },
  {
   "cell_type": "markdown",
   "metadata": {
    "slideshow": {
     "slide_type": "-"
    }
   },
   "source": [
    "### Frequency Shifts"
   ]
  },
  {
   "cell_type": "markdown",
   "metadata": {
    "slideshow": {
     "slide_type": "-"
    }
   },
   "source": [
    "<center>\n",
    "    <img src='./images/ac_28_freq_shift.png' width='900'>\n",
    "</center>\n",
    "\n",
    "The subbands of the filter bank are frequency shifted versions of the window frequency response:\n",
    "<center>\n",
    "    <img src='./images/ac_29_freq_shift2.png' width='700'>\n",
    "</center>"
   ]
  },
  {
   "cell_type": "markdown",
   "metadata": {
    "hide_input": false,
    "slideshow": {
     "slide_type": "-"
    }
   },
   "source": [
    "### The Window Function"
   ]
  },
  {
   "cell_type": "markdown",
   "metadata": {
    "slideshow": {
     "slide_type": "-"
    }
   },
   "source": [
    "<center>\n",
    "    <img src='./images/ac_30_window.png' width='600'>\n",
    "</center>\n",
    "\n",
    "Frequency response of the rectangular window function of the DCT:\n",
    "\n",
    "<center>\n",
    "    <img src='./images/ac_31_windowRect.png' width='800'>\n",
    "</center>"
   ]
  },
  {
   "cell_type": "markdown",
   "metadata": {
    "slideshow": {
     "slide_type": "-"
    }
   },
   "source": [
    "Improve filter banks:\n",
    " - make window longer.\n",
    " - different window shape.\n",
    " \n",
    "Examples (all have the same principle):\n",
    " - TDAC (time domain aliasing cancellation) (Princen and Bradley 1986&1987)\n",
    " - LOT (lapped orthogonal transform) (Malvar 1989)\n",
    " - MDCT (modified DCT) (Bernd Edler 1988)"
   ]
  },
  {
   "cell_type": "markdown",
   "metadata": {
    "hide_input": false,
    "slideshow": {
     "slide_type": "slide"
    }
   },
   "source": [
    "### Fast Implementation: Analysis Polyphase Matrix"
   ]
  },
  {
   "cell_type": "code",
   "execution_count": 3,
   "metadata": {
    "hide_input": true
   },
   "outputs": [
    {
     "data": {
      "text/html": [
       "<iframe width=\"560\" height=\"315\" src=\"https://www.youtube.com/embed/d4RRK1T5fPI?rel=0\" frameborder=\"0\" allow=\"accelerometer; encrypted-media; gyroscope; picture-in-picture\" allowfullscreen></iframe>\n"
      ],
      "text/plain": [
       "<IPython.core.display.HTML object>"
      ]
     },
     "metadata": {},
     "output_type": "display_data"
    }
   ],
   "source": [
    "%%html\n",
    "<iframe width=\"560\" height=\"315\" src=\"https://www.youtube.com/embed/d4RRK1T5fPI?rel=0\" frameborder=\"0\" allow=\"accelerometer; encrypted-media; gyroscope; picture-in-picture\" allowfullscreen></iframe>"
   ]
  },
  {
   "cell_type": "markdown",
   "metadata": {
    "slideshow": {
     "slide_type": "-"
    }
   },
   "source": [
    " - Remember: the analysis polyphase matrix is:\n",
    " <center>\n",
    "    <img src='./images/ac_32_polyphaseAnalysis.png' width='600'>\n",
    "</center>\n",
    " \n",
    " with the analysis polyphase components:\n",
    " \n",
    " $$\\large\n",
    " H_{k,n}= \\sum_{m=0}^{\\infty} h_k(n+mN) \\cdot z^{-m}$$"
   ]
  },
  {
   "cell_type": "markdown",
   "metadata": {
    "scrolled": true,
    "slideshow": {
     "slide_type": "-"
    }
   },
   "source": [
    "### The MDCT Filter Bank"
   ]
  },
  {
   "cell_type": "markdown",
   "metadata": {
    "scrolled": false,
    "slideshow": {
     "slide_type": "-"
    }
   },
   "source": [
    " - The so-called MDCT filter bank has a prototype or window length of L=2N, and is defined with its filter impulse responses in the direct implementation as:\n",
    "     - Analysis filters:\n",
    "     $$\\large\n",
    "     h_k(L-1-n) = h(n) \\cdot \\cos \\left( \\dfrac{\\pi}{N} \\cdot \\left(k+\\dfrac{1}{2} \\right)\n",
    "     \\left(n+\\dfrac{1}{2} - \\dfrac{N}{2} \\right) \\right) \\cdot \\sqrt{\\dfrac{2}{N}}$$\n",
    "     - Synthesis filters:\n",
    "     $$\\large\n",
    "     g_k(n)=g(n) \\cdot \\cos \\left( \\dfrac{\\pi}{N} \\cdot \\left(k+\\dfrac{1}{2} \\right)\n",
    "     \\left(n+\\dfrac{1}{2} - \\dfrac{N}{2} \\right) \\right) \\cdot \\sqrt{\\dfrac{2}{N}} $$\n",
    "     \n",
    "     for $n=0, \\dots, 2N-1$;$k=0,\\dots,N-1.$\n",
    "  \n",
    "<br>\n",
    "  \n",
    " - The resulting Analysis Polyphase matrix is:\n",
    " \n",
    " <center>\n",
    "    <img src='./images/ac_33_polyphaseAnalysis2.png' width='700'>\n",
    "</center>\n",
    "\n",
    "     - **Observe**: this $h_k(n)$ has length 2N, and is more general than the rectangular window (not just 1 or 0).\n",
    "     - *H(z)* is composed of **1st order polynomials**.\n",
    "     - Goal: find \"good\" h(n)\n",
    "     "
   ]
  },
  {
   "cell_type": "markdown",
   "metadata": {
    "slideshow": {
     "slide_type": "-"
    }
   },
   "source": [
    " - Fortunately, the MDCT polyphase matrix can be decomposed into a **product of simpler matrices**, hence easier to invert to obtain perfect reconstruction:\n",
    " \n",
    "   - **Observe** the diamond shaped form of the matrix $F_a(z)$ and the sparse structure.\n",
    "   - Beneficial for an efficient implementation.\n",
    "\n",
    "\n",
    "<br>\n",
    "<center>\n",
    "    <img src='./images/ac_34_mdct_inv.png' width='900'>\n",
    "</center>\n",
    "<br>\n",
    "\n",
    " - The MDCT synthesis Polyphase matrix can be similarly decomposed into a product of matrices. Needs to be the inverse and a delay for Perfect Reconstruction (PR).\n",
    " \n",
    "<br>\n",
    "<center>\n",
    "    <img src='./images/ac_35_mdct_synth.png' width='900'>\n",
    "</center>\n",
    "<br>"
   ]
  },
  {
   "cell_type": "markdown",
   "metadata": {
    "slideshow": {
     "slide_type": "slide"
    }
   },
   "source": [
    "## Graphical Interpretation of Analysis Matrix $F_a$"
   ]
  },
  {
   "cell_type": "markdown",
   "metadata": {
    "slideshow": {
     "slide_type": "-"
    }
   },
   "source": [
    "<center>\n",
    "    <img src='./images/ac_36_faMatA.png' width='900'>\n",
    "</center>\n",
    "\n",
    " - \"Folding\" the upper and lower quarter of the signal into a length N block (aliasing components).\n",
    " - Invertible by matrix inversion containing overlap-add.\n",
    "\n",
    "<center>\n",
    "    <img src='./images/ac_37_faMatA1.png' width='400'>\n",
    "</center>\n"
   ]
  },
  {
   "cell_type": "markdown",
   "metadata": {
    "hide_input": false
   },
   "source": [
    "### MDCT, Perfect Reconstruction"
   ]
  },
  {
   "cell_type": "markdown",
   "metadata": {
    "slideshow": {
     "slide_type": "-"
    }
   },
   "source": [
    " - DCT matrix *T* and the delay matrix *D(z)* are easily invertible for perfect reconstruction.\n",
    " - System Delay results from making inverse of *D(z)* causal (one block), and the blocking delay of N-1 samples.\n",
    " - $F_a$ is also easily invertible, with some simple matrix algebra:\n",
    " \n",
    " <center>\n",
    "    <img src='./images/ac_38_mdct_PR.png' width='700'>\n",
    "</center>"
   ]
  },
  {
   "cell_type": "markdown",
   "metadata": {
    "slideshow": {
     "slide_type": "slide"
    }
   },
   "source": [
    "### MDCT Filter Banks, Sine Window"
   ]
  },
  {
   "cell_type": "code",
   "execution_count": 4,
   "metadata": {
    "hide_input": true
   },
   "outputs": [
    {
     "data": {
      "text/html": [
       "<iframe width=\"560\" height=\"315\" src=\"https://www.youtube.com/embed/sfgTGW2imD4?rel=0\" frameborder=\"0\" allow=\"accelerometer; encrypted-media; gyroscope; picture-in-picture\" allowfullscreen></iframe>\n"
      ],
      "text/plain": [
       "<IPython.core.display.HTML object>"
      ]
     },
     "metadata": {},
     "output_type": "display_data"
    }
   ],
   "source": [
    "%%html\n",
    "<iframe width=\"560\" height=\"315\" src=\"https://www.youtube.com/embed/sfgTGW2imD4?rel=0\" frameborder=\"0\" allow=\"accelerometer; encrypted-media; gyroscope; picture-in-picture\" allowfullscreen></iframe>"
   ]
  },
  {
   "cell_type": "markdown",
   "metadata": {
    "slideshow": {
     "slide_type": "-"
    }
   },
   "source": [
    " - Modified Discrete Cosine Transform (MDCT): g(n)=h(n) $\\rightarrow$ Denominator=1\n",
    " - Example which fulfils this condition:\n",
    "    - **Sine window**:\n",
    "    $$\\large\n",
    "    h(n)= \\sin \\left( \\dfrac{\\pi}{2N}(n+0.5)\\right), \\text{for n=0,...,2N-1}$$\n",
    "    \n",
    "<center>\n",
    "    <img src='./images/ac_39_sinWindow.png' width='400'>\n",
    "</center>\n",
    "\n",
    " - System delay=2N-1=1023 for N=512 (from the delay matrices, 1 block of N, and the blocking delay of N- 1)"
   ]
  },
  {
   "cell_type": "markdown",
   "metadata": {
    "scrolled": false,
    "slideshow": {
     "slide_type": "-"
    }
   },
   "source": [
    "### Sine-Window Frequency Response"
   ]
  },
  {
   "cell_type": "markdown",
   "metadata": {
    "hide_input": false
   },
   "source": [
    "<center>\n",
    "    <img src='./images/ac_40_sineWindowFR.png' width='700'>\n",
    "</center>"
   ]
  },
  {
   "cell_type": "markdown",
   "metadata": {
    "scrolled": false,
    "slideshow": {
     "slide_type": "-"
    }
   },
   "source": [
    "### MDCT, Advantages"
   ]
  },
  {
   "cell_type": "markdown",
   "metadata": {
    "slideshow": {
     "slide_type": "-"
    }
   },
   "source": [
    " - Improved frequency responses, higher stopband attenuation.\n",
    " - Easy to design filter banks with many subbands (for instance N=1024 for audio coding)\n",
    " - Efficient implementation with the shown sparse matrices and a fast DCT. Important for large number of subbands, as in audio coding."
   ]
  },
  {
   "cell_type": "markdown",
   "metadata": {
    "hide_input": false,
    "slideshow": {
     "slide_type": "-"
    }
   },
   "source": [
    "### MDCT Filter Banks, Impulse Responses"
   ]
  },
  {
   "cell_type": "markdown",
   "metadata": {
    "slideshow": {
     "slide_type": "-"
    }
   },
   "source": [
    "Examples: <br>\n",
    "Filter impulse responses $h_7(n)$, $h_{15}(n)$, N=1024 bands, sine window.\n",
    "\n",
    "<center>\n",
    "    <img src='./images/ac_41_sineWinIR.png' width='600'>\n",
    "</center>\n"
   ]
  },
  {
   "cell_type": "markdown",
   "metadata": {
    "slideshow": {
     "slide_type": "-"
    }
   },
   "source": [
    "### MDCT Filter Banks, Frequency Responses"
   ]
  },
  {
   "cell_type": "markdown",
   "metadata": {
    "hide_input": false
   },
   "source": [
    "<center>\n",
    "    <img src='./images/ac_42_sineWinFR.png' width='1000'>\n",
    "</center>\n"
   ]
  },
  {
   "cell_type": "markdown",
   "metadata": {
    "slideshow": {
     "slide_type": "slide"
    }
   },
   "source": [
    "## MDCT Tutorials"
   ]
  },
  {
   "cell_type": "code",
   "execution_count": 13,
   "metadata": {
    "hide_input": true,
    "scrolled": false
   },
   "outputs": [
    {
     "data": {
      "text/html": [
       "<iframe width=\"1100\" height=\"600\" src=\"https://nbviewer.jupyter.org/github/GuitarsAI/MRSP_Notebooks/blob/master/MRSP_mdct.ipynb\"></iframe>\n"
      ],
      "text/plain": [
       "<IPython.core.display.HTML object>"
      ]
     },
     "metadata": {},
     "output_type": "display_data"
    }
   ],
   "source": [
    "%%html\n",
    "<iframe width=\"1100\" height=\"600\" src=\"https://nbviewer.jupyter.org/github/GuitarsAI/MRSP_Notebooks/blob/master/MRSP_mdct.ipynb\"></iframe>\n"
   ]
  },
  {
   "cell_type": "markdown",
   "metadata": {
    "slideshow": {
     "slide_type": "slide"
    }
   },
   "source": [
    "### MDCT: Python Examples\n",
    "\n",
    "*Real-time python audio examples: you need a microphone and speakers connected.* <br>\n",
    "*THESE EXAMPLES WILL NOT WORK ON REMOTE ENVIRONMENTS SUCH AS GOOGLE COLAB AND BINDER:*"
   ]
  },
  {
   "cell_type": "code",
   "execution_count": 6,
   "metadata": {
    "hide_input": true,
    "scrolled": true
   },
   "outputs": [
    {
     "data": {
      "text/html": [
       "<iframe width=\"560\" height=\"315\" src=\"https://www.youtube.com/embed/4UWe3yQmWIs?rel=0\" frameborder=\"0\" allow=\"accelerometer; encrypted-media; gyroscope; picture-in-picture\" allowfullscreen></iframe>\n"
      ],
      "text/plain": [
       "<IPython.core.display.HTML object>"
      ]
     },
     "metadata": {},
     "output_type": "display_data"
    }
   ],
   "source": [
    "%%html\n",
    "<iframe width=\"560\" height=\"315\" src=\"https://www.youtube.com/embed/4UWe3yQmWIs?rel=0\" frameborder=\"0\" allow=\"accelerometer; encrypted-media; gyroscope; picture-in-picture\" allowfullscreen></iframe>"
   ]
  },
  {
   "cell_type": "markdown",
   "metadata": {
    "slideshow": {
     "slide_type": "-"
    }
   },
   "source": [
    " - This is an example for the MDCT filter bank. You see a decomposition of the audio signal into MDCT subbands. These subbands can then be processed, for instance we set every subband except for a few to zero. Then we display the result as a spectrogram waterfall diagramm, and use the inverse/synthesis MDCT for reconstrution and play the resulting sound back:"
   ]
  },
  {
   "cell_type": "code",
   "execution_count": 1,
   "metadata": {
    "slideshow": {
     "slide_type": "-"
    }
   },
   "outputs": [],
   "source": [
    "# Imports and Configuration\n",
    "%matplotlib inline\n",
    "import numpy as np\n",
    "import scipy.signal as signal\n",
    "import pyaudio\n",
    "import struct\n",
    "import scipy.fftpack as spfft\n",
    "from ipywidgets import ToggleButton, Button\n",
    "from ipywidgets import HBox\n",
    "import threading\n",
    "import cv2"
   ]
  },
  {
   "cell_type": "code",
   "execution_count": 2,
   "metadata": {
    "slideshow": {
     "slide_type": "-"
    }
   },
   "outputs": [],
   "source": [
    "# Signal Processing Parameters\n",
    "\n",
    "N=512                          # Number of subbands and block size\n",
    "CHUNK_SIZE = N                 # Blocksize\n",
    "FORMAT = pyaudio.paInt16       # Conversion format for PyAudio stream\n",
    "CHANNELS = 1                   # Audio Channels\n",
    "RATE = 32000                   # Sampling Rate in Hz\n",
    "FFT_LEN = N                    # FFT Length  \n",
    "\n",
    "rows=500\n",
    "cols=CHUNK_SIZE\n",
    "fftlen=cols\n",
    "frame=0.0*np.ones((rows,cols,3));"
   ]
  },
  {
   "cell_type": "code",
   "execution_count": 9,
   "metadata": {
    "slideshow": {
     "slide_type": "-"
    }
   },
   "outputs": [],
   "source": [
    "#The D(z) matrix:\n",
    "def Dmatrix(samples):\n",
    "    #implementation of the delay matrix D(z)\n",
    "    #Delay elements:\n",
    "    out=np.zeros(N)\n",
    "    out[0:int(N/2)]=Dmatrix.z\n",
    "    Dmatrix.z=samples[0:int(N/2)]\n",
    "    out[int(N/2):N]=samples[int(N/2):N]\n",
    "    return out\n",
    "\n",
    "Dmatrix.z=np.zeros(int(N/2))"
   ]
  },
  {
   "cell_type": "code",
   "execution_count": 10,
   "metadata": {
    "slideshow": {
     "slide_type": "-"
    }
   },
   "outputs": [],
   "source": [
    "#The inverse D(z) matrix:\n",
    "def Dmatrixinv(samples):\n",
    "    #implementation of the delay matrix D(z)\n",
    "    #Delay elements:\n",
    "    out=np.zeros(N)\n",
    "    out[int(N/2):N]=Dmatrixinv.z\n",
    "    Dmatrixinv.z=samples[int(N/2):N]\n",
    "    out[0:int(N/2)]=samples[0:int(N/2)]\n",
    "    return out\n",
    "\n",
    "Dmatrixinv.z=np.zeros(int(N/2))"
   ]
  },
  {
   "cell_type": "code",
   "execution_count": 11,
   "metadata": {
    "slideshow": {
     "slide_type": "-"
    }
   },
   "outputs": [],
   "source": [
    "#The F Matrix:\n",
    "fcoeff=np.sin(np.pi/(2*N)*(np.arange(0,2*N)+0.5))\n",
    "Fmatrix=np.zeros((N,N))\n",
    "Fmatrix[0:int(N/2),0:int(N/2)]=np.fliplr(np.diag(fcoeff[0:int(N/2)]))\n",
    "Fmatrix[int(N/2):N,0:int(N/2)]=np.diag(fcoeff[int(N/2):N])\n",
    "Fmatrix[0:int(N/2),int(N/2):N]=np.diag(fcoeff[N:int(N+N/2)])\n",
    "Fmatrix[int(N/2):N,int(N/2):N]=-np.fliplr(np.diag(fcoeff[int(N+N/2):(2*N)]))"
   ]
  },
  {
   "cell_type": "code",
   "execution_count": 12,
   "metadata": {
    "slideshow": {
     "slide_type": "-"
    }
   },
   "outputs": [],
   "source": [
    "#The inverse F matrix:\n",
    "Finv=np.linalg.inv(Fmatrix)"
   ]
  },
  {
   "cell_type": "code",
   "execution_count": 13,
   "metadata": {
    "slideshow": {
     "slide_type": "-"
    }
   },
   "outputs": [],
   "source": [
    "#The DCT4 transform:\n",
    "def DCT4(samples):\n",
    "    #use a DCT3 to implement a DCT4:\n",
    "    samplesup=np.zeros(2*N)\n",
    "    #upsample signal:\n",
    "    samplesup[1::2]=samples\n",
    "    y=spfft.dct(samplesup,type=3)/2\n",
    "    return y[0:N]"
   ]
  },
  {
   "cell_type": "code",
   "execution_count": 14,
   "metadata": {
    "slideshow": {
     "slide_type": "-"
    }
   },
   "outputs": [],
   "source": [
    "#The complete MDCT, Analysis:\n",
    "def MDCT(samples):\n",
    "    y=np.dot(samples,Fmatrix)\n",
    "    y=Dmatrix(y)\n",
    "    y=DCT4(y)\n",
    "    return y"
   ]
  },
  {
   "cell_type": "code",
   "execution_count": 15,
   "metadata": {
    "slideshow": {
     "slide_type": "-"
    }
   },
   "outputs": [],
   "source": [
    "#The inverse MDCT, synthesis:\n",
    "def MDCTinv(y): \n",
    "    #inverse DCT4 is identical to DCT4:\n",
    "    x=DCT4(y)*2/N\n",
    "    #inverse D(z) matrix\n",
    "    x=Dmatrixinv(x)\n",
    "    #inverse F matrix\n",
    "    x=np.dot(x,Finv)\n",
    "    return x"
   ]
  },
  {
   "cell_type": "code",
   "execution_count": 16,
   "metadata": {
    "slideshow": {
     "slide_type": "-"
    }
   },
   "outputs": [],
   "source": [
    "# GUI\n",
    "toggle_run = ToggleButton(description='Stop')\n",
    "button_start= Button(description='Start')\n",
    "\n",
    "def start_button(button_start):\n",
    "    thread.start()\n",
    "    button_start.disabled=True\n",
    "button_start.on_click(start_button)\n",
    "\n",
    "\n",
    "def on_click_toggle_run(change):\n",
    "    if change['new']==False:\n",
    "        stream.stop_stream()\n",
    "        stream.close()\n",
    "        p.terminate()\n",
    "        cv2.destroyAllWindows()\n",
    "        plt.close()\n",
    "toggle_run.observe(on_click_toggle_run, 'value')\n",
    "\n",
    "box_buttons = HBox([button_start,toggle_run])"
   ]
  },
  {
   "cell_type": "code",
   "execution_count": 17,
   "metadata": {
    "slideshow": {
     "slide_type": "-"
    }
   },
   "outputs": [],
   "source": [
    "# Function to Plot MDCT\n",
    "\n",
    "def run_mdct(toggle_run):\n",
    "    while(True):\n",
    "        if toggle_run.value==True:\n",
    "            break\n",
    "        \n",
    "        #Reading from audio input stream into data with block length \"CHUNK\":\n",
    "        data = stream.read(CHUNK_SIZE)\n",
    "        #Convert from stream of bytes to a list of short integers (2 bytes here) in \"samples\":\n",
    "        #shorts = (struct.unpack( \"128h\", data ))\n",
    "        shorts = (struct.unpack( 'h' * CHUNK_SIZE, data ));\n",
    "        samples=np.array(list(shorts),dtype=float);\n",
    "\n",
    "        #shift \"frame\" 1 up:\n",
    "        frame[0:(rows-1),:]=frame[1:rows,:]; \n",
    "        #compute magnitude of 1D FFT of sound \n",
    "        #with suitable normalization for the display:\n",
    "        #frame=np.abs(np.ffqt.fft2(frame[:,:,1]/255.0))/512.0\n",
    "        #write magnitude spectrum in lowes row of \"frame\":\n",
    "        #R=0.25*np.log((np.abs(np.fft.fft(samples[0:fftlen])[0:(fftlen/2)]/np.sqrt(fftlen))+1))/np.log(10.0)\n",
    "\n",
    "        #This is the FFT of the input:\n",
    "        #y=np.fft.fft(samples[0:fftlen])   \n",
    "        #This is the analysis MDCT of the input: \n",
    "        y=MDCT(samples[0:fftlen])\n",
    "\n",
    "        #yfilt is the processed subbands, processing goes here:\n",
    "        yfilt=y\n",
    "        #yfilt=np.zeros(N)\n",
    "        #yfilt[10:150]=y[10:150]\n",
    "        #yfilt[1]=y[1]*8\n",
    "        #yfilt[0:1024]=y[0:1024]\n",
    "\n",
    "        #Waterfall color mapping:\n",
    "        R=0.25*np.log((np.abs(yfilt/np.sqrt(fftlen))+1))/np.log(10.0)\n",
    "        #Red frame:\n",
    "        frame[rows-1,:,2]=R\n",
    "        #Green frame:\n",
    "        frame[rows-1,:,1]=np.abs(1-2*R)\n",
    "        #Blue frame:\n",
    "        frame[rows-1,:,0]=1.0-R\n",
    "        #frame[rows-1,:,0]=frame[rows-1,:,1]**3\n",
    "        # Display the resulting frame\n",
    "        cv2.imshow('frame',frame)\n",
    "\n",
    "        #Inverse FFT:\n",
    "        #xrek=np.real(np.fft.ifft(yfilt))\n",
    "        #Inverse/synthesis MDCT:\n",
    "        xrek=MDCTinv(yfilt).astype(int);\n",
    "        xrek=np.clip(xrek, -32000,32000)\n",
    "        #converting from short integers to a stream of bytes in \"data\":\n",
    "        #data=struct.pack('h' * len(samples), *samples);\n",
    "        data=struct.pack('h' * len(xrek), *xrek);\n",
    "        #Writing data back to audio output stream: \n",
    "        stream.write(data, CHUNK_SIZE)\n",
    "\n",
    "        #Keep window open until key 'q' is pressed:\n",
    "        if cv2.waitKey(1) & 0xFF == ord('q'):\n",
    "            break\n",
    "    # When everything done, release the capture\n",
    "    stream.stop_stream()\n",
    "    stream.close()\n",
    "    p.terminate()\n",
    "    cv2.destroyAllWindows()"
   ]
  },
  {
   "cell_type": "code",
   "execution_count": 18,
   "metadata": {
    "slideshow": {
     "slide_type": "-"
    }
   },
   "outputs": [],
   "source": [
    "# Create a Thread for run_spectrogram function\n",
    "thread = threading.Thread(target=run_mdct, args=(toggle_run,))"
   ]
  },
  {
   "cell_type": "code",
   "execution_count": 19,
   "metadata": {
    "slideshow": {
     "slide_type": "-"
    }
   },
   "outputs": [],
   "source": [
    "# Start Audio Stream\n",
    "# Create \n",
    "p = pyaudio.PyAudio()\n",
    "    \n",
    "stream = p.open(format=FORMAT,\n",
    "                channels=CHANNELS,\n",
    "                rate=RATE,\n",
    "                input=True,\n",
    "                output=True,\n",
    "                frames_per_buffer=CHUNK_SIZE)\n",
    "\n",
    "\n",
    "\n",
    "input_data = stream.read(CHUNK_SIZE)\n",
    "samples = np.frombuffer(input_data,np.int16)"
   ]
  },
  {
   "cell_type": "code",
   "execution_count": 12,
   "metadata": {
    "slideshow": {
     "slide_type": "-"
    }
   },
   "outputs": [
    {
     "data": {
      "application/vnd.jupyter.widget-view+json": {
       "model_id": "c25db2a7bc0b4e8394a52e76e5972bf0",
       "version_major": 2,
       "version_minor": 0
      },
      "text/plain": [
       "HBox(children=(Button(description='Start', disabled=True, style=ButtonStyle()), ToggleButton(value=True, descr…"
      ]
     },
     "metadata": {},
     "output_type": "display_data"
    }
   ],
   "source": [
    "# Initialize Plot and Display GUI\n",
    "\n",
    "display(box_buttons)\n"
   ]
  },
  {
   "cell_type": "markdown",
   "metadata": {
    "slideshow": {
     "slide_type": "slide"
    }
   },
   "source": [
    "#### MDCT Fast Implementation"
   ]
  },
  {
   "cell_type": "code",
   "execution_count": 10,
   "metadata": {
    "hide_input": true
   },
   "outputs": [
    {
     "data": {
      "text/html": [
       "<iframe width=\"560\" height=\"315\" src=\"https://www.youtube.com/embed/sq0fHVwhyWE?rel=0\" frameborder=\"0\" allow=\"accelerometer; encrypted-media; gyroscope; picture-in-picture\" allowfullscreen></iframe>\n"
      ],
      "text/plain": [
       "<IPython.core.display.HTML object>"
      ]
     },
     "metadata": {},
     "output_type": "display_data"
    }
   ],
   "source": [
    "%%html\n",
    "<iframe width=\"560\" height=\"315\" src=\"https://www.youtube.com/embed/sq0fHVwhyWE?rel=0\" frameborder=\"0\" allow=\"accelerometer; encrypted-media; gyroscope; picture-in-picture\" allowfullscreen></iframe>"
   ]
  },
  {
   "cell_type": "code",
   "execution_count": 21,
   "metadata": {
    "slideshow": {
     "slide_type": "-"
    }
   },
   "outputs": [],
   "source": [
    "#Program for the fast implementation of the MDCT and Low Delay analysis and synthesis filter bank.\n",
    "#Gerald Schuller, Nov. 2014.\n",
    "#Algorithm according to:\n",
    "#G. Schuller and T. Karp: \"Modulated Filter Banks with Arbitrary System Delay: Efficient Implementations and #the Time-Varying Case\", IEEE Transactions on Signal Processing, March 2000, pp. 737–748 \n",
    "#updated July 2016\n",
    "\n",
    "## Ported and modified to Jupyter Notebooks by Renato Profeta, August, 2020"
   ]
  },
  {
   "cell_type": "code",
   "execution_count": 1,
   "metadata": {
    "slideshow": {
     "slide_type": "-"
    }
   },
   "outputs": [],
   "source": [
    "# Imports and Configuration\n",
    "import matplotlib.pyplot as plt\n",
    "\n",
    "import numpy as np\n",
    "import scipy.signal as signal\n",
    "import pyaudio\n",
    "import struct\n",
    "import scipy.fftpack as spfft\n",
    "from scipy.signal import freqz\n",
    "import threading\n",
    "import cv2\n",
    "import time"
   ]
  },
  {
   "cell_type": "code",
   "execution_count": 2,
   "metadata": {
    "slideshow": {
     "slide_type": "-"
    }
   },
   "outputs": [],
   "source": [
    "#The Low Delay Filter Bank:------------------------------\n",
    "\n",
    "def initFB(N):\n",
    "    #initialize memory for the number of subbands N:\n",
    "    Dmatrix.z=np.zeros(N//2)\n",
    "    Dinvmatrix.z=np.zeros(N//2)\n",
    "    Gmatrix.z=np.zeros((2,N//2))\n",
    "    Ginvmatrix.z=np.zeros((2,N//2))\n",
    "    H2matrix.z=np.zeros(N)\n",
    "    H2invmatrix.z=np.zeros(N)\n",
    "    return\n",
    "\n",
    "#The D(z) matrix:\n",
    "def Dmatrix(samples):\n",
    "#implementation of the delay matrix D(z)\n",
    "    #Delay elements:\n",
    "    N=len(samples)\n",
    "    out=np.zeros(N)\n",
    "    out[0:(N//2)]=Dmatrix.z\n",
    "    Dmatrix.z=samples[0:(N//2)]\n",
    "    out[N//2:N]=samples[N//2:N]\n",
    "    return out\n",
    "\n",
    "#The inverse D(z) matrix:\n",
    "def Dinvmatrix(samples):\n",
    "#implementation of the delay matrix D(z)\n",
    "    #Delay elements:\n",
    "    N=len(samples)\n",
    "    out=np.zeros(N)\n",
    "    out[(N//2):N]=Dinvmatrix.z\n",
    "    Dinvmatrix.z=samples[(N//2):N]\n",
    "    out[0:N//2]=samples[0:N//2]\n",
    "    return out\n",
    "\n",
    "#The symmetric F Matrix function:\n",
    "#implements multiplication samples*symFmatrix \n",
    "def symFmatrix(samples,fcoeff):\n",
    "    sym=1.0;\n",
    "    N=len(samples)\n",
    "    out=np.zeros(N)\n",
    "    out[0:(N//2)]=(fcoeff[0:(N//2)]*samples[0:(N//2)])[::-1] +fcoeff[(N//2):N]*samples[(N//2):N]\n",
    "    out[(N//2):N]=(fcoeff[N:(N+N//2)]*samples[0:(N//2)]) \n",
    "    #+-1=det([a,b;c,d]) =a*d-b*c => d=(+-1+b*c)/a:\n",
    "    ff= (-sym*np.ones(N//2)+ fcoeff[N:int(1.5*N)][::-1]*fcoeff[(N//2):N])/fcoeff[0:(N//2)][::-1]\n",
    "    out[(N//2):N]= out[(N//2):N] +(ff*samples[(N//2):N])[::-1]\n",
    "    return out\n",
    "\n",
    "def symFinvmatrix(samples,fcoeff):\n",
    "    #inverse symFamtrix, uses order for the synthesis F matrix as shown in Audio Coding lecture FB2,\n",
    "    #but with coefficients in reverse order, since the lecture has h as a window and not impulse response.\n",
    "    #That is also why the negative signa has to be moved from the end to the beginning:\n",
    "    sym=1.0\n",
    "    N=len(samples)\n",
    "    out=np.zeros(N)\n",
    "    ff= (-sym*np.ones(N//2)+ fcoeff[N:int(1.5*N)][::-1]*fcoeff[(N//2):N])/fcoeff[0:(N//2)][::-1]\n",
    "\n",
    "    out[0:(N//2)]=-ff[::-1]*(samples[0:(N//2)][::-1])+fcoeff[int(0.5*N):N][::-1]*samples[(N//2):N]\n",
    "    out[(N//2):N]=fcoeff[N:int(1.5*N)][::-1]*samples[0:(N//2)]- fcoeff[0:int(0.5*N)][::-1]*(samples[(N//2):N][::-1])\n",
    "    return out\n",
    "\n",
    "#The G_i(z) matrix:\n",
    "def Gmatrix(i,samples,ecoeff):\n",
    "#implementation of the delay matrix G(z)\n",
    "    N=len(samples)\n",
    "    #Anti-diagonal ones, flip input:\n",
    "    out=samples[::-1]\n",
    "    #Delay elements and coeff in the upper half of the diagonal:\n",
    "    out[0:(N//2)]=out[0:(N//2)]+Gmatrix.z[i] * ecoeff\n",
    "    Gmatrix.z[i]=samples[0:(N//2)]\n",
    "    return out\n",
    "\n",
    "#The inverse G_i(z) matrix:\n",
    "def Ginvmatrix(i,samples,ecoeff):\n",
    "    #implementation of the delay matrix G(z)\n",
    "    N=len(samples)\n",
    "    #Anti-diagonal ones, flip input:\n",
    "    out=samples[::-1]\n",
    "    #Delay elements and flipped, neg. coeff in the lower half of the diagonal:\n",
    "    out[(N//2):N]=out[(N//2):N] - Ginvmatrix.z[i] * ecoeff[::-1]\n",
    "    Ginvmatrix.z[i]=samples[(N//2):N]\n",
    "    return out\n",
    "\n",
    "#The H2(z) matrix:\n",
    "def H2matrix(samples,H2coeff):\n",
    "    #implementation of the delay matrix G(z)\n",
    "    N=len(samples)\n",
    "    #Anti-diagonal delays, flip delayed input:\n",
    "    out=H2matrix.z[::-1]\n",
    "    #input mult. with coeff in the upper half of the diagonal:\n",
    "    out[0:(N//2)]=out[0:(N//2)]+ samples[0:(N//2)]* H2coeff\n",
    "    H2matrix.z=samples\n",
    "    return out\n",
    "\n",
    "#The inverse H2(z) matrix:\n",
    "def H2invmatrix(samples,H2coeff):\n",
    "    #implementation of the delay matrix G(z)\n",
    "    N=len(samples)\n",
    "    #Anti-diagonal delays, flip delayed input:\n",
    "    out=H2invmatrix.z[::-1]\n",
    "    #input mult. with neg. flipped coeff in the lower half of the diagonal:\n",
    "   \n",
    "    out[(N//2):N]=out[(N//2):N]- samples[(N//2):N]* H2coeff[::-1]\n",
    "    H2invmatrix.z=samples\n",
    "    return out\n",
    "\n",
    "#The DCT4 transform:\n",
    "def DCT4(samples):\n",
    "    #use a DCT3 to implement a DCT4:\n",
    "    N=len(samples)\n",
    "    samplesup=np.zeros(2*N)\n",
    "    #upsample signal:\n",
    "    samplesup[1::2]=samples\n",
    "    y=spfft.dct(samplesup,type=3)/2\n",
    "    return y[0:N]\n",
    "\n",
    "\n",
    "#The complete LDFB, Analysis:\n",
    "def LDFB(samples,fb):\n",
    "    #samples: N samples of input signal\n",
    "    #fb: filter bank coefficients\n",
    "    N=len(samples)\n",
    "    #load LDFB coefficients:\n",
    "    #Fmatrix:\n",
    "    fcoeff=fb[0:int(1.5*N)]\n",
    "    #G_0 matrix:\n",
    "    #g0coeff=fb[(1.5*N):(2*N)]\n",
    "    #G1 matrix:\n",
    "    #g1coeff=fb[(2*N):(2.5*N)]\n",
    "    y=symFmatrix(samples, fcoeff)\n",
    "    y=Dmatrix(y)\n",
    "    #y=Gmatrix(0,y,g0coeff)\n",
    "    #y=Gmatrix(1,y,g1coeff)\n",
    "    y=DCT4(y)\n",
    "    return y\n",
    "\n",
    "#The inverse LDFB, synthesis:\n",
    "def LDFBinv(y,fb): \n",
    "    #y: N subband samples or frequency coefficients\n",
    "    #fb: filter bank coefficients\n",
    "    N=len(y)\n",
    "    #load LDFB coefficients:\n",
    "    #Fmatrix:\n",
    "    fcoeff=fb[0:int(1.5*N)]\n",
    "    #G_0 matrix:\n",
    "    #g0coeff=fb[(1.5*N):(2*N)]\n",
    "    #G1 matrix:\n",
    "    #g1coeff=fb[(2*N):(2.5*N)]\n",
    "     \n",
    "    #inverse DCT4 is identical to DCT4:\n",
    "    x=DCT4(y)*2/N\n",
    "    #inverse D(z) matrix:\n",
    "    x=Dinvmatrix(x)\n",
    "    #inverse F matrix:\n",
    "    x=symFinvmatrix(x,fcoeff)\n",
    "    return x"
   ]
  },
  {
   "cell_type": "code",
   "execution_count": 24,
   "metadata": {
    "slideshow": {
     "slide_type": "-"
    }
   },
   "outputs": [
    {
     "data": {
      "image/png": "[encoded data removed]",
      "text/plain": [
       "<Figure size 432x288 with 1 Axes>"
      ]
     },
     "metadata": {
      "needs_background": "light"
     },
     "output_type": "display_data"
    },
    {
     "data": {
      "image/png": "[encoded data removed]",
      "text/plain": [
       "<Figure size 432x288 with 1 Axes>"
      ]
     },
     "metadata": {
      "needs_background": "light"
     },
     "output_type": "display_data"
    }
   ],
   "source": [
    "#Runs real time audio processing:----------------------------\n",
    "N=1024 #Number of subbands and block size\n",
    "display=True\n",
    "#example: Sine window:\n",
    "fb=np.sin(np.pi/(2*N)*(np.arange(0,int(1.5*N))+0.5))\n",
    "#initialize filter bank memory:\n",
    "initFB(N)\n",
    "#get and plot the synthesis impulse response of subband 0:\n",
    "y=np.ones((N,10))*0.0;\n",
    "y[0,0]=1.0\n",
    "xrek=np.ones(10*N)*0.0\n",
    "for m in range(10):\n",
    "    xrek[(m*N):((m+1)*N)]=LDFBinv(y[:,m],fb)\n",
    "#Plots synthesis impulse response of subband 0:\n",
    "plt.figure()\n",
    "plt.plot(xrek)\n",
    "plt.title('MDCT Impulse Response of Subband 0 of the Synthesis FB')\n",
    "w,H=freqz(xrek,worN=2048)\n",
    "plt.grid()\n",
    "plt.figure()\n",
    "plt.plot(w,20*np.log10(np.abs(H)+1e-6))\n",
    "#Enlarge normalized frequencies in range of 0 to 0.1:\n",
    "plt.axis([0, 0.1, -60,5])\n",
    "plt.title('Its Enlarged Magnitude Frequency Response') \n",
    "plt.ylabel('dB Attenuation')\n",
    "plt.xlabel('Normalized Frequency (pi is Nyquist Freq.)')\n",
    "plt.grid()\n",
    "\n"
   ]
  },
  {
   "cell_type": "code",
   "execution_count": 3,
   "metadata": {
    "slideshow": {
     "slide_type": "-"
    }
   },
   "outputs": [],
   "source": [
    "# Signal Processing Parameters\n",
    "\n",
    "N=512                          # Number of subbands and block size\n",
    "CHUNK_SIZE = N                 # Blocksize\n",
    "FORMAT = pyaudio.paInt16       # Conversion format for PyAudio stream\n",
    "CHANNELS = 1                   # Audio Channels\n",
    "RATE = 32000                   # Sampling Rate in Hz\n",
    "FFT_LEN = N                    # FFT Length  \n",
    "\n",
    "rows=500\n",
    "cols=CHUNK_SIZE\n",
    "fftlen=cols\n",
    "frame=0.0*np.ones((rows,cols,3));\n",
    "fb=np.sin(np.pi/(2*N)*(np.arange(0,int(1.5*N))+0.5))"
   ]
  },
  {
   "cell_type": "code",
   "execution_count": 4,
   "metadata": {
    "slideshow": {
     "slide_type": "-"
    }
   },
   "outputs": [],
   "source": [
    "from ipywidgets import ToggleButton, Button\n",
    "from ipywidgets import HBox\n",
    "\n",
    "# GUI\n",
    "toggle_run = ToggleButton(description='Stop')\n",
    "button_start= Button(description='Start')\n",
    "\n",
    "def start_button(button_start):\n",
    "    thread.start()\n",
    "    button_start.disabled=True\n",
    "button_start.on_click(start_button)\n",
    "\n",
    "\n",
    "def on_click_toggle_run(change):\n",
    "    if change['new']==False:\n",
    "        stream.stop_stream()\n",
    "        stream.close()\n",
    "        p.terminate()\n",
    "        cv2.destroyAllWindows()\n",
    "        plt.close()\n",
    "toggle_run.observe(on_click_toggle_run, 'value')\n",
    "\n",
    "box_buttons = HBox([button_start,toggle_run])"
   ]
  },
  {
   "cell_type": "code",
   "execution_count": 5,
   "metadata": {
    "slideshow": {
     "slide_type": "-"
    }
   },
   "outputs": [],
   "source": [
    "# Function to Plot MDCT\n",
    "\n",
    "def run_mdct(toggle_run):\n",
    "    while(True):\n",
    "        if toggle_run.value==True:\n",
    "            break\n",
    "        \n",
    "        #Reading from audio input stream into data with block length \"CHUNK\":\n",
    "        data = stream.read(CHUNK_SIZE)\n",
    "        #Convert from stream of bytes to a list of short integers (2 bytes here) in \"samples\":\n",
    "        #shorts = (struct.unpack( \"128h\", data ))\n",
    "        shorts = (struct.unpack( 'h' * CHUNK_SIZE, data ));\n",
    "        samples=np.array(list(shorts),dtype=float);\n",
    "        if np.max(np.abs(samples))>32000:\n",
    "            print(\"Overload input\")\n",
    "\n",
    "        #shift \"frame\" 1 up:\n",
    "        frame[0:(rows-1),:]=frame[1:rows,:]; \n",
    "\n",
    "        #This is the analysis MDCT of the input: \n",
    "        y=LDFB(samples[0:N],fb)\n",
    "        \n",
    "        #yfilt is the processed subbands, processing goes here:\n",
    "        yfilt=y\n",
    "\n",
    "        #Waterfall color mapping:\n",
    "        R=0.25*np.log((np.abs(yfilt/np.sqrt(fftlen))+1))/np.log(10.0)\n",
    "        #Red frame:\n",
    "        frame[rows-1,:,2]=R\n",
    "        #Green frame:\n",
    "        frame[rows-1,:,1]=np.abs(1-2*R)\n",
    "        #Blue frame:\n",
    "        frame[rows-1,:,0]=1.0-R\n",
    "        #frame[rows-1,:,0]=frame[rows-1,:,1]**3\n",
    "        # Display the resulting frame\n",
    "        cv2.imshow('MDCT Waterfall (end with \"q\")',frame)\n",
    "        \n",
    "        #Inverse, Synthesis filter bank:\n",
    "        #Inverse/synthesis MDCT:\n",
    "        xrek=LDFBinv(yfilt,fb).astype(int);\n",
    "        if np.max(np.abs(xrek))>32000:\n",
    "            print(\"Overload output\")\n",
    "        xrek=np.clip(xrek, -32000, 32000)\n",
    "        \n",
    "        \n",
    "        #converting from short integers to a stream of bytes in \"data\":\n",
    "        #data=struct.pack('h' * len(samples), *samples);\n",
    "        data=struct.pack('h' * len(xrek), *xrek);\n",
    "        #Writing data back to audio output stream: \n",
    "        stream.write(data, CHUNK_SIZE)\n",
    "\n",
    "        #Keep window open until key 'q' is pressed:\n",
    "        if cv2.waitKey(1) & 0xFF == ord('q'):\n",
    "            break\n",
    "    # When everything done, release the capture\n",
    "    stream.stop_stream()\n",
    "    stream.close()\n",
    "    p.terminate()\n",
    "    cv2.destroyAllWindows()"
   ]
  },
  {
   "cell_type": "code",
   "execution_count": 6,
   "metadata": {
    "slideshow": {
     "slide_type": "-"
    }
   },
   "outputs": [],
   "source": [
    "# Create a Thread for run_spectrogram function\n",
    "thread = threading.Thread(target=run_mdct, args=(toggle_run,))"
   ]
  },
  {
   "cell_type": "code",
   "execution_count": 7,
   "metadata": {
    "slideshow": {
     "slide_type": "-"
    }
   },
   "outputs": [],
   "source": [
    "# Start Audio Stream\n",
    "# Create \n",
    "p = pyaudio.PyAudio()\n",
    "    \n",
    "stream = p.open(format=FORMAT,\n",
    "                channels=CHANNELS,\n",
    "                rate=RATE,\n",
    "                input=True,\n",
    "                output=True,\n",
    "                frames_per_buffer=CHUNK_SIZE)\n",
    "\n",
    "\n",
    "\n",
    "input_data = stream.read(CHUNK_SIZE)\n",
    "samples = np.frombuffer(input_data,np.int16)\n",
    "#initialize filter bank memory:\n",
    "initFB(N)"
   ]
  },
  {
   "cell_type": "code",
   "execution_count": 11,
   "metadata": {
    "slideshow": {
     "slide_type": "-"
    }
   },
   "outputs": [
    {
     "data": {
      "application/vnd.jupyter.widget-view+json": {
       "model_id": "c25db2a7bc0b4e8394a52e76e5972bf0",
       "version_major": 2,
       "version_minor": 0
      },
      "text/plain": [
       "HBox(children=(Button(description='Start', disabled=True, style=ButtonStyle()), ToggleButton(value=True, descr…"
      ]
     },
     "metadata": {},
     "output_type": "display_data"
    }
   ],
   "source": [
    "# Initialize Plot and Display GUI\n",
    "\n",
    "display(box_buttons)\n"
   ]
  },
  {
   "cell_type": "markdown",
   "metadata": {
    "slideshow": {
     "slide_type": "-"
    }
   },
   "source": [
    "**Observe:** The MDCT does not have those symmetric 2 sides, it only has one side of the spectrum, with the lowest frequencies on the left side, and the hightest on the right.\n",
    "\n",
    "If we only keep a few subbands, it sounds muffled or \"narrowband\"."
   ]
  },
  {
   "cell_type": "markdown",
   "metadata": {
    "hide_input": false,
    "slideshow": {
     "slide_type": "slide"
    }
   },
   "source": [
    "### Extending the Length of the MDCT"
   ]
  },
  {
   "cell_type": "code",
   "execution_count": 13,
   "metadata": {
    "hide_input": true
   },
   "outputs": [
    {
     "data": {
      "text/html": [
       "<iframe width=\"560\" height=\"315\" src=\"https://www.youtube.com/embed/lYpOsWYZ2Lk?rel=0\" frameborder=\"0\" allow=\"accelerometer; encrypted-media; gyroscope; picture-in-picture\" allowfullscreen></iframe>\n"
      ],
      "text/plain": [
       "<IPython.core.display.HTML object>"
      ]
     },
     "metadata": {},
     "output_type": "display_data"
    }
   ],
   "source": [
    "%%html\n",
    "<iframe width=\"560\" height=\"315\" src=\"https://www.youtube.com/embed/lYpOsWYZ2Lk?rel=0\" frameborder=\"0\" allow=\"accelerometer; encrypted-media; gyroscope; picture-in-picture\" allowfullscreen></iframe>"
   ]
  },
  {
   "cell_type": "markdown",
   "metadata": {
    "slideshow": {
     "slide_type": "-"
    }
   },
   "source": [
    " - **Longer filters** are obtained with **higher order polynomials** in the polyphase matrix.\n",
    " - Approach to obtain easily invertible polyphase matrices.\n",
    " - Multiply MDCT polyphase matrix with more **easily invertible matrices** with polynomials of 1st order.\n",
    " - To control the resulting system delay: design different matrices with different needs for delay to make them causal."
   ]
  },
  {
   "cell_type": "markdown",
   "metadata": {
    "slideshow": {
     "slide_type": "-"
    }
   },
   "source": [
    " - Take the MDCT Polyphase matrix with a general window function h(n) (not nec. Sine window): \n",
    " <br>$$\\large H_{MDCT}(z)$$\n",
    " - This matrix contains polynomials of first order. Multiply it with another matrix with polynomials of first order (Schuller, 1996, 2000):\n",
    " $$\\large L(z) \\cdot H_{MDCT}(z)$$\n",
    " - This matrix *L(z)* needs to have a form such that again a modulated filter bank results.\n",
    " - Diamond shaped form needs to be maintained."
   ]
  },
  {
   "cell_type": "markdown",
   "metadata": {
    "slideshow": {
     "slide_type": "-"
    }
   },
   "source": [
    "#### Zero-Delay Matrix"
   ]
  },
  {
   "cell_type": "markdown",
   "metadata": {
    "slideshow": {
     "slide_type": "-"
    }
   },
   "source": [
    " - This matrix fulfills the conditions.\n",
    " \n",
    " <center>\n",
    "    <img src='./images/ac_43_delayMat.png' width='400'>\n",
    "</center>\n",
    "<br>\n",
    " - Its inverse is **causal**, hence does not need a delay to make it causal:\n",
    " \n",
    "<center>\n",
    "    <img src='./images/ac_44_delayMat2.png' width='450'>\n",
    "</center>\n",
    "\n",
    "**Still increases filter length!**\n",
    "\n",
    " - **Observe:** Since the matrix has a causal inverse, it can increase the filter length of the resulting filter bank without increasing the system delay!\n",
    " - Hence adds zeros inside unit circle.\n",
    " - The coefficients $h(n)$ and $l_n$ don‘t affect the delay or the PR property, but the frequency response of the resulting filter bank.\n",
    " - Coefficients need to be found by numerical optimization."
   ]
  },
  {
   "cell_type": "markdown",
   "metadata": {
    "slideshow": {
     "slide_type": "-"
    }
   },
   "source": [
    "#### Maximum-Delay Matrix"
   ]
  },
  {
   "cell_type": "markdown",
   "metadata": {
    "slideshow": {
     "slide_type": "-"
    }
   },
   "source": [
    " - Maximum-Delay Matrix:\n",
    " $$\\large H(z)=z^{-1}L(z^{-1})$$\n",
    " - Its inverse and delay for causality is:\n",
    " $$\\large H^{-1}(z)\\cdot z^{-2}=z^{-1}L^{-1}(z^{-1})$$\n",
    " - Observe: This matrix and its inverse need a delay of 2 blocks to make it causal.\n",
    " - Hence adds zeros outside the unit circle."
   ]
  },
  {
   "cell_type": "markdown",
   "metadata": {
    "slideshow": {
     "slide_type": "-"
    }
   },
   "source": [
    "#### Design Method"
   ]
  },
  {
   "cell_type": "markdown",
   "metadata": {
    "slideshow": {
     "slide_type": "-"
    }
   },
   "source": [
    " - Determine the total number of Zero-Delay Matrices and Maximum-Delay Matrices according to the desired filter length.\n",
    " - Determine the number of Maximum-Delay Matrices according to the desired system Delay.\n",
    " - Determine the coefficients of the matrices with numerical optimization to optimize the frequency response.\n",
    " \n",
    " - **Example:**\n",
    "     - Comparison for 128 subbands.\n",
    "     - Dashed line: Orthogonal filter bank, filter length 256, system delay 255 samples.\n",
    "     - Solid line: Low delay filter bank, length 512, delay 255.\n",
    "     \n",
    "<center>\n",
    "    <img src='./images/ac_45_ldfbEx.png' width='900'>\n",
    "</center>   "
   ]
  },
  {
   "cell_type": "code",
   "execution_count": 12,
   "metadata": {
    "hide_input": true
   },
   "outputs": [
    {
     "data": {
      "text/html": [
       "<iframe width=\"1100\" height=\"600\" src=\"https://nbviewer.jupyter.org/github/GuitarsAI/MRSP_Notebooks/blob/master/MRSP_Optimization_FilterBanks.ipynb\"></iframe>\n"
      ],
      "text/plain": [
       "<IPython.core.display.HTML object>"
      ]
     },
     "metadata": {},
     "output_type": "display_data"
    }
   ],
   "source": [
    "%%html\n",
    "<iframe width=\"1100\" height=\"600\" src=\"https://nbviewer.jupyter.org/github/GuitarsAI/MRSP_Notebooks/blob/master/MRSP_Optimization_FilterBanks.ipynb\"></iframe>"
   ]
  },
  {
   "cell_type": "markdown",
   "metadata": {
    "slideshow": {
     "slide_type": "slide"
    }
   },
   "source": [
    "#### Real-Time Example"
   ]
  },
  {
   "cell_type": "code",
   "execution_count": 1,
   "metadata": {
    "slideshow": {
     "slide_type": "-"
    }
   },
   "outputs": [],
   "source": [
    "# coding: utf-8 \n",
    "#Program for the fast implementation of the MDCT and Low Delay analysis and synthesis filter bank.\n",
    "#Gerald Schuller, Nov. 2014.\n",
    "#Algorithm according to:\n",
    "#G. Schuller and T. Karp: \"Modulated Filter Banks with Arbitrary System Delay: Efficient Implementations and #the Time-Varying Case\", IEEE Transactions on Signal Processing, March 2000, pp. 737–748 \n",
    "#updated July 2016\n",
    "# Ported and modified to Jupyter Notebooks by Renato Profeta, August 2020"
   ]
  },
  {
   "cell_type": "code",
   "execution_count": 2,
   "metadata": {
    "slideshow": {
     "slide_type": "-"
    }
   },
   "outputs": [],
   "source": [
    "# Imports and Configuration\n",
    "import matplotlib.pyplot as plt\n",
    "\n",
    "import numpy as np\n",
    "import scipy.signal as signal\n",
    "import pyaudio\n",
    "import struct\n",
    "import scipy.fftpack as spfft\n",
    "from scipy.signal import freqz\n",
    "import threading\n",
    "import cv2\n",
    "import time"
   ]
  },
  {
   "cell_type": "code",
   "execution_count": 3,
   "metadata": {
    "slideshow": {
     "slide_type": "-"
    }
   },
   "outputs": [],
   "source": [
    "#The Low Delay Filter Bank:------------------------------\n",
    "\n",
    "def initFB(N):\n",
    "    #initialize memory for the number of subbands N:\n",
    "    Dmatrix.z=np.zeros(int(int(N/2)))\n",
    "    Dinvmatrix.z=np.zeros(int(int(N/2)))\n",
    "    Gmatrix.z=np.zeros((2,int(int(N/2))))\n",
    "    Ginvmatrix.z=np.zeros((2,int(int(N/2))))\n",
    "    H2matrix.z=np.zeros(N)\n",
    "    H2invmatrix.z=np.zeros(N)\n",
    "    return\n",
    "\n",
    "#The D(z) matrix:\n",
    "def Dmatrix(samples):\n",
    "    #implementation of the delay matrix D(z)\n",
    "    #Delay elements:\n",
    "    N=len(samples)\n",
    "    out=np.zeros(N)\n",
    "    out[0:(int(int(N/2)))]=Dmatrix.z\n",
    "    Dmatrix.z=samples[0:(int(int(N/2)))]\n",
    "    out[int(int(N/2)):N]=samples[int(int(N/2)):N]\n",
    "    return out\n",
    "\n",
    "#The inverse D(z) matrix:\n",
    "def Dinvmatrix(samples):\n",
    "    #implementation of the delay matrix D(z)\n",
    "    #Delay elements:\n",
    "    N=len(samples)\n",
    "    out=np.zeros(N)\n",
    "    out[(int(int(N/2))):N]=Dinvmatrix.z\n",
    "    Dinvmatrix.z=samples[(int(int(N/2))):N]\n",
    "    out[0:int(int(N/2))]=samples[0:int(int(N/2))]\n",
    "    return out\n",
    "\n",
    "#The symmetric F Matrix function:\n",
    "#implements multiplication samples*symFmatrix \n",
    "def symFmatrix(samples,fcoeff):\n",
    "    sym=1.0;\n",
    "    N=len(samples)\n",
    "    out=np.zeros(N)\n",
    "    out[0:(int(int(N/2)))]=(fcoeff[0:(int(int(N/2)))]*samples[0:(int(int(N/2)))])[::-1] +fcoeff[(int(int(N/2))):N]*samples[(int(int(N/2))):N]\n",
    "    out[(int(int(N/2))):N]=(fcoeff[N:(N+int(int(N/2)))]*samples[0:(int(int(N/2)))]) \n",
    "    #+-1=det([a,b;c,d]) =a*d-b*c => d=(+-1+b*c)/a:\n",
    "    ff= (-sym*np.ones(int(int(N/2)))+ fcoeff[N:int(1.5*N)][::-1]*fcoeff[(int(int(N/2))):N])/fcoeff[0:(int(int(N/2)))][::-1]\n",
    "    out[(int(int(N/2))):N]= out[(int(int(N/2))):N] +(ff*samples[(int(int(N/2))):N])[::-1]\n",
    "    return out\n",
    "\n",
    "def symFinvmatrix(samples,fcoeff):\n",
    "    #inverse symFamtrix, uses order for the synthesis F matrix as shown in Audio Coding lecture FB2,\n",
    "    #but with coefficients in reverse order, since the lecture has h as a window and not impulse response.\n",
    "    #That is also why the negative signa has to be moved from the end to the beginning:\n",
    "    sym=1.0\n",
    "    N=len(samples)\n",
    "    out=np.zeros(N)\n",
    "    ff= (-sym*np.ones(int(int(N/2)))+ fcoeff[N:int(1.5*N)][::-1]*fcoeff[(int(int(N/2))):N])/fcoeff[0:(int(int(N/2)))][::-1]\n",
    "\n",
    "    out[0:(int(int(N/2)))]=-ff[::-1]*(samples[0:(int(int(N/2)))][::-1])+fcoeff[int(0.5*N):N][::-1]*samples[(int(int(N/2))):N]\n",
    "    out[(int(int(N/2))):N]=fcoeff[N:int(1.5*N)][::-1]*samples[0:(int(int(N/2)))]- fcoeff[0:int(0.5*N)][::-1]*(samples[(int(int(N/2))):N][::-1])\n",
    "    return out\n",
    "\n",
    "#The G_i(z) matrix:\n",
    "def Gmatrix(i,samples,ecoeff):\n",
    "    #implementation of the delay matrix G(z)\n",
    "    N=len(samples)\n",
    "    #Anti-diagonal ones, flip input:\n",
    "    out=samples[::-1]\n",
    "    #Delay elements and coeff in the upper half of the diagonal:\n",
    "   \n",
    "    out[0:(int(N/2))]=out[0:(int(N/2))]+Gmatrix.z[i] * ecoeff\n",
    "    Gmatrix.z[i]=samples[0:(int(N/2))]\n",
    "    return out\n",
    "\n",
    "#The inverse G_i(z) matrix:\n",
    "def Ginvmatrix(i,samples,ecoeff):\n",
    "    #implementation of the delay matrix G(z)\n",
    "    N=len(samples)\n",
    "    #Anti-diagonal ones, flip input:\n",
    "    out=samples[::-1]\n",
    "    #Delay elements and flipped, neg. coeff in the lower half of the diagonal:\n",
    "    out[(int(N/2)):N]=out[(int(N/2)):N] - Ginvmatrix.z[i] * ecoeff[::-1]\n",
    "    Ginvmatrix.z[i]=samples[(int(N/2)):N]\n",
    "    return out\n",
    "\n",
    "#The H2(z) matrix:\n",
    "def H2matrix(samples,H2coeff):\n",
    "    #implementation of the delay matrix G(z)\n",
    "    N=len(samples)\n",
    "    #Anti-diagonal delays, flip delayed input:\n",
    "    out=H2matrix.z[::-1]\n",
    "    #input mult. with coeff in the upper half of the diagonal:\n",
    "    out[0:(int(N/2))]=out[0:(int(N/2))]+ samples[0:(int(N/2))]* H2coeff\n",
    "    H2matrix.z=samples\n",
    "    return out\n",
    "\n",
    "#The inverse H2(z) matrix:\n",
    "def H2invmatrix(samples,H2coeff):\n",
    "#implementation of the delay matrix G(z)\n",
    "    N=len(samples)\n",
    "    #Anti-diagonal delays, flip delayed input:\n",
    "    out=H2invmatrix.z[::-1]\n",
    "    #input mult. with neg. flipped coeff in the lower half of the diagonal:\n",
    "   \n",
    "    out[(int(N/2)):N]=out[(int(N/2)):N]- samples[(int(N/2)):N]* H2coeff[::-1]\n",
    "    H2invmatrix.z=samples\n",
    "    return out\n",
    "\n",
    "#The DCT4 transform:\n",
    "def DCT4(samples):\n",
    "    #use a DCT3 to implement a DCT4:\n",
    "    N=len(samples)\n",
    "    samplesup=np.zeros(2*N)\n",
    "    #upsample signal:\n",
    "    samplesup[1::2]=samples\n",
    "    y=spfft.dct(samplesup,type=3)/2\n",
    "    return y[0:N]\n",
    "\n",
    "#The complete LDFB, Analysis:\n",
    "def LDFB(samples,fb):\n",
    "    #samples: N samples of input signal\n",
    "    #fb: filter bank coefficients\n",
    "    N=len(samples)\n",
    "    #load LDFB coefficients:\n",
    "    #Fmatrix:\n",
    "    fcoeff=fb[0:int(1.5*N)]\n",
    "    #G_0 matrix:\n",
    "    g0coeff=fb[int(1.5*N):(2*N)]\n",
    "    #G1 matrix:\n",
    "    g1coeff=fb[(2*N):int(2.5*N)]\n",
    " \n",
    "    y=symFmatrix(samples, fcoeff)\n",
    "    y=Dmatrix(y)\n",
    "    y=Gmatrix(0,y,g0coeff)\n",
    "    y=Gmatrix(1,y,g1coeff)\n",
    "    y=DCT4(y)\n",
    "    return y\n",
    "\n",
    "#The inverse LDFB, synthesis:\n",
    "def LDFBinv(y,fb): \n",
    "    #y: N subband samples or frequency coefficients\n",
    "    #fb: filter bank coefficients\n",
    "    N=len(y)\n",
    "    #load LDFB coefficients:\n",
    "    #Fmatrix:\n",
    "    fcoeff=fb[0:int(1.5*N)]\n",
    "    #G_0 matrix:\n",
    "    g0coeff=fb[int(1.5*N):(2*N)]\n",
    "    #G1 matrix:\n",
    "    g1coeff=fb[(2*N):int(2.5*N)]\n",
    "    \n",
    "    #inverse DCT4 is identical to DCT4:\n",
    "    x=DCT4(y)*2/N\n",
    "    x=Ginvmatrix(1,x,g1coeff)\n",
    "    x=Ginvmatrix(0,x,g0coeff)\n",
    "    #inverse D(z) matrix:\n",
    "    x=Dinvmatrix(x)\n",
    "    #inverse F matrix:\n",
    "    x=symFinvmatrix(x,fcoeff)\n",
    "    return x"
   ]
  },
  {
   "cell_type": "code",
   "execution_count": 4,
   "metadata": {},
   "outputs": [
    {
     "name": "stdout",
     "output_type": "stream",
     "text": [
      "fbsym= [-0.06916561 -0.07012879 -0.07110412 ...  0.07072639  0.0699022\n",
      "  0.06908017]\n"
     ]
    }
   ],
   "source": [
    "#Load the LDFB coefficients from text file:\n",
    "#256 taps, 127 delay, 64 subbands:\n",
    "\n",
    "N=512 #Number of subbands and block size\n",
    "fb=np.loadtxt('./fb2048t1023d512bbitcs.mat')\n",
    "     \n",
    "#We assume a symmetric F matrix (det=1), hence we\n",
    "#only need the first 1.N coefficients of F, not 2N:\n",
    "fbsym=np.append(fb[:int(1.5*N)],fb[2*N:])\n",
    "fb=fbsym\n",
    "print(\"fbsym=\", fbsym)"
   ]
  },
  {
   "cell_type": "code",
   "execution_count": 16,
   "metadata": {
    "slideshow": {
     "slide_type": "-"
    }
   },
   "outputs": [
    {
     "name": "stdout",
     "output_type": "stream",
     "text": [
      "fbsym= [-0.06916561 -0.07012879 -0.07110412 ...  0.07072639  0.0699022\n",
      "  0.06908017]\n"
     ]
    },
    {
     "data": {
      "image/png": "[encoded data removed]",
      "text/plain": [
       "<Figure size 432x288 with 1 Axes>"
      ]
     },
     "metadata": {
      "needs_background": "light"
     },
     "output_type": "display_data"
    },
    {
     "data": {
      "image/png": "[encoded data removed]",
      "text/plain": [
       "<Figure size 432x288 with 1 Axes>"
      ]
     },
     "metadata": {
      "needs_background": "light"
     },
     "output_type": "display_data"
    }
   ],
   "source": [
    "#example: Sine window:\n",
    "#fb=np.sin(np.pi/(2*N)*(np.arange(0,int(1.5*N))+0.5))\n",
    "     \n",
    "display=True\n",
    "     \n",
    "#initialize filter bank memory:\n",
    "initFB(N)\n",
    "#get and plot the synthesis impulse response of subband 0: \n",
    "y=np.ones((N,10))*0.0;\n",
    "y[0,0]=1.0\n",
    "xrek=np.ones(10*N)*0.0\n",
    "for m in range(10):\n",
    "    xrek[(m*N):((m+1)*N)]=LDFBinv(y[:,m],fb)\n",
    "#Plots synthesis impulse response of subband 0:\n",
    "plt.figure()\n",
    "plt.plot(xrek)\n",
    "plt.title('LDFB Impulse Response of Subband 0 of the Synthesis Low Delay FB')\n",
    "plt.grid()\n",
    "\n",
    "w,H=freqz(xrek,worN=2048)\n",
    "plt.figure()\n",
    "plt.plot(w,20*np.log10(np.abs(H)+1e-6))\n",
    "#Enlarge normalized frequencies in range of 0 to 0.1:\n",
    "plt.axis([0, 0.1, -60,5])\n",
    "plt.title('Its Enlarged Magnitude Frequency Response') \n",
    "plt.ylabel('dB Attenuation')\n",
    "plt.xlabel('Normalized Frequency (pi is Nyquist Freq.)')\n",
    "plt.grid()"
   ]
  },
  {
   "cell_type": "code",
   "execution_count": 5,
   "metadata": {
    "slideshow": {
     "slide_type": "-"
    }
   },
   "outputs": [],
   "source": [
    "# Signal Processing Parameters\n",
    "\n",
    "N=512                          # Number of subbands and block size\n",
    "CHUNK_SIZE = N                 # Blocksize\n",
    "FORMAT = pyaudio.paInt16       # Conversion format for PyAudio stream\n",
    "CHANNELS = 1                   # Audio Channels\n",
    "RATE = 32000                   # Sampling Rate in Hz\n",
    "FFT_LEN = N                    # FFT Length  \n",
    "\n",
    "rows=500\n",
    "cols=CHUNK_SIZE\n",
    "fftlen=cols\n",
    "frame=0.0*np.ones((rows,cols,3));"
   ]
  },
  {
   "cell_type": "code",
   "execution_count": 6,
   "metadata": {
    "slideshow": {
     "slide_type": "-"
    }
   },
   "outputs": [],
   "source": [
    "from ipywidgets import ToggleButton, Button\n",
    "from ipywidgets import HBox\n",
    "\n",
    "# GUI\n",
    "toggle_run = ToggleButton(description='Stop')\n",
    "button_start= Button(description='Start')\n",
    "\n",
    "def start_button(button_start):\n",
    "    thread.start()\n",
    "    button_start.disabled=True\n",
    "button_start.on_click(start_button)\n",
    "\n",
    "\n",
    "def on_click_toggle_run(change):\n",
    "    if change['new']==False:\n",
    "        stream.stop_stream()\n",
    "        stream.close()\n",
    "        p.terminate()\n",
    "        cv2.destroyAllWindows()\n",
    "        plt.close()\n",
    "toggle_run.observe(on_click_toggle_run, 'value')\n",
    "\n",
    "box_buttons = HBox([button_start,toggle_run])"
   ]
  },
  {
   "cell_type": "code",
   "execution_count": 7,
   "metadata": {
    "slideshow": {
     "slide_type": "-"
    }
   },
   "outputs": [],
   "source": [
    "# Function to Plot MDCT\n",
    "\n",
    "def run_mdct(toggle_run):\n",
    "    while(True):\n",
    "        if toggle_run.value==True:\n",
    "            break\n",
    "        \n",
    "        #Reading from audio input stream into data with block length \"CHUNK\":\n",
    "        data = stream.read(CHUNK_SIZE)\n",
    "        #Convert from stream of bytes to a list of short integers (2 bytes here) in \"samples\":\n",
    "        #shorts = (struct.unpack( \"128h\", data ))\n",
    "        shorts = (struct.unpack( 'h' * CHUNK_SIZE, data ));\n",
    "        samples=np.array(list(shorts),dtype=float);\n",
    "        if np.max(np.abs(samples))>32000:\n",
    "            print(\"Overload input\")\n",
    "\n",
    "        #shift \"frame\" 1 up:\n",
    "        frame[0:(rows-1),:]=frame[1:rows,:]; \n",
    "\n",
    "        #This is the analysis MDCT of the input: \n",
    "        y=LDFB(samples[0:N],fb)\n",
    "        \n",
    "        #yfilt is the processed subbands, processing goes here:\n",
    "        yfilt=y\n",
    "\n",
    "        #Waterfall color mapping:\n",
    "        R=0.25*np.log((np.abs(yfilt/np.sqrt(fftlen))+1))/np.log(10.0)\n",
    "        #Red frame:\n",
    "        frame[rows-1,:,2]=R\n",
    "        #Green frame:\n",
    "        frame[rows-1,:,1]=np.abs(1-2*R)\n",
    "        #Blue frame:\n",
    "        frame[rows-1,:,0]=1.0-R\n",
    "        #frame[rows-1,:,0]=frame[rows-1,:,1]**3\n",
    "        # Display the resulting frame\n",
    "        cv2.imshow('MDCT Waterfall (end with \"q\")',frame)\n",
    "        \n",
    "        #Inverse, Synthesis filter bank:\n",
    "        #Inverse/synthesis MDCT:\n",
    "        xrek=LDFBinv(yfilt,fb).astype(int);\n",
    "        if np.max(np.abs(xrek))>32000:\n",
    "            print(\"Overload output\")\n",
    "        xrek=np.clip(xrek, -32000, 32000)\n",
    "        \n",
    "        \n",
    "        #converting from short integers to a stream of bytes in \"data\":\n",
    "        #data=struct.pack('h' * len(samples), *samples);\n",
    "        data=struct.pack('h' * len(xrek), *xrek);\n",
    "        #Writing data back to audio output stream: \n",
    "        stream.write(data, CHUNK_SIZE)\n",
    "\n",
    "        #Keep window open until key 'q' is pressed:\n",
    "        if cv2.waitKey(1) & 0xFF == ord('q'):\n",
    "            break\n",
    "    # When everything done, release the capture\n",
    "    stream.stop_stream()\n",
    "    stream.close()\n",
    "    p.terminate()\n",
    "    cv2.destroyAllWindows()"
   ]
  },
  {
   "cell_type": "code",
   "execution_count": 8,
   "metadata": {
    "slideshow": {
     "slide_type": "-"
    }
   },
   "outputs": [],
   "source": [
    "# Create a Thread for run_spectrogram function\n",
    "thread = threading.Thread(target=run_mdct, args=(toggle_run,))"
   ]
  },
  {
   "cell_type": "code",
   "execution_count": 9,
   "metadata": {
    "slideshow": {
     "slide_type": "-"
    }
   },
   "outputs": [],
   "source": [
    "# Start Audio Stream\n",
    "# Create \n",
    "p = pyaudio.PyAudio()\n",
    "    \n",
    "stream = p.open(format=FORMAT,\n",
    "                channels=CHANNELS,\n",
    "                rate=RATE,\n",
    "                input=True,\n",
    "                output=True,\n",
    "                frames_per_buffer=CHUNK_SIZE)\n",
    "\n",
    "\n",
    "\n",
    "input_data = stream.read(CHUNK_SIZE)\n",
    "samples = np.frombuffer(input_data,np.int16)\n",
    "#initialize filter bank memory:\n",
    "initFB(N)"
   ]
  },
  {
   "cell_type": "code",
   "execution_count": 10,
   "metadata": {
    "slideshow": {
     "slide_type": "-"
    }
   },
   "outputs": [
    {
     "data": {
      "application/vnd.jupyter.widget-view+json": {
       "model_id": "c25db2a7bc0b4e8394a52e76e5972bf0",
       "version_major": 2,
       "version_minor": 0
      },
      "text/plain": [
       "HBox(children=(Button(description='Start', style=ButtonStyle()), ToggleButton(value=False, description='Stop')…"
      ]
     },
     "metadata": {},
     "output_type": "display_data"
    }
   ],
   "source": [
    "# Initialize Plot and Display GUI\n",
    "\n",
    "display(box_buttons)\n"
   ]
  },
  {
   "cell_type": "code",
   "execution_count": null,
   "metadata": {},
   "outputs": [],
   "source": []
  }
 ],
 "metadata": {
  "celltoolbar": "Slideshow",
  "kernelspec": {
   "display_name": "Python 3",
   "language": "python",
   "name": "python3"
  },
  "language_info": {
   "codemirror_mode": {
    "name": "ipython",
    "version": 3
   },
   "file_extension": ".py",
   "mimetype": "text/x-python",
   "name": "python",
   "nbconvert_exporter": "python",
   "pygments_lexer": "ipython3",
   "version": "3.7.8"
  },
  "livereveal": {
   "rise": {
    "height": "90%",
    "width": "90%"
   },
   "scroll": true,
   "theme": "beige",
   "transition": "zoom"
  },
  "widgets": {
   "application/vnd.jupyter.widget-state+json": {
    "state": {
     "0b0c58e6c93a41799e09f406dbdefde6": {
      "model_module": "@jupyter-widgets/base",
      "model_module_version": "1.2.0",
      "model_name": "LayoutModel",
      "state": {}
     },
     "0b3040b1b58e4b53a4509d1a39fd031d": {
      "model_module": "@jupyter-widgets/base",
      "model_module_version": "1.2.0",
      "model_name": "LayoutModel",
      "state": {}
     },
     "0be2682832bd4bc8b51cb737e46ca28c": {
      "model_module": "@jupyter-widgets/base",
      "model_module_version": "1.2.0",
      "model_name": "LayoutModel",
      "state": {}
     },
     "0e39b9742c5341378d14cd0ce7c6d7b2": {
      "model_module": "@jupyter-widgets/controls",
      "model_module_version": "1.5.0",
      "model_name": "HBoxModel",
      "state": {
       "children": [
        "IPY_MODEL_2d9b7d0f8fe4439bb967b502ccdf02f7",
        "IPY_MODEL_7042e1d3ab44462087773c8182c56c15"
       ],
       "layout": "IPY_MODEL_0be2682832bd4bc8b51cb737e46ca28c"
      }
     },
     "0f12a068f35a41949e7af2ab301fb1a9": {
      "model_module": "@jupyter-widgets/controls",
      "model_module_version": "1.5.0",
      "model_name": "DescriptionStyleModel",
      "state": {
       "description_width": ""
      }
     },
     "15ad70cfa0aa41638667c356ae56295f": {
      "model_module": "@jupyter-widgets/base",
      "model_module_version": "1.2.0",
      "model_name": "LayoutModel",
      "state": {}
     },
     "16c7c2a79a4a4203be047ae7aeee19fa": {
      "model_module": "@jupyter-widgets/controls",
      "model_module_version": "1.5.0",
      "model_name": "ToggleButtonModel",
      "state": {
       "description": "Stop",
       "layout": "IPY_MODEL_15ad70cfa0aa41638667c356ae56295f",
       "style": "IPY_MODEL_0f12a068f35a41949e7af2ab301fb1a9"
      }
     },
     "1d15c09691004b7080cdbe29a28d73ff": {
      "model_module": "@jupyter-widgets/controls",
      "model_module_version": "1.5.0",
      "model_name": "HBoxModel",
      "state": {
       "children": [
        "IPY_MODEL_e2f6054e0fe24c10ac5c95a2b687f1ca",
        "IPY_MODEL_2cf22153219242b180ccb47bc4b8f968"
       ],
       "layout": "IPY_MODEL_b40a35cef38e4048b6a2d8149ff7e069"
      }
     },
     "207bd58d7ad144f58b70b598ae30db8e": {
      "model_module": "@jupyter-widgets/base",
      "model_module_version": "1.2.0",
      "model_name": "LayoutModel",
      "state": {}
     },
     "20f35183b9e74a438f97507b3d10929a": {
      "model_module": "@jupyter-widgets/controls",
      "model_module_version": "1.5.0",
      "model_name": "ButtonStyleModel",
      "state": {}
     },
     "23ef77f7f8a84176907ef6949905623b": {
      "model_module": "@jupyter-widgets/controls",
      "model_module_version": "1.5.0",
      "model_name": "HBoxModel",
      "state": {
       "children": [
        "IPY_MODEL_f61da7386157426ca81a202ffe23e162",
        "IPY_MODEL_77a43b098d01405690eb7f9256544cc1"
       ],
       "layout": "IPY_MODEL_3c3e2637ae684b7e95aca1d49d23f40b"
      }
     },
     "2cf22153219242b180ccb47bc4b8f968": {
      "model_module": "@jupyter-widgets/controls",
      "model_module_version": "1.5.0",
      "model_name": "ToggleButtonModel",
      "state": {
       "description": "Stop",
       "layout": "IPY_MODEL_207bd58d7ad144f58b70b598ae30db8e",
       "style": "IPY_MODEL_bd80f1c63a2b4a25900e5e5763317b7a"
      }
     },
     "2d9b7d0f8fe4439bb967b502ccdf02f7": {
      "model_module": "@jupyter-widgets/controls",
      "model_module_version": "1.5.0",
      "model_name": "ButtonModel",
      "state": {
       "description": "Start",
       "disabled": true,
       "layout": "IPY_MODEL_77522a5639144548b35db6c4d7dd4fb1",
       "style": "IPY_MODEL_7d63afec39bb49df9edf2873be48ac04"
      }
     },
     "3276b4539f7144b6a21869875e9c4914": {
      "model_module": "@jupyter-widgets/base",
      "model_module_version": "1.2.0",
      "model_name": "LayoutModel",
      "state": {}
     },
     "354ba59a5468408b962c72423d4e1c65": {
      "model_module": "@jupyter-widgets/base",
      "model_module_version": "1.2.0",
      "model_name": "LayoutModel",
      "state": {}
     },
     "3c3e2637ae684b7e95aca1d49d23f40b": {
      "model_module": "@jupyter-widgets/base",
      "model_module_version": "1.2.0",
      "model_name": "LayoutModel",
      "state": {}
     },
     "4131c38460e44eaf962c7017e2536232": {
      "model_module": "@jupyter-widgets/controls",
      "model_module_version": "1.5.0",
      "model_name": "HBoxModel",
      "state": {
       "children": [
        "IPY_MODEL_d58265f7549a4e979a3c65b9bd5d76a5",
        "IPY_MODEL_c5267597c945478f959c375f44a4d1a7"
       ],
       "layout": "IPY_MODEL_4b10bbeb1b794eb697268d9a1bd106ba"
      }
     },
     "435a7872da0d4c41be05e35d3d9570aa": {
      "model_module": "@jupyter-widgets/controls",
      "model_module_version": "1.5.0",
      "model_name": "DescriptionStyleModel",
      "state": {
       "description_width": ""
      }
     },
     "4488c6e4c7834e098e81b481cb1003a4": {
      "model_module": "@jupyter-widgets/controls",
      "model_module_version": "1.5.0",
      "model_name": "CheckboxModel",
      "state": {
       "description": "LP Filters",
       "disabled": false,
       "layout": "IPY_MODEL_a6c7fc4e429c464e8fca3294d830542a",
       "style": "IPY_MODEL_7fc76b30f0904d1ab285f634f82d7054",
       "value": false
      }
     },
     "470de88b8310448d864c97fad609f7de": {
      "model_module": "@jupyter-widgets/controls",
      "model_module_version": "1.5.0",
      "model_name": "ButtonStyleModel",
      "state": {}
     },
     "4b10bbeb1b794eb697268d9a1bd106ba": {
      "model_module": "@jupyter-widgets/base",
      "model_module_version": "1.2.0",
      "model_name": "LayoutModel",
      "state": {}
     },
     "5795130576114428a9f5f86ee4aa8c80": {
      "model_module": "@jupyter-widgets/controls",
      "model_module_version": "1.5.0",
      "model_name": "DescriptionStyleModel",
      "state": {
       "description_width": ""
      }
     },
     "589c1be4bde643c899cf54d67ebfb42f": {
      "model_module": "@jupyter-widgets/controls",
      "model_module_version": "1.5.0",
      "model_name": "HBoxModel",
      "state": {
       "children": [
        "IPY_MODEL_e8e1025d1bb44a08a500c0d3b8718796",
        "IPY_MODEL_fb8ae2a4374c451eb7d78b16edcca16a"
       ],
       "layout": "IPY_MODEL_354ba59a5468408b962c72423d4e1c65"
      }
     },
     "5e41a5a9f29443f49a84cb3b28cfd887": {
      "model_module": "@jupyter-widgets/base",
      "model_module_version": "1.2.0",
      "model_name": "LayoutModel",
      "state": {}
     },
     "5e7f58b91bbf4d1d839bbf49450afd8f": {
      "model_module": "@jupyter-widgets/controls",
      "model_module_version": "1.5.0",
      "model_name": "HBoxModel",
      "state": {
       "children": [
        "IPY_MODEL_ac4c2b3e307640bdb74f11ec3cf0dafd",
        "IPY_MODEL_e3db17127dba4e609008d860b5cf05c5"
       ],
       "layout": "IPY_MODEL_5e41a5a9f29443f49a84cb3b28cfd887"
      }
     },
     "5ec351197a1c442a8fa816d034b1eef6": {
      "model_module": "@jupyter-widgets/base",
      "model_module_version": "1.2.0",
      "model_name": "LayoutModel",
      "state": {}
     },
     "6341affae71049aba97ec2ad0ff9583d": {
      "model_module": "@jupyter-widgets/base",
      "model_module_version": "1.2.0",
      "model_name": "LayoutModel",
      "state": {}
     },
     "6c0e7d0a22a144458689ec0d86788548": {
      "model_module": "@jupyter-widgets/base",
      "model_module_version": "1.2.0",
      "model_name": "LayoutModel",
      "state": {}
     },
     "6cb680fde00f4a6e8c0fb454c76857d3": {
      "model_module": "@jupyter-widgets/controls",
      "model_module_version": "1.5.0",
      "model_name": "ToggleButtonModel",
      "state": {
       "description": "Stop",
       "layout": "IPY_MODEL_de5153ef26c14561bb728c1e74b51aac",
       "style": "IPY_MODEL_aed5c18ec1e44b1cb9c1c8a1164530bc"
      }
     },
     "6d9b43798e7642019c6888b869c409a7": {
      "model_module": "@jupyter-widgets/controls",
      "model_module_version": "1.5.0",
      "model_name": "ButtonStyleModel",
      "state": {}
     },
     "7042e1d3ab44462087773c8182c56c15": {
      "model_module": "@jupyter-widgets/controls",
      "model_module_version": "1.5.0",
      "model_name": "ToggleButtonModel",
      "state": {
       "description": "Stop",
       "layout": "IPY_MODEL_d869cf27021149409370838cc26ee878",
       "style": "IPY_MODEL_b5d3845cf20e497ea0bddab2ce24c089"
      }
     },
     "77480c26779c420390eabd1bbd64cbee": {
      "model_module": "@jupyter-widgets/controls",
      "model_module_version": "1.5.0",
      "model_name": "ButtonModel",
      "state": {
       "description": "Start",
       "layout": "IPY_MODEL_7b0edd69218248ec89c22a9b29960928",
       "style": "IPY_MODEL_470de88b8310448d864c97fad609f7de"
      }
     },
     "77522a5639144548b35db6c4d7dd4fb1": {
      "model_module": "@jupyter-widgets/base",
      "model_module_version": "1.2.0",
      "model_name": "LayoutModel",
      "state": {}
     },
     "77a43b098d01405690eb7f9256544cc1": {
      "model_module": "@jupyter-widgets/controls",
      "model_module_version": "1.5.0",
      "model_name": "ToggleButtonModel",
      "state": {
       "description": "Stop",
       "layout": "IPY_MODEL_5ec351197a1c442a8fa816d034b1eef6",
       "style": "IPY_MODEL_f9ed9f912ac848a1a61cccea6d4c20c3",
       "value": true
      }
     },
     "7b0edd69218248ec89c22a9b29960928": {
      "model_module": "@jupyter-widgets/base",
      "model_module_version": "1.2.0",
      "model_name": "LayoutModel",
      "state": {}
     },
     "7d63afec39bb49df9edf2873be48ac04": {
      "model_module": "@jupyter-widgets/controls",
      "model_module_version": "1.5.0",
      "model_name": "ButtonStyleModel",
      "state": {}
     },
     "7e5dc995c0d54dc88ffba21751e34fd0": {
      "model_module": "@jupyter-widgets/controls",
      "model_module_version": "1.5.0",
      "model_name": "ButtonStyleModel",
      "state": {}
     },
     "7fc76b30f0904d1ab285f634f82d7054": {
      "model_module": "@jupyter-widgets/controls",
      "model_module_version": "1.5.0",
      "model_name": "DescriptionStyleModel",
      "state": {
       "description_width": ""
      }
     },
     "86fd6e4196864369a5e361e09e227412": {
      "model_module": "@jupyter-widgets/controls",
      "model_module_version": "1.5.0",
      "model_name": "ButtonStyleModel",
      "state": {}
     },
     "892de2da73f84062be6382bed68d98e9": {
      "model_module": "@jupyter-widgets/controls",
      "model_module_version": "1.5.0",
      "model_name": "HBoxModel",
      "state": {
       "children": [
        "IPY_MODEL_77480c26779c420390eabd1bbd64cbee",
        "IPY_MODEL_16c7c2a79a4a4203be047ae7aeee19fa"
       ],
       "layout": "IPY_MODEL_c65da4d48410402ca720e41ea2b1a532"
      }
     },
     "a6c7fc4e429c464e8fca3294d830542a": {
      "model_module": "@jupyter-widgets/base",
      "model_module_version": "1.2.0",
      "model_name": "LayoutModel",
      "state": {}
     },
     "a9d684453fac4de8a1da6b5678a9263d": {
      "model_module": "@jupyter-widgets/controls",
      "model_module_version": "1.5.0",
      "model_name": "HBoxModel",
      "state": {
       "children": [
        "IPY_MODEL_adf8151b53c0458db8a2931959f9851c",
        "IPY_MODEL_6cb680fde00f4a6e8c0fb454c76857d3"
       ],
       "layout": "IPY_MODEL_6c0e7d0a22a144458689ec0d86788548"
      }
     },
     "aba427d2152e4e5b95f68cd5fa6b869a": {
      "model_module": "@jupyter-widgets/base",
      "model_module_version": "1.2.0",
      "model_name": "LayoutModel",
      "state": {}
     },
     "ac4c2b3e307640bdb74f11ec3cf0dafd": {
      "model_module": "@jupyter-widgets/controls",
      "model_module_version": "1.5.0",
      "model_name": "CheckboxModel",
      "state": {
       "description": "Downsampling/Upsampling",
       "disabled": false,
       "layout": "IPY_MODEL_ccebf79f7b6b4954afc304a9a913fe0b",
       "style": "IPY_MODEL_5795130576114428a9f5f86ee4aa8c80",
       "value": false
      }
     },
     "adf8151b53c0458db8a2931959f9851c": {
      "model_module": "@jupyter-widgets/controls",
      "model_module_version": "1.5.0",
      "model_name": "ButtonModel",
      "state": {
       "description": "Start",
       "layout": "IPY_MODEL_c8e686b7f1fd41fb950f6c64c28d1e38",
       "style": "IPY_MODEL_20f35183b9e74a438f97507b3d10929a"
      }
     },
     "aed5c18ec1e44b1cb9c1c8a1164530bc": {
      "model_module": "@jupyter-widgets/controls",
      "model_module_version": "1.5.0",
      "model_name": "DescriptionStyleModel",
      "state": {
       "description_width": ""
      }
     },
     "b40a35cef38e4048b6a2d8149ff7e069": {
      "model_module": "@jupyter-widgets/base",
      "model_module_version": "1.2.0",
      "model_name": "LayoutModel",
      "state": {}
     },
     "b5d3845cf20e497ea0bddab2ce24c089": {
      "model_module": "@jupyter-widgets/controls",
      "model_module_version": "1.5.0",
      "model_name": "DescriptionStyleModel",
      "state": {
       "description_width": ""
      }
     },
     "b71122422f634440ba716e8c5537e52d": {
      "model_module": "@jupyter-widgets/controls",
      "model_module_version": "1.5.0",
      "model_name": "CheckboxModel",
      "state": {
       "description": "Downsampling/Upsampling",
       "disabled": false,
       "layout": "IPY_MODEL_c9f9cd5507994921a16488b925690ec8",
       "style": "IPY_MODEL_e3d4389b65684b879575d18283ac20f2",
       "value": false
      }
     },
     "bd80f1c63a2b4a25900e5e5763317b7a": {
      "model_module": "@jupyter-widgets/controls",
      "model_module_version": "1.5.0",
      "model_name": "DescriptionStyleModel",
      "state": {
       "description_width": ""
      }
     },
     "c1d5efb6eefa4af38df3245d97590b3a": {
      "model_module": "@jupyter-widgets/controls",
      "model_module_version": "1.5.0",
      "model_name": "DescriptionStyleModel",
      "state": {
       "description_width": ""
      }
     },
     "c5267597c945478f959c375f44a4d1a7": {
      "model_module": "@jupyter-widgets/controls",
      "model_module_version": "1.5.0",
      "model_name": "ToggleButtonModel",
      "state": {
       "description": "Stop",
       "layout": "IPY_MODEL_6341affae71049aba97ec2ad0ff9583d",
       "style": "IPY_MODEL_c1d5efb6eefa4af38df3245d97590b3a",
       "value": true
      }
     },
     "c65da4d48410402ca720e41ea2b1a532": {
      "model_module": "@jupyter-widgets/base",
      "model_module_version": "1.2.0",
      "model_name": "LayoutModel",
      "state": {}
     },
     "c8e686b7f1fd41fb950f6c64c28d1e38": {
      "model_module": "@jupyter-widgets/base",
      "model_module_version": "1.2.0",
      "model_name": "LayoutModel",
      "state": {}
     },
     "c9f9cd5507994921a16488b925690ec8": {
      "model_module": "@jupyter-widgets/base",
      "model_module_version": "1.2.0",
      "model_name": "LayoutModel",
      "state": {}
     },
     "ccebf79f7b6b4954afc304a9a913fe0b": {
      "model_module": "@jupyter-widgets/base",
      "model_module_version": "1.2.0",
      "model_name": "LayoutModel",
      "state": {}
     },
     "d58265f7549a4e979a3c65b9bd5d76a5": {
      "model_module": "@jupyter-widgets/controls",
      "model_module_version": "1.5.0",
      "model_name": "ButtonModel",
      "state": {
       "description": "Start",
       "disabled": true,
       "layout": "IPY_MODEL_0b0c58e6c93a41799e09f406dbdefde6",
       "style": "IPY_MODEL_7e5dc995c0d54dc88ffba21751e34fd0"
      }
     },
     "d869cf27021149409370838cc26ee878": {
      "model_module": "@jupyter-widgets/base",
      "model_module_version": "1.2.0",
      "model_name": "LayoutModel",
      "state": {}
     },
     "dc8d5864ac8d4bb38cee8d043d030237": {
      "model_module": "@jupyter-widgets/base",
      "model_module_version": "1.2.0",
      "model_name": "LayoutModel",
      "state": {}
     },
     "de5153ef26c14561bb728c1e74b51aac": {
      "model_module": "@jupyter-widgets/base",
      "model_module_version": "1.2.0",
      "model_name": "LayoutModel",
      "state": {}
     },
     "e2f6054e0fe24c10ac5c95a2b687f1ca": {
      "model_module": "@jupyter-widgets/controls",
      "model_module_version": "1.5.0",
      "model_name": "ButtonModel",
      "state": {
       "description": "Start",
       "layout": "IPY_MODEL_dc8d5864ac8d4bb38cee8d043d030237",
       "style": "IPY_MODEL_6d9b43798e7642019c6888b869c409a7"
      }
     },
     "e35d3e4323234d9287de5cd69a13219c": {
      "model_module": "@jupyter-widgets/controls",
      "model_module_version": "1.5.0",
      "model_name": "ButtonStyleModel",
      "state": {}
     },
     "e3d4389b65684b879575d18283ac20f2": {
      "model_module": "@jupyter-widgets/controls",
      "model_module_version": "1.5.0",
      "model_name": "DescriptionStyleModel",
      "state": {
       "description_width": ""
      }
     },
     "e3db17127dba4e609008d860b5cf05c5": {
      "model_module": "@jupyter-widgets/controls",
      "model_module_version": "1.5.0",
      "model_name": "CheckboxModel",
      "state": {
       "description": "LP Filters",
       "disabled": false,
       "layout": "IPY_MODEL_3276b4539f7144b6a21869875e9c4914",
       "style": "IPY_MODEL_fbee3d37ce574d8da66ca40eea646dfc",
       "value": false
      }
     },
     "e8e1025d1bb44a08a500c0d3b8718796": {
      "model_module": "@jupyter-widgets/controls",
      "model_module_version": "1.5.0",
      "model_name": "ButtonModel",
      "state": {
       "description": "Start",
       "layout": "IPY_MODEL_0b3040b1b58e4b53a4509d1a39fd031d",
       "style": "IPY_MODEL_e35d3e4323234d9287de5cd69a13219c"
      }
     },
     "f3b755ac64314b4c901f9ecb32965fd6": {
      "model_module": "@jupyter-widgets/base",
      "model_module_version": "1.2.0",
      "model_name": "LayoutModel",
      "state": {}
     },
     "f61da7386157426ca81a202ffe23e162": {
      "model_module": "@jupyter-widgets/controls",
      "model_module_version": "1.5.0",
      "model_name": "ButtonModel",
      "state": {
       "description": "Start",
       "disabled": true,
       "layout": "IPY_MODEL_f3b755ac64314b4c901f9ecb32965fd6",
       "style": "IPY_MODEL_86fd6e4196864369a5e361e09e227412"
      }
     },
     "f9ed9f912ac848a1a61cccea6d4c20c3": {
      "model_module": "@jupyter-widgets/controls",
      "model_module_version": "1.5.0",
      "model_name": "DescriptionStyleModel",
      "state": {
       "description_width": ""
      }
     },
     "fb8ae2a4374c451eb7d78b16edcca16a": {
      "model_module": "@jupyter-widgets/controls",
      "model_module_version": "1.5.0",
      "model_name": "ToggleButtonModel",
      "state": {
       "description": "Stop",
       "layout": "IPY_MODEL_aba427d2152e4e5b95f68cd5fa6b869a",
       "style": "IPY_MODEL_435a7872da0d4c41be05e35d3d9570aa"
      }
     },
     "fbee3d37ce574d8da66ca40eea646dfc": {
      "model_module": "@jupyter-widgets/controls",
      "model_module_version": "1.5.0",
      "model_name": "DescriptionStyleModel",
      "state": {
       "description_width": ""
      }
     }
    },
    "version_major": 2,
    "version_minor": 0
   }
  }
 },
 "nbformat": 4,
 "nbformat_minor": 2
}
